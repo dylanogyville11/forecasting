{
 "cells": [
  {
   "cell_type": "code",
   "execution_count": 1,
   "metadata": {},
   "outputs": [
    {
     "name": "stdout",
     "output_type": "stream",
     "text": [
      "Requirement already satisfied: pandas in c:\\users\\dylan\\anaconda3\\lib\\site-packages (1.4.4)\n",
      "Requirement already satisfied: numpy>=1.18.5 in c:\\users\\dylan\\anaconda3\\lib\\site-packages (from pandas) (1.21.5)\n",
      "Requirement already satisfied: python-dateutil>=2.8.1 in c:\\users\\dylan\\anaconda3\\lib\\site-packages (from pandas) (2.8.2)\n",
      "Requirement already satisfied: pytz>=2020.1 in c:\\users\\dylan\\anaconda3\\lib\\site-packages (from pandas) (2022.1)\n",
      "Requirement already satisfied: six>=1.5 in c:\\users\\dylan\\anaconda3\\lib\\site-packages (from python-dateutil>=2.8.1->pandas) (1.16.0)\n",
      "Note: you may need to restart the kernel to use updated packages.\n"
     ]
    }
   ],
   "source": [
    "pip install pandas"
   ]
  },
  {
   "cell_type": "code",
   "execution_count": 2,
   "metadata": {},
   "outputs": [
    {
     "name": "stdout",
     "output_type": "stream",
     "text": [
      "Requirement already satisfied: statsmodels in c:\\users\\dylan\\anaconda3\\lib\\site-packages (0.13.2)Note: you may need to restart the kernel to use updated packages.\n",
      "\n",
      "Requirement already satisfied: numpy>=1.17 in c:\\users\\dylan\\anaconda3\\lib\\site-packages (from statsmodels) (1.21.5)\n",
      "Requirement already satisfied: scipy>=1.3 in c:\\users\\dylan\\anaconda3\\lib\\site-packages (from statsmodels) (1.9.1)\n",
      "Requirement already satisfied: pandas>=0.25 in c:\\users\\dylan\\anaconda3\\lib\\site-packages (from statsmodels) (1.4.4)\n",
      "Requirement already satisfied: patsy>=0.5.2 in c:\\users\\dylan\\anaconda3\\lib\\site-packages (from statsmodels) (0.5.2)\n",
      "Requirement already satisfied: packaging>=21.3 in c:\\users\\dylan\\anaconda3\\lib\\site-packages (from statsmodels) (21.3)\n",
      "Requirement already satisfied: pyparsing!=3.0.5,>=2.0.2 in c:\\users\\dylan\\anaconda3\\lib\\site-packages (from packaging>=21.3->statsmodels) (3.0.9)\n",
      "Requirement already satisfied: pytz>=2020.1 in c:\\users\\dylan\\anaconda3\\lib\\site-packages (from pandas>=0.25->statsmodels) (2022.1)\n",
      "Requirement already satisfied: python-dateutil>=2.8.1 in c:\\users\\dylan\\anaconda3\\lib\\site-packages (from pandas>=0.25->statsmodels) (2.8.2)\n",
      "Requirement already satisfied: six in c:\\users\\dylan\\anaconda3\\lib\\site-packages (from patsy>=0.5.2->statsmodels) (1.16.0)\n"
     ]
    }
   ],
   "source": [
    "pip install statsmodels"
   ]
  },
  {
   "cell_type": "code",
   "execution_count": 7,
   "metadata": {},
   "outputs": [
    {
     "name": "stdout",
     "output_type": "stream",
     "text": [
      "Requirement already satisfied: numpy in c:\\users\\dylan\\anaconda3\\lib\\site-packages (1.21.5)\n",
      "Note: you may need to restart the kernel to use updated packages.\n"
     ]
    }
   ],
   "source": [
    "pip install numpy"
   ]
  },
  {
   "cell_type": "code",
   "execution_count": 5,
   "metadata": {},
   "outputs": [
    {
     "name": "stdout",
     "output_type": "stream",
     "text": [
      "Collecting pmdarima\n",
      "  Downloading pmdarima-2.0.4-cp39-cp39-win_amd64.whl (614 kB)\n",
      "     ------------------------------------ 615.0/615.0 kB 921.9 kB/s eta 0:00:00\n",
      "Requirement already satisfied: joblib>=0.11 in c:\\users\\dylan\\anaconda3\\lib\\site-packages (from pmdarima) (1.1.0)\n",
      "Requirement already satisfied: Cython!=0.29.18,!=0.29.31,>=0.29 in c:\\users\\dylan\\anaconda3\\lib\\site-packages (from pmdarima) (0.29.32)\n",
      "Requirement already satisfied: urllib3 in c:\\users\\dylan\\anaconda3\\lib\\site-packages (from pmdarima) (1.26.11)\n",
      "Requirement already satisfied: statsmodels>=0.13.2 in c:\\users\\dylan\\anaconda3\\lib\\site-packages (from pmdarima) (0.13.2)\n",
      "Requirement already satisfied: setuptools!=50.0.0,>=38.6.0 in c:\\users\\dylan\\anaconda3\\lib\\site-packages (from pmdarima) (63.4.1)\n",
      "Requirement already satisfied: scikit-learn>=0.22 in c:\\users\\dylan\\anaconda3\\lib\\site-packages (from pmdarima) (1.0.2)\n",
      "Requirement already satisfied: scipy>=1.3.2 in c:\\users\\dylan\\anaconda3\\lib\\site-packages (from pmdarima) (1.9.1)\n",
      "Requirement already satisfied: pandas>=0.19 in c:\\users\\dylan\\anaconda3\\lib\\site-packages (from pmdarima) (1.4.4)\n",
      "Requirement already satisfied: packaging>=17.1 in c:\\users\\dylan\\anaconda3\\lib\\site-packages (from pmdarima) (21.3)\n",
      "Requirement already satisfied: numpy>=1.21.2 in c:\\users\\dylan\\anaconda3\\lib\\site-packages (from pmdarima) (1.21.5)\n",
      "Requirement already satisfied: pyparsing!=3.0.5,>=2.0.2 in c:\\users\\dylan\\anaconda3\\lib\\site-packages (from packaging>=17.1->pmdarima) (3.0.9)\n",
      "Requirement already satisfied: pytz>=2020.1 in c:\\users\\dylan\\anaconda3\\lib\\site-packages (from pandas>=0.19->pmdarima) (2022.1)\n",
      "Requirement already satisfied: python-dateutil>=2.8.1 in c:\\users\\dylan\\anaconda3\\lib\\site-packages (from pandas>=0.19->pmdarima) (2.8.2)\n",
      "Requirement already satisfied: threadpoolctl>=2.0.0 in c:\\users\\dylan\\anaconda3\\lib\\site-packages (from scikit-learn>=0.22->pmdarima) (2.2.0)\n",
      "Requirement already satisfied: patsy>=0.5.2 in c:\\users\\dylan\\anaconda3\\lib\\site-packages (from statsmodels>=0.13.2->pmdarima) (0.5.2)\n",
      "Requirement already satisfied: six in c:\\users\\dylan\\anaconda3\\lib\\site-packages (from patsy>=0.5.2->statsmodels>=0.13.2->pmdarima) (1.16.0)\n",
      "Installing collected packages: pmdarima\n",
      "Successfully installed pmdarima-2.0.4\n",
      "Note: you may need to restart the kernel to use updated packages.\n"
     ]
    }
   ],
   "source": [
    "pip install pmdarima"
   ]
  },
  {
   "cell_type": "code",
   "execution_count": 8,
   "metadata": {},
   "outputs": [],
   "source": [
    "import pandas as pd\n",
    "import numpy as np\n",
    "from statsmodels.tsa.stattools import adfuller, kpss\n",
    "from pmdarima.arima import auto_arima\n",
    "from sklearn.metrics import mean_absolute_percentage_error, mean_squared_error\n",
    "import matplotlib.pyplot as plt\n"
   ]
  },
  {
   "cell_type": "code",
   "execution_count": 10,
   "metadata": {},
   "outputs": [
    {
     "data": {
      "application/vnd.microsoft.datawrangler.viewer.v0+json": {
       "columns": [
        {
         "name": "index",
         "rawType": "int64",
         "type": "integer"
        },
        {
         "name": "tanggal",
         "rawType": "datetime64[ns]",
         "type": "datetime"
        },
        {
         "name": "y",
         "rawType": "float64",
         "type": "float"
        }
       ],
       "conversionMethod": "pd.DataFrame",
       "ref": "aa2756f9-6d1c-47f1-87ff-cf3e8608822a",
       "rows": [
        [
         "0",
         "2022-07-01 00:00:00",
         "6.525"
        ],
        [
         "1",
         "2022-07-04 00:00:00",
         "6.5"
        ],
        [
         "2",
         "2022-07-05 00:00:00",
         "6.325"
        ],
        [
         "3",
         "2022-07-06 00:00:00",
         "6.075"
        ],
        [
         "4",
         "2022-07-07 00:00:00",
         "5.95"
        ],
        [
         "5",
         "2022-07-08 00:00:00",
         "5.975"
        ],
        [
         "6",
         "2022-07-11 00:00:00",
         "6.05"
        ],
        [
         "7",
         "2022-07-12 00:00:00",
         "6.1"
        ],
        [
         "8",
         "2022-07-13 00:00:00",
         "5.825"
        ],
        [
         "9",
         "2022-07-14 00:00:00",
         "6.1"
        ],
        [
         "10",
         "2022-07-15 00:00:00",
         "5.95"
        ],
        [
         "11",
         "2022-07-18 00:00:00",
         "6.025"
        ],
        [
         "12",
         "2022-07-19 00:00:00",
         "6.075"
        ],
        [
         "13",
         "2022-07-20 00:00:00",
         "6.275"
        ],
        [
         "14",
         "2022-07-21 00:00:00",
         "6.175"
        ],
        [
         "15",
         "2022-07-22 00:00:00",
         "6.075"
        ],
        [
         "16",
         "2022-07-25 00:00:00",
         "6.075"
        ],
        [
         "17",
         "2022-07-26 00:00:00",
         "6.1"
        ],
        [
         "18",
         "2022-07-27 00:00:00",
         "6.1"
        ],
        [
         "19",
         "2022-07-28 00:00:00",
         "6.05"
        ],
        [
         "20",
         "2022-07-29 00:00:00",
         "6.325"
        ],
        [
         "21",
         "2022-08-01 00:00:00",
         "6.475"
        ],
        [
         "22",
         "2022-08-02 00:00:00",
         "6.475"
        ],
        [
         "23",
         "2022-08-03 00:00:00",
         "6.6"
        ],
        [
         "24",
         "2022-08-04 00:00:00",
         "6.6"
        ],
        [
         "25",
         "2022-08-05 00:00:00",
         "6.625"
        ],
        [
         "26",
         "2022-08-08 00:00:00",
         "6.7"
        ],
        [
         "27",
         "2022-08-09 00:00:00",
         "6.75"
        ],
        [
         "28",
         "2022-08-10 00:00:00",
         "6.85"
        ],
        [
         "29",
         "2022-08-11 00:00:00",
         "6.95"
        ],
        [
         "30",
         "2022-08-12 00:00:00",
         "6.95"
        ],
        [
         "31",
         "2022-08-15 00:00:00",
         "6.875"
        ],
        [
         "32",
         "2022-08-16 00:00:00",
         "6.975"
        ],
        [
         "33",
         "2022-08-18 00:00:00",
         "6.975"
        ],
        [
         "34",
         "2022-08-19 00:00:00",
         "6.975"
        ],
        [
         "35",
         "2022-08-22 00:00:00",
         "6.925"
        ],
        [
         "36",
         "2022-08-23 00:00:00",
         "6.975"
        ],
        [
         "37",
         "2022-08-24 00:00:00",
         "7.05"
        ],
        [
         "38",
         "2022-08-25 00:00:00",
         "6.975"
        ],
        [
         "39",
         "2022-08-26 00:00:00",
         "6.875"
        ],
        [
         "40",
         "2022-08-29 00:00:00",
         "6.825"
        ],
        [
         "41",
         "2022-08-30 00:00:00",
         "6.9"
        ],
        [
         "42",
         "2022-08-31 00:00:00",
         "6.975"
        ],
        [
         "43",
         "2022-09-01 00:00:00",
         "6.925"
        ],
        [
         "44",
         "2022-09-02 00:00:00",
         "6.925"
        ],
        [
         "45",
         "2022-09-05 00:00:00",
         "6.875"
        ],
        [
         "46",
         "2022-09-06 00:00:00",
         "6.9"
        ],
        [
         "47",
         "2022-09-07 00:00:00",
         "6.65"
        ],
        [
         "48",
         "2022-09-08 00:00:00",
         "6.65"
        ],
        [
         "49",
         "2022-09-09 00:00:00",
         "6.775"
        ]
       ],
       "shape": {
        "columns": 2,
        "rows": 625
       }
      },
      "text/html": [
       "<div>\n",
       "<style scoped>\n",
       "    .dataframe tbody tr th:only-of-type {\n",
       "        vertical-align: middle;\n",
       "    }\n",
       "\n",
       "    .dataframe tbody tr th {\n",
       "        vertical-align: top;\n",
       "    }\n",
       "\n",
       "    .dataframe thead th {\n",
       "        text-align: right;\n",
       "    }\n",
       "</style>\n",
       "<table border=\"1\" class=\"dataframe\">\n",
       "  <thead>\n",
       "    <tr style=\"text-align: right;\">\n",
       "      <th></th>\n",
       "      <th>tanggal</th>\n",
       "      <th>y</th>\n",
       "    </tr>\n",
       "  </thead>\n",
       "  <tbody>\n",
       "    <tr>\n",
       "      <th>0</th>\n",
       "      <td>2022-07-01</td>\n",
       "      <td>6.525</td>\n",
       "    </tr>\n",
       "    <tr>\n",
       "      <th>1</th>\n",
       "      <td>2022-07-04</td>\n",
       "      <td>6.500</td>\n",
       "    </tr>\n",
       "    <tr>\n",
       "      <th>2</th>\n",
       "      <td>2022-07-05</td>\n",
       "      <td>6.325</td>\n",
       "    </tr>\n",
       "    <tr>\n",
       "      <th>3</th>\n",
       "      <td>2022-07-06</td>\n",
       "      <td>6.075</td>\n",
       "    </tr>\n",
       "    <tr>\n",
       "      <th>4</th>\n",
       "      <td>2022-07-07</td>\n",
       "      <td>5.950</td>\n",
       "    </tr>\n",
       "    <tr>\n",
       "      <th>...</th>\n",
       "      <td>...</td>\n",
       "      <td>...</td>\n",
       "    </tr>\n",
       "    <tr>\n",
       "      <th>620</th>\n",
       "      <td>2025-01-22</td>\n",
       "      <td>4.960</td>\n",
       "    </tr>\n",
       "    <tr>\n",
       "      <th>621</th>\n",
       "      <td>2025-01-23</td>\n",
       "      <td>4.900</td>\n",
       "    </tr>\n",
       "    <tr>\n",
       "      <th>622</th>\n",
       "      <td>2025-01-24</td>\n",
       "      <td>4.870</td>\n",
       "    </tr>\n",
       "    <tr>\n",
       "      <th>623</th>\n",
       "      <td>2025-01-30</td>\n",
       "      <td>4.780</td>\n",
       "    </tr>\n",
       "    <tr>\n",
       "      <th>624</th>\n",
       "      <td>2025-01-31</td>\n",
       "      <td>4.800</td>\n",
       "    </tr>\n",
       "  </tbody>\n",
       "</table>\n",
       "<p>625 rows × 2 columns</p>\n",
       "</div>"
      ],
      "text/plain": [
       "       tanggal      y\n",
       "0   2022-07-01  6.525\n",
       "1   2022-07-04  6.500\n",
       "2   2022-07-05  6.325\n",
       "3   2022-07-06  6.075\n",
       "4   2022-07-07  5.950\n",
       "..         ...    ...\n",
       "620 2025-01-22  4.960\n",
       "621 2025-01-23  4.900\n",
       "622 2025-01-24  4.870\n",
       "623 2025-01-30  4.780\n",
       "624 2025-01-31  4.800\n",
       "\n",
       "[625 rows x 2 columns]"
      ]
     },
     "execution_count": 10,
     "metadata": {},
     "output_type": "execute_result"
    }
   ],
   "source": [
    "# 1. Load data\n",
    "df = pd.read_csv(\"Stocksastra.csv\")\n",
    "df['tanggal'] = pd.to_datetime(df['Tanggal'])\n",
    "df = df[['tanggal', 'Terakhir']].dropna().rename(columns={'Terakhir': 'y'})\n",
    "df = df.sort_values('tanggal').reset_index(drop=True)\n",
    "df"
   ]
  },
  {
   "cell_type": "code",
   "execution_count": 11,
   "metadata": {},
   "outputs": [
    {
     "name": "stdout",
     "output_type": "stream",
     "text": [
      "ADF: Statistic=-1.4889210457407471, p-value=0.5389846467862014\n",
      "KPSS: Statistic=2.643369263034033, p-value=0.01\n"
     ]
    },
    {
     "name": "stderr",
     "output_type": "stream",
     "text": [
      "c:\\Users\\dylan\\anaconda3\\lib\\site-packages\\statsmodels\\tsa\\stattools.py:2018: InterpolationWarning: The test statistic is outside of the range of p-values available in the\n",
      "look-up table. The actual p-value is smaller than the p-value returned.\n",
      "\n",
      "  warnings.warn(\n"
     ]
    }
   ],
   "source": [
    "# 2. Uji Stasioneritas\n",
    "result_adf = adfuller(df['y'])\n",
    "result_kpss = kpss(df['y'], regression='c', nlags='auto')\n",
    "\n",
    "print(f\"ADF: Statistic={result_adf[0]}, p-value={result_adf[1]}\")\n",
    "print(f\"KPSS: Statistic={result_kpss[0]}, p-value={result_kpss[1]}\")\n"
   ]
  },
  {
   "cell_type": "code",
   "execution_count": 12,
   "metadata": {},
   "outputs": [
    {
     "name": "stdout",
     "output_type": "stream",
     "text": [
      "ADF setelah differencing: Statistic=-18.815961888844377, p-value=2.0222955057364234e-30\n",
      "KPSS setelah differencing: Statistic=0.04663229556874657, p-value=0.1\n"
     ]
    },
    {
     "name": "stderr",
     "output_type": "stream",
     "text": [
      "c:\\Users\\dylan\\anaconda3\\lib\\site-packages\\statsmodels\\tsa\\stattools.py:2022: InterpolationWarning: The test statistic is outside of the range of p-values available in the\n",
      "look-up table. The actual p-value is greater than the p-value returned.\n",
      "\n",
      "  warnings.warn(\n"
     ]
    }
   ],
   "source": [
    "# Differencing untuk membuat data stasioner\n",
    "df['y_diff'] = df['y'].diff().dropna()\n",
    "\n",
    "# Cek ulang stasioneritas\n",
    "from statsmodels.tsa.stattools import adfuller, kpss\n",
    "\n",
    "# Drop NA setelah differencing\n",
    "series_diff = df['y_diff'].dropna()\n",
    "\n",
    "# Uji ADF\n",
    "adf_result = adfuller(series_diff)\n",
    "print(f\"ADF setelah differencing: Statistic={adf_result[0]}, p-value={adf_result[1]}\")\n",
    "\n",
    "# Uji KPSS\n",
    "kpss_result = kpss(series_diff, regression='c', nlags='auto')\n",
    "print(f\"KPSS setelah differencing: Statistic={kpss_result[0]}, p-value={kpss_result[1]}\")\n"
   ]
  },
  {
   "cell_type": "code",
   "execution_count": 4,
   "metadata": {},
   "outputs": [
    {
     "name": "stdout",
     "output_type": "stream",
     "text": [
      "ADF Statistic: -1.4889210457407471, p-value: 0.5389846467862014\n",
      "KPSS Statistic: 2.643369263034033, p-value: 0.01\n"
     ]
    },
    {
     "name": "stderr",
     "output_type": "stream",
     "text": [
      "c:\\Users\\dylan\\anaconda3\\lib\\site-packages\\statsmodels\\tsa\\stattools.py:2018: InterpolationWarning: The test statistic is outside of the range of p-values available in the\n",
      "look-up table. The actual p-value is smaller than the p-value returned.\n",
      "\n",
      "  warnings.warn(\n"
     ]
    }
   ],
   "source": [
    "# 3. Uji Stasioneritas\n",
    "adf_result = adfuller(series['y'])\n",
    "kpss_result = kpss(series['y'], regression='c', nlags='auto')\n",
    "\n",
    "print(f\"ADF Statistic: {adf_result[0]}, p-value: {adf_result[1]}\")\n",
    "print(f\"KPSS Statistic: {kpss_result[0]}, p-value: {kpss_result[1]}\")"
   ]
  },
  {
   "cell_type": "code",
   "execution_count": 13,
   "metadata": {},
   "outputs": [
    {
     "name": "stdout",
     "output_type": "stream",
     "text": [
      "Performing stepwise search to minimize aic\n",
      " ARIMA(0,1,0)(0,0,0)[0] intercept   : AIC=-1207.908, Time=0.13 sec\n",
      " ARIMA(1,1,0)(0,0,0)[0] intercept   : AIC=-1206.205, Time=0.10 sec\n",
      " ARIMA(0,1,1)(0,0,0)[0] intercept   : AIC=-1206.241, Time=0.28 sec\n",
      " ARIMA(0,1,0)(0,0,0)[0]             : AIC=-1209.340, Time=0.07 sec\n",
      " ARIMA(1,1,1)(0,0,0)[0] intercept   : AIC=-1207.048, Time=0.69 sec\n",
      "\n",
      "Best model:  ARIMA(0,1,0)(0,0,0)[0]          \n",
      "Total fit time: 1.286 seconds\n",
      "                               SARIMAX Results                                \n",
      "==============================================================================\n",
      "Dep. Variable:                      y   No. Observations:                  625\n",
      "Model:               SARIMAX(0, 1, 0)   Log Likelihood                 605.670\n",
      "Date:                Mon, 19 May 2025   AIC                          -1209.340\n",
      "Time:                        14:41:51   BIC                          -1204.904\n",
      "Sample:                             0   HQIC                         -1207.617\n",
      "                                - 625                                         \n",
      "Covariance Type:                  opg                                         \n",
      "==============================================================================\n",
      "                 coef    std err          z      P>|z|      [0.025      0.975]\n",
      "------------------------------------------------------------------------------\n",
      "sigma2         0.0084      0.000     27.812      0.000       0.008       0.009\n",
      "===================================================================================\n",
      "Ljung-Box (L1) (Q):                   0.30   Jarque-Bera (JB):               228.15\n",
      "Prob(Q):                              0.58   Prob(JB):                         0.00\n",
      "Heteroskedasticity (H):               0.79   Skew:                            -0.01\n",
      "Prob(H) (two-sided):                  0.09   Kurtosis:                         5.96\n",
      "===================================================================================\n",
      "\n",
      "Warnings:\n",
      "[1] Covariance matrix calculated using the outer product of gradients (complex-step).\n"
     ]
    }
   ],
   "source": [
    "\n",
    "# 4. Auto ARIMA\n",
    "model = auto_arima(series['y'],\n",
    "                   start_p=0, start_q=0,\n",
    "                   max_p=5, max_q=5,\n",
    "                   seasonal=False,\n",
    "                   stepwise=True,\n",
    "                   suppress_warnings=True,\n",
    "                   trace=True)\n",
    "\n",
    "print(model.summary())"
   ]
  },
  {
   "cell_type": "code",
   "execution_count": 14,
   "metadata": {},
   "outputs": [
    {
     "name": "stderr",
     "output_type": "stream",
     "text": [
      "c:\\Users\\dylan\\anaconda3\\lib\\site-packages\\statsmodels\\tsa\\base\\tsa_model.py:834: ValueWarning: No supported index is available. Prediction results will be given with an integer index beginning at `start`.\n",
      "  return get_prediction_index(\n"
     ]
    }
   ],
   "source": [
    "# 5. Split train-test\n",
    "train = series['y'][:-30]\n",
    "test = series['y'][-30:]\n",
    "\n",
    "# 6. Fit model dan prediksi\n",
    "model_fit = model.fit(train)\n",
    "forecast = model_fit.predict(n_periods=30)"
   ]
  },
  {
   "cell_type": "code",
   "execution_count": null,
   "metadata": {},
   "outputs": [
    {
     "name": "stderr",
     "output_type": "stream",
     "text": [
      "c:\\Users\\dylan\\anaconda3\\lib\\site-packages\\statsmodels\\base\\model.py:604: ConvergenceWarning: Maximum Likelihood optimization failed to converge. Check mle_retvals\n",
      "  warnings.warn(\"Maximum Likelihood optimization failed to \"\n",
      "c:\\Users\\dylan\\anaconda3\\lib\\site-packages\\statsmodels\\base\\model.py:604: ConvergenceWarning: Maximum Likelihood optimization failed to converge. Check mle_retvals\n",
      "  warnings.warn(\"Maximum Likelihood optimization failed to \"\n",
      "c:\\Users\\dylan\\anaconda3\\lib\\site-packages\\statsmodels\\tsa\\statespace\\sarimax.py:966: UserWarning: Non-stationary starting autoregressive parameters found. Using zeros as starting parameters.\n",
      "  warn('Non-stationary starting autoregressive parameters'\n",
      "c:\\Users\\dylan\\anaconda3\\lib\\site-packages\\statsmodels\\tsa\\statespace\\sarimax.py:978: UserWarning: Non-invertible starting MA parameters found. Using zeros as starting parameters.\n",
      "  warn('Non-invertible starting MA parameters found.'\n",
      "c:\\Users\\dylan\\anaconda3\\lib\\site-packages\\statsmodels\\tsa\\statespace\\sarimax.py:966: UserWarning: Non-stationary starting autoregressive parameters found. Using zeros as starting parameters.\n",
      "  warn('Non-stationary starting autoregressive parameters'\n",
      "c:\\Users\\dylan\\anaconda3\\lib\\site-packages\\statsmodels\\tsa\\statespace\\sarimax.py:978: UserWarning: Non-invertible starting MA parameters found. Using zeros as starting parameters.\n",
      "  warn('Non-invertible starting MA parameters found.'\n",
      "c:\\Users\\dylan\\anaconda3\\lib\\site-packages\\statsmodels\\base\\model.py:604: ConvergenceWarning: Maximum Likelihood optimization failed to converge. Check mle_retvals\n",
      "  warnings.warn(\"Maximum Likelihood optimization failed to \"\n",
      "c:\\Users\\dylan\\anaconda3\\lib\\site-packages\\statsmodels\\base\\model.py:604: ConvergenceWarning: Maximum Likelihood optimization failed to converge. Check mle_retvals\n",
      "  warnings.warn(\"Maximum Likelihood optimization failed to \"\n",
      "c:\\Users\\dylan\\anaconda3\\lib\\site-packages\\statsmodels\\base\\model.py:604: ConvergenceWarning: Maximum Likelihood optimization failed to converge. Check mle_retvals\n",
      "  warnings.warn(\"Maximum Likelihood optimization failed to \"\n",
      "c:\\Users\\dylan\\anaconda3\\lib\\site-packages\\statsmodels\\base\\model.py:604: ConvergenceWarning: Maximum Likelihood optimization failed to converge. Check mle_retvals\n",
      "  warnings.warn(\"Maximum Likelihood optimization failed to \"\n",
      "c:\\Users\\dylan\\anaconda3\\lib\\site-packages\\statsmodels\\base\\model.py:604: ConvergenceWarning: Maximum Likelihood optimization failed to converge. Check mle_retvals\n",
      "  warnings.warn(\"Maximum Likelihood optimization failed to \"\n",
      "c:\\Users\\dylan\\anaconda3\\lib\\site-packages\\statsmodels\\base\\model.py:604: ConvergenceWarning: Maximum Likelihood optimization failed to converge. Check mle_retvals\n",
      "  warnings.warn(\"Maximum Likelihood optimization failed to \"\n"
     ]
    },
    {
     "name": "stdout",
     "output_type": "stream",
     "text": [
      "Best ARIMA order by grid search: (1, 1, 1) with RMSE: 0.32716402161602176\n"
     ]
    }
   ],
   "source": [
    "from itertools import product\n",
    "\n",
    "# 4. Grid Search manual untuk ARIMA\n",
    "train = df['y'][:-30]\n",
    "test = df['y'][-30:]\n",
    "\n",
    "p_values = range(0, 4)\n",
    "d_values = range(0, 2)\n",
    "q_values = range(0, 4)\n",
    "\n",
    "best_score = float('inf')\n",
    "best_order = None\n",
    "results = []\n",
    "\n",
    "for order in product(p_values, d_values, q_values):\n",
    "    try:\n",
    "        model = ARIMA(train, order=order)\n",
    "        model_fit = model.fit()\n",
    "        forecast = model_fit.forecast(steps=30)\n",
    "        rmse = np.sqrt(mean_squared_error(test, forecast))\n",
    "        results.append((order, rmse))\n",
    "        \n",
    "        if rmse < best_score:\n",
    "            best_score = rmse\n",
    "            best_order = order\n",
    "    except:\n",
    "        continue\n",
    "\n",
    "print(f\"Best ARIMA order by grid search: {best_order} with RMSE: {best_score}\")\n"
   ]
  },
  {
   "cell_type": "code",
   "execution_count": 17,
   "metadata": {},
   "outputs": [
    {
     "name": "stderr",
     "output_type": "stream",
     "text": [
      "c:\\Users\\dylan\\anaconda3\\lib\\site-packages\\statsmodels\\tsa\\statespace\\sarimax.py:966: UserWarning: Non-stationary starting autoregressive parameters found. Using zeros as starting parameters.\n",
      "  warn('Non-stationary starting autoregressive parameters'\n",
      "c:\\Users\\dylan\\anaconda3\\lib\\site-packages\\statsmodels\\tsa\\statespace\\sarimax.py:978: UserWarning: Non-invertible starting MA parameters found. Using zeros as starting parameters.\n",
      "  warn('Non-invertible starting MA parameters found.'\n"
     ]
    },
    {
     "data": {
      "image/png": "[encoded data removed]",
      "text/plain": [
       "<Figure size 1200x600 with 1 Axes>"
      ]
     },
     "metadata": {},
     "output_type": "display_data"
    }
   ],
   "source": [
    "# 5. Final Forecasting with Best Model\n",
    "model = ARIMA(df['y'], order=best_order)\n",
    "model_fit = model.fit()\n",
    "forecast = model_fit.forecast(steps=30)\n",
    "\n",
    "forecast_dates = pd.date_range(start=df['tanggal'].iloc[-1] + pd.Timedelta(days=1), periods=30)\n",
    "forecast_df = pd.DataFrame({'tanggal': forecast_dates, 'forecast': forecast})\n",
    "\n",
    "# Plot hasil\n",
    "plt.figure(figsize=(12, 6))\n",
    "plt.plot(df['tanggal'], df['y'], label='Actual')\n",
    "plt.plot(forecast_df['tanggal'], forecast_df['forecast'], label='Forecast', color='orange')\n",
    "plt.title('Forecasting ARIMA')\n",
    "plt.legend()\n",
    "plt.grid()\n",
    "plt.show()"
   ]
  },
  {
   "cell_type": "code",
   "execution_count": 18,
   "metadata": {},
   "outputs": [
    {
     "name": "stdout",
     "output_type": "stream",
     "text": [
      "RMSE: 0.1372\n",
      "MAPE: 2.27%\n"
     ]
    }
   ],
   "source": [
    "\n",
    "# 6. Evaluasi jika data aktual tersedia\n",
    "actual_test = df['y'][-30:].values\n",
    "predicted_test = model_fit.forecast(steps=30)\n",
    "\n",
    "rmse = np.sqrt(mean_squared_error(actual_test, predicted_test))\n",
    "mape = mean_absolute_percentage_error(actual_test, predicted_test) * 100\n",
    "\n",
    "print(f\"RMSE: {rmse:.4f}\")\n",
    "print(f\"MAPE: {mape:.2f}%\")"
   ]
  },
  {
   "cell_type": "code",
   "execution_count": null,
   "metadata": {},
   "outputs": [],
   "source": []
  }
 ],
 "metadata": {
  "kernelspec": {
   "display_name": "base",
   "language": "python",
   "name": "python3"
  },
  "language_info": {
   "codemirror_mode": {
    "name": "ipython",
    "version": 3
   },
   "file_extension": ".py",
   "mimetype": "text/x-python",
   "name": "python",
   "nbconvert_exporter": "python",
   "pygments_lexer": "ipython3",
   "version": "3.9.13"
  }
 },
 "nbformat": 4,
 "nbformat_minor": 2
}
