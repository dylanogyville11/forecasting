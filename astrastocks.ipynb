{
 "cells": [
  {
   "cell_type": "code",
   "execution_count": 1,
   "metadata": {},
   "outputs": [
    {
     "name": "stdout",
     "output_type": "stream",
     "text": [
      "Requirement already satisfied: nixtla in c:\\users\\dylan\\anaconda3\\lib\\site-packages (0.6.6)\n",
      "Requirement already satisfied: orjson in c:\\users\\dylan\\anaconda3\\lib\\site-packages (from nixtla) (3.10.15)\n",
      "Requirement already satisfied: pydantic>=1.10 in c:\\users\\dylan\\anaconda3\\lib\\site-packages (from nixtla) (2.10.6)\n",
      "Requirement already satisfied: tenacity in c:\\users\\dylan\\anaconda3\\lib\\site-packages (from nixtla) (8.0.1)\n",
      "Requirement already satisfied: annotated-types in c:\\users\\dylan\\anaconda3\\lib\\site-packages (from nixtla) (0.7.0)\n",
      "Requirement already satisfied: pandas in c:\\users\\dylan\\anaconda3\\lib\\site-packages (from nixtla) (1.4.4)\n",
      "Requirement already satisfied: utilsforecast>=0.2.8 in c:\\users\\dylan\\anaconda3\\lib\\site-packages (from nixtla) (0.2.12)\n",
      "Requirement already satisfied: tqdm in c:\\users\\dylan\\anaconda3\\lib\\site-packages (from nixtla) (4.64.1)\n",
      "Requirement already satisfied: httpx[zstd] in c:\\users\\dylan\\anaconda3\\lib\\site-packages (from nixtla) (0.28.1)\n",
      "Requirement already satisfied: typing-extensions>=4.12.2 in c:\\users\\dylan\\anaconda3\\lib\\site-packages (from pydantic>=1.10->nixtla) (4.12.2)\n",
      "Requirement already satisfied: pydantic-core==2.27.2 in c:\\users\\dylan\\anaconda3\\lib\\site-packages (from pydantic>=1.10->nixtla) (2.27.2)\n",
      "Requirement already satisfied: packaging in c:\\users\\dylan\\anaconda3\\lib\\site-packages (from utilsforecast>=0.2.8->nixtla) (21.3)\n",
      "Requirement already satisfied: numpy in c:\\users\\dylan\\anaconda3\\lib\\site-packages (from utilsforecast>=0.2.8->nixtla) (1.21.5)\n",
      "Requirement already satisfied: pytz>=2020.1 in c:\\users\\dylan\\anaconda3\\lib\\site-packages (from pandas->nixtla) (2022.1)\n",
      "Requirement already satisfied: python-dateutil>=2.8.1 in c:\\users\\dylan\\anaconda3\\lib\\site-packages (from pandas->nixtla) (2.8.2)\n",
      "Requirement already satisfied: idna in c:\\users\\dylan\\anaconda3\\lib\\site-packages (from httpx[zstd]->nixtla) (3.3)\n",
      "Requirement already satisfied: anyio in c:\\users\\dylan\\anaconda3\\lib\\site-packages (from httpx[zstd]->nixtla) (3.5.0)\n",
      "Requirement already satisfied: certifi in c:\\users\\dylan\\anaconda3\\lib\\site-packages (from httpx[zstd]->nixtla) (2022.9.14)\n",
      "Requirement already satisfied: httpcore==1.* in c:\\users\\dylan\\anaconda3\\lib\\site-packages (from httpx[zstd]->nixtla) (1.0.7)\n",
      "Requirement already satisfied: zstandard>=0.18.0 in c:\\users\\dylan\\anaconda3\\lib\\site-packages (from httpx[zstd]->nixtla) (0.23.0)\n",
      "Requirement already satisfied: h11<0.15,>=0.13 in c:\\users\\dylan\\anaconda3\\lib\\site-packages (from httpcore==1.*->httpx[zstd]->nixtla) (0.14.0)\n",
      "Requirement already satisfied: colorama in c:\\users\\dylan\\anaconda3\\lib\\site-packages (from tqdm->nixtla) (0.4.5)\n",
      "Requirement already satisfied: six>=1.5 in c:\\users\\dylan\\anaconda3\\lib\\site-packages (from python-dateutil>=2.8.1->pandas->nixtla) (1.16.0)\n",
      "Requirement already satisfied: sniffio>=1.1 in c:\\users\\dylan\\anaconda3\\lib\\site-packages (from anyio->httpx[zstd]->nixtla) (1.2.0)\n",
      "Requirement already satisfied: pyparsing!=3.0.5,>=2.0.2 in c:\\users\\dylan\\anaconda3\\lib\\site-packages (from packaging->utilsforecast>=0.2.8->nixtla) (3.0.9)\n",
      "Note: you may need to restart the kernel to use updated packages.\n"
     ]
    }
   ],
   "source": [
    "pip install nixtla"
   ]
  },
  {
   "cell_type": "code",
   "execution_count": 8,
   "metadata": {},
   "outputs": [],
   "source": [
    "import pandas as pd\n",
    "import numpy as np\n",
    "import matplotlib.pyplot as plt\n",
    "import seaborn as sns\n",
    "from statsmodels.tsa.stattools import adfuller"
   ]
  },
  {
   "cell_type": "code",
   "execution_count": 22,
   "metadata": {},
   "outputs": [],
   "source": [
    "from nixtla import NixtlaClient\n",
    "\n",
    "nixtla_client = NixtlaClient(api_key = 'nixak-2kWHYT0enCFZc2asqSf3T84UgOZI24uEPcy3qPnEdryifVfk8J6ZSkYaM2pBej3qMRkxGqytb2U2SYBP')"
   ]
  },
  {
   "cell_type": "code",
   "execution_count": 23,
   "metadata": {},
   "outputs": [
    {
     "data": {
      "application/vnd.microsoft.datawrangler.viewer.v0+json": {
       "columns": [
        {
         "name": "index",
         "rawType": "int64",
         "type": "integer"
        },
        {
         "name": "Tanggal",
         "rawType": "object",
         "type": "string"
        },
        {
         "name": "Terakhir",
         "rawType": "float64",
         "type": "float"
        },
        {
         "name": "Pembukaan",
         "rawType": "float64",
         "type": "float"
        },
        {
         "name": "Tertinggi",
         "rawType": "float64",
         "type": "float"
        },
        {
         "name": "Terendah",
         "rawType": "float64",
         "type": "float"
        }
       ],
       "conversionMethod": "pd.DataFrame",
       "ref": "06692846-9b41-4cdf-81b2-f7ae244e03a3",
       "rows": [
        [
         "0",
         "2022-07-01",
         "6.525",
         "6.675",
         "6.675",
         "6.5"
        ],
        [
         "1",
         "2022-07-04",
         "6.5",
         "6.5",
         "6.575",
         "6.3"
        ],
        [
         "2",
         "2022-07-05",
         "6.325",
         "6.5",
         "6.525",
         "6.325"
        ],
        [
         "3",
         "2022-07-06",
         "6.075",
         "6.3",
         "6.4",
         "6.05"
        ],
        [
         "4",
         "2022-07-07",
         "5.95",
         "6.025",
         "6.125",
         "5.9"
        ],
        [
         "5",
         "2022-07-08",
         "5.975",
         "6.025",
         "6.075",
         "5.95"
        ],
        [
         "6",
         "2022-07-11",
         "6.05",
         "5.975",
         "6.075",
         "5.925"
        ],
        [
         "7",
         "2022-07-12",
         "6.1",
         "6.05",
         "6.15",
         "6.05"
        ],
        [
         "8",
         "2022-07-13",
         "5.825",
         "6.1",
         "6.1",
         "5.825"
        ],
        [
         "9",
         "2022-07-14",
         "6.1",
         "5.825",
         "6.1",
         "5.825"
        ],
        [
         "10",
         "2022-07-15",
         "5.95",
         "6.0",
         "6.075",
         "5.925"
        ],
        [
         "11",
         "2022-07-18",
         "6.025",
         "5.975",
         "6.025",
         "5.95"
        ],
        [
         "12",
         "2022-07-19",
         "6.075",
         "6.025",
         "6.15",
         "6.025"
        ],
        [
         "13",
         "2022-07-20",
         "6.275",
         "6.175",
         "6.275",
         "6.1"
        ],
        [
         "14",
         "2022-07-21",
         "6.175",
         "6.2",
         "6.25",
         "6.05"
        ],
        [
         "15",
         "2022-07-22",
         "6.075",
         "6.175",
         "6.175",
         "6.05"
        ],
        [
         "16",
         "2022-07-25",
         "6.075",
         "6.05",
         "6.15",
         "6.05"
        ],
        [
         "17",
         "2022-07-26",
         "6.1",
         "6.1",
         "6.125",
         "6.075"
        ],
        [
         "18",
         "2022-07-27",
         "6.1",
         "6.125",
         "6.125",
         "6.0"
        ],
        [
         "19",
         "2022-07-28",
         "6.05",
         "6.125",
         "6.15",
         "6.025"
        ],
        [
         "20",
         "2022-07-29",
         "6.325",
         "6.15",
         "6.425",
         "6.125"
        ],
        [
         "21",
         "2022-08-01",
         "6.475",
         "6.425",
         "6.55",
         "6.35"
        ],
        [
         "22",
         "2022-08-02",
         "6.475",
         "6.475",
         "6.475",
         "6.275"
        ],
        [
         "23",
         "2022-08-03",
         "6.6",
         "6.45",
         "6.6",
         "6.375"
        ],
        [
         "24",
         "2022-08-04",
         "6.6",
         "6.7",
         "6.7",
         "6.45"
        ],
        [
         "25",
         "2022-08-05",
         "6.625",
         "6.6",
         "6.65",
         "6.475"
        ],
        [
         "26",
         "2022-08-08",
         "6.7",
         "6.625",
         "6.7",
         "6.525"
        ],
        [
         "27",
         "2022-08-09",
         "6.75",
         "6.725",
         "6.825",
         "6.7"
        ],
        [
         "28",
         "2022-08-10",
         "6.85",
         "6.775",
         "6.85",
         "6.6"
        ],
        [
         "29",
         "2022-08-11",
         "6.95",
         "6.975",
         "7.0",
         "6.9"
        ],
        [
         "30",
         "2022-08-12",
         "6.95",
         "6.95",
         "7.0",
         "6.85"
        ],
        [
         "31",
         "2022-08-15",
         "6.875",
         "6.925",
         "6.95",
         "6.8"
        ],
        [
         "32",
         "2022-08-16",
         "6.975",
         "6.875",
         "7.05",
         "6.875"
        ],
        [
         "33",
         "2022-08-18",
         "6.975",
         "6.975",
         "7.0",
         "6.85"
        ],
        [
         "34",
         "2022-08-19",
         "6.975",
         "6.975",
         "7.0",
         "6.9"
        ],
        [
         "35",
         "2022-08-22",
         "6.925",
         "6.875",
         "6.925",
         "6.8"
        ],
        [
         "36",
         "2022-08-23",
         "6.975",
         "6.9",
         "7.025",
         "6.85"
        ],
        [
         "37",
         "2022-08-24",
         "7.05",
         "6.925",
         "7.05",
         "6.9"
        ],
        [
         "38",
         "2022-08-25",
         "6.975",
         "7.05",
         "7.05",
         "6.95"
        ],
        [
         "39",
         "2022-08-26",
         "6.875",
         "6.975",
         "7.025",
         "6.85"
        ],
        [
         "40",
         "2022-08-29",
         "6.825",
         "6.8",
         "6.9",
         "6.75"
        ],
        [
         "41",
         "2022-08-30",
         "6.9",
         "6.85",
         "7.025",
         "6.85"
        ],
        [
         "42",
         "2022-08-31",
         "6.975",
         "6.875",
         "6.975",
         "6.775"
        ],
        [
         "43",
         "2022-09-01",
         "6.925",
         "6.975",
         "7.025",
         "6.9"
        ],
        [
         "44",
         "2022-09-02",
         "6.925",
         "6.95",
         "7.0",
         "6.875"
        ],
        [
         "45",
         "2022-09-05",
         "6.875",
         "6.9",
         "6.925",
         "6.85"
        ],
        [
         "46",
         "2022-09-06",
         "6.9",
         "6.875",
         "6.95",
         "6.85"
        ],
        [
         "47",
         "2022-09-07",
         "6.65",
         "6.8",
         "6.875",
         "6.625"
        ],
        [
         "48",
         "2022-09-08",
         "6.65",
         "6.65",
         "6.75",
         "6.625"
        ],
        [
         "49",
         "2022-09-09",
         "6.775",
         "6.675",
         "6.775",
         "6.625"
        ]
       ],
       "shape": {
        "columns": 5,
        "rows": 625
       }
      },
      "text/html": [
       "<div>\n",
       "<style scoped>\n",
       "    .dataframe tbody tr th:only-of-type {\n",
       "        vertical-align: middle;\n",
       "    }\n",
       "\n",
       "    .dataframe tbody tr th {\n",
       "        vertical-align: top;\n",
       "    }\n",
       "\n",
       "    .dataframe thead th {\n",
       "        text-align: right;\n",
       "    }\n",
       "</style>\n",
       "<table border=\"1\" class=\"dataframe\">\n",
       "  <thead>\n",
       "    <tr style=\"text-align: right;\">\n",
       "      <th></th>\n",
       "      <th>Tanggal</th>\n",
       "      <th>Terakhir</th>\n",
       "      <th>Pembukaan</th>\n",
       "      <th>Tertinggi</th>\n",
       "      <th>Terendah</th>\n",
       "    </tr>\n",
       "  </thead>\n",
       "  <tbody>\n",
       "    <tr>\n",
       "      <th>0</th>\n",
       "      <td>2022-07-01</td>\n",
       "      <td>6.525</td>\n",
       "      <td>6.675</td>\n",
       "      <td>6.675</td>\n",
       "      <td>6.500</td>\n",
       "    </tr>\n",
       "    <tr>\n",
       "      <th>1</th>\n",
       "      <td>2022-07-04</td>\n",
       "      <td>6.500</td>\n",
       "      <td>6.500</td>\n",
       "      <td>6.575</td>\n",
       "      <td>6.300</td>\n",
       "    </tr>\n",
       "    <tr>\n",
       "      <th>2</th>\n",
       "      <td>2022-07-05</td>\n",
       "      <td>6.325</td>\n",
       "      <td>6.500</td>\n",
       "      <td>6.525</td>\n",
       "      <td>6.325</td>\n",
       "    </tr>\n",
       "    <tr>\n",
       "      <th>3</th>\n",
       "      <td>2022-07-06</td>\n",
       "      <td>6.075</td>\n",
       "      <td>6.300</td>\n",
       "      <td>6.400</td>\n",
       "      <td>6.050</td>\n",
       "    </tr>\n",
       "    <tr>\n",
       "      <th>4</th>\n",
       "      <td>2022-07-07</td>\n",
       "      <td>5.950</td>\n",
       "      <td>6.025</td>\n",
       "      <td>6.125</td>\n",
       "      <td>5.900</td>\n",
       "    </tr>\n",
       "    <tr>\n",
       "      <th>...</th>\n",
       "      <td>...</td>\n",
       "      <td>...</td>\n",
       "      <td>...</td>\n",
       "      <td>...</td>\n",
       "      <td>...</td>\n",
       "    </tr>\n",
       "    <tr>\n",
       "      <th>620</th>\n",
       "      <td>2025-01-22</td>\n",
       "      <td>4.960</td>\n",
       "      <td>4.920</td>\n",
       "      <td>4.980</td>\n",
       "      <td>4.880</td>\n",
       "    </tr>\n",
       "    <tr>\n",
       "      <th>621</th>\n",
       "      <td>2025-01-23</td>\n",
       "      <td>4.900</td>\n",
       "      <td>4.960</td>\n",
       "      <td>4.980</td>\n",
       "      <td>4.900</td>\n",
       "    </tr>\n",
       "    <tr>\n",
       "      <th>622</th>\n",
       "      <td>2025-01-24</td>\n",
       "      <td>4.870</td>\n",
       "      <td>4.900</td>\n",
       "      <td>4.960</td>\n",
       "      <td>4.870</td>\n",
       "    </tr>\n",
       "    <tr>\n",
       "      <th>623</th>\n",
       "      <td>2025-01-30</td>\n",
       "      <td>4.780</td>\n",
       "      <td>4.870</td>\n",
       "      <td>4.870</td>\n",
       "      <td>4.780</td>\n",
       "    </tr>\n",
       "    <tr>\n",
       "      <th>624</th>\n",
       "      <td>2025-01-31</td>\n",
       "      <td>4.800</td>\n",
       "      <td>4.790</td>\n",
       "      <td>4.840</td>\n",
       "      <td>4.790</td>\n",
       "    </tr>\n",
       "  </tbody>\n",
       "</table>\n",
       "<p>625 rows × 5 columns</p>\n",
       "</div>"
      ],
      "text/plain": [
       "        Tanggal  Terakhir  Pembukaan  Tertinggi  Terendah\n",
       "0    2022-07-01     6.525      6.675      6.675     6.500\n",
       "1    2022-07-04     6.500      6.500      6.575     6.300\n",
       "2    2022-07-05     6.325      6.500      6.525     6.325\n",
       "3    2022-07-06     6.075      6.300      6.400     6.050\n",
       "4    2022-07-07     5.950      6.025      6.125     5.900\n",
       "..          ...       ...        ...        ...       ...\n",
       "620  2025-01-22     4.960      4.920      4.980     4.880\n",
       "621  2025-01-23     4.900      4.960      4.980     4.900\n",
       "622  2025-01-24     4.870      4.900      4.960     4.870\n",
       "623  2025-01-30     4.780      4.870      4.870     4.780\n",
       "624  2025-01-31     4.800      4.790      4.840     4.790\n",
       "\n",
       "[625 rows x 5 columns]"
      ]
     },
     "execution_count": 23,
     "metadata": {},
     "output_type": "execute_result"
    }
   ],
   "source": [
    "df = pd.read_csv('Stocksastra.csv')\n",
    "df"
   ]
  },
  {
   "cell_type": "code",
   "execution_count": 24,
   "metadata": {},
   "outputs": [
    {
     "name": "stdout",
     "output_type": "stream",
     "text": [
      "Tanggal      0\n",
      "Terakhir     0\n",
      "Pembukaan    0\n",
      "Tertinggi    0\n",
      "Terendah     0\n",
      "dtype: int64\n"
     ]
    }
   ],
   "source": [
    "print(df.isnull().sum())\n"
   ]
  },
  {
   "cell_type": "code",
   "execution_count": 25,
   "metadata": {},
   "outputs": [
    {
     "name": "stdout",
     "output_type": "stream",
     "text": [
      "False\n"
     ]
    }
   ],
   "source": [
    "print(df.isnull().values.any())\n"
   ]
  },
  {
   "cell_type": "code",
   "execution_count": 26,
   "metadata": {},
   "outputs": [
    {
     "name": "stdout",
     "output_type": "stream",
     "text": [
      "Empty DataFrame\n",
      "Columns: [Tanggal, Terakhir, Pembukaan, Tertinggi, Terendah]\n",
      "Index: []\n"
     ]
    }
   ],
   "source": [
    "print(df[df.isnull().any(axis=1)])\n"
   ]
  },
  {
   "cell_type": "code",
   "execution_count": 14,
   "metadata": {},
   "outputs": [
    {
     "data": {
      "image/png": "[encoded data removed]",
      "text/plain": [
       "<Figure size 1600x350 with 1 Axes>"
      ]
     },
     "execution_count": 14,
     "metadata": {},
     "output_type": "execute_result"
    }
   ],
   "source": [
    "nixtla_client.plot(df, time_col='Tanggal', target_col='Terakhir')"
   ]
  },
  {
   "cell_type": "code",
   "execution_count": 15,
   "metadata": {},
   "outputs": [
    {
     "name": "stderr",
     "output_type": "stream",
     "text": [
      "INFO:matplotlib.category:Using categorical units to plot a list of strings that are all parsable as floats or dates. If these strings should be plotted as numbers, cast to the appropriate data type before plotting.\n",
      "INFO:matplotlib.category:Using categorical units to plot a list of strings that are all parsable as floats or dates. If these strings should be plotted as numbers, cast to the appropriate data type before plotting.\n"
     ]
    },
    {
     "data": {
      "image/png": "[encoded data removed]",
      "text/plain": [
       "<Figure size 1200x600 with 1 Axes>"
      ]
     },
     "metadata": {},
     "output_type": "display_data"
    }
   ],
   "source": [
    "import numpy as np\n",
    "\n",
    "Q1 = df['Terakhir'].quantile(0.25)\n",
    "Q3 = df['Terakhir'].quantile(0.75)\n",
    "IQR = Q3 - Q1\n",
    "\n",
    "# Aturan untuk mendeteksi outlier\n",
    "lower_bound = Q1 - 1.5 * IQR\n",
    "upper_bound = Q3 + 1.5 * IQR\n",
    "\n",
    "# Menandai outlier\n",
    "df['Anomaly'] = (df['Terakhir'] < lower_bound) | (df['Terakhir'] > upper_bound)\n",
    "\n",
    "# Visualisasi\n",
    "plt.figure(figsize=(12, 6))\n",
    "plt.plot(df['Tanggal'], df['Terakhir'], label='Harga Saham', color='blue')\n",
    "plt.scatter(df[df['Anomaly']]['Tanggal'], df[df['Anomaly']]['Terakhir'], color='red', label='Anomali')\n",
    "plt.xlabel('Tanggal')\n",
    "plt.ylabel('Harga Saham')\n",
    "plt.title('Deteksi Anomali dalam Harga Saham')\n",
    "plt.legend()\n",
    "plt.show()\n"
   ]
  },
  {
   "cell_type": "code",
   "execution_count": 27,
   "metadata": {},
   "outputs": [],
   "source": [
    "df['Tanggal'] = pd.to_datetime(df['Tanggal'])\n",
    "df = df.sort_values('Tanggal')\n",
    "df = df.rename(columns={'Tanggal': 'ds'})  # TimeGPT pakai 'ds'\n",
    "\n",
    "# Daftar kolom target\n",
    "target_columns = ['Terakhir', 'Pembukaan', 'Tertinggi', 'Terendah']"
   ]
  },
  {
   "cell_type": "code",
   "execution_count": 28,
   "metadata": {},
   "outputs": [],
   "source": [
    "# Reindex ke frekuensi bisnis ('B' = Business days)\n",
    "df.set_index('ds', inplace=True)\n",
    "df = df.asfreq('B')  \n",
    "\n",
    "df = df.interpolate(method='linear')\n",
    "\n",
    "# Reset index untuk TimeGPT\n",
    "df = df.reset_index()\n"
   ]
  },
  {
   "cell_type": "code",
   "execution_count": 30,
   "metadata": {},
   "outputs": [
    {
     "name": "stderr",
     "output_type": "stream",
     "text": [
      "INFO:nixtla.nixtla_client:Validating inputs...\n",
      "INFO:nixtla.nixtla_client:Preprocessing dataframes...\n",
      "INFO:nixtla.nixtla_client:Querying model metadata...\n"
     ]
    },
    {
     "name": "stdout",
     "output_type": "stream",
     "text": [
      "Memulai prediksi untuk kolom: Terakhir\n"
     ]
    },
    {
     "name": "stderr",
     "output_type": "stream",
     "text": [
      "INFO:nixtla.nixtla_client:Calling Forecast Endpoint...\n",
      "INFO:nixtla.nixtla_client:Validating inputs...\n",
      "INFO:nixtla.nixtla_client:Preprocessing dataframes...\n",
      "INFO:nixtla.nixtla_client:Calling Forecast Endpoint...\n"
     ]
    },
    {
     "name": "stdout",
     "output_type": "stream",
     "text": [
      "✅ Berhasil prediksi Terakhir untuk 2024-07-01 sampai 2024-07-09\n"
     ]
    },
    {
     "name": "stderr",
     "output_type": "stream",
     "text": [
      "INFO:nixtla.nixtla_client:Validating inputs...\n",
      "INFO:nixtla.nixtla_client:Preprocessing dataframes...\n",
      "INFO:nixtla.nixtla_client:Calling Forecast Endpoint...\n"
     ]
    },
    {
     "name": "stdout",
     "output_type": "stream",
     "text": [
      "✅ Berhasil prediksi Terakhir untuk 2024-07-08 sampai 2024-07-16\n"
     ]
    },
    {
     "name": "stderr",
     "output_type": "stream",
     "text": [
      "INFO:nixtla.nixtla_client:Validating inputs...\n",
      "INFO:nixtla.nixtla_client:Preprocessing dataframes...\n",
      "INFO:nixtla.nixtla_client:Calling Forecast Endpoint...\n"
     ]
    },
    {
     "name": "stdout",
     "output_type": "stream",
     "text": [
      "✅ Berhasil prediksi Terakhir untuk 2024-07-15 sampai 2024-07-23\n"
     ]
    },
    {
     "name": "stderr",
     "output_type": "stream",
     "text": [
      "INFO:nixtla.nixtla_client:Validating inputs...\n",
      "INFO:nixtla.nixtla_client:Preprocessing dataframes...\n",
      "INFO:nixtla.nixtla_client:Calling Forecast Endpoint...\n"
     ]
    },
    {
     "name": "stdout",
     "output_type": "stream",
     "text": [
      "✅ Berhasil prediksi Terakhir untuk 2024-07-22 sampai 2024-07-30\n"
     ]
    },
    {
     "name": "stderr",
     "output_type": "stream",
     "text": [
      "INFO:nixtla.nixtla_client:Validating inputs...\n",
      "INFO:nixtla.nixtla_client:Preprocessing dataframes...\n",
      "INFO:nixtla.nixtla_client:Calling Forecast Endpoint...\n"
     ]
    },
    {
     "name": "stdout",
     "output_type": "stream",
     "text": [
      "✅ Berhasil prediksi Terakhir untuk 2024-07-29 sampai 2024-08-06\n"
     ]
    },
    {
     "name": "stderr",
     "output_type": "stream",
     "text": [
      "INFO:nixtla.nixtla_client:Validating inputs...\n",
      "INFO:nixtla.nixtla_client:Preprocessing dataframes...\n",
      "INFO:nixtla.nixtla_client:Calling Forecast Endpoint...\n"
     ]
    },
    {
     "name": "stdout",
     "output_type": "stream",
     "text": [
      "✅ Berhasil prediksi Terakhir untuk 2024-08-05 sampai 2024-08-13\n"
     ]
    },
    {
     "name": "stderr",
     "output_type": "stream",
     "text": [
      "INFO:nixtla.nixtla_client:Validating inputs...\n",
      "INFO:nixtla.nixtla_client:Preprocessing dataframes...\n",
      "INFO:nixtla.nixtla_client:Calling Forecast Endpoint...\n"
     ]
    },
    {
     "name": "stdout",
     "output_type": "stream",
     "text": [
      "✅ Berhasil prediksi Terakhir untuk 2024-08-12 sampai 2024-08-20\n"
     ]
    },
    {
     "name": "stderr",
     "output_type": "stream",
     "text": [
      "INFO:nixtla.nixtla_client:Validating inputs...\n",
      "INFO:nixtla.nixtla_client:Preprocessing dataframes...\n",
      "INFO:nixtla.nixtla_client:Calling Forecast Endpoint...\n"
     ]
    },
    {
     "name": "stdout",
     "output_type": "stream",
     "text": [
      "✅ Berhasil prediksi Terakhir untuk 2024-08-19 sampai 2024-08-27\n"
     ]
    },
    {
     "name": "stderr",
     "output_type": "stream",
     "text": [
      "INFO:nixtla.nixtla_client:Validating inputs...\n",
      "INFO:nixtla.nixtla_client:Preprocessing dataframes...\n",
      "INFO:nixtla.nixtla_client:Calling Forecast Endpoint...\n"
     ]
    },
    {
     "name": "stdout",
     "output_type": "stream",
     "text": [
      "✅ Berhasil prediksi Terakhir untuk 2024-08-26 sampai 2024-09-03\n"
     ]
    },
    {
     "name": "stderr",
     "output_type": "stream",
     "text": [
      "INFO:nixtla.nixtla_client:Validating inputs...\n",
      "INFO:nixtla.nixtla_client:Preprocessing dataframes...\n",
      "INFO:nixtla.nixtla_client:Calling Forecast Endpoint...\n"
     ]
    },
    {
     "name": "stdout",
     "output_type": "stream",
     "text": [
      "✅ Berhasil prediksi Terakhir untuk 2024-09-02 sampai 2024-09-10\n"
     ]
    },
    {
     "name": "stderr",
     "output_type": "stream",
     "text": [
      "INFO:nixtla.nixtla_client:Validating inputs...\n",
      "INFO:nixtla.nixtla_client:Preprocessing dataframes...\n",
      "INFO:nixtla.nixtla_client:Calling Forecast Endpoint...\n"
     ]
    },
    {
     "name": "stdout",
     "output_type": "stream",
     "text": [
      "✅ Berhasil prediksi Terakhir untuk 2024-09-09 sampai 2024-09-17\n"
     ]
    },
    {
     "name": "stderr",
     "output_type": "stream",
     "text": [
      "INFO:nixtla.nixtla_client:Validating inputs...\n",
      "INFO:nixtla.nixtla_client:Preprocessing dataframes...\n",
      "INFO:nixtla.nixtla_client:Calling Forecast Endpoint...\n"
     ]
    },
    {
     "name": "stdout",
     "output_type": "stream",
     "text": [
      "✅ Berhasil prediksi Terakhir untuk 2024-09-16 sampai 2024-09-24\n"
     ]
    },
    {
     "name": "stderr",
     "output_type": "stream",
     "text": [
      "INFO:nixtla.nixtla_client:Validating inputs...\n",
      "INFO:nixtla.nixtla_client:Preprocessing dataframes...\n",
      "INFO:nixtla.nixtla_client:Calling Forecast Endpoint...\n"
     ]
    },
    {
     "name": "stdout",
     "output_type": "stream",
     "text": [
      "✅ Berhasil prediksi Terakhir untuk 2024-09-23 sampai 2024-10-01\n"
     ]
    },
    {
     "name": "stderr",
     "output_type": "stream",
     "text": [
      "INFO:nixtla.nixtla_client:Validating inputs...\n",
      "INFO:nixtla.nixtla_client:Preprocessing dataframes...\n",
      "INFO:nixtla.nixtla_client:Calling Forecast Endpoint...\n"
     ]
    },
    {
     "name": "stdout",
     "output_type": "stream",
     "text": [
      "✅ Berhasil prediksi Terakhir untuk 2024-09-30 sampai 2024-10-08\n"
     ]
    },
    {
     "name": "stderr",
     "output_type": "stream",
     "text": [
      "INFO:nixtla.nixtla_client:Validating inputs...\n",
      "INFO:nixtla.nixtla_client:Preprocessing dataframes...\n",
      "INFO:nixtla.nixtla_client:Calling Forecast Endpoint...\n"
     ]
    },
    {
     "name": "stdout",
     "output_type": "stream",
     "text": [
      "✅ Berhasil prediksi Terakhir untuk 2024-10-07 sampai 2024-10-15\n"
     ]
    },
    {
     "name": "stderr",
     "output_type": "stream",
     "text": [
      "INFO:nixtla.nixtla_client:Validating inputs...\n",
      "INFO:nixtla.nixtla_client:Preprocessing dataframes...\n",
      "INFO:nixtla.nixtla_client:Calling Forecast Endpoint...\n"
     ]
    },
    {
     "name": "stdout",
     "output_type": "stream",
     "text": [
      "✅ Berhasil prediksi Terakhir untuk 2024-10-14 sampai 2024-10-22\n"
     ]
    },
    {
     "name": "stderr",
     "output_type": "stream",
     "text": [
      "INFO:nixtla.nixtla_client:Validating inputs...\n",
      "INFO:nixtla.nixtla_client:Preprocessing dataframes...\n",
      "INFO:nixtla.nixtla_client:Calling Forecast Endpoint...\n"
     ]
    },
    {
     "name": "stdout",
     "output_type": "stream",
     "text": [
      "✅ Berhasil prediksi Terakhir untuk 2024-10-21 sampai 2024-10-29\n"
     ]
    },
    {
     "name": "stderr",
     "output_type": "stream",
     "text": [
      "INFO:nixtla.nixtla_client:Validating inputs...\n",
      "INFO:nixtla.nixtla_client:Preprocessing dataframes...\n",
      "INFO:nixtla.nixtla_client:Calling Forecast Endpoint...\n"
     ]
    },
    {
     "name": "stdout",
     "output_type": "stream",
     "text": [
      "✅ Berhasil prediksi Terakhir untuk 2024-10-28 sampai 2024-11-05\n"
     ]
    },
    {
     "name": "stderr",
     "output_type": "stream",
     "text": [
      "INFO:nixtla.nixtla_client:Validating inputs...\n",
      "INFO:nixtla.nixtla_client:Preprocessing dataframes...\n",
      "INFO:nixtla.nixtla_client:Calling Forecast Endpoint...\n"
     ]
    },
    {
     "name": "stdout",
     "output_type": "stream",
     "text": [
      "✅ Berhasil prediksi Terakhir untuk 2024-11-04 sampai 2024-11-12\n"
     ]
    },
    {
     "name": "stderr",
     "output_type": "stream",
     "text": [
      "INFO:nixtla.nixtla_client:Validating inputs...\n",
      "INFO:nixtla.nixtla_client:Preprocessing dataframes...\n",
      "INFO:nixtla.nixtla_client:Calling Forecast Endpoint...\n"
     ]
    },
    {
     "name": "stdout",
     "output_type": "stream",
     "text": [
      "✅ Berhasil prediksi Terakhir untuk 2024-11-11 sampai 2024-11-19\n"
     ]
    },
    {
     "name": "stderr",
     "output_type": "stream",
     "text": [
      "INFO:nixtla.nixtla_client:Validating inputs...\n",
      "INFO:nixtla.nixtla_client:Preprocessing dataframes...\n",
      "INFO:nixtla.nixtla_client:Calling Forecast Endpoint...\n"
     ]
    },
    {
     "name": "stdout",
     "output_type": "stream",
     "text": [
      "✅ Berhasil prediksi Terakhir untuk 2024-11-18 sampai 2024-11-26\n"
     ]
    },
    {
     "name": "stderr",
     "output_type": "stream",
     "text": [
      "INFO:nixtla.nixtla_client:Validating inputs...\n",
      "INFO:nixtla.nixtla_client:Preprocessing dataframes...\n",
      "INFO:nixtla.nixtla_client:Calling Forecast Endpoint...\n"
     ]
    },
    {
     "name": "stdout",
     "output_type": "stream",
     "text": [
      "✅ Berhasil prediksi Terakhir untuk 2024-11-25 sampai 2024-12-03\n"
     ]
    },
    {
     "name": "stderr",
     "output_type": "stream",
     "text": [
      "INFO:nixtla.nixtla_client:Validating inputs...\n",
      "INFO:nixtla.nixtla_client:Preprocessing dataframes...\n",
      "INFO:nixtla.nixtla_client:Calling Forecast Endpoint...\n"
     ]
    },
    {
     "name": "stdout",
     "output_type": "stream",
     "text": [
      "✅ Berhasil prediksi Terakhir untuk 2024-12-02 sampai 2024-12-10\n"
     ]
    },
    {
     "name": "stderr",
     "output_type": "stream",
     "text": [
      "INFO:nixtla.nixtla_client:Validating inputs...\n",
      "INFO:nixtla.nixtla_client:Preprocessing dataframes...\n",
      "INFO:nixtla.nixtla_client:Calling Forecast Endpoint...\n"
     ]
    },
    {
     "name": "stdout",
     "output_type": "stream",
     "text": [
      "✅ Berhasil prediksi Terakhir untuk 2024-12-09 sampai 2024-12-17\n"
     ]
    },
    {
     "name": "stderr",
     "output_type": "stream",
     "text": [
      "INFO:nixtla.nixtla_client:Validating inputs...\n",
      "INFO:nixtla.nixtla_client:Preprocessing dataframes...\n",
      "INFO:nixtla.nixtla_client:Calling Forecast Endpoint...\n"
     ]
    },
    {
     "name": "stdout",
     "output_type": "stream",
     "text": [
      "✅ Berhasil prediksi Terakhir untuk 2024-12-16 sampai 2024-12-24\n"
     ]
    },
    {
     "name": "stderr",
     "output_type": "stream",
     "text": [
      "INFO:nixtla.nixtla_client:Validating inputs...\n",
      "INFO:nixtla.nixtla_client:Preprocessing dataframes...\n",
      "INFO:nixtla.nixtla_client:Calling Forecast Endpoint...\n"
     ]
    },
    {
     "name": "stdout",
     "output_type": "stream",
     "text": [
      "✅ Berhasil prediksi Terakhir untuk 2024-12-23 sampai 2024-12-31\n"
     ]
    },
    {
     "name": "stderr",
     "output_type": "stream",
     "text": [
      "INFO:nixtla.nixtla_client:Validating inputs...\n",
      "INFO:nixtla.nixtla_client:Preprocessing dataframes...\n",
      "INFO:nixtla.nixtla_client:Calling Forecast Endpoint...\n"
     ]
    },
    {
     "name": "stdout",
     "output_type": "stream",
     "text": [
      "✅ Berhasil prediksi Terakhir untuk 2024-12-30 sampai 2025-01-07\n"
     ]
    },
    {
     "name": "stderr",
     "output_type": "stream",
     "text": [
      "INFO:nixtla.nixtla_client:Validating inputs...\n",
      "INFO:nixtla.nixtla_client:Preprocessing dataframes...\n",
      "INFO:nixtla.nixtla_client:Calling Forecast Endpoint...\n"
     ]
    },
    {
     "name": "stdout",
     "output_type": "stream",
     "text": [
      "✅ Berhasil prediksi Terakhir untuk 2025-01-06 sampai 2025-01-14\n"
     ]
    },
    {
     "name": "stderr",
     "output_type": "stream",
     "text": [
      "INFO:nixtla.nixtla_client:Validating inputs...\n",
      "INFO:nixtla.nixtla_client:Preprocessing dataframes...\n",
      "INFO:nixtla.nixtla_client:Calling Forecast Endpoint...\n"
     ]
    },
    {
     "name": "stdout",
     "output_type": "stream",
     "text": [
      "✅ Berhasil prediksi Terakhir untuk 2025-01-13 sampai 2025-01-21\n"
     ]
    },
    {
     "name": "stderr",
     "output_type": "stream",
     "text": [
      "INFO:nixtla.nixtla_client:Validating inputs...\n",
      "INFO:nixtla.nixtla_client:Preprocessing dataframes...\n",
      "INFO:nixtla.nixtla_client:Calling Forecast Endpoint...\n"
     ]
    },
    {
     "name": "stdout",
     "output_type": "stream",
     "text": [
      "✅ Berhasil prediksi Terakhir untuk 2025-01-20 sampai 2025-01-28\n"
     ]
    },
    {
     "name": "stderr",
     "output_type": "stream",
     "text": [
      "INFO:nixtla.nixtla_client:Validating inputs...\n",
      "INFO:nixtla.nixtla_client:Preprocessing dataframes...\n",
      "INFO:nixtla.nixtla_client:Calling Forecast Endpoint...\n"
     ]
    },
    {
     "name": "stdout",
     "output_type": "stream",
     "text": [
      "✅ Berhasil prediksi Terakhir untuk 2025-01-27 sampai 2025-02-04\n",
      "Memulai prediksi untuk kolom: Pembukaan\n"
     ]
    },
    {
     "name": "stderr",
     "output_type": "stream",
     "text": [
      "INFO:nixtla.nixtla_client:Validating inputs...\n",
      "INFO:nixtla.nixtla_client:Preprocessing dataframes...\n",
      "INFO:nixtla.nixtla_client:Calling Forecast Endpoint...\n"
     ]
    },
    {
     "name": "stdout",
     "output_type": "stream",
     "text": [
      "✅ Berhasil prediksi Pembukaan untuk 2024-07-01 sampai 2024-07-09\n"
     ]
    },
    {
     "name": "stderr",
     "output_type": "stream",
     "text": [
      "INFO:nixtla.nixtla_client:Validating inputs...\n",
      "INFO:nixtla.nixtla_client:Preprocessing dataframes...\n",
      "INFO:nixtla.nixtla_client:Calling Forecast Endpoint...\n"
     ]
    },
    {
     "name": "stdout",
     "output_type": "stream",
     "text": [
      "✅ Berhasil prediksi Pembukaan untuk 2024-07-08 sampai 2024-07-16\n"
     ]
    },
    {
     "name": "stderr",
     "output_type": "stream",
     "text": [
      "INFO:nixtla.nixtla_client:Validating inputs...\n",
      "INFO:nixtla.nixtla_client:Preprocessing dataframes...\n",
      "INFO:nixtla.nixtla_client:Calling Forecast Endpoint...\n"
     ]
    },
    {
     "name": "stdout",
     "output_type": "stream",
     "text": [
      "✅ Berhasil prediksi Pembukaan untuk 2024-07-15 sampai 2024-07-23\n"
     ]
    },
    {
     "name": "stderr",
     "output_type": "stream",
     "text": [
      "INFO:nixtla.nixtla_client:Validating inputs...\n",
      "INFO:nixtla.nixtla_client:Preprocessing dataframes...\n",
      "INFO:nixtla.nixtla_client:Calling Forecast Endpoint...\n"
     ]
    },
    {
     "name": "stdout",
     "output_type": "stream",
     "text": [
      "✅ Berhasil prediksi Pembukaan untuk 2024-07-22 sampai 2024-07-30\n"
     ]
    },
    {
     "name": "stderr",
     "output_type": "stream",
     "text": [
      "INFO:nixtla.nixtla_client:Validating inputs...\n",
      "INFO:nixtla.nixtla_client:Preprocessing dataframes...\n",
      "INFO:nixtla.nixtla_client:Calling Forecast Endpoint...\n"
     ]
    },
    {
     "name": "stdout",
     "output_type": "stream",
     "text": [
      "✅ Berhasil prediksi Pembukaan untuk 2024-07-29 sampai 2024-08-06\n"
     ]
    },
    {
     "name": "stderr",
     "output_type": "stream",
     "text": [
      "INFO:nixtla.nixtla_client:Validating inputs...\n",
      "INFO:nixtla.nixtla_client:Preprocessing dataframes...\n",
      "INFO:nixtla.nixtla_client:Calling Forecast Endpoint...\n"
     ]
    },
    {
     "name": "stdout",
     "output_type": "stream",
     "text": [
      "✅ Berhasil prediksi Pembukaan untuk 2024-08-05 sampai 2024-08-13\n"
     ]
    },
    {
     "name": "stderr",
     "output_type": "stream",
     "text": [
      "INFO:nixtla.nixtla_client:Validating inputs...\n",
      "INFO:nixtla.nixtla_client:Preprocessing dataframes...\n",
      "INFO:nixtla.nixtla_client:Calling Forecast Endpoint...\n"
     ]
    },
    {
     "name": "stdout",
     "output_type": "stream",
     "text": [
      "✅ Berhasil prediksi Pembukaan untuk 2024-08-12 sampai 2024-08-20\n"
     ]
    },
    {
     "name": "stderr",
     "output_type": "stream",
     "text": [
      "INFO:nixtla.nixtla_client:Validating inputs...\n",
      "INFO:nixtla.nixtla_client:Preprocessing dataframes...\n",
      "INFO:nixtla.nixtla_client:Calling Forecast Endpoint...\n"
     ]
    },
    {
     "name": "stdout",
     "output_type": "stream",
     "text": [
      "✅ Berhasil prediksi Pembukaan untuk 2024-08-19 sampai 2024-08-27\n"
     ]
    },
    {
     "name": "stderr",
     "output_type": "stream",
     "text": [
      "INFO:nixtla.nixtla_client:Validating inputs...\n",
      "INFO:nixtla.nixtla_client:Preprocessing dataframes...\n",
      "INFO:nixtla.nixtla_client:Calling Forecast Endpoint...\n"
     ]
    },
    {
     "name": "stdout",
     "output_type": "stream",
     "text": [
      "✅ Berhasil prediksi Pembukaan untuk 2024-08-26 sampai 2024-09-03\n"
     ]
    },
    {
     "name": "stderr",
     "output_type": "stream",
     "text": [
      "INFO:nixtla.nixtla_client:Validating inputs...\n",
      "INFO:nixtla.nixtla_client:Preprocessing dataframes...\n",
      "INFO:nixtla.nixtla_client:Calling Forecast Endpoint...\n"
     ]
    },
    {
     "name": "stdout",
     "output_type": "stream",
     "text": [
      "✅ Berhasil prediksi Pembukaan untuk 2024-09-02 sampai 2024-09-10\n"
     ]
    },
    {
     "name": "stderr",
     "output_type": "stream",
     "text": [
      "INFO:nixtla.nixtla_client:Validating inputs...\n",
      "INFO:nixtla.nixtla_client:Preprocessing dataframes...\n",
      "INFO:nixtla.nixtla_client:Calling Forecast Endpoint...\n"
     ]
    },
    {
     "name": "stdout",
     "output_type": "stream",
     "text": [
      "✅ Berhasil prediksi Pembukaan untuk 2024-09-09 sampai 2024-09-17\n"
     ]
    },
    {
     "name": "stderr",
     "output_type": "stream",
     "text": [
      "INFO:nixtla.nixtla_client:Validating inputs...\n",
      "INFO:nixtla.nixtla_client:Preprocessing dataframes...\n",
      "INFO:nixtla.nixtla_client:Calling Forecast Endpoint...\n"
     ]
    },
    {
     "name": "stdout",
     "output_type": "stream",
     "text": [
      "✅ Berhasil prediksi Pembukaan untuk 2024-09-16 sampai 2024-09-24\n"
     ]
    },
    {
     "name": "stderr",
     "output_type": "stream",
     "text": [
      "INFO:nixtla.nixtla_client:Validating inputs...\n",
      "INFO:nixtla.nixtla_client:Preprocessing dataframes...\n",
      "INFO:nixtla.nixtla_client:Calling Forecast Endpoint...\n"
     ]
    },
    {
     "name": "stdout",
     "output_type": "stream",
     "text": [
      "✅ Berhasil prediksi Pembukaan untuk 2024-09-23 sampai 2024-10-01\n"
     ]
    },
    {
     "name": "stderr",
     "output_type": "stream",
     "text": [
      "INFO:nixtla.nixtla_client:Validating inputs...\n",
      "INFO:nixtla.nixtla_client:Preprocessing dataframes...\n",
      "INFO:nixtla.nixtla_client:Calling Forecast Endpoint...\n"
     ]
    },
    {
     "name": "stdout",
     "output_type": "stream",
     "text": [
      "✅ Berhasil prediksi Pembukaan untuk 2024-09-30 sampai 2024-10-08\n"
     ]
    },
    {
     "name": "stderr",
     "output_type": "stream",
     "text": [
      "INFO:nixtla.nixtla_client:Validating inputs...\n",
      "INFO:nixtla.nixtla_client:Preprocessing dataframes...\n",
      "INFO:nixtla.nixtla_client:Calling Forecast Endpoint...\n"
     ]
    },
    {
     "name": "stdout",
     "output_type": "stream",
     "text": [
      "✅ Berhasil prediksi Pembukaan untuk 2024-10-07 sampai 2024-10-15\n"
     ]
    },
    {
     "name": "stderr",
     "output_type": "stream",
     "text": [
      "INFO:nixtla.nixtla_client:Validating inputs...\n",
      "INFO:nixtla.nixtla_client:Preprocessing dataframes...\n",
      "INFO:nixtla.nixtla_client:Calling Forecast Endpoint...\n"
     ]
    },
    {
     "name": "stdout",
     "output_type": "stream",
     "text": [
      "✅ Berhasil prediksi Pembukaan untuk 2024-10-14 sampai 2024-10-22\n"
     ]
    },
    {
     "name": "stderr",
     "output_type": "stream",
     "text": [
      "INFO:nixtla.nixtla_client:Validating inputs...\n",
      "INFO:nixtla.nixtla_client:Preprocessing dataframes...\n",
      "INFO:nixtla.nixtla_client:Calling Forecast Endpoint...\n"
     ]
    },
    {
     "name": "stdout",
     "output_type": "stream",
     "text": [
      "✅ Berhasil prediksi Pembukaan untuk 2024-10-21 sampai 2024-10-29\n"
     ]
    },
    {
     "name": "stderr",
     "output_type": "stream",
     "text": [
      "INFO:nixtla.nixtla_client:Validating inputs...\n",
      "INFO:nixtla.nixtla_client:Preprocessing dataframes...\n",
      "INFO:nixtla.nixtla_client:Calling Forecast Endpoint...\n"
     ]
    },
    {
     "name": "stdout",
     "output_type": "stream",
     "text": [
      "✅ Berhasil prediksi Pembukaan untuk 2024-10-28 sampai 2024-11-05\n"
     ]
    },
    {
     "name": "stderr",
     "output_type": "stream",
     "text": [
      "INFO:nixtla.nixtla_client:Validating inputs...\n",
      "INFO:nixtla.nixtla_client:Preprocessing dataframes...\n",
      "INFO:nixtla.nixtla_client:Calling Forecast Endpoint...\n"
     ]
    },
    {
     "name": "stdout",
     "output_type": "stream",
     "text": [
      "✅ Berhasil prediksi Pembukaan untuk 2024-11-04 sampai 2024-11-12\n"
     ]
    },
    {
     "name": "stderr",
     "output_type": "stream",
     "text": [
      "INFO:nixtla.nixtla_client:Validating inputs...\n",
      "INFO:nixtla.nixtla_client:Preprocessing dataframes...\n",
      "INFO:nixtla.nixtla_client:Calling Forecast Endpoint...\n"
     ]
    },
    {
     "name": "stdout",
     "output_type": "stream",
     "text": [
      "✅ Berhasil prediksi Pembukaan untuk 2024-11-11 sampai 2024-11-19\n"
     ]
    },
    {
     "name": "stderr",
     "output_type": "stream",
     "text": [
      "INFO:nixtla.nixtla_client:Validating inputs...\n",
      "INFO:nixtla.nixtla_client:Preprocessing dataframes...\n",
      "INFO:nixtla.nixtla_client:Calling Forecast Endpoint...\n"
     ]
    },
    {
     "name": "stdout",
     "output_type": "stream",
     "text": [
      "✅ Berhasil prediksi Pembukaan untuk 2024-11-18 sampai 2024-11-26\n"
     ]
    },
    {
     "name": "stderr",
     "output_type": "stream",
     "text": [
      "INFO:nixtla.nixtla_client:Validating inputs...\n",
      "INFO:nixtla.nixtla_client:Preprocessing dataframes...\n",
      "INFO:nixtla.nixtla_client:Calling Forecast Endpoint...\n"
     ]
    },
    {
     "name": "stdout",
     "output_type": "stream",
     "text": [
      "✅ Berhasil prediksi Pembukaan untuk 2024-11-25 sampai 2024-12-03\n"
     ]
    },
    {
     "name": "stderr",
     "output_type": "stream",
     "text": [
      "INFO:nixtla.nixtla_client:Validating inputs...\n",
      "INFO:nixtla.nixtla_client:Preprocessing dataframes...\n",
      "INFO:nixtla.nixtla_client:Calling Forecast Endpoint...\n"
     ]
    },
    {
     "name": "stdout",
     "output_type": "stream",
     "text": [
      "✅ Berhasil prediksi Pembukaan untuk 2024-12-02 sampai 2024-12-10\n"
     ]
    },
    {
     "name": "stderr",
     "output_type": "stream",
     "text": [
      "INFO:nixtla.nixtla_client:Validating inputs...\n",
      "INFO:nixtla.nixtla_client:Preprocessing dataframes...\n",
      "INFO:nixtla.nixtla_client:Calling Forecast Endpoint...\n"
     ]
    },
    {
     "name": "stdout",
     "output_type": "stream",
     "text": [
      "✅ Berhasil prediksi Pembukaan untuk 2024-12-09 sampai 2024-12-17\n"
     ]
    },
    {
     "name": "stderr",
     "output_type": "stream",
     "text": [
      "INFO:nixtla.nixtla_client:Validating inputs...\n",
      "INFO:nixtla.nixtla_client:Preprocessing dataframes...\n",
      "INFO:nixtla.nixtla_client:Calling Forecast Endpoint...\n"
     ]
    },
    {
     "name": "stdout",
     "output_type": "stream",
     "text": [
      "✅ Berhasil prediksi Pembukaan untuk 2024-12-16 sampai 2024-12-24\n"
     ]
    },
    {
     "name": "stderr",
     "output_type": "stream",
     "text": [
      "INFO:nixtla.nixtla_client:Validating inputs...\n",
      "INFO:nixtla.nixtla_client:Preprocessing dataframes...\n",
      "INFO:nixtla.nixtla_client:Calling Forecast Endpoint...\n"
     ]
    },
    {
     "name": "stdout",
     "output_type": "stream",
     "text": [
      "✅ Berhasil prediksi Pembukaan untuk 2024-12-23 sampai 2024-12-31\n"
     ]
    },
    {
     "name": "stderr",
     "output_type": "stream",
     "text": [
      "INFO:nixtla.nixtla_client:Validating inputs...\n",
      "INFO:nixtla.nixtla_client:Preprocessing dataframes...\n",
      "INFO:nixtla.nixtla_client:Calling Forecast Endpoint...\n"
     ]
    },
    {
     "name": "stdout",
     "output_type": "stream",
     "text": [
      "✅ Berhasil prediksi Pembukaan untuk 2024-12-30 sampai 2025-01-07\n"
     ]
    },
    {
     "name": "stderr",
     "output_type": "stream",
     "text": [
      "INFO:nixtla.nixtla_client:Validating inputs...\n",
      "INFO:nixtla.nixtla_client:Preprocessing dataframes...\n",
      "INFO:nixtla.nixtla_client:Calling Forecast Endpoint...\n"
     ]
    },
    {
     "name": "stdout",
     "output_type": "stream",
     "text": [
      "✅ Berhasil prediksi Pembukaan untuk 2025-01-06 sampai 2025-01-14\n"
     ]
    },
    {
     "name": "stderr",
     "output_type": "stream",
     "text": [
      "INFO:nixtla.nixtla_client:Validating inputs...\n",
      "INFO:nixtla.nixtla_client:Preprocessing dataframes...\n",
      "INFO:nixtla.nixtla_client:Calling Forecast Endpoint...\n"
     ]
    },
    {
     "name": "stdout",
     "output_type": "stream",
     "text": [
      "✅ Berhasil prediksi Pembukaan untuk 2025-01-13 sampai 2025-01-21\n"
     ]
    },
    {
     "name": "stderr",
     "output_type": "stream",
     "text": [
      "INFO:nixtla.nixtla_client:Validating inputs...\n",
      "INFO:nixtla.nixtla_client:Preprocessing dataframes...\n",
      "INFO:nixtla.nixtla_client:Calling Forecast Endpoint...\n"
     ]
    },
    {
     "name": "stdout",
     "output_type": "stream",
     "text": [
      "✅ Berhasil prediksi Pembukaan untuk 2025-01-20 sampai 2025-01-28\n"
     ]
    },
    {
     "name": "stderr",
     "output_type": "stream",
     "text": [
      "INFO:nixtla.nixtla_client:Validating inputs...\n",
      "INFO:nixtla.nixtla_client:Preprocessing dataframes...\n",
      "INFO:nixtla.nixtla_client:Calling Forecast Endpoint...\n"
     ]
    },
    {
     "name": "stdout",
     "output_type": "stream",
     "text": [
      "✅ Berhasil prediksi Pembukaan untuk 2025-01-27 sampai 2025-02-04\n",
      "Memulai prediksi untuk kolom: Tertinggi\n"
     ]
    },
    {
     "name": "stderr",
     "output_type": "stream",
     "text": [
      "INFO:nixtla.nixtla_client:Validating inputs...\n",
      "INFO:nixtla.nixtla_client:Preprocessing dataframes...\n",
      "INFO:nixtla.nixtla_client:Calling Forecast Endpoint...\n"
     ]
    },
    {
     "name": "stdout",
     "output_type": "stream",
     "text": [
      "✅ Berhasil prediksi Tertinggi untuk 2024-07-01 sampai 2024-07-09\n"
     ]
    },
    {
     "name": "stderr",
     "output_type": "stream",
     "text": [
      "INFO:nixtla.nixtla_client:Validating inputs...\n",
      "INFO:nixtla.nixtla_client:Preprocessing dataframes...\n",
      "INFO:nixtla.nixtla_client:Calling Forecast Endpoint...\n"
     ]
    },
    {
     "name": "stdout",
     "output_type": "stream",
     "text": [
      "✅ Berhasil prediksi Tertinggi untuk 2024-07-08 sampai 2024-07-16\n"
     ]
    },
    {
     "name": "stderr",
     "output_type": "stream",
     "text": [
      "INFO:nixtla.nixtla_client:Validating inputs...\n",
      "INFO:nixtla.nixtla_client:Preprocessing dataframes...\n",
      "INFO:nixtla.nixtla_client:Calling Forecast Endpoint...\n"
     ]
    },
    {
     "name": "stdout",
     "output_type": "stream",
     "text": [
      "✅ Berhasil prediksi Tertinggi untuk 2024-07-15 sampai 2024-07-23\n"
     ]
    },
    {
     "name": "stderr",
     "output_type": "stream",
     "text": [
      "INFO:nixtla.nixtla_client:Validating inputs...\n",
      "INFO:nixtla.nixtla_client:Preprocessing dataframes...\n",
      "INFO:nixtla.nixtla_client:Calling Forecast Endpoint...\n"
     ]
    },
    {
     "name": "stdout",
     "output_type": "stream",
     "text": [
      "✅ Berhasil prediksi Tertinggi untuk 2024-07-22 sampai 2024-07-30\n"
     ]
    },
    {
     "name": "stderr",
     "output_type": "stream",
     "text": [
      "INFO:nixtla.nixtla_client:Validating inputs...\n",
      "INFO:nixtla.nixtla_client:Preprocessing dataframes...\n",
      "INFO:nixtla.nixtla_client:Calling Forecast Endpoint...\n"
     ]
    },
    {
     "name": "stdout",
     "output_type": "stream",
     "text": [
      "✅ Berhasil prediksi Tertinggi untuk 2024-07-29 sampai 2024-08-06\n"
     ]
    },
    {
     "name": "stderr",
     "output_type": "stream",
     "text": [
      "INFO:nixtla.nixtla_client:Validating inputs...\n",
      "INFO:nixtla.nixtla_client:Preprocessing dataframes...\n",
      "INFO:nixtla.nixtla_client:Calling Forecast Endpoint...\n"
     ]
    },
    {
     "name": "stdout",
     "output_type": "stream",
     "text": [
      "✅ Berhasil prediksi Tertinggi untuk 2024-08-05 sampai 2024-08-13\n"
     ]
    },
    {
     "name": "stderr",
     "output_type": "stream",
     "text": [
      "INFO:nixtla.nixtla_client:Validating inputs...\n",
      "INFO:nixtla.nixtla_client:Preprocessing dataframes...\n",
      "INFO:nixtla.nixtla_client:Calling Forecast Endpoint...\n"
     ]
    },
    {
     "name": "stdout",
     "output_type": "stream",
     "text": [
      "✅ Berhasil prediksi Tertinggi untuk 2024-08-12 sampai 2024-08-20\n"
     ]
    },
    {
     "name": "stderr",
     "output_type": "stream",
     "text": [
      "INFO:nixtla.nixtla_client:Validating inputs...\n",
      "INFO:nixtla.nixtla_client:Preprocessing dataframes...\n",
      "INFO:nixtla.nixtla_client:Calling Forecast Endpoint...\n"
     ]
    },
    {
     "name": "stdout",
     "output_type": "stream",
     "text": [
      "✅ Berhasil prediksi Tertinggi untuk 2024-08-19 sampai 2024-08-27\n"
     ]
    },
    {
     "name": "stderr",
     "output_type": "stream",
     "text": [
      "INFO:nixtla.nixtla_client:Validating inputs...\n",
      "INFO:nixtla.nixtla_client:Preprocessing dataframes...\n",
      "INFO:nixtla.nixtla_client:Calling Forecast Endpoint...\n"
     ]
    },
    {
     "name": "stdout",
     "output_type": "stream",
     "text": [
      "✅ Berhasil prediksi Tertinggi untuk 2024-08-26 sampai 2024-09-03\n"
     ]
    },
    {
     "name": "stderr",
     "output_type": "stream",
     "text": [
      "INFO:nixtla.nixtla_client:Validating inputs...\n",
      "INFO:nixtla.nixtla_client:Preprocessing dataframes...\n",
      "INFO:nixtla.nixtla_client:Calling Forecast Endpoint...\n"
     ]
    },
    {
     "name": "stdout",
     "output_type": "stream",
     "text": [
      "✅ Berhasil prediksi Tertinggi untuk 2024-09-02 sampai 2024-09-10\n"
     ]
    },
    {
     "name": "stderr",
     "output_type": "stream",
     "text": [
      "INFO:nixtla.nixtla_client:Validating inputs...\n",
      "INFO:nixtla.nixtla_client:Preprocessing dataframes...\n",
      "INFO:nixtla.nixtla_client:Calling Forecast Endpoint...\n"
     ]
    },
    {
     "name": "stdout",
     "output_type": "stream",
     "text": [
      "✅ Berhasil prediksi Tertinggi untuk 2024-09-09 sampai 2024-09-17\n"
     ]
    },
    {
     "name": "stderr",
     "output_type": "stream",
     "text": [
      "INFO:nixtla.nixtla_client:Validating inputs...\n",
      "INFO:nixtla.nixtla_client:Preprocessing dataframes...\n",
      "INFO:nixtla.nixtla_client:Calling Forecast Endpoint...\n"
     ]
    },
    {
     "name": "stdout",
     "output_type": "stream",
     "text": [
      "✅ Berhasil prediksi Tertinggi untuk 2024-09-16 sampai 2024-09-24\n"
     ]
    },
    {
     "name": "stderr",
     "output_type": "stream",
     "text": [
      "INFO:nixtla.nixtla_client:Validating inputs...\n",
      "INFO:nixtla.nixtla_client:Preprocessing dataframes...\n",
      "INFO:nixtla.nixtla_client:Calling Forecast Endpoint...\n"
     ]
    },
    {
     "name": "stdout",
     "output_type": "stream",
     "text": [
      "✅ Berhasil prediksi Tertinggi untuk 2024-09-23 sampai 2024-10-01\n"
     ]
    },
    {
     "name": "stderr",
     "output_type": "stream",
     "text": [
      "INFO:nixtla.nixtla_client:Validating inputs...\n",
      "INFO:nixtla.nixtla_client:Preprocessing dataframes...\n",
      "INFO:nixtla.nixtla_client:Calling Forecast Endpoint...\n"
     ]
    },
    {
     "name": "stdout",
     "output_type": "stream",
     "text": [
      "✅ Berhasil prediksi Tertinggi untuk 2024-09-30 sampai 2024-10-08\n"
     ]
    },
    {
     "name": "stderr",
     "output_type": "stream",
     "text": [
      "INFO:nixtla.nixtla_client:Validating inputs...\n",
      "INFO:nixtla.nixtla_client:Preprocessing dataframes...\n",
      "INFO:nixtla.nixtla_client:Calling Forecast Endpoint...\n"
     ]
    },
    {
     "name": "stdout",
     "output_type": "stream",
     "text": [
      "✅ Berhasil prediksi Tertinggi untuk 2024-10-07 sampai 2024-10-15\n"
     ]
    },
    {
     "name": "stderr",
     "output_type": "stream",
     "text": [
      "INFO:nixtla.nixtla_client:Validating inputs...\n",
      "INFO:nixtla.nixtla_client:Preprocessing dataframes...\n",
      "INFO:nixtla.nixtla_client:Calling Forecast Endpoint...\n"
     ]
    },
    {
     "name": "stdout",
     "output_type": "stream",
     "text": [
      "✅ Berhasil prediksi Tertinggi untuk 2024-10-14 sampai 2024-10-22\n"
     ]
    },
    {
     "name": "stderr",
     "output_type": "stream",
     "text": [
      "INFO:nixtla.nixtla_client:Validating inputs...\n",
      "INFO:nixtla.nixtla_client:Preprocessing dataframes...\n",
      "INFO:nixtla.nixtla_client:Calling Forecast Endpoint...\n"
     ]
    },
    {
     "name": "stdout",
     "output_type": "stream",
     "text": [
      "✅ Berhasil prediksi Tertinggi untuk 2024-10-21 sampai 2024-10-29\n"
     ]
    },
    {
     "name": "stderr",
     "output_type": "stream",
     "text": [
      "INFO:nixtla.nixtla_client:Validating inputs...\n",
      "INFO:nixtla.nixtla_client:Preprocessing dataframes...\n",
      "INFO:nixtla.nixtla_client:Calling Forecast Endpoint...\n"
     ]
    },
    {
     "name": "stdout",
     "output_type": "stream",
     "text": [
      "✅ Berhasil prediksi Tertinggi untuk 2024-10-28 sampai 2024-11-05\n"
     ]
    },
    {
     "name": "stderr",
     "output_type": "stream",
     "text": [
      "INFO:nixtla.nixtla_client:Validating inputs...\n",
      "INFO:nixtla.nixtla_client:Preprocessing dataframes...\n",
      "INFO:nixtla.nixtla_client:Calling Forecast Endpoint...\n"
     ]
    },
    {
     "name": "stdout",
     "output_type": "stream",
     "text": [
      "✅ Berhasil prediksi Tertinggi untuk 2024-11-04 sampai 2024-11-12\n"
     ]
    },
    {
     "name": "stderr",
     "output_type": "stream",
     "text": [
      "INFO:nixtla.nixtla_client:Validating inputs...\n",
      "INFO:nixtla.nixtla_client:Preprocessing dataframes...\n",
      "INFO:nixtla.nixtla_client:Calling Forecast Endpoint...\n"
     ]
    },
    {
     "name": "stdout",
     "output_type": "stream",
     "text": [
      "✅ Berhasil prediksi Tertinggi untuk 2024-11-11 sampai 2024-11-19\n"
     ]
    },
    {
     "name": "stderr",
     "output_type": "stream",
     "text": [
      "INFO:nixtla.nixtla_client:Validating inputs...\n",
      "INFO:nixtla.nixtla_client:Preprocessing dataframes...\n",
      "INFO:nixtla.nixtla_client:Calling Forecast Endpoint...\n"
     ]
    },
    {
     "name": "stdout",
     "output_type": "stream",
     "text": [
      "✅ Berhasil prediksi Tertinggi untuk 2024-11-18 sampai 2024-11-26\n"
     ]
    },
    {
     "name": "stderr",
     "output_type": "stream",
     "text": [
      "INFO:nixtla.nixtla_client:Validating inputs...\n",
      "INFO:nixtla.nixtla_client:Preprocessing dataframes...\n",
      "INFO:nixtla.nixtla_client:Calling Forecast Endpoint...\n"
     ]
    },
    {
     "name": "stdout",
     "output_type": "stream",
     "text": [
      "✅ Berhasil prediksi Tertinggi untuk 2024-11-25 sampai 2024-12-03\n"
     ]
    },
    {
     "name": "stderr",
     "output_type": "stream",
     "text": [
      "INFO:nixtla.nixtla_client:Validating inputs...\n",
      "INFO:nixtla.nixtla_client:Preprocessing dataframes...\n",
      "INFO:nixtla.nixtla_client:Calling Forecast Endpoint...\n"
     ]
    },
    {
     "name": "stdout",
     "output_type": "stream",
     "text": [
      "✅ Berhasil prediksi Tertinggi untuk 2024-12-02 sampai 2024-12-10\n"
     ]
    },
    {
     "name": "stderr",
     "output_type": "stream",
     "text": [
      "INFO:nixtla.nixtla_client:Validating inputs...\n",
      "INFO:nixtla.nixtla_client:Preprocessing dataframes...\n",
      "INFO:nixtla.nixtla_client:Calling Forecast Endpoint...\n"
     ]
    },
    {
     "name": "stdout",
     "output_type": "stream",
     "text": [
      "✅ Berhasil prediksi Tertinggi untuk 2024-12-09 sampai 2024-12-17\n"
     ]
    },
    {
     "name": "stderr",
     "output_type": "stream",
     "text": [
      "INFO:nixtla.nixtla_client:Validating inputs...\n",
      "INFO:nixtla.nixtla_client:Preprocessing dataframes...\n",
      "INFO:nixtla.nixtla_client:Calling Forecast Endpoint...\n"
     ]
    },
    {
     "name": "stdout",
     "output_type": "stream",
     "text": [
      "✅ Berhasil prediksi Tertinggi untuk 2024-12-16 sampai 2024-12-24\n"
     ]
    },
    {
     "name": "stderr",
     "output_type": "stream",
     "text": [
      "INFO:nixtla.nixtla_client:Validating inputs...\n",
      "INFO:nixtla.nixtla_client:Preprocessing dataframes...\n",
      "INFO:nixtla.nixtla_client:Calling Forecast Endpoint...\n"
     ]
    },
    {
     "name": "stdout",
     "output_type": "stream",
     "text": [
      "✅ Berhasil prediksi Tertinggi untuk 2024-12-23 sampai 2024-12-31\n"
     ]
    },
    {
     "name": "stderr",
     "output_type": "stream",
     "text": [
      "INFO:nixtla.nixtla_client:Validating inputs...\n",
      "INFO:nixtla.nixtla_client:Preprocessing dataframes...\n",
      "INFO:nixtla.nixtla_client:Calling Forecast Endpoint...\n"
     ]
    },
    {
     "name": "stdout",
     "output_type": "stream",
     "text": [
      "✅ Berhasil prediksi Tertinggi untuk 2024-12-30 sampai 2025-01-07\n"
     ]
    },
    {
     "name": "stderr",
     "output_type": "stream",
     "text": [
      "INFO:nixtla.nixtla_client:Validating inputs...\n",
      "INFO:nixtla.nixtla_client:Preprocessing dataframes...\n",
      "INFO:nixtla.nixtla_client:Calling Forecast Endpoint...\n"
     ]
    },
    {
     "name": "stdout",
     "output_type": "stream",
     "text": [
      "✅ Berhasil prediksi Tertinggi untuk 2025-01-06 sampai 2025-01-14\n"
     ]
    },
    {
     "name": "stderr",
     "output_type": "stream",
     "text": [
      "INFO:nixtla.nixtla_client:Validating inputs...\n",
      "INFO:nixtla.nixtla_client:Preprocessing dataframes...\n",
      "INFO:nixtla.nixtla_client:Calling Forecast Endpoint...\n"
     ]
    },
    {
     "name": "stdout",
     "output_type": "stream",
     "text": [
      "✅ Berhasil prediksi Tertinggi untuk 2025-01-13 sampai 2025-01-21\n"
     ]
    },
    {
     "name": "stderr",
     "output_type": "stream",
     "text": [
      "INFO:nixtla.nixtla_client:Validating inputs...\n",
      "INFO:nixtla.nixtla_client:Preprocessing dataframes...\n",
      "INFO:nixtla.nixtla_client:Calling Forecast Endpoint...\n"
     ]
    },
    {
     "name": "stdout",
     "output_type": "stream",
     "text": [
      "✅ Berhasil prediksi Tertinggi untuk 2025-01-20 sampai 2025-01-28\n"
     ]
    },
    {
     "name": "stderr",
     "output_type": "stream",
     "text": [
      "INFO:nixtla.nixtla_client:Validating inputs...\n",
      "INFO:nixtla.nixtla_client:Preprocessing dataframes...\n",
      "INFO:nixtla.nixtla_client:Calling Forecast Endpoint...\n"
     ]
    },
    {
     "name": "stdout",
     "output_type": "stream",
     "text": [
      "✅ Berhasil prediksi Tertinggi untuk 2025-01-27 sampai 2025-02-04\n",
      "Memulai prediksi untuk kolom: Terendah\n"
     ]
    },
    {
     "name": "stderr",
     "output_type": "stream",
     "text": [
      "INFO:nixtla.nixtla_client:Validating inputs...\n",
      "INFO:nixtla.nixtla_client:Preprocessing dataframes...\n",
      "INFO:nixtla.nixtla_client:Calling Forecast Endpoint...\n"
     ]
    },
    {
     "name": "stdout",
     "output_type": "stream",
     "text": [
      "✅ Berhasil prediksi Terendah untuk 2024-07-01 sampai 2024-07-09\n"
     ]
    },
    {
     "name": "stderr",
     "output_type": "stream",
     "text": [
      "INFO:nixtla.nixtla_client:Validating inputs...\n",
      "INFO:nixtla.nixtla_client:Preprocessing dataframes...\n",
      "INFO:nixtla.nixtla_client:Calling Forecast Endpoint...\n"
     ]
    },
    {
     "name": "stdout",
     "output_type": "stream",
     "text": [
      "✅ Berhasil prediksi Terendah untuk 2024-07-08 sampai 2024-07-16\n"
     ]
    },
    {
     "name": "stderr",
     "output_type": "stream",
     "text": [
      "INFO:nixtla.nixtla_client:Validating inputs...\n",
      "INFO:nixtla.nixtla_client:Preprocessing dataframes...\n",
      "INFO:nixtla.nixtla_client:Calling Forecast Endpoint...\n"
     ]
    },
    {
     "name": "stdout",
     "output_type": "stream",
     "text": [
      "✅ Berhasil prediksi Terendah untuk 2024-07-15 sampai 2024-07-23\n"
     ]
    },
    {
     "name": "stderr",
     "output_type": "stream",
     "text": [
      "INFO:nixtla.nixtla_client:Validating inputs...\n",
      "INFO:nixtla.nixtla_client:Preprocessing dataframes...\n",
      "INFO:nixtla.nixtla_client:Calling Forecast Endpoint...\n"
     ]
    },
    {
     "name": "stdout",
     "output_type": "stream",
     "text": [
      "✅ Berhasil prediksi Terendah untuk 2024-07-22 sampai 2024-07-30\n"
     ]
    },
    {
     "name": "stderr",
     "output_type": "stream",
     "text": [
      "INFO:nixtla.nixtla_client:Validating inputs...\n",
      "INFO:nixtla.nixtla_client:Preprocessing dataframes...\n",
      "INFO:nixtla.nixtla_client:Calling Forecast Endpoint...\n"
     ]
    },
    {
     "name": "stdout",
     "output_type": "stream",
     "text": [
      "✅ Berhasil prediksi Terendah untuk 2024-07-29 sampai 2024-08-06\n"
     ]
    },
    {
     "name": "stderr",
     "output_type": "stream",
     "text": [
      "INFO:nixtla.nixtla_client:Validating inputs...\n",
      "INFO:nixtla.nixtla_client:Preprocessing dataframes...\n",
      "INFO:nixtla.nixtla_client:Calling Forecast Endpoint...\n"
     ]
    },
    {
     "name": "stdout",
     "output_type": "stream",
     "text": [
      "✅ Berhasil prediksi Terendah untuk 2024-08-05 sampai 2024-08-13\n"
     ]
    },
    {
     "name": "stderr",
     "output_type": "stream",
     "text": [
      "INFO:nixtla.nixtla_client:Validating inputs...\n",
      "INFO:nixtla.nixtla_client:Preprocessing dataframes...\n",
      "INFO:nixtla.nixtla_client:Calling Forecast Endpoint...\n"
     ]
    },
    {
     "name": "stdout",
     "output_type": "stream",
     "text": [
      "✅ Berhasil prediksi Terendah untuk 2024-08-12 sampai 2024-08-20\n"
     ]
    },
    {
     "name": "stderr",
     "output_type": "stream",
     "text": [
      "INFO:nixtla.nixtla_client:Validating inputs...\n",
      "INFO:nixtla.nixtla_client:Preprocessing dataframes...\n",
      "INFO:nixtla.nixtla_client:Calling Forecast Endpoint...\n"
     ]
    },
    {
     "name": "stdout",
     "output_type": "stream",
     "text": [
      "✅ Berhasil prediksi Terendah untuk 2024-08-19 sampai 2024-08-27\n"
     ]
    },
    {
     "name": "stderr",
     "output_type": "stream",
     "text": [
      "INFO:nixtla.nixtla_client:Validating inputs...\n",
      "INFO:nixtla.nixtla_client:Preprocessing dataframes...\n",
      "INFO:nixtla.nixtla_client:Calling Forecast Endpoint...\n"
     ]
    },
    {
     "name": "stdout",
     "output_type": "stream",
     "text": [
      "✅ Berhasil prediksi Terendah untuk 2024-08-26 sampai 2024-09-03\n"
     ]
    },
    {
     "name": "stderr",
     "output_type": "stream",
     "text": [
      "INFO:nixtla.nixtla_client:Validating inputs...\n",
      "INFO:nixtla.nixtla_client:Preprocessing dataframes...\n",
      "INFO:nixtla.nixtla_client:Calling Forecast Endpoint...\n"
     ]
    },
    {
     "name": "stdout",
     "output_type": "stream",
     "text": [
      "✅ Berhasil prediksi Terendah untuk 2024-09-02 sampai 2024-09-10\n"
     ]
    },
    {
     "name": "stderr",
     "output_type": "stream",
     "text": [
      "INFO:nixtla.nixtla_client:Validating inputs...\n",
      "INFO:nixtla.nixtla_client:Preprocessing dataframes...\n",
      "INFO:nixtla.nixtla_client:Calling Forecast Endpoint...\n"
     ]
    },
    {
     "name": "stdout",
     "output_type": "stream",
     "text": [
      "✅ Berhasil prediksi Terendah untuk 2024-09-09 sampai 2024-09-17\n"
     ]
    },
    {
     "name": "stderr",
     "output_type": "stream",
     "text": [
      "INFO:nixtla.nixtla_client:Validating inputs...\n",
      "INFO:nixtla.nixtla_client:Preprocessing dataframes...\n",
      "INFO:nixtla.nixtla_client:Calling Forecast Endpoint...\n"
     ]
    },
    {
     "name": "stdout",
     "output_type": "stream",
     "text": [
      "✅ Berhasil prediksi Terendah untuk 2024-09-16 sampai 2024-09-24\n"
     ]
    },
    {
     "name": "stderr",
     "output_type": "stream",
     "text": [
      "INFO:nixtla.nixtla_client:Validating inputs...\n",
      "INFO:nixtla.nixtla_client:Preprocessing dataframes...\n",
      "INFO:nixtla.nixtla_client:Calling Forecast Endpoint...\n"
     ]
    },
    {
     "name": "stdout",
     "output_type": "stream",
     "text": [
      "✅ Berhasil prediksi Terendah untuk 2024-09-23 sampai 2024-10-01\n"
     ]
    },
    {
     "name": "stderr",
     "output_type": "stream",
     "text": [
      "INFO:nixtla.nixtla_client:Validating inputs...\n",
      "INFO:nixtla.nixtla_client:Preprocessing dataframes...\n",
      "INFO:nixtla.nixtla_client:Calling Forecast Endpoint...\n"
     ]
    },
    {
     "name": "stdout",
     "output_type": "stream",
     "text": [
      "✅ Berhasil prediksi Terendah untuk 2024-09-30 sampai 2024-10-08\n"
     ]
    },
    {
     "name": "stderr",
     "output_type": "stream",
     "text": [
      "INFO:nixtla.nixtla_client:Validating inputs...\n",
      "INFO:nixtla.nixtla_client:Preprocessing dataframes...\n",
      "INFO:nixtla.nixtla_client:Calling Forecast Endpoint...\n"
     ]
    },
    {
     "name": "stdout",
     "output_type": "stream",
     "text": [
      "✅ Berhasil prediksi Terendah untuk 2024-10-07 sampai 2024-10-15\n"
     ]
    },
    {
     "name": "stderr",
     "output_type": "stream",
     "text": [
      "INFO:nixtla.nixtla_client:Validating inputs...\n",
      "INFO:nixtla.nixtla_client:Preprocessing dataframes...\n",
      "INFO:nixtla.nixtla_client:Calling Forecast Endpoint...\n"
     ]
    },
    {
     "name": "stdout",
     "output_type": "stream",
     "text": [
      "✅ Berhasil prediksi Terendah untuk 2024-10-14 sampai 2024-10-22\n"
     ]
    },
    {
     "name": "stderr",
     "output_type": "stream",
     "text": [
      "INFO:nixtla.nixtla_client:Validating inputs...\n",
      "INFO:nixtla.nixtla_client:Preprocessing dataframes...\n",
      "INFO:nixtla.nixtla_client:Calling Forecast Endpoint...\n"
     ]
    },
    {
     "name": "stdout",
     "output_type": "stream",
     "text": [
      "✅ Berhasil prediksi Terendah untuk 2024-10-21 sampai 2024-10-29\n"
     ]
    },
    {
     "name": "stderr",
     "output_type": "stream",
     "text": [
      "INFO:nixtla.nixtla_client:Validating inputs...\n",
      "INFO:nixtla.nixtla_client:Preprocessing dataframes...\n",
      "INFO:nixtla.nixtla_client:Calling Forecast Endpoint...\n"
     ]
    },
    {
     "name": "stdout",
     "output_type": "stream",
     "text": [
      "✅ Berhasil prediksi Terendah untuk 2024-10-28 sampai 2024-11-05\n"
     ]
    },
    {
     "name": "stderr",
     "output_type": "stream",
     "text": [
      "INFO:nixtla.nixtla_client:Validating inputs...\n",
      "INFO:nixtla.nixtla_client:Preprocessing dataframes...\n",
      "INFO:nixtla.nixtla_client:Calling Forecast Endpoint...\n"
     ]
    },
    {
     "name": "stdout",
     "output_type": "stream",
     "text": [
      "✅ Berhasil prediksi Terendah untuk 2024-11-04 sampai 2024-11-12\n"
     ]
    },
    {
     "name": "stderr",
     "output_type": "stream",
     "text": [
      "INFO:nixtla.nixtla_client:Validating inputs...\n",
      "INFO:nixtla.nixtla_client:Preprocessing dataframes...\n",
      "INFO:nixtla.nixtla_client:Calling Forecast Endpoint...\n"
     ]
    },
    {
     "name": "stdout",
     "output_type": "stream",
     "text": [
      "✅ Berhasil prediksi Terendah untuk 2024-11-11 sampai 2024-11-19\n"
     ]
    },
    {
     "name": "stderr",
     "output_type": "stream",
     "text": [
      "INFO:nixtla.nixtla_client:Validating inputs...\n",
      "INFO:nixtla.nixtla_client:Preprocessing dataframes...\n",
      "INFO:nixtla.nixtla_client:Calling Forecast Endpoint...\n"
     ]
    },
    {
     "name": "stdout",
     "output_type": "stream",
     "text": [
      "✅ Berhasil prediksi Terendah untuk 2024-11-18 sampai 2024-11-26\n"
     ]
    },
    {
     "name": "stderr",
     "output_type": "stream",
     "text": [
      "INFO:nixtla.nixtla_client:Validating inputs...\n",
      "INFO:nixtla.nixtla_client:Preprocessing dataframes...\n",
      "INFO:nixtla.nixtla_client:Calling Forecast Endpoint...\n"
     ]
    },
    {
     "name": "stdout",
     "output_type": "stream",
     "text": [
      "✅ Berhasil prediksi Terendah untuk 2024-11-25 sampai 2024-12-03\n"
     ]
    },
    {
     "name": "stderr",
     "output_type": "stream",
     "text": [
      "INFO:nixtla.nixtla_client:Validating inputs...\n",
      "INFO:nixtla.nixtla_client:Preprocessing dataframes...\n",
      "INFO:nixtla.nixtla_client:Calling Forecast Endpoint...\n"
     ]
    },
    {
     "name": "stdout",
     "output_type": "stream",
     "text": [
      "✅ Berhasil prediksi Terendah untuk 2024-12-02 sampai 2024-12-10\n"
     ]
    },
    {
     "name": "stderr",
     "output_type": "stream",
     "text": [
      "INFO:nixtla.nixtla_client:Validating inputs...\n",
      "INFO:nixtla.nixtla_client:Preprocessing dataframes...\n",
      "INFO:nixtla.nixtla_client:Calling Forecast Endpoint...\n"
     ]
    },
    {
     "name": "stdout",
     "output_type": "stream",
     "text": [
      "✅ Berhasil prediksi Terendah untuk 2024-12-09 sampai 2024-12-17\n"
     ]
    },
    {
     "name": "stderr",
     "output_type": "stream",
     "text": [
      "INFO:nixtla.nixtla_client:Validating inputs...\n",
      "INFO:nixtla.nixtla_client:Preprocessing dataframes...\n",
      "INFO:nixtla.nixtla_client:Calling Forecast Endpoint...\n"
     ]
    },
    {
     "name": "stdout",
     "output_type": "stream",
     "text": [
      "✅ Berhasil prediksi Terendah untuk 2024-12-16 sampai 2024-12-24\n"
     ]
    },
    {
     "name": "stderr",
     "output_type": "stream",
     "text": [
      "INFO:nixtla.nixtla_client:Validating inputs...\n",
      "INFO:nixtla.nixtla_client:Preprocessing dataframes...\n",
      "INFO:nixtla.nixtla_client:Calling Forecast Endpoint...\n"
     ]
    },
    {
     "name": "stdout",
     "output_type": "stream",
     "text": [
      "✅ Berhasil prediksi Terendah untuk 2024-12-23 sampai 2024-12-31\n"
     ]
    },
    {
     "name": "stderr",
     "output_type": "stream",
     "text": [
      "INFO:nixtla.nixtla_client:Validating inputs...\n",
      "INFO:nixtla.nixtla_client:Preprocessing dataframes...\n",
      "INFO:nixtla.nixtla_client:Calling Forecast Endpoint...\n"
     ]
    },
    {
     "name": "stdout",
     "output_type": "stream",
     "text": [
      "✅ Berhasil prediksi Terendah untuk 2024-12-30 sampai 2025-01-07\n"
     ]
    },
    {
     "name": "stderr",
     "output_type": "stream",
     "text": [
      "INFO:nixtla.nixtla_client:Validating inputs...\n",
      "INFO:nixtla.nixtla_client:Preprocessing dataframes...\n",
      "INFO:nixtla.nixtla_client:Calling Forecast Endpoint...\n"
     ]
    },
    {
     "name": "stdout",
     "output_type": "stream",
     "text": [
      "✅ Berhasil prediksi Terendah untuk 2025-01-06 sampai 2025-01-14\n"
     ]
    },
    {
     "name": "stderr",
     "output_type": "stream",
     "text": [
      "INFO:nixtla.nixtla_client:Validating inputs...\n",
      "INFO:nixtla.nixtla_client:Preprocessing dataframes...\n",
      "INFO:nixtla.nixtla_client:Calling Forecast Endpoint...\n"
     ]
    },
    {
     "name": "stdout",
     "output_type": "stream",
     "text": [
      "✅ Berhasil prediksi Terendah untuk 2025-01-13 sampai 2025-01-21\n"
     ]
    },
    {
     "name": "stderr",
     "output_type": "stream",
     "text": [
      "INFO:nixtla.nixtla_client:Validating inputs...\n",
      "INFO:nixtla.nixtla_client:Preprocessing dataframes...\n",
      "INFO:nixtla.nixtla_client:Calling Forecast Endpoint...\n"
     ]
    },
    {
     "name": "stdout",
     "output_type": "stream",
     "text": [
      "✅ Berhasil prediksi Terendah untuk 2025-01-20 sampai 2025-01-28\n",
      "✅ Berhasil prediksi Terendah untuk 2025-01-27 sampai 2025-02-04\n"
     ]
    }
   ],
   "source": [
    "# Setup prediksi\n",
    "start_date = pd.to_datetime('2024-07-01')\n",
    "end_date = pd.to_datetime('2025-01-31')\n",
    "horizon = 7  # prediksi 7 hari ke depan\n",
    "\n",
    "# DataFrame hasil\n",
    "results = []\n",
    "\n",
    "# Prediksi per kolom target\n",
    "for target_col in target_columns:\n",
    "    print(f\"Memulai prediksi untuk kolom: {target_col}\")\n",
    "    current_date = start_date\n",
    "    df_target = df[['ds', target_col]].dropna().rename(columns={target_col: 'y'})\n",
    "    \n",
    "    df_target['y'] = np.log(df_target['y'])  # Transformasi log agar stabil\n",
    "\n",
    "    while current_date <= end_date:\n",
    "        train_data = df_target[df_target['ds'] < current_date]\n",
    "        \n",
    "        if train_data.empty:\n",
    "            print(f\"Tidak ada data sebelum {current_date} untuk {target_col}\")\n",
    "            break\n",
    "\n",
    "        try:\n",
    "            forecast = nixtla_client.forecast(\n",
    "                df=train_data,\n",
    "                h=horizon,\n",
    "                freq='B',\n",
    "                time_col='ds',\n",
    "                target_col='y',\n",
    "                model='timegpt-1',\n",
    "                finetune_steps=1,\n",
    "                finetune_depth=1,\n",
    "                finetune_loss=\"mae\"\n",
    "            )\n",
    "\n",
    "            pred_dates = pd.date_range(start=current_date, periods=horizon, freq='B')\n",
    "            y_preds = np.exp(forecast['TimeGPT'].values)  # balik log\n",
    "            \n",
    "            result_df = pd.DataFrame({'ds': pred_dates, 'y': y_preds})\n",
    "            result_df['kolom'] = target_col\n",
    "            results.append(result_df)\n",
    "\n",
    "            print(f\"✅ Berhasil prediksi {target_col} untuk {current_date.date()} sampai {pred_dates[-1].date()}\")\n",
    "\n",
    "        except Exception as e:\n",
    "            print(f\"❌ Gagal prediksi {target_col} untuk {current_date.date()}: {e}\")\n",
    "            break\n",
    "\n",
    "        current_date += pd.Timedelta(days=horizon)\n",
    "\n",
    "# Gabungkan semua hasil\n",
    "final_result = pd.concat(results, ignore_index=True)\n",
    "final_result.to_csv('forecast_stocksastra_multi_target.csv', index=False)"
   ]
  },
  {
   "cell_type": "code",
   "execution_count": 12,
   "metadata": {},
   "outputs": [
    {
     "name": "stderr",
     "output_type": "stream",
     "text": [
      "INFO:nixtla.nixtla_client:Validating inputs...\n",
      "INFO:nixtla.nixtla_client:Preprocessing dataframes...\n",
      "INFO:nixtla.nixtla_client:Querying model metadata...\n"
     ]
    },
    {
     "name": "stdout",
     "output_type": "stream",
     "text": [
      "Memulai prediksi untuk kolom: Terakhir\n"
     ]
    },
    {
     "name": "stderr",
     "output_type": "stream",
     "text": [
      "INFO:nixtla.nixtla_client:Calling Forecast Endpoint...\n"
     ]
    },
    {
     "ename": "KeyboardInterrupt",
     "evalue": "",
     "output_type": "error",
     "traceback": [
      "\u001b[1;31m---------------------------------------------------------------------------\u001b[0m",
      "\u001b[1;31mKeyboardInterrupt\u001b[0m                         Traceback (most recent call last)",
      "\u001b[1;32m~\\AppData\\Local\\Temp\\ipykernel_12540\\1478751631.py\u001b[0m in \u001b[0;36m<module>\u001b[1;34m\u001b[0m\n\u001b[0;32m     23\u001b[0m \u001b[1;33m\u001b[0m\u001b[0m\n\u001b[0;32m     24\u001b[0m         \u001b[1;32mtry\u001b[0m\u001b[1;33m:\u001b[0m\u001b[1;33m\u001b[0m\u001b[1;33m\u001b[0m\u001b[0m\n\u001b[1;32m---> 25\u001b[1;33m             forecast = nixtla_client.forecast(\n\u001b[0m\u001b[0;32m     26\u001b[0m                 \u001b[0mdf\u001b[0m\u001b[1;33m=\u001b[0m\u001b[0mtrain_data\u001b[0m\u001b[1;33m,\u001b[0m\u001b[1;33m\u001b[0m\u001b[1;33m\u001b[0m\u001b[0m\n\u001b[0;32m     27\u001b[0m                 \u001b[0mh\u001b[0m\u001b[1;33m=\u001b[0m\u001b[0mhorizon\u001b[0m\u001b[1;33m,\u001b[0m\u001b[1;33m\u001b[0m\u001b[1;33m\u001b[0m\u001b[0m\n",
      "\u001b[1;32mc:\\Users\\dylan\\anaconda3\\lib\\site-packages\\nixtla\\nixtla_client.py\u001b[0m in \u001b[0;36mforecast\u001b[1;34m(self, df, h, freq, id_col, time_col, target_col, X_df, level, quantiles, finetune_steps, finetune_depth, finetune_loss, finetuned_model_id, clean_ex_first, hist_exog_list, validate_api_key, add_history, date_features, date_features_to_one_hot, model, num_partitions, feature_contributions)\u001b[0m\n\u001b[0;32m   1507\u001b[0m             \u001b[0minsample_feat_contributions\u001b[0m \u001b[1;33m=\u001b[0m \u001b[1;32mNone\u001b[0m\u001b[1;33m\u001b[0m\u001b[1;33m\u001b[0m\u001b[0m\n\u001b[0;32m   1508\u001b[0m             \u001b[1;32mif\u001b[0m \u001b[0mnum_partitions\u001b[0m \u001b[1;32mis\u001b[0m \u001b[1;32mNone\u001b[0m\u001b[1;33m:\u001b[0m\u001b[1;33m\u001b[0m\u001b[1;33m\u001b[0m\u001b[0m\n\u001b[1;32m-> 1509\u001b[1;33m                 \u001b[0mresp\u001b[0m \u001b[1;33m=\u001b[0m \u001b[0mself\u001b[0m\u001b[1;33m.\u001b[0m\u001b[0m_make_request_with_retries\u001b[0m\u001b[1;33m(\u001b[0m\u001b[0mclient\u001b[0m\u001b[1;33m,\u001b[0m \u001b[1;34m\"v2/forecast\"\u001b[0m\u001b[1;33m,\u001b[0m \u001b[0mpayload\u001b[0m\u001b[1;33m)\u001b[0m\u001b[1;33m\u001b[0m\u001b[1;33m\u001b[0m\u001b[0m\n\u001b[0m\u001b[0;32m   1510\u001b[0m                 \u001b[1;32mif\u001b[0m \u001b[0madd_history\u001b[0m\u001b[1;33m:\u001b[0m\u001b[1;33m\u001b[0m\u001b[1;33m\u001b[0m\u001b[0m\n\u001b[0;32m   1511\u001b[0m                     \u001b[0min_sample_payload\u001b[0m \u001b[1;33m=\u001b[0m \u001b[0m_forecast_payload_to_in_sample\u001b[0m\u001b[1;33m(\u001b[0m\u001b[0mpayload\u001b[0m\u001b[1;33m)\u001b[0m\u001b[1;33m\u001b[0m\u001b[1;33m\u001b[0m\u001b[0m\n",
      "\u001b[1;32mc:\\Users\\dylan\\anaconda3\\lib\\site-packages\\nixtla\\nixtla_client.py\u001b[0m in \u001b[0;36m_make_request_with_retries\u001b[1;34m(self, client, endpoint, payload, multithreaded_compress)\u001b[0m\n\u001b[0;32m    781\u001b[0m         \u001b[0mmultithreaded_compress\u001b[0m\u001b[1;33m:\u001b[0m \u001b[0mbool\u001b[0m \u001b[1;33m=\u001b[0m \u001b[1;32mTrue\u001b[0m\u001b[1;33m,\u001b[0m\u001b[1;33m\u001b[0m\u001b[1;33m\u001b[0m\u001b[0m\n\u001b[0;32m    782\u001b[0m     ) -> dict[str, Any]:\n\u001b[1;32m--> 783\u001b[1;33m         return self._retry_strategy(self._make_request)(\n\u001b[0m\u001b[0;32m    784\u001b[0m             \u001b[0mclient\u001b[0m\u001b[1;33m=\u001b[0m\u001b[0mclient\u001b[0m\u001b[1;33m,\u001b[0m\u001b[1;33m\u001b[0m\u001b[1;33m\u001b[0m\u001b[0m\n\u001b[0;32m    785\u001b[0m             \u001b[0mendpoint\u001b[0m\u001b[1;33m=\u001b[0m\u001b[0mendpoint\u001b[0m\u001b[1;33m,\u001b[0m\u001b[1;33m\u001b[0m\u001b[1;33m\u001b[0m\u001b[0m\n",
      "\u001b[1;32mc:\\Users\\dylan\\anaconda3\\lib\\site-packages\\tenacity\\__init__.py\u001b[0m in \u001b[0;36mwrapped_f\u001b[1;34m(*args, **kw)\u001b[0m\n\u001b[0;32m    322\u001b[0m         \u001b[1;33m@\u001b[0m\u001b[0mfunctools\u001b[0m\u001b[1;33m.\u001b[0m\u001b[0mwraps\u001b[0m\u001b[1;33m(\u001b[0m\u001b[0mf\u001b[0m\u001b[1;33m)\u001b[0m\u001b[1;33m\u001b[0m\u001b[1;33m\u001b[0m\u001b[0m\n\u001b[0;32m    323\u001b[0m         \u001b[1;32mdef\u001b[0m \u001b[0mwrapped_f\u001b[0m\u001b[1;33m(\u001b[0m\u001b[1;33m*\u001b[0m\u001b[0margs\u001b[0m\u001b[1;33m:\u001b[0m \u001b[0mt\u001b[0m\u001b[1;33m.\u001b[0m\u001b[0mAny\u001b[0m\u001b[1;33m,\u001b[0m \u001b[1;33m**\u001b[0m\u001b[0mkw\u001b[0m\u001b[1;33m:\u001b[0m \u001b[0mt\u001b[0m\u001b[1;33m.\u001b[0m\u001b[0mAny\u001b[0m\u001b[1;33m)\u001b[0m \u001b[1;33m->\u001b[0m \u001b[0mt\u001b[0m\u001b[1;33m.\u001b[0m\u001b[0mAny\u001b[0m\u001b[1;33m:\u001b[0m\u001b[1;33m\u001b[0m\u001b[1;33m\u001b[0m\u001b[0m\n\u001b[1;32m--> 324\u001b[1;33m             \u001b[1;32mreturn\u001b[0m \u001b[0mself\u001b[0m\u001b[1;33m(\u001b[0m\u001b[0mf\u001b[0m\u001b[1;33m,\u001b[0m \u001b[1;33m*\u001b[0m\u001b[0margs\u001b[0m\u001b[1;33m,\u001b[0m \u001b[1;33m**\u001b[0m\u001b[0mkw\u001b[0m\u001b[1;33m)\u001b[0m\u001b[1;33m\u001b[0m\u001b[1;33m\u001b[0m\u001b[0m\n\u001b[0m\u001b[0;32m    325\u001b[0m \u001b[1;33m\u001b[0m\u001b[0m\n\u001b[0;32m    326\u001b[0m         \u001b[1;32mdef\u001b[0m \u001b[0mretry_with\u001b[0m\u001b[1;33m(\u001b[0m\u001b[1;33m*\u001b[0m\u001b[0margs\u001b[0m\u001b[1;33m:\u001b[0m \u001b[0mt\u001b[0m\u001b[1;33m.\u001b[0m\u001b[0mAny\u001b[0m\u001b[1;33m,\u001b[0m \u001b[1;33m**\u001b[0m\u001b[0mkwargs\u001b[0m\u001b[1;33m:\u001b[0m \u001b[0mt\u001b[0m\u001b[1;33m.\u001b[0m\u001b[0mAny\u001b[0m\u001b[1;33m)\u001b[0m \u001b[1;33m->\u001b[0m \u001b[0mWrappedFn\u001b[0m\u001b[1;33m:\u001b[0m\u001b[1;33m\u001b[0m\u001b[1;33m\u001b[0m\u001b[0m\n",
      "\u001b[1;32mc:\\Users\\dylan\\anaconda3\\lib\\site-packages\\tenacity\\__init__.py\u001b[0m in \u001b[0;36m__call__\u001b[1;34m(self, fn, *args, **kwargs)\u001b[0m\n\u001b[0;32m    402\u001b[0m         \u001b[0mretry_state\u001b[0m \u001b[1;33m=\u001b[0m \u001b[0mRetryCallState\u001b[0m\u001b[1;33m(\u001b[0m\u001b[0mretry_object\u001b[0m\u001b[1;33m=\u001b[0m\u001b[0mself\u001b[0m\u001b[1;33m,\u001b[0m \u001b[0mfn\u001b[0m\u001b[1;33m=\u001b[0m\u001b[0mfn\u001b[0m\u001b[1;33m,\u001b[0m \u001b[0margs\u001b[0m\u001b[1;33m=\u001b[0m\u001b[0margs\u001b[0m\u001b[1;33m,\u001b[0m \u001b[0mkwargs\u001b[0m\u001b[1;33m=\u001b[0m\u001b[0mkwargs\u001b[0m\u001b[1;33m)\u001b[0m\u001b[1;33m\u001b[0m\u001b[1;33m\u001b[0m\u001b[0m\n\u001b[0;32m    403\u001b[0m         \u001b[1;32mwhile\u001b[0m \u001b[1;32mTrue\u001b[0m\u001b[1;33m:\u001b[0m\u001b[1;33m\u001b[0m\u001b[1;33m\u001b[0m\u001b[0m\n\u001b[1;32m--> 404\u001b[1;33m             \u001b[0mdo\u001b[0m \u001b[1;33m=\u001b[0m \u001b[0mself\u001b[0m\u001b[1;33m.\u001b[0m\u001b[0miter\u001b[0m\u001b[1;33m(\u001b[0m\u001b[0mretry_state\u001b[0m\u001b[1;33m=\u001b[0m\u001b[0mretry_state\u001b[0m\u001b[1;33m)\u001b[0m\u001b[1;33m\u001b[0m\u001b[1;33m\u001b[0m\u001b[0m\n\u001b[0m\u001b[0;32m    405\u001b[0m             \u001b[1;32mif\u001b[0m \u001b[0misinstance\u001b[0m\u001b[1;33m(\u001b[0m\u001b[0mdo\u001b[0m\u001b[1;33m,\u001b[0m \u001b[0mDoAttempt\u001b[0m\u001b[1;33m)\u001b[0m\u001b[1;33m:\u001b[0m\u001b[1;33m\u001b[0m\u001b[1;33m\u001b[0m\u001b[0m\n\u001b[0;32m    406\u001b[0m                 \u001b[1;32mtry\u001b[0m\u001b[1;33m:\u001b[0m\u001b[1;33m\u001b[0m\u001b[1;33m\u001b[0m\u001b[0m\n",
      "\u001b[1;32mc:\\Users\\dylan\\anaconda3\\lib\\site-packages\\tenacity\\__init__.py\u001b[0m in \u001b[0;36miter\u001b[1;34m(self, retry_state)\u001b[0m\n\u001b[0;32m    347\u001b[0m         \u001b[0mis_explicit_retry\u001b[0m \u001b[1;33m=\u001b[0m \u001b[0mretry_state\u001b[0m\u001b[1;33m.\u001b[0m\u001b[0moutcome\u001b[0m\u001b[1;33m.\u001b[0m\u001b[0mfailed\u001b[0m \u001b[1;32mand\u001b[0m \u001b[0misinstance\u001b[0m\u001b[1;33m(\u001b[0m\u001b[0mretry_state\u001b[0m\u001b[1;33m.\u001b[0m\u001b[0moutcome\u001b[0m\u001b[1;33m.\u001b[0m\u001b[0mexception\u001b[0m\u001b[1;33m(\u001b[0m\u001b[1;33m)\u001b[0m\u001b[1;33m,\u001b[0m \u001b[0mTryAgain\u001b[0m\u001b[1;33m)\u001b[0m\u001b[1;33m\u001b[0m\u001b[1;33m\u001b[0m\u001b[0m\n\u001b[0;32m    348\u001b[0m         \u001b[1;32mif\u001b[0m \u001b[1;32mnot\u001b[0m \u001b[1;33m(\u001b[0m\u001b[0mis_explicit_retry\u001b[0m \u001b[1;32mor\u001b[0m \u001b[0mself\u001b[0m\u001b[1;33m.\u001b[0m\u001b[0mretry\u001b[0m\u001b[1;33m(\u001b[0m\u001b[0mretry_state\u001b[0m\u001b[1;33m=\u001b[0m\u001b[0mretry_state\u001b[0m\u001b[1;33m)\u001b[0m\u001b[1;33m)\u001b[0m\u001b[1;33m:\u001b[0m\u001b[1;33m\u001b[0m\u001b[1;33m\u001b[0m\u001b[0m\n\u001b[1;32m--> 349\u001b[1;33m             \u001b[1;32mreturn\u001b[0m \u001b[0mfut\u001b[0m\u001b[1;33m.\u001b[0m\u001b[0mresult\u001b[0m\u001b[1;33m(\u001b[0m\u001b[1;33m)\u001b[0m\u001b[1;33m\u001b[0m\u001b[1;33m\u001b[0m\u001b[0m\n\u001b[0m\u001b[0;32m    350\u001b[0m \u001b[1;33m\u001b[0m\u001b[0m\n\u001b[0;32m    351\u001b[0m         \u001b[1;32mif\u001b[0m \u001b[0mself\u001b[0m\u001b[1;33m.\u001b[0m\u001b[0mafter\u001b[0m \u001b[1;32mis\u001b[0m \u001b[1;32mnot\u001b[0m \u001b[1;32mNone\u001b[0m\u001b[1;33m:\u001b[0m\u001b[1;33m\u001b[0m\u001b[1;33m\u001b[0m\u001b[0m\n",
      "\u001b[1;32mc:\\Users\\dylan\\anaconda3\\lib\\concurrent\\futures\\_base.py\u001b[0m in \u001b[0;36mresult\u001b[1;34m(self, timeout)\u001b[0m\n\u001b[0;32m    437\u001b[0m                     \u001b[1;32mraise\u001b[0m \u001b[0mCancelledError\u001b[0m\u001b[1;33m(\u001b[0m\u001b[1;33m)\u001b[0m\u001b[1;33m\u001b[0m\u001b[1;33m\u001b[0m\u001b[0m\n\u001b[0;32m    438\u001b[0m                 \u001b[1;32melif\u001b[0m \u001b[0mself\u001b[0m\u001b[1;33m.\u001b[0m\u001b[0m_state\u001b[0m \u001b[1;33m==\u001b[0m \u001b[0mFINISHED\u001b[0m\u001b[1;33m:\u001b[0m\u001b[1;33m\u001b[0m\u001b[1;33m\u001b[0m\u001b[0m\n\u001b[1;32m--> 439\u001b[1;33m                     \u001b[1;32mreturn\u001b[0m \u001b[0mself\u001b[0m\u001b[1;33m.\u001b[0m\u001b[0m__get_result\u001b[0m\u001b[1;33m(\u001b[0m\u001b[1;33m)\u001b[0m\u001b[1;33m\u001b[0m\u001b[1;33m\u001b[0m\u001b[0m\n\u001b[0m\u001b[0;32m    440\u001b[0m \u001b[1;33m\u001b[0m\u001b[0m\n\u001b[0;32m    441\u001b[0m                 \u001b[0mself\u001b[0m\u001b[1;33m.\u001b[0m\u001b[0m_condition\u001b[0m\u001b[1;33m.\u001b[0m\u001b[0mwait\u001b[0m\u001b[1;33m(\u001b[0m\u001b[0mtimeout\u001b[0m\u001b[1;33m)\u001b[0m\u001b[1;33m\u001b[0m\u001b[1;33m\u001b[0m\u001b[0m\n",
      "\u001b[1;32mc:\\Users\\dylan\\anaconda3\\lib\\concurrent\\futures\\_base.py\u001b[0m in \u001b[0;36m__get_result\u001b[1;34m(self)\u001b[0m\n\u001b[0;32m    389\u001b[0m         \u001b[1;32mif\u001b[0m \u001b[0mself\u001b[0m\u001b[1;33m.\u001b[0m\u001b[0m_exception\u001b[0m\u001b[1;33m:\u001b[0m\u001b[1;33m\u001b[0m\u001b[1;33m\u001b[0m\u001b[0m\n\u001b[0;32m    390\u001b[0m             \u001b[1;32mtry\u001b[0m\u001b[1;33m:\u001b[0m\u001b[1;33m\u001b[0m\u001b[1;33m\u001b[0m\u001b[0m\n\u001b[1;32m--> 391\u001b[1;33m                 \u001b[1;32mraise\u001b[0m \u001b[0mself\u001b[0m\u001b[1;33m.\u001b[0m\u001b[0m_exception\u001b[0m\u001b[1;33m\u001b[0m\u001b[1;33m\u001b[0m\u001b[0m\n\u001b[0m\u001b[0;32m    392\u001b[0m             \u001b[1;32mfinally\u001b[0m\u001b[1;33m:\u001b[0m\u001b[1;33m\u001b[0m\u001b[1;33m\u001b[0m\u001b[0m\n\u001b[0;32m    393\u001b[0m                 \u001b[1;31m# Break a reference cycle with the exception in self._exception\u001b[0m\u001b[1;33m\u001b[0m\u001b[1;33m\u001b[0m\u001b[0m\n",
      "\u001b[1;32mc:\\Users\\dylan\\anaconda3\\lib\\site-packages\\tenacity\\__init__.py\u001b[0m in \u001b[0;36m__call__\u001b[1;34m(self, fn, *args, **kwargs)\u001b[0m\n\u001b[0;32m    405\u001b[0m             \u001b[1;32mif\u001b[0m \u001b[0misinstance\u001b[0m\u001b[1;33m(\u001b[0m\u001b[0mdo\u001b[0m\u001b[1;33m,\u001b[0m \u001b[0mDoAttempt\u001b[0m\u001b[1;33m)\u001b[0m\u001b[1;33m:\u001b[0m\u001b[1;33m\u001b[0m\u001b[1;33m\u001b[0m\u001b[0m\n\u001b[0;32m    406\u001b[0m                 \u001b[1;32mtry\u001b[0m\u001b[1;33m:\u001b[0m\u001b[1;33m\u001b[0m\u001b[1;33m\u001b[0m\u001b[0m\n\u001b[1;32m--> 407\u001b[1;33m                     \u001b[0mresult\u001b[0m \u001b[1;33m=\u001b[0m \u001b[0mfn\u001b[0m\u001b[1;33m(\u001b[0m\u001b[1;33m*\u001b[0m\u001b[0margs\u001b[0m\u001b[1;33m,\u001b[0m \u001b[1;33m**\u001b[0m\u001b[0mkwargs\u001b[0m\u001b[1;33m)\u001b[0m\u001b[1;33m\u001b[0m\u001b[1;33m\u001b[0m\u001b[0m\n\u001b[0m\u001b[0;32m    408\u001b[0m                 \u001b[1;32mexcept\u001b[0m \u001b[0mBaseException\u001b[0m\u001b[1;33m:\u001b[0m  \u001b[1;31m# noqa: B902\u001b[0m\u001b[1;33m\u001b[0m\u001b[1;33m\u001b[0m\u001b[0m\n\u001b[0;32m    409\u001b[0m                     \u001b[0mretry_state\u001b[0m\u001b[1;33m.\u001b[0m\u001b[0mset_exception\u001b[0m\u001b[1;33m(\u001b[0m\u001b[0msys\u001b[0m\u001b[1;33m.\u001b[0m\u001b[0mexc_info\u001b[0m\u001b[1;33m(\u001b[0m\u001b[1;33m)\u001b[0m\u001b[1;33m)\u001b[0m\u001b[1;33m\u001b[0m\u001b[1;33m\u001b[0m\u001b[0m\n",
      "\u001b[1;32mc:\\Users\\dylan\\anaconda3\\lib\\site-packages\\nixtla\\nixtla_client.py\u001b[0m in \u001b[0;36m_make_request\u001b[1;34m(self, client, endpoint, payload, multithreaded_compress)\u001b[0m\n\u001b[0;32m    760\u001b[0m             \u001b[0mcontent\u001b[0m \u001b[1;33m=\u001b[0m \u001b[0mzstd\u001b[0m\u001b[1;33m.\u001b[0m\u001b[0mZstdCompressor\u001b[0m\u001b[1;33m(\u001b[0m\u001b[0mlevel\u001b[0m\u001b[1;33m=\u001b[0m\u001b[1;36m1\u001b[0m\u001b[1;33m,\u001b[0m \u001b[0mthreads\u001b[0m\u001b[1;33m=\u001b[0m\u001b[0mthreads\u001b[0m\u001b[1;33m)\u001b[0m\u001b[1;33m.\u001b[0m\u001b[0mcompress\u001b[0m\u001b[1;33m(\u001b[0m\u001b[0mcontent\u001b[0m\u001b[1;33m)\u001b[0m\u001b[1;33m\u001b[0m\u001b[1;33m\u001b[0m\u001b[0m\n\u001b[0;32m    761\u001b[0m             \u001b[0mheaders\u001b[0m\u001b[1;33m[\u001b[0m\u001b[1;34m\"content-encoding\"\u001b[0m\u001b[1;33m]\u001b[0m \u001b[1;33m=\u001b[0m \u001b[1;34m\"zstd\"\u001b[0m\u001b[1;33m\u001b[0m\u001b[1;33m\u001b[0m\u001b[0m\n\u001b[1;32m--> 762\u001b[1;33m         \u001b[0mresp\u001b[0m \u001b[1;33m=\u001b[0m \u001b[0mclient\u001b[0m\u001b[1;33m.\u001b[0m\u001b[0mpost\u001b[0m\u001b[1;33m(\u001b[0m\u001b[0murl\u001b[0m\u001b[1;33m=\u001b[0m\u001b[0mendpoint\u001b[0m\u001b[1;33m,\u001b[0m \u001b[0mcontent\u001b[0m\u001b[1;33m=\u001b[0m\u001b[0mcontent\u001b[0m\u001b[1;33m,\u001b[0m \u001b[0mheaders\u001b[0m\u001b[1;33m=\u001b[0m\u001b[0mheaders\u001b[0m\u001b[1;33m)\u001b[0m\u001b[1;33m\u001b[0m\u001b[1;33m\u001b[0m\u001b[0m\n\u001b[0m\u001b[0;32m    763\u001b[0m         \u001b[1;32mtry\u001b[0m\u001b[1;33m:\u001b[0m\u001b[1;33m\u001b[0m\u001b[1;33m\u001b[0m\u001b[0m\n\u001b[0;32m    764\u001b[0m             \u001b[0mresp_body\u001b[0m \u001b[1;33m=\u001b[0m \u001b[0morjson\u001b[0m\u001b[1;33m.\u001b[0m\u001b[0mloads\u001b[0m\u001b[1;33m(\u001b[0m\u001b[0mresp\u001b[0m\u001b[1;33m.\u001b[0m\u001b[0mcontent\u001b[0m\u001b[1;33m)\u001b[0m\u001b[1;33m\u001b[0m\u001b[1;33m\u001b[0m\u001b[0m\n",
      "\u001b[1;32mc:\\Users\\dylan\\anaconda3\\lib\\site-packages\\httpx\\_client.py\u001b[0m in \u001b[0;36mpost\u001b[1;34m(self, url, content, data, files, json, params, headers, cookies, auth, follow_redirects, timeout, extensions)\u001b[0m\n\u001b[0;32m   1142\u001b[0m         \u001b[1;33m**\u001b[0m\u001b[0mParameters\u001b[0m\u001b[1;33m**\u001b[0m\u001b[1;33m:\u001b[0m \u001b[0mSee\u001b[0m\u001b[0;31m \u001b[0m\u001b[0;31m`\u001b[0m\u001b[0mhttpx\u001b[0m\u001b[1;33m.\u001b[0m\u001b[0mrequest\u001b[0m\u001b[0;31m`\u001b[0m\u001b[1;33m.\u001b[0m\u001b[1;33m\u001b[0m\u001b[1;33m\u001b[0m\u001b[0m\n\u001b[0;32m   1143\u001b[0m         \"\"\"\n\u001b[1;32m-> 1144\u001b[1;33m         return self.request(\n\u001b[0m\u001b[0;32m   1145\u001b[0m             \u001b[1;34m\"POST\"\u001b[0m\u001b[1;33m,\u001b[0m\u001b[1;33m\u001b[0m\u001b[1;33m\u001b[0m\u001b[0m\n\u001b[0;32m   1146\u001b[0m             \u001b[0murl\u001b[0m\u001b[1;33m,\u001b[0m\u001b[1;33m\u001b[0m\u001b[1;33m\u001b[0m\u001b[0m\n",
      "\u001b[1;32mc:\\Users\\dylan\\anaconda3\\lib\\site-packages\\httpx\\_client.py\u001b[0m in \u001b[0;36mrequest\u001b[1;34m(self, method, url, content, data, files, json, params, headers, cookies, auth, follow_redirects, timeout, extensions)\u001b[0m\n\u001b[0;32m    823\u001b[0m             \u001b[0mextensions\u001b[0m\u001b[1;33m=\u001b[0m\u001b[0mextensions\u001b[0m\u001b[1;33m,\u001b[0m\u001b[1;33m\u001b[0m\u001b[1;33m\u001b[0m\u001b[0m\n\u001b[0;32m    824\u001b[0m         )\n\u001b[1;32m--> 825\u001b[1;33m         \u001b[1;32mreturn\u001b[0m \u001b[0mself\u001b[0m\u001b[1;33m.\u001b[0m\u001b[0msend\u001b[0m\u001b[1;33m(\u001b[0m\u001b[0mrequest\u001b[0m\u001b[1;33m,\u001b[0m \u001b[0mauth\u001b[0m\u001b[1;33m=\u001b[0m\u001b[0mauth\u001b[0m\u001b[1;33m,\u001b[0m \u001b[0mfollow_redirects\u001b[0m\u001b[1;33m=\u001b[0m\u001b[0mfollow_redirects\u001b[0m\u001b[1;33m)\u001b[0m\u001b[1;33m\u001b[0m\u001b[1;33m\u001b[0m\u001b[0m\n\u001b[0m\u001b[0;32m    826\u001b[0m \u001b[1;33m\u001b[0m\u001b[0m\n\u001b[0;32m    827\u001b[0m     \u001b[1;33m@\u001b[0m\u001b[0mcontextmanager\u001b[0m\u001b[1;33m\u001b[0m\u001b[1;33m\u001b[0m\u001b[0m\n",
      "\u001b[1;32mc:\\Users\\dylan\\anaconda3\\lib\\site-packages\\httpx\\_client.py\u001b[0m in \u001b[0;36msend\u001b[1;34m(self, request, stream, auth, follow_redirects)\u001b[0m\n\u001b[0;32m    912\u001b[0m         \u001b[0mauth\u001b[0m \u001b[1;33m=\u001b[0m \u001b[0mself\u001b[0m\u001b[1;33m.\u001b[0m\u001b[0m_build_request_auth\u001b[0m\u001b[1;33m(\u001b[0m\u001b[0mrequest\u001b[0m\u001b[1;33m,\u001b[0m \u001b[0mauth\u001b[0m\u001b[1;33m)\u001b[0m\u001b[1;33m\u001b[0m\u001b[1;33m\u001b[0m\u001b[0m\n\u001b[0;32m    913\u001b[0m \u001b[1;33m\u001b[0m\u001b[0m\n\u001b[1;32m--> 914\u001b[1;33m         response = self._send_handling_auth(\n\u001b[0m\u001b[0;32m    915\u001b[0m             \u001b[0mrequest\u001b[0m\u001b[1;33m,\u001b[0m\u001b[1;33m\u001b[0m\u001b[1;33m\u001b[0m\u001b[0m\n\u001b[0;32m    916\u001b[0m             \u001b[0mauth\u001b[0m\u001b[1;33m=\u001b[0m\u001b[0mauth\u001b[0m\u001b[1;33m,\u001b[0m\u001b[1;33m\u001b[0m\u001b[1;33m\u001b[0m\u001b[0m\n",
      "\u001b[1;32mc:\\Users\\dylan\\anaconda3\\lib\\site-packages\\httpx\\_client.py\u001b[0m in \u001b[0;36m_send_handling_auth\u001b[1;34m(self, request, auth, follow_redirects, history)\u001b[0m\n\u001b[0;32m    940\u001b[0m \u001b[1;33m\u001b[0m\u001b[0m\n\u001b[0;32m    941\u001b[0m             \u001b[1;32mwhile\u001b[0m \u001b[1;32mTrue\u001b[0m\u001b[1;33m:\u001b[0m\u001b[1;33m\u001b[0m\u001b[1;33m\u001b[0m\u001b[0m\n\u001b[1;32m--> 942\u001b[1;33m                 response = self._send_handling_redirects(\n\u001b[0m\u001b[0;32m    943\u001b[0m                     \u001b[0mrequest\u001b[0m\u001b[1;33m,\u001b[0m\u001b[1;33m\u001b[0m\u001b[1;33m\u001b[0m\u001b[0m\n\u001b[0;32m    944\u001b[0m                     \u001b[0mfollow_redirects\u001b[0m\u001b[1;33m=\u001b[0m\u001b[0mfollow_redirects\u001b[0m\u001b[1;33m,\u001b[0m\u001b[1;33m\u001b[0m\u001b[1;33m\u001b[0m\u001b[0m\n",
      "\u001b[1;32mc:\\Users\\dylan\\anaconda3\\lib\\site-packages\\httpx\\_client.py\u001b[0m in \u001b[0;36m_send_handling_redirects\u001b[1;34m(self, request, follow_redirects, history)\u001b[0m\n\u001b[0;32m    977\u001b[0m                 \u001b[0mhook\u001b[0m\u001b[1;33m(\u001b[0m\u001b[0mrequest\u001b[0m\u001b[1;33m)\u001b[0m\u001b[1;33m\u001b[0m\u001b[1;33m\u001b[0m\u001b[0m\n\u001b[0;32m    978\u001b[0m \u001b[1;33m\u001b[0m\u001b[0m\n\u001b[1;32m--> 979\u001b[1;33m             \u001b[0mresponse\u001b[0m \u001b[1;33m=\u001b[0m \u001b[0mself\u001b[0m\u001b[1;33m.\u001b[0m\u001b[0m_send_single_request\u001b[0m\u001b[1;33m(\u001b[0m\u001b[0mrequest\u001b[0m\u001b[1;33m)\u001b[0m\u001b[1;33m\u001b[0m\u001b[1;33m\u001b[0m\u001b[0m\n\u001b[0m\u001b[0;32m    980\u001b[0m             \u001b[1;32mtry\u001b[0m\u001b[1;33m:\u001b[0m\u001b[1;33m\u001b[0m\u001b[1;33m\u001b[0m\u001b[0m\n\u001b[0;32m    981\u001b[0m                 \u001b[1;32mfor\u001b[0m \u001b[0mhook\u001b[0m \u001b[1;32min\u001b[0m \u001b[0mself\u001b[0m\u001b[1;33m.\u001b[0m\u001b[0m_event_hooks\u001b[0m\u001b[1;33m[\u001b[0m\u001b[1;34m\"response\"\u001b[0m\u001b[1;33m]\u001b[0m\u001b[1;33m:\u001b[0m\u001b[1;33m\u001b[0m\u001b[1;33m\u001b[0m\u001b[0m\n",
      "\u001b[1;32mc:\\Users\\dylan\\anaconda3\\lib\\site-packages\\httpx\\_client.py\u001b[0m in \u001b[0;36m_send_single_request\u001b[1;34m(self, request)\u001b[0m\n\u001b[0;32m   1012\u001b[0m \u001b[1;33m\u001b[0m\u001b[0m\n\u001b[0;32m   1013\u001b[0m         \u001b[1;32mwith\u001b[0m \u001b[0mrequest_context\u001b[0m\u001b[1;33m(\u001b[0m\u001b[0mrequest\u001b[0m\u001b[1;33m=\u001b[0m\u001b[0mrequest\u001b[0m\u001b[1;33m)\u001b[0m\u001b[1;33m:\u001b[0m\u001b[1;33m\u001b[0m\u001b[1;33m\u001b[0m\u001b[0m\n\u001b[1;32m-> 1014\u001b[1;33m             \u001b[0mresponse\u001b[0m \u001b[1;33m=\u001b[0m \u001b[0mtransport\u001b[0m\u001b[1;33m.\u001b[0m\u001b[0mhandle_request\u001b[0m\u001b[1;33m(\u001b[0m\u001b[0mrequest\u001b[0m\u001b[1;33m)\u001b[0m\u001b[1;33m\u001b[0m\u001b[1;33m\u001b[0m\u001b[0m\n\u001b[0m\u001b[0;32m   1015\u001b[0m \u001b[1;33m\u001b[0m\u001b[0m\n\u001b[0;32m   1016\u001b[0m         \u001b[1;32massert\u001b[0m \u001b[0misinstance\u001b[0m\u001b[1;33m(\u001b[0m\u001b[0mresponse\u001b[0m\u001b[1;33m.\u001b[0m\u001b[0mstream\u001b[0m\u001b[1;33m,\u001b[0m \u001b[0mSyncByteStream\u001b[0m\u001b[1;33m)\u001b[0m\u001b[1;33m\u001b[0m\u001b[1;33m\u001b[0m\u001b[0m\n",
      "\u001b[1;32mc:\\Users\\dylan\\anaconda3\\lib\\site-packages\\httpx\\_transports\\default.py\u001b[0m in \u001b[0;36mhandle_request\u001b[1;34m(self, request)\u001b[0m\n\u001b[0;32m    248\u001b[0m         )\n\u001b[0;32m    249\u001b[0m         \u001b[1;32mwith\u001b[0m \u001b[0mmap_httpcore_exceptions\u001b[0m\u001b[1;33m(\u001b[0m\u001b[1;33m)\u001b[0m\u001b[1;33m:\u001b[0m\u001b[1;33m\u001b[0m\u001b[1;33m\u001b[0m\u001b[0m\n\u001b[1;32m--> 250\u001b[1;33m             \u001b[0mresp\u001b[0m \u001b[1;33m=\u001b[0m \u001b[0mself\u001b[0m\u001b[1;33m.\u001b[0m\u001b[0m_pool\u001b[0m\u001b[1;33m.\u001b[0m\u001b[0mhandle_request\u001b[0m\u001b[1;33m(\u001b[0m\u001b[0mreq\u001b[0m\u001b[1;33m)\u001b[0m\u001b[1;33m\u001b[0m\u001b[1;33m\u001b[0m\u001b[0m\n\u001b[0m\u001b[0;32m    251\u001b[0m \u001b[1;33m\u001b[0m\u001b[0m\n\u001b[0;32m    252\u001b[0m         \u001b[1;32massert\u001b[0m \u001b[0misinstance\u001b[0m\u001b[1;33m(\u001b[0m\u001b[0mresp\u001b[0m\u001b[1;33m.\u001b[0m\u001b[0mstream\u001b[0m\u001b[1;33m,\u001b[0m \u001b[0mtyping\u001b[0m\u001b[1;33m.\u001b[0m\u001b[0mIterable\u001b[0m\u001b[1;33m)\u001b[0m\u001b[1;33m\u001b[0m\u001b[1;33m\u001b[0m\u001b[0m\n",
      "\u001b[1;32mc:\\Users\\dylan\\anaconda3\\lib\\site-packages\\httpcore\\_sync\\connection_pool.py\u001b[0m in \u001b[0;36mhandle_request\u001b[1;34m(self, request)\u001b[0m\n\u001b[0;32m    254\u001b[0m \u001b[1;33m\u001b[0m\u001b[0m\n\u001b[0;32m    255\u001b[0m             \u001b[0mself\u001b[0m\u001b[1;33m.\u001b[0m\u001b[0m_close_connections\u001b[0m\u001b[1;33m(\u001b[0m\u001b[0mclosing\u001b[0m\u001b[1;33m)\u001b[0m\u001b[1;33m\u001b[0m\u001b[1;33m\u001b[0m\u001b[0m\n\u001b[1;32m--> 256\u001b[1;33m             \u001b[1;32mraise\u001b[0m \u001b[0mexc\u001b[0m \u001b[1;32mfrom\u001b[0m \u001b[1;32mNone\u001b[0m\u001b[1;33m\u001b[0m\u001b[1;33m\u001b[0m\u001b[0m\n\u001b[0m\u001b[0;32m    257\u001b[0m \u001b[1;33m\u001b[0m\u001b[0m\n\u001b[0;32m    258\u001b[0m         \u001b[1;31m# Return the response. Note that in this case we still have to manage\u001b[0m\u001b[1;33m\u001b[0m\u001b[1;33m\u001b[0m\u001b[0m\n",
      "\u001b[1;32mc:\\Users\\dylan\\anaconda3\\lib\\site-packages\\httpcore\\_sync\\connection_pool.py\u001b[0m in \u001b[0;36mhandle_request\u001b[1;34m(self, request)\u001b[0m\n\u001b[0;32m    234\u001b[0m                 \u001b[1;32mtry\u001b[0m\u001b[1;33m:\u001b[0m\u001b[1;33m\u001b[0m\u001b[1;33m\u001b[0m\u001b[0m\n\u001b[0;32m    235\u001b[0m                     \u001b[1;31m# Send the request on the assigned connection.\u001b[0m\u001b[1;33m\u001b[0m\u001b[1;33m\u001b[0m\u001b[0m\n\u001b[1;32m--> 236\u001b[1;33m                     response = connection.handle_request(\n\u001b[0m\u001b[0;32m    237\u001b[0m                         \u001b[0mpool_request\u001b[0m\u001b[1;33m.\u001b[0m\u001b[0mrequest\u001b[0m\u001b[1;33m\u001b[0m\u001b[1;33m\u001b[0m\u001b[0m\n\u001b[0;32m    238\u001b[0m                     )\n",
      "\u001b[1;32mc:\\Users\\dylan\\anaconda3\\lib\\site-packages\\httpcore\\_sync\\connection.py\u001b[0m in \u001b[0;36mhandle_request\u001b[1;34m(self, request)\u001b[0m\n\u001b[0;32m    101\u001b[0m             \u001b[1;32mraise\u001b[0m \u001b[0mexc\u001b[0m\u001b[1;33m\u001b[0m\u001b[1;33m\u001b[0m\u001b[0m\n\u001b[0;32m    102\u001b[0m \u001b[1;33m\u001b[0m\u001b[0m\n\u001b[1;32m--> 103\u001b[1;33m         \u001b[1;32mreturn\u001b[0m \u001b[0mself\u001b[0m\u001b[1;33m.\u001b[0m\u001b[0m_connection\u001b[0m\u001b[1;33m.\u001b[0m\u001b[0mhandle_request\u001b[0m\u001b[1;33m(\u001b[0m\u001b[0mrequest\u001b[0m\u001b[1;33m)\u001b[0m\u001b[1;33m\u001b[0m\u001b[1;33m\u001b[0m\u001b[0m\n\u001b[0m\u001b[0;32m    104\u001b[0m \u001b[1;33m\u001b[0m\u001b[0m\n\u001b[0;32m    105\u001b[0m     \u001b[1;32mdef\u001b[0m \u001b[0m_connect\u001b[0m\u001b[1;33m(\u001b[0m\u001b[0mself\u001b[0m\u001b[1;33m,\u001b[0m \u001b[0mrequest\u001b[0m\u001b[1;33m:\u001b[0m \u001b[0mRequest\u001b[0m\u001b[1;33m)\u001b[0m \u001b[1;33m->\u001b[0m \u001b[0mNetworkStream\u001b[0m\u001b[1;33m:\u001b[0m\u001b[1;33m\u001b[0m\u001b[1;33m\u001b[0m\u001b[0m\n",
      "\u001b[1;32mc:\\Users\\dylan\\anaconda3\\lib\\site-packages\\httpcore\\_sync\\http11.py\u001b[0m in \u001b[0;36mhandle_request\u001b[1;34m(self, request)\u001b[0m\n\u001b[0;32m    134\u001b[0m                 \u001b[1;32mwith\u001b[0m \u001b[0mTrace\u001b[0m\u001b[1;33m(\u001b[0m\u001b[1;34m\"response_closed\"\u001b[0m\u001b[1;33m,\u001b[0m \u001b[0mlogger\u001b[0m\u001b[1;33m,\u001b[0m \u001b[0mrequest\u001b[0m\u001b[1;33m)\u001b[0m \u001b[1;32mas\u001b[0m \u001b[0mtrace\u001b[0m\u001b[1;33m:\u001b[0m\u001b[1;33m\u001b[0m\u001b[1;33m\u001b[0m\u001b[0m\n\u001b[0;32m    135\u001b[0m                     \u001b[0mself\u001b[0m\u001b[1;33m.\u001b[0m\u001b[0m_response_closed\u001b[0m\u001b[1;33m(\u001b[0m\u001b[1;33m)\u001b[0m\u001b[1;33m\u001b[0m\u001b[1;33m\u001b[0m\u001b[0m\n\u001b[1;32m--> 136\u001b[1;33m             \u001b[1;32mraise\u001b[0m \u001b[0mexc\u001b[0m\u001b[1;33m\u001b[0m\u001b[1;33m\u001b[0m\u001b[0m\n\u001b[0m\u001b[0;32m    137\u001b[0m \u001b[1;33m\u001b[0m\u001b[0m\n\u001b[0;32m    138\u001b[0m     \u001b[1;31m# Sending the request...\u001b[0m\u001b[1;33m\u001b[0m\u001b[1;33m\u001b[0m\u001b[0m\n",
      "\u001b[1;32mc:\\Users\\dylan\\anaconda3\\lib\\site-packages\\httpcore\\_sync\\http11.py\u001b[0m in \u001b[0;36mhandle_request\u001b[1;34m(self, request)\u001b[0m\n\u001b[0;32m    104\u001b[0m                     \u001b[0mheaders\u001b[0m\u001b[1;33m,\u001b[0m\u001b[1;33m\u001b[0m\u001b[1;33m\u001b[0m\u001b[0m\n\u001b[0;32m    105\u001b[0m                     \u001b[0mtrailing_data\u001b[0m\u001b[1;33m,\u001b[0m\u001b[1;33m\u001b[0m\u001b[1;33m\u001b[0m\u001b[0m\n\u001b[1;32m--> 106\u001b[1;33m                 ) = self._receive_response_headers(**kwargs)\n\u001b[0m\u001b[0;32m    107\u001b[0m                 trace.return_value = (\n\u001b[0;32m    108\u001b[0m                     \u001b[0mhttp_version\u001b[0m\u001b[1;33m,\u001b[0m\u001b[1;33m\u001b[0m\u001b[1;33m\u001b[0m\u001b[0m\n",
      "\u001b[1;32mc:\\Users\\dylan\\anaconda3\\lib\\site-packages\\httpcore\\_sync\\http11.py\u001b[0m in \u001b[0;36m_receive_response_headers\u001b[1;34m(self, request)\u001b[0m\n\u001b[0;32m    175\u001b[0m \u001b[1;33m\u001b[0m\u001b[0m\n\u001b[0;32m    176\u001b[0m         \u001b[1;32mwhile\u001b[0m \u001b[1;32mTrue\u001b[0m\u001b[1;33m:\u001b[0m\u001b[1;33m\u001b[0m\u001b[1;33m\u001b[0m\u001b[0m\n\u001b[1;32m--> 177\u001b[1;33m             \u001b[0mevent\u001b[0m \u001b[1;33m=\u001b[0m \u001b[0mself\u001b[0m\u001b[1;33m.\u001b[0m\u001b[0m_receive_event\u001b[0m\u001b[1;33m(\u001b[0m\u001b[0mtimeout\u001b[0m\u001b[1;33m=\u001b[0m\u001b[0mtimeout\u001b[0m\u001b[1;33m)\u001b[0m\u001b[1;33m\u001b[0m\u001b[1;33m\u001b[0m\u001b[0m\n\u001b[0m\u001b[0;32m    178\u001b[0m             \u001b[1;32mif\u001b[0m \u001b[0misinstance\u001b[0m\u001b[1;33m(\u001b[0m\u001b[0mevent\u001b[0m\u001b[1;33m,\u001b[0m \u001b[0mh11\u001b[0m\u001b[1;33m.\u001b[0m\u001b[0mResponse\u001b[0m\u001b[1;33m)\u001b[0m\u001b[1;33m:\u001b[0m\u001b[1;33m\u001b[0m\u001b[1;33m\u001b[0m\u001b[0m\n\u001b[0;32m    179\u001b[0m                 \u001b[1;32mbreak\u001b[0m\u001b[1;33m\u001b[0m\u001b[1;33m\u001b[0m\u001b[0m\n",
      "\u001b[1;32mc:\\Users\\dylan\\anaconda3\\lib\\site-packages\\httpcore\\_sync\\http11.py\u001b[0m in \u001b[0;36m_receive_event\u001b[1;34m(self, timeout)\u001b[0m\n\u001b[0;32m    215\u001b[0m \u001b[1;33m\u001b[0m\u001b[0m\n\u001b[0;32m    216\u001b[0m             \u001b[1;32mif\u001b[0m \u001b[0mevent\u001b[0m \u001b[1;32mis\u001b[0m \u001b[0mh11\u001b[0m\u001b[1;33m.\u001b[0m\u001b[0mNEED_DATA\u001b[0m\u001b[1;33m:\u001b[0m\u001b[1;33m\u001b[0m\u001b[1;33m\u001b[0m\u001b[0m\n\u001b[1;32m--> 217\u001b[1;33m                 data = self._network_stream.read(\n\u001b[0m\u001b[0;32m    218\u001b[0m                     \u001b[0mself\u001b[0m\u001b[1;33m.\u001b[0m\u001b[0mREAD_NUM_BYTES\u001b[0m\u001b[1;33m,\u001b[0m \u001b[0mtimeout\u001b[0m\u001b[1;33m=\u001b[0m\u001b[0mtimeout\u001b[0m\u001b[1;33m\u001b[0m\u001b[1;33m\u001b[0m\u001b[0m\n\u001b[0;32m    219\u001b[0m                 )\n",
      "\u001b[1;32mc:\\Users\\dylan\\anaconda3\\lib\\site-packages\\httpcore\\_backends\\sync.py\u001b[0m in \u001b[0;36mread\u001b[1;34m(self, max_bytes, timeout)\u001b[0m\n\u001b[0;32m    126\u001b[0m         \u001b[1;32mwith\u001b[0m \u001b[0mmap_exceptions\u001b[0m\u001b[1;33m(\u001b[0m\u001b[0mexc_map\u001b[0m\u001b[1;33m)\u001b[0m\u001b[1;33m:\u001b[0m\u001b[1;33m\u001b[0m\u001b[1;33m\u001b[0m\u001b[0m\n\u001b[0;32m    127\u001b[0m             \u001b[0mself\u001b[0m\u001b[1;33m.\u001b[0m\u001b[0m_sock\u001b[0m\u001b[1;33m.\u001b[0m\u001b[0msettimeout\u001b[0m\u001b[1;33m(\u001b[0m\u001b[0mtimeout\u001b[0m\u001b[1;33m)\u001b[0m\u001b[1;33m\u001b[0m\u001b[1;33m\u001b[0m\u001b[0m\n\u001b[1;32m--> 128\u001b[1;33m             \u001b[1;32mreturn\u001b[0m \u001b[0mself\u001b[0m\u001b[1;33m.\u001b[0m\u001b[0m_sock\u001b[0m\u001b[1;33m.\u001b[0m\u001b[0mrecv\u001b[0m\u001b[1;33m(\u001b[0m\u001b[0mmax_bytes\u001b[0m\u001b[1;33m)\u001b[0m\u001b[1;33m\u001b[0m\u001b[1;33m\u001b[0m\u001b[0m\n\u001b[0m\u001b[0;32m    129\u001b[0m \u001b[1;33m\u001b[0m\u001b[0m\n\u001b[0;32m    130\u001b[0m     \u001b[1;32mdef\u001b[0m \u001b[0mwrite\u001b[0m\u001b[1;33m(\u001b[0m\u001b[0mself\u001b[0m\u001b[1;33m,\u001b[0m \u001b[0mbuffer\u001b[0m\u001b[1;33m:\u001b[0m \u001b[0mbytes\u001b[0m\u001b[1;33m,\u001b[0m \u001b[0mtimeout\u001b[0m\u001b[1;33m:\u001b[0m \u001b[0mfloat\u001b[0m \u001b[1;33m|\u001b[0m \u001b[1;32mNone\u001b[0m \u001b[1;33m=\u001b[0m \u001b[1;32mNone\u001b[0m\u001b[1;33m)\u001b[0m \u001b[1;33m->\u001b[0m \u001b[1;32mNone\u001b[0m\u001b[1;33m:\u001b[0m\u001b[1;33m\u001b[0m\u001b[1;33m\u001b[0m\u001b[0m\n",
      "\u001b[1;32mc:\\Users\\dylan\\anaconda3\\lib\\ssl.py\u001b[0m in \u001b[0;36mrecv\u001b[1;34m(self, buflen, flags)\u001b[0m\n\u001b[0;32m   1225\u001b[0m                     \u001b[1;34m\"non-zero flags not allowed in calls to recv() on %s\"\u001b[0m \u001b[1;33m%\u001b[0m\u001b[1;33m\u001b[0m\u001b[1;33m\u001b[0m\u001b[0m\n\u001b[0;32m   1226\u001b[0m                     self.__class__)\n\u001b[1;32m-> 1227\u001b[1;33m             \u001b[1;32mreturn\u001b[0m \u001b[0mself\u001b[0m\u001b[1;33m.\u001b[0m\u001b[0mread\u001b[0m\u001b[1;33m(\u001b[0m\u001b[0mbuflen\u001b[0m\u001b[1;33m)\u001b[0m\u001b[1;33m\u001b[0m\u001b[1;33m\u001b[0m\u001b[0m\n\u001b[0m\u001b[0;32m   1228\u001b[0m         \u001b[1;32melse\u001b[0m\u001b[1;33m:\u001b[0m\u001b[1;33m\u001b[0m\u001b[1;33m\u001b[0m\u001b[0m\n\u001b[0;32m   1229\u001b[0m             \u001b[1;32mreturn\u001b[0m \u001b[0msuper\u001b[0m\u001b[1;33m(\u001b[0m\u001b[1;33m)\u001b[0m\u001b[1;33m.\u001b[0m\u001b[0mrecv\u001b[0m\u001b[1;33m(\u001b[0m\u001b[0mbuflen\u001b[0m\u001b[1;33m,\u001b[0m \u001b[0mflags\u001b[0m\u001b[1;33m)\u001b[0m\u001b[1;33m\u001b[0m\u001b[1;33m\u001b[0m\u001b[0m\n",
      "\u001b[1;32mc:\\Users\\dylan\\anaconda3\\lib\\ssl.py\u001b[0m in \u001b[0;36mread\u001b[1;34m(self, len, buffer)\u001b[0m\n\u001b[0;32m   1100\u001b[0m                 \u001b[1;32mreturn\u001b[0m \u001b[0mself\u001b[0m\u001b[1;33m.\u001b[0m\u001b[0m_sslobj\u001b[0m\u001b[1;33m.\u001b[0m\u001b[0mread\u001b[0m\u001b[1;33m(\u001b[0m\u001b[0mlen\u001b[0m\u001b[1;33m,\u001b[0m \u001b[0mbuffer\u001b[0m\u001b[1;33m)\u001b[0m\u001b[1;33m\u001b[0m\u001b[1;33m\u001b[0m\u001b[0m\n\u001b[0;32m   1101\u001b[0m             \u001b[1;32melse\u001b[0m\u001b[1;33m:\u001b[0m\u001b[1;33m\u001b[0m\u001b[1;33m\u001b[0m\u001b[0m\n\u001b[1;32m-> 1102\u001b[1;33m                 \u001b[1;32mreturn\u001b[0m \u001b[0mself\u001b[0m\u001b[1;33m.\u001b[0m\u001b[0m_sslobj\u001b[0m\u001b[1;33m.\u001b[0m\u001b[0mread\u001b[0m\u001b[1;33m(\u001b[0m\u001b[0mlen\u001b[0m\u001b[1;33m)\u001b[0m\u001b[1;33m\u001b[0m\u001b[1;33m\u001b[0m\u001b[0m\n\u001b[0m\u001b[0;32m   1103\u001b[0m         \u001b[1;32mexcept\u001b[0m \u001b[0mSSLError\u001b[0m \u001b[1;32mas\u001b[0m \u001b[0mx\u001b[0m\u001b[1;33m:\u001b[0m\u001b[1;33m\u001b[0m\u001b[1;33m\u001b[0m\u001b[0m\n\u001b[0;32m   1104\u001b[0m             \u001b[1;32mif\u001b[0m \u001b[0mx\u001b[0m\u001b[1;33m.\u001b[0m\u001b[0margs\u001b[0m\u001b[1;33m[\u001b[0m\u001b[1;36m0\u001b[0m\u001b[1;33m]\u001b[0m \u001b[1;33m==\u001b[0m \u001b[0mSSL_ERROR_EOF\u001b[0m \u001b[1;32mand\u001b[0m \u001b[0mself\u001b[0m\u001b[1;33m.\u001b[0m\u001b[0msuppress_ragged_eofs\u001b[0m\u001b[1;33m:\u001b[0m\u001b[1;33m\u001b[0m\u001b[1;33m\u001b[0m\u001b[0m\n",
      "\u001b[1;31mKeyboardInterrupt\u001b[0m: "
     ]
    }
   ],
   "source": [
    "# Setup prediksi\n",
    "start_date = pd.to_datetime('2024-07-01')\n",
    "end_date = pd.to_datetime('2025-01-31')\n",
    "horizon = 1  # prediksi setiap 1 hari\n",
    "\n",
    "# DataFrame hasil\n",
    "results = []\n",
    "\n",
    "# Prediksi per kolom target\n",
    "for target_col in target_columns:\n",
    "    print(f\"Memulai prediksi untuk kolom: {target_col}\")\n",
    "    current_date = start_date\n",
    "    df_target = df[['ds', target_col]].dropna().rename(columns={target_col: 'y'})\n",
    "    \n",
    "    df_target['y'] = np.log(df_target['y'])  # Transformasi log agar stabil\n",
    "\n",
    "    while current_date <= end_date:\n",
    "        train_data = df_target[df_target['ds'] < current_date]\n",
    "        \n",
    "        if train_data.empty:\n",
    "            print(f\"Tidak ada data sebelum {current_date} untuk {target_col}\")\n",
    "            break\n",
    "\n",
    "        try:\n",
    "            forecast = nixtla_client.forecast(\n",
    "                df=train_data,\n",
    "                h=horizon,\n",
    "                freq='B',\n",
    "                time_col='ds',\n",
    "                target_col='y',\n",
    "                model='timegpt-1',\n",
    "                finetune_steps=1,\n",
    "                finetune_depth=1,\n",
    "                finetune_loss=\"mae\"\n",
    "            )\n",
    "\n",
    "            pred_dates = pd.date_range(start=current_date, periods=horizon, freq='B')\n",
    "            y_preds = np.exp(forecast['TimeGPT'].values)  # balik log\n",
    "            \n",
    "            result_df = pd.DataFrame({'ds': pred_dates, 'y': y_preds})\n",
    "            result_df['kolom'] = target_col\n",
    "            results.append(result_df)\n",
    "\n",
    "            print(f\"✅ Berhasil prediksi {target_col} untuk {current_date.date()} sampai {pred_dates[-1].date()}\")\n",
    "\n",
    "        except Exception as e:\n",
    "            print(f\"❌ Gagal prediksi {target_col} untuk {current_date.date()}: {e}\")\n",
    "            break\n",
    "\n",
    "        current_date += pd.Timedelta(days=horizon)\n",
    "\n",
    "# Gabungkan semua hasil\n",
    "final_result = pd.concat(results, ignore_index=True)\n",
    "final_result.to_csv('forecast_stocksastra_target.csv', index=False)"
   ]
  },
  {
   "cell_type": "code",
   "execution_count": 21,
   "metadata": {},
   "outputs": [
    {
     "name": "stderr",
     "output_type": "stream",
     "text": [
      "INFO:nixtla.nixtla_client:Validating inputs...\n",
      "INFO:nixtla.nixtla_client:Preprocessing dataframes...\n",
      "INFO:nixtla.nixtla_client:Querying model metadata...\n"
     ]
    },
    {
     "name": "stdout",
     "output_type": "stream",
     "text": [
      "Memulai prediksi untuk kolom: Terakhir\n"
     ]
    },
    {
     "name": "stderr",
     "output_type": "stream",
     "text": [
      "WARNING:nixtla.nixtla_client:The specified horizon \"h\" exceeds the model horizon, this may lead to less accurate forecasts. Please consider using a smaller horizon.\n",
      "INFO:nixtla.nixtla_client:Calling Forecast Endpoint...\n",
      "INFO:nixtla.nixtla_client:Validating inputs...\n",
      "INFO:nixtla.nixtla_client:Preprocessing dataframes...\n",
      "WARNING:nixtla.nixtla_client:The specified horizon \"h\" exceeds the model horizon, this may lead to less accurate forecasts. Please consider using a smaller horizon.\n",
      "INFO:nixtla.nixtla_client:Calling Forecast Endpoint...\n"
     ]
    },
    {
     "name": "stdout",
     "output_type": "stream",
     "text": [
      "✅ Berhasil prediksi Terakhir untuk 2024-07-01 sampai 2024-08-09\n"
     ]
    },
    {
     "name": "stderr",
     "output_type": "stream",
     "text": [
      "INFO:nixtla.nixtla_client:Validating inputs...\n",
      "INFO:nixtla.nixtla_client:Preprocessing dataframes...\n",
      "WARNING:nixtla.nixtla_client:The specified horizon \"h\" exceeds the model horizon, this may lead to less accurate forecasts. Please consider using a smaller horizon.\n",
      "INFO:nixtla.nixtla_client:Calling Forecast Endpoint...\n"
     ]
    },
    {
     "name": "stdout",
     "output_type": "stream",
     "text": [
      "✅ Berhasil prediksi Terakhir untuk 2024-07-31 sampai 2024-09-10\n"
     ]
    },
    {
     "name": "stderr",
     "output_type": "stream",
     "text": [
      "INFO:nixtla.nixtla_client:Validating inputs...\n",
      "INFO:nixtla.nixtla_client:Preprocessing dataframes...\n",
      "WARNING:nixtla.nixtla_client:The specified horizon \"h\" exceeds the model horizon, this may lead to less accurate forecasts. Please consider using a smaller horizon.\n",
      "INFO:nixtla.nixtla_client:Calling Forecast Endpoint...\n"
     ]
    },
    {
     "name": "stdout",
     "output_type": "stream",
     "text": [
      "✅ Berhasil prediksi Terakhir untuk 2024-08-30 sampai 2024-10-10\n"
     ]
    },
    {
     "name": "stderr",
     "output_type": "stream",
     "text": [
      "INFO:nixtla.nixtla_client:Validating inputs...\n",
      "INFO:nixtla.nixtla_client:Preprocessing dataframes...\n",
      "WARNING:nixtla.nixtla_client:The specified horizon \"h\" exceeds the model horizon, this may lead to less accurate forecasts. Please consider using a smaller horizon.\n",
      "INFO:nixtla.nixtla_client:Calling Forecast Endpoint...\n"
     ]
    },
    {
     "name": "stdout",
     "output_type": "stream",
     "text": [
      "✅ Berhasil prediksi Terakhir untuk 2024-09-29 sampai 2024-11-08\n"
     ]
    },
    {
     "name": "stderr",
     "output_type": "stream",
     "text": [
      "INFO:nixtla.nixtla_client:Validating inputs...\n",
      "INFO:nixtla.nixtla_client:Preprocessing dataframes...\n",
      "WARNING:nixtla.nixtla_client:The specified horizon \"h\" exceeds the model horizon, this may lead to less accurate forecasts. Please consider using a smaller horizon.\n",
      "INFO:nixtla.nixtla_client:Calling Forecast Endpoint...\n"
     ]
    },
    {
     "name": "stdout",
     "output_type": "stream",
     "text": [
      "✅ Berhasil prediksi Terakhir untuk 2024-10-29 sampai 2024-12-09\n"
     ]
    },
    {
     "name": "stderr",
     "output_type": "stream",
     "text": [
      "INFO:nixtla.nixtla_client:Validating inputs...\n",
      "INFO:nixtla.nixtla_client:Preprocessing dataframes...\n",
      "WARNING:nixtla.nixtla_client:The specified horizon \"h\" exceeds the model horizon, this may lead to less accurate forecasts. Please consider using a smaller horizon.\n",
      "INFO:nixtla.nixtla_client:Calling Forecast Endpoint...\n"
     ]
    },
    {
     "name": "stdout",
     "output_type": "stream",
     "text": [
      "✅ Berhasil prediksi Terakhir untuk 2024-11-28 sampai 2025-01-08\n"
     ]
    },
    {
     "name": "stderr",
     "output_type": "stream",
     "text": [
      "INFO:nixtla.nixtla_client:Validating inputs...\n",
      "INFO:nixtla.nixtla_client:Preprocessing dataframes...\n",
      "WARNING:nixtla.nixtla_client:The specified horizon \"h\" exceeds the model horizon, this may lead to less accurate forecasts. Please consider using a smaller horizon.\n",
      "INFO:nixtla.nixtla_client:Calling Forecast Endpoint...\n"
     ]
    },
    {
     "name": "stdout",
     "output_type": "stream",
     "text": [
      "✅ Berhasil prediksi Terakhir untuk 2024-12-28 sampai 2025-02-07\n"
     ]
    },
    {
     "name": "stderr",
     "output_type": "stream",
     "text": [
      "INFO:nixtla.nixtla_client:Validating inputs...\n",
      "INFO:nixtla.nixtla_client:Preprocessing dataframes...\n",
      "WARNING:nixtla.nixtla_client:The specified horizon \"h\" exceeds the model horizon, this may lead to less accurate forecasts. Please consider using a smaller horizon.\n",
      "INFO:nixtla.nixtla_client:Calling Forecast Endpoint...\n"
     ]
    },
    {
     "name": "stdout",
     "output_type": "stream",
     "text": [
      "✅ Berhasil prediksi Terakhir untuk 2025-01-27 sampai 2025-03-07\n",
      "Memulai prediksi untuk kolom: Pembukaan\n"
     ]
    },
    {
     "name": "stderr",
     "output_type": "stream",
     "text": [
      "INFO:nixtla.nixtla_client:Validating inputs...\n",
      "INFO:nixtla.nixtla_client:Preprocessing dataframes...\n",
      "WARNING:nixtla.nixtla_client:The specified horizon \"h\" exceeds the model horizon, this may lead to less accurate forecasts. Please consider using a smaller horizon.\n",
      "INFO:nixtla.nixtla_client:Calling Forecast Endpoint...\n"
     ]
    },
    {
     "name": "stdout",
     "output_type": "stream",
     "text": [
      "✅ Berhasil prediksi Pembukaan untuk 2024-07-01 sampai 2024-08-09\n"
     ]
    },
    {
     "name": "stderr",
     "output_type": "stream",
     "text": [
      "INFO:nixtla.nixtla_client:Validating inputs...\n",
      "INFO:nixtla.nixtla_client:Preprocessing dataframes...\n",
      "WARNING:nixtla.nixtla_client:The specified horizon \"h\" exceeds the model horizon, this may lead to less accurate forecasts. Please consider using a smaller horizon.\n",
      "INFO:nixtla.nixtla_client:Calling Forecast Endpoint...\n"
     ]
    },
    {
     "name": "stdout",
     "output_type": "stream",
     "text": [
      "✅ Berhasil prediksi Pembukaan untuk 2024-07-31 sampai 2024-09-10\n"
     ]
    },
    {
     "name": "stderr",
     "output_type": "stream",
     "text": [
      "INFO:nixtla.nixtla_client:Validating inputs...\n",
      "INFO:nixtla.nixtla_client:Preprocessing dataframes...\n",
      "WARNING:nixtla.nixtla_client:The specified horizon \"h\" exceeds the model horizon, this may lead to less accurate forecasts. Please consider using a smaller horizon.\n",
      "INFO:nixtla.nixtla_client:Calling Forecast Endpoint...\n"
     ]
    },
    {
     "name": "stdout",
     "output_type": "stream",
     "text": [
      "✅ Berhasil prediksi Pembukaan untuk 2024-08-30 sampai 2024-10-10\n"
     ]
    },
    {
     "name": "stderr",
     "output_type": "stream",
     "text": [
      "INFO:nixtla.nixtla_client:Validating inputs...\n",
      "INFO:nixtla.nixtla_client:Preprocessing dataframes...\n",
      "WARNING:nixtla.nixtla_client:The specified horizon \"h\" exceeds the model horizon, this may lead to less accurate forecasts. Please consider using a smaller horizon.\n",
      "INFO:nixtla.nixtla_client:Calling Forecast Endpoint...\n"
     ]
    },
    {
     "name": "stdout",
     "output_type": "stream",
     "text": [
      "✅ Berhasil prediksi Pembukaan untuk 2024-09-29 sampai 2024-11-08\n"
     ]
    },
    {
     "name": "stderr",
     "output_type": "stream",
     "text": [
      "INFO:nixtla.nixtla_client:Validating inputs...\n",
      "INFO:nixtla.nixtla_client:Preprocessing dataframes...\n",
      "WARNING:nixtla.nixtla_client:The specified horizon \"h\" exceeds the model horizon, this may lead to less accurate forecasts. Please consider using a smaller horizon.\n",
      "INFO:nixtla.nixtla_client:Calling Forecast Endpoint...\n"
     ]
    },
    {
     "name": "stdout",
     "output_type": "stream",
     "text": [
      "✅ Berhasil prediksi Pembukaan untuk 2024-10-29 sampai 2024-12-09\n"
     ]
    },
    {
     "name": "stderr",
     "output_type": "stream",
     "text": [
      "INFO:nixtla.nixtla_client:Validating inputs...\n",
      "INFO:nixtla.nixtla_client:Preprocessing dataframes...\n",
      "WARNING:nixtla.nixtla_client:The specified horizon \"h\" exceeds the model horizon, this may lead to less accurate forecasts. Please consider using a smaller horizon.\n",
      "INFO:nixtla.nixtla_client:Calling Forecast Endpoint...\n"
     ]
    },
    {
     "name": "stdout",
     "output_type": "stream",
     "text": [
      "✅ Berhasil prediksi Pembukaan untuk 2024-11-28 sampai 2025-01-08\n"
     ]
    },
    {
     "name": "stderr",
     "output_type": "stream",
     "text": [
      "INFO:nixtla.nixtla_client:Validating inputs...\n",
      "INFO:nixtla.nixtla_client:Preprocessing dataframes...\n",
      "WARNING:nixtla.nixtla_client:The specified horizon \"h\" exceeds the model horizon, this may lead to less accurate forecasts. Please consider using a smaller horizon.\n",
      "INFO:nixtla.nixtla_client:Calling Forecast Endpoint...\n"
     ]
    },
    {
     "name": "stdout",
     "output_type": "stream",
     "text": [
      "✅ Berhasil prediksi Pembukaan untuk 2024-12-28 sampai 2025-02-07\n"
     ]
    },
    {
     "name": "stderr",
     "output_type": "stream",
     "text": [
      "INFO:nixtla.nixtla_client:Validating inputs...\n",
      "INFO:nixtla.nixtla_client:Preprocessing dataframes...\n",
      "WARNING:nixtla.nixtla_client:The specified horizon \"h\" exceeds the model horizon, this may lead to less accurate forecasts. Please consider using a smaller horizon.\n",
      "INFO:nixtla.nixtla_client:Calling Forecast Endpoint...\n"
     ]
    },
    {
     "name": "stdout",
     "output_type": "stream",
     "text": [
      "✅ Berhasil prediksi Pembukaan untuk 2025-01-27 sampai 2025-03-07\n",
      "Memulai prediksi untuk kolom: Tertinggi\n"
     ]
    },
    {
     "name": "stderr",
     "output_type": "stream",
     "text": [
      "INFO:nixtla.nixtla_client:Validating inputs...\n",
      "INFO:nixtla.nixtla_client:Preprocessing dataframes...\n",
      "WARNING:nixtla.nixtla_client:The specified horizon \"h\" exceeds the model horizon, this may lead to less accurate forecasts. Please consider using a smaller horizon.\n",
      "INFO:nixtla.nixtla_client:Calling Forecast Endpoint...\n"
     ]
    },
    {
     "name": "stdout",
     "output_type": "stream",
     "text": [
      "✅ Berhasil prediksi Tertinggi untuk 2024-07-01 sampai 2024-08-09\n"
     ]
    },
    {
     "name": "stderr",
     "output_type": "stream",
     "text": [
      "INFO:nixtla.nixtla_client:Validating inputs...\n",
      "INFO:nixtla.nixtla_client:Preprocessing dataframes...\n",
      "WARNING:nixtla.nixtla_client:The specified horizon \"h\" exceeds the model horizon, this may lead to less accurate forecasts. Please consider using a smaller horizon.\n",
      "INFO:nixtla.nixtla_client:Calling Forecast Endpoint...\n"
     ]
    },
    {
     "name": "stdout",
     "output_type": "stream",
     "text": [
      "✅ Berhasil prediksi Tertinggi untuk 2024-07-31 sampai 2024-09-10\n"
     ]
    },
    {
     "name": "stderr",
     "output_type": "stream",
     "text": [
      "INFO:nixtla.nixtla_client:Validating inputs...\n",
      "INFO:nixtla.nixtla_client:Preprocessing dataframes...\n",
      "WARNING:nixtla.nixtla_client:The specified horizon \"h\" exceeds the model horizon, this may lead to less accurate forecasts. Please consider using a smaller horizon.\n",
      "INFO:nixtla.nixtla_client:Calling Forecast Endpoint...\n"
     ]
    },
    {
     "name": "stdout",
     "output_type": "stream",
     "text": [
      "✅ Berhasil prediksi Tertinggi untuk 2024-08-30 sampai 2024-10-10\n"
     ]
    },
    {
     "name": "stderr",
     "output_type": "stream",
     "text": [
      "INFO:nixtla.nixtla_client:Validating inputs...\n",
      "INFO:nixtla.nixtla_client:Preprocessing dataframes...\n",
      "WARNING:nixtla.nixtla_client:The specified horizon \"h\" exceeds the model horizon, this may lead to less accurate forecasts. Please consider using a smaller horizon.\n",
      "INFO:nixtla.nixtla_client:Calling Forecast Endpoint...\n"
     ]
    },
    {
     "name": "stdout",
     "output_type": "stream",
     "text": [
      "✅ Berhasil prediksi Tertinggi untuk 2024-09-29 sampai 2024-11-08\n"
     ]
    },
    {
     "name": "stderr",
     "output_type": "stream",
     "text": [
      "INFO:nixtla.nixtla_client:Validating inputs...\n",
      "INFO:nixtla.nixtla_client:Preprocessing dataframes...\n",
      "WARNING:nixtla.nixtla_client:The specified horizon \"h\" exceeds the model horizon, this may lead to less accurate forecasts. Please consider using a smaller horizon.\n",
      "INFO:nixtla.nixtla_client:Calling Forecast Endpoint...\n"
     ]
    },
    {
     "name": "stdout",
     "output_type": "stream",
     "text": [
      "✅ Berhasil prediksi Tertinggi untuk 2024-10-29 sampai 2024-12-09\n"
     ]
    },
    {
     "name": "stderr",
     "output_type": "stream",
     "text": [
      "INFO:nixtla.nixtla_client:Validating inputs...\n",
      "INFO:nixtla.nixtla_client:Preprocessing dataframes...\n",
      "WARNING:nixtla.nixtla_client:The specified horizon \"h\" exceeds the model horizon, this may lead to less accurate forecasts. Please consider using a smaller horizon.\n",
      "INFO:nixtla.nixtla_client:Calling Forecast Endpoint...\n"
     ]
    },
    {
     "name": "stdout",
     "output_type": "stream",
     "text": [
      "✅ Berhasil prediksi Tertinggi untuk 2024-11-28 sampai 2025-01-08\n"
     ]
    },
    {
     "name": "stderr",
     "output_type": "stream",
     "text": [
      "INFO:nixtla.nixtla_client:Validating inputs...\n",
      "INFO:nixtla.nixtla_client:Preprocessing dataframes...\n",
      "WARNING:nixtla.nixtla_client:The specified horizon \"h\" exceeds the model horizon, this may lead to less accurate forecasts. Please consider using a smaller horizon.\n",
      "INFO:nixtla.nixtla_client:Calling Forecast Endpoint...\n"
     ]
    },
    {
     "name": "stdout",
     "output_type": "stream",
     "text": [
      "✅ Berhasil prediksi Tertinggi untuk 2024-12-28 sampai 2025-02-07\n"
     ]
    },
    {
     "name": "stderr",
     "output_type": "stream",
     "text": [
      "INFO:nixtla.nixtla_client:Validating inputs...\n",
      "INFO:nixtla.nixtla_client:Preprocessing dataframes...\n",
      "WARNING:nixtla.nixtla_client:The specified horizon \"h\" exceeds the model horizon, this may lead to less accurate forecasts. Please consider using a smaller horizon.\n",
      "INFO:nixtla.nixtla_client:Calling Forecast Endpoint...\n"
     ]
    },
    {
     "name": "stdout",
     "output_type": "stream",
     "text": [
      "✅ Berhasil prediksi Tertinggi untuk 2025-01-27 sampai 2025-03-07\n",
      "Memulai prediksi untuk kolom: Terendah\n"
     ]
    },
    {
     "name": "stderr",
     "output_type": "stream",
     "text": [
      "INFO:nixtla.nixtla_client:Validating inputs...\n",
      "INFO:nixtla.nixtla_client:Preprocessing dataframes...\n",
      "WARNING:nixtla.nixtla_client:The specified horizon \"h\" exceeds the model horizon, this may lead to less accurate forecasts. Please consider using a smaller horizon.\n",
      "INFO:nixtla.nixtla_client:Calling Forecast Endpoint...\n"
     ]
    },
    {
     "name": "stdout",
     "output_type": "stream",
     "text": [
      "✅ Berhasil prediksi Terendah untuk 2024-07-01 sampai 2024-08-09\n"
     ]
    },
    {
     "name": "stderr",
     "output_type": "stream",
     "text": [
      "INFO:nixtla.nixtla_client:Validating inputs...\n",
      "INFO:nixtla.nixtla_client:Preprocessing dataframes...\n",
      "WARNING:nixtla.nixtla_client:The specified horizon \"h\" exceeds the model horizon, this may lead to less accurate forecasts. Please consider using a smaller horizon.\n",
      "INFO:nixtla.nixtla_client:Calling Forecast Endpoint...\n"
     ]
    },
    {
     "name": "stdout",
     "output_type": "stream",
     "text": [
      "✅ Berhasil prediksi Terendah untuk 2024-07-31 sampai 2024-09-10\n"
     ]
    },
    {
     "name": "stderr",
     "output_type": "stream",
     "text": [
      "INFO:nixtla.nixtla_client:Validating inputs...\n",
      "INFO:nixtla.nixtla_client:Preprocessing dataframes...\n",
      "WARNING:nixtla.nixtla_client:The specified horizon \"h\" exceeds the model horizon, this may lead to less accurate forecasts. Please consider using a smaller horizon.\n",
      "INFO:nixtla.nixtla_client:Calling Forecast Endpoint...\n"
     ]
    },
    {
     "name": "stdout",
     "output_type": "stream",
     "text": [
      "✅ Berhasil prediksi Terendah untuk 2024-08-30 sampai 2024-10-10\n"
     ]
    },
    {
     "name": "stderr",
     "output_type": "stream",
     "text": [
      "INFO:nixtla.nixtla_client:Validating inputs...\n",
      "INFO:nixtla.nixtla_client:Preprocessing dataframes...\n",
      "WARNING:nixtla.nixtla_client:The specified horizon \"h\" exceeds the model horizon, this may lead to less accurate forecasts. Please consider using a smaller horizon.\n",
      "INFO:nixtla.nixtla_client:Calling Forecast Endpoint...\n"
     ]
    },
    {
     "name": "stdout",
     "output_type": "stream",
     "text": [
      "✅ Berhasil prediksi Terendah untuk 2024-09-29 sampai 2024-11-08\n"
     ]
    },
    {
     "name": "stderr",
     "output_type": "stream",
     "text": [
      "INFO:nixtla.nixtla_client:Validating inputs...\n",
      "INFO:nixtla.nixtla_client:Preprocessing dataframes...\n",
      "WARNING:nixtla.nixtla_client:The specified horizon \"h\" exceeds the model horizon, this may lead to less accurate forecasts. Please consider using a smaller horizon.\n",
      "INFO:nixtla.nixtla_client:Calling Forecast Endpoint...\n"
     ]
    },
    {
     "name": "stdout",
     "output_type": "stream",
     "text": [
      "✅ Berhasil prediksi Terendah untuk 2024-10-29 sampai 2024-12-09\n"
     ]
    },
    {
     "name": "stderr",
     "output_type": "stream",
     "text": [
      "INFO:nixtla.nixtla_client:Validating inputs...\n",
      "INFO:nixtla.nixtla_client:Preprocessing dataframes...\n",
      "WARNING:nixtla.nixtla_client:The specified horizon \"h\" exceeds the model horizon, this may lead to less accurate forecasts. Please consider using a smaller horizon.\n",
      "INFO:nixtla.nixtla_client:Calling Forecast Endpoint...\n"
     ]
    },
    {
     "name": "stdout",
     "output_type": "stream",
     "text": [
      "✅ Berhasil prediksi Terendah untuk 2024-11-28 sampai 2025-01-08\n"
     ]
    },
    {
     "name": "stderr",
     "output_type": "stream",
     "text": [
      "INFO:nixtla.nixtla_client:Validating inputs...\n",
      "INFO:nixtla.nixtla_client:Preprocessing dataframes...\n",
      "WARNING:nixtla.nixtla_client:The specified horizon \"h\" exceeds the model horizon, this may lead to less accurate forecasts. Please consider using a smaller horizon.\n",
      "INFO:nixtla.nixtla_client:Calling Forecast Endpoint...\n"
     ]
    },
    {
     "name": "stdout",
     "output_type": "stream",
     "text": [
      "✅ Berhasil prediksi Terendah untuk 2024-12-28 sampai 2025-02-07\n",
      "✅ Berhasil prediksi Terendah untuk 2025-01-27 sampai 2025-03-07\n"
     ]
    }
   ],
   "source": [
    "# Setup prediksi\n",
    "start_date = pd.to_datetime('2024-07-01')\n",
    "end_date = pd.to_datetime('2025-01-31')\n",
    "horizon = 30  # prediksi 30 hari ke depan\n",
    "\n",
    "# DataFrame hasil\n",
    "results = []\n",
    "\n",
    "# Prediksi per kolom target\n",
    "for target_col in target_columns:\n",
    "    print(f\"Memulai prediksi untuk kolom: {target_col}\")\n",
    "    current_date = start_date\n",
    "    df_target = df[['ds', target_col]].dropna().rename(columns={target_col: 'y'})\n",
    "    \n",
    "    df_target['y'] = np.log(df_target['y'])  # Transformasi log agar stabil\n",
    "\n",
    "    while current_date <= end_date:\n",
    "        train_data = df_target[df_target['ds'] < current_date]\n",
    "        \n",
    "        if train_data.empty:\n",
    "            print(f\"Tidak ada data sebelum {current_date} untuk {target_col}\")\n",
    "            break\n",
    "\n",
    "        try:\n",
    "            forecast = nixtla_client.forecast(\n",
    "                df=train_data,\n",
    "                h=horizon,\n",
    "                freq='B',\n",
    "                time_col='ds',\n",
    "                target_col='y',\n",
    "                model='timegpt-1',\n",
    "                finetune_steps=1,\n",
    "                finetune_depth=1,\n",
    "                finetune_loss=\"mae\"\n",
    "            )\n",
    "\n",
    "            pred_dates = pd.date_range(start=current_date, periods=horizon, freq='B')\n",
    "            y_preds = np.exp(forecast['TimeGPT'].values)  # balik log\n",
    "            \n",
    "            result_df = pd.DataFrame({'ds': pred_dates, 'y': y_preds})\n",
    "            result_df['kolom'] = target_col\n",
    "            results.append(result_df)\n",
    "\n",
    "            print(f\"✅ Berhasil prediksi {target_col} untuk {current_date.date()} sampai {pred_dates[-1].date()}\")\n",
    "\n",
    "        except Exception as e:\n",
    "            print(f\"❌ Gagal prediksi {target_col} untuk {current_date.date()}: {e}\")\n",
    "            break\n",
    "\n",
    "        current_date += pd.Timedelta(days=horizon)\n",
    "\n",
    "# Gabungkan semua hasil\n",
    "final_result = pd.concat(results, ignore_index=True)\n",
    "final_result.to_csv('forecast_stocksastra_30days.csv', index=False)"
   ]
  },
  {
   "cell_type": "code",
   "execution_count": 113,
   "metadata": {},
   "outputs": [
    {
     "name": "stdout",
     "output_type": "stream",
     "text": [
      "Kolom Terakhir tidak ditemukan di hasil prediksi.\n",
      "Kolom Pembukaan tidak ditemukan di hasil prediksi.\n",
      "Kolom Tertinggi tidak ditemukan di hasil prediksi.\n",
      "Kolom Terendah tidak ditemukan di hasil prediksi.\n"
     ]
    }
   ],
   "source": [
    "\n",
    "# 1. Baca data aktual dari stocksastra.csv\n",
    "df_actual = pd.read_csv('stocksastra.csv')\n",
    "df_actual['ds'] = pd.to_datetime(df_actual['Tanggal'])\n",
    "df_actual = df_actual[['ds', 'Terakhir', 'Pembukaan', 'Tertinggi', 'Terendah']]\n",
    "\n",
    "# 2. Baca hasil forecast (pastikan struktur dan kolomnya sama)\n",
    "df_forecast = pd.read_csv('forecast_stocksastra_target.csv')  # Ganti nama file jika beda\n",
    "df_forecast['ds'] = pd.to_datetime(df_forecast['ds'])\n",
    "\n",
    "# 3. Gabungkan keduanya berdasarkan tanggal\n",
    "df_merged = pd.merge(df_forecast, df_actual, on='ds', suffixes=('_pred', '_actual'))\n",
    "\n",
    "# 4. Hitung MAPE\n",
    "target_columns = ['Terakhir', 'Pembukaan', 'Tertinggi', 'Terendah']\n",
    "\n",
    "def calculate_mape(actual, pred):\n",
    "    return np.mean(np.abs((actual - pred) / actual)) * 100\n",
    "\n",
    "# Tampilkan MAPE per kolom\n",
    "for col in target_columns:\n",
    "    pred_col = f\"{col}_pred\"\n",
    "    actual_col = f\"{col}_actual\"\n",
    "    if pred_col in df_merged and actual_col in df_merged:\n",
    "        mape = calculate_mape(df_merged[actual_col], df_merged[pred_col])\n",
    "        print(f\"MAPE untuk {col}: {mape:.2f}%\")\n",
    "    else:\n",
    "        print(f\"Kolom {col} tidak ditemukan di hasil prediksi.\")\n"
   ]
  },
  {
   "cell_type": "code",
   "execution_count": 49,
   "metadata": {},
   "outputs": [
    {
     "name": "stderr",
     "output_type": "stream",
     "text": [
      "INFO:nixtla.nixtla_client:Validating inputs...\n",
      "INFO:nixtla.nixtla_client:Preprocessing dataframes...\n",
      "INFO:nixtla.nixtla_client:Querying model metadata...\n"
     ]
    },
    {
     "name": "stdout",
     "output_type": "stream",
     "text": [
      "\n",
      "🔮 Memulai prediksi untuk kolom: Terakhir\n",
      "📉 Skipped 2024-07-01 (data < 480)\n"
     ]
    },
    {
     "name": "stderr",
     "output_type": "stream",
     "text": [
      "INFO:nixtla.nixtla_client:Calling Forecast Endpoint...\n",
      "INFO:nixtla.nixtla_client:Validating inputs...\n",
      "INFO:nixtla.nixtla_client:Preprocessing dataframes...\n",
      "INFO:nixtla.nixtla_client:Calling Forecast Endpoint...\n"
     ]
    },
    {
     "name": "stdout",
     "output_type": "stream",
     "text": [
      "✅ 2024-07-02 sukses\n"
     ]
    },
    {
     "name": "stderr",
     "output_type": "stream",
     "text": [
      "INFO:nixtla.nixtla_client:Validating inputs...\n",
      "INFO:nixtla.nixtla_client:Preprocessing dataframes...\n",
      "INFO:nixtla.nixtla_client:Calling Forecast Endpoint...\n"
     ]
    },
    {
     "name": "stdout",
     "output_type": "stream",
     "text": [
      "✅ 2024-07-03 sukses\n"
     ]
    },
    {
     "name": "stderr",
     "output_type": "stream",
     "text": [
      "INFO:nixtla.nixtla_client:Validating inputs...\n",
      "INFO:nixtla.nixtla_client:Preprocessing dataframes...\n",
      "INFO:nixtla.nixtla_client:Calling Forecast Endpoint...\n"
     ]
    },
    {
     "name": "stdout",
     "output_type": "stream",
     "text": [
      "✅ 2024-07-04 sukses\n"
     ]
    },
    {
     "name": "stderr",
     "output_type": "stream",
     "text": [
      "INFO:nixtla.nixtla_client:Validating inputs...\n",
      "INFO:nixtla.nixtla_client:Preprocessing dataframes...\n",
      "INFO:nixtla.nixtla_client:Calling Forecast Endpoint...\n"
     ]
    },
    {
     "name": "stdout",
     "output_type": "stream",
     "text": [
      "✅ 2024-07-05 sukses\n"
     ]
    },
    {
     "name": "stderr",
     "output_type": "stream",
     "text": [
      "INFO:nixtla.nixtla_client:Validating inputs...\n",
      "INFO:nixtla.nixtla_client:Preprocessing dataframes...\n",
      "INFO:nixtla.nixtla_client:Calling Forecast Endpoint...\n"
     ]
    },
    {
     "name": "stdout",
     "output_type": "stream",
     "text": [
      "✅ 2024-07-06 sukses\n"
     ]
    },
    {
     "name": "stderr",
     "output_type": "stream",
     "text": [
      "INFO:nixtla.nixtla_client:Validating inputs...\n",
      "INFO:nixtla.nixtla_client:Preprocessing dataframes...\n",
      "INFO:nixtla.nixtla_client:Calling Forecast Endpoint...\n"
     ]
    },
    {
     "name": "stdout",
     "output_type": "stream",
     "text": [
      "✅ 2024-07-07 sukses\n"
     ]
    },
    {
     "name": "stderr",
     "output_type": "stream",
     "text": [
      "INFO:nixtla.nixtla_client:Validating inputs...\n",
      "INFO:nixtla.nixtla_client:Preprocessing dataframes...\n",
      "INFO:nixtla.nixtla_client:Calling Forecast Endpoint...\n"
     ]
    },
    {
     "name": "stdout",
     "output_type": "stream",
     "text": [
      "✅ 2024-07-08 sukses\n"
     ]
    },
    {
     "name": "stderr",
     "output_type": "stream",
     "text": [
      "INFO:nixtla.nixtla_client:Validating inputs...\n",
      "INFO:nixtla.nixtla_client:Preprocessing dataframes...\n",
      "INFO:nixtla.nixtla_client:Calling Forecast Endpoint...\n"
     ]
    },
    {
     "name": "stdout",
     "output_type": "stream",
     "text": [
      "✅ 2024-07-09 sukses\n"
     ]
    },
    {
     "name": "stderr",
     "output_type": "stream",
     "text": [
      "INFO:nixtla.nixtla_client:Validating inputs...\n",
      "INFO:nixtla.nixtla_client:Preprocessing dataframes...\n",
      "INFO:nixtla.nixtla_client:Calling Forecast Endpoint...\n"
     ]
    },
    {
     "name": "stdout",
     "output_type": "stream",
     "text": [
      "✅ 2024-07-10 sukses\n"
     ]
    },
    {
     "name": "stderr",
     "output_type": "stream",
     "text": [
      "INFO:nixtla.nixtla_client:Validating inputs...\n",
      "INFO:nixtla.nixtla_client:Preprocessing dataframes...\n",
      "INFO:nixtla.nixtla_client:Calling Forecast Endpoint...\n"
     ]
    },
    {
     "name": "stdout",
     "output_type": "stream",
     "text": [
      "✅ 2024-07-11 sukses\n"
     ]
    },
    {
     "name": "stderr",
     "output_type": "stream",
     "text": [
      "INFO:nixtla.nixtla_client:Validating inputs...\n",
      "INFO:nixtla.nixtla_client:Preprocessing dataframes...\n",
      "INFO:nixtla.nixtla_client:Calling Forecast Endpoint...\n"
     ]
    },
    {
     "name": "stdout",
     "output_type": "stream",
     "text": [
      "✅ 2024-07-12 sukses\n"
     ]
    },
    {
     "name": "stderr",
     "output_type": "stream",
     "text": [
      "INFO:nixtla.nixtla_client:Validating inputs...\n",
      "INFO:nixtla.nixtla_client:Preprocessing dataframes...\n",
      "INFO:nixtla.nixtla_client:Calling Forecast Endpoint...\n"
     ]
    },
    {
     "name": "stdout",
     "output_type": "stream",
     "text": [
      "✅ 2024-07-13 sukses\n"
     ]
    },
    {
     "name": "stderr",
     "output_type": "stream",
     "text": [
      "INFO:nixtla.nixtla_client:Validating inputs...\n",
      "INFO:nixtla.nixtla_client:Preprocessing dataframes...\n",
      "INFO:nixtla.nixtla_client:Calling Forecast Endpoint...\n"
     ]
    },
    {
     "name": "stdout",
     "output_type": "stream",
     "text": [
      "✅ 2024-07-14 sukses\n"
     ]
    },
    {
     "name": "stderr",
     "output_type": "stream",
     "text": [
      "INFO:nixtla.nixtla_client:Validating inputs...\n",
      "INFO:nixtla.nixtla_client:Preprocessing dataframes...\n",
      "INFO:nixtla.nixtla_client:Calling Forecast Endpoint...\n"
     ]
    },
    {
     "name": "stdout",
     "output_type": "stream",
     "text": [
      "✅ 2024-07-15 sukses\n"
     ]
    },
    {
     "name": "stderr",
     "output_type": "stream",
     "text": [
      "INFO:nixtla.nixtla_client:Validating inputs...\n",
      "INFO:nixtla.nixtla_client:Preprocessing dataframes...\n",
      "INFO:nixtla.nixtla_client:Calling Forecast Endpoint...\n"
     ]
    },
    {
     "name": "stdout",
     "output_type": "stream",
     "text": [
      "✅ 2024-07-16 sukses\n"
     ]
    },
    {
     "name": "stderr",
     "output_type": "stream",
     "text": [
      "INFO:nixtla.nixtla_client:Validating inputs...\n",
      "INFO:nixtla.nixtla_client:Preprocessing dataframes...\n",
      "INFO:nixtla.nixtla_client:Calling Forecast Endpoint...\n"
     ]
    },
    {
     "name": "stdout",
     "output_type": "stream",
     "text": [
      "✅ 2024-07-17 sukses\n"
     ]
    },
    {
     "name": "stderr",
     "output_type": "stream",
     "text": [
      "INFO:nixtla.nixtla_client:Validating inputs...\n",
      "INFO:nixtla.nixtla_client:Preprocessing dataframes...\n",
      "INFO:nixtla.nixtla_client:Calling Forecast Endpoint...\n"
     ]
    },
    {
     "name": "stdout",
     "output_type": "stream",
     "text": [
      "✅ 2024-07-18 sukses\n"
     ]
    },
    {
     "name": "stderr",
     "output_type": "stream",
     "text": [
      "INFO:nixtla.nixtla_client:Validating inputs...\n",
      "INFO:nixtla.nixtla_client:Preprocessing dataframes...\n",
      "INFO:nixtla.nixtla_client:Calling Forecast Endpoint...\n"
     ]
    },
    {
     "name": "stdout",
     "output_type": "stream",
     "text": [
      "✅ 2024-07-19 sukses\n"
     ]
    },
    {
     "name": "stderr",
     "output_type": "stream",
     "text": [
      "INFO:nixtla.nixtla_client:Validating inputs...\n",
      "INFO:nixtla.nixtla_client:Preprocessing dataframes...\n",
      "INFO:nixtla.nixtla_client:Calling Forecast Endpoint...\n"
     ]
    },
    {
     "name": "stdout",
     "output_type": "stream",
     "text": [
      "✅ 2024-07-20 sukses\n"
     ]
    },
    {
     "name": "stderr",
     "output_type": "stream",
     "text": [
      "INFO:nixtla.nixtla_client:Validating inputs...\n",
      "INFO:nixtla.nixtla_client:Preprocessing dataframes...\n",
      "INFO:nixtla.nixtla_client:Calling Forecast Endpoint...\n"
     ]
    },
    {
     "name": "stdout",
     "output_type": "stream",
     "text": [
      "✅ 2024-07-21 sukses\n"
     ]
    },
    {
     "name": "stderr",
     "output_type": "stream",
     "text": [
      "INFO:nixtla.nixtla_client:Validating inputs...\n",
      "INFO:nixtla.nixtla_client:Preprocessing dataframes...\n",
      "INFO:nixtla.nixtla_client:Calling Forecast Endpoint...\n"
     ]
    },
    {
     "name": "stdout",
     "output_type": "stream",
     "text": [
      "✅ 2024-07-22 sukses\n"
     ]
    },
    {
     "name": "stderr",
     "output_type": "stream",
     "text": [
      "INFO:nixtla.nixtla_client:Validating inputs...\n",
      "INFO:nixtla.nixtla_client:Preprocessing dataframes...\n",
      "INFO:nixtla.nixtla_client:Calling Forecast Endpoint...\n"
     ]
    },
    {
     "name": "stdout",
     "output_type": "stream",
     "text": [
      "✅ 2024-07-23 sukses\n"
     ]
    },
    {
     "name": "stderr",
     "output_type": "stream",
     "text": [
      "INFO:nixtla.nixtla_client:Validating inputs...\n",
      "INFO:nixtla.nixtla_client:Preprocessing dataframes...\n",
      "INFO:nixtla.nixtla_client:Calling Forecast Endpoint...\n"
     ]
    },
    {
     "name": "stdout",
     "output_type": "stream",
     "text": [
      "✅ 2024-07-24 sukses\n"
     ]
    },
    {
     "name": "stderr",
     "output_type": "stream",
     "text": [
      "INFO:nixtla.nixtla_client:Validating inputs...\n",
      "INFO:nixtla.nixtla_client:Preprocessing dataframes...\n",
      "INFO:nixtla.nixtla_client:Calling Forecast Endpoint...\n"
     ]
    },
    {
     "name": "stdout",
     "output_type": "stream",
     "text": [
      "✅ 2024-07-25 sukses\n"
     ]
    },
    {
     "name": "stderr",
     "output_type": "stream",
     "text": [
      "INFO:nixtla.nixtla_client:Validating inputs...\n",
      "INFO:nixtla.nixtla_client:Preprocessing dataframes...\n",
      "INFO:nixtla.nixtla_client:Calling Forecast Endpoint...\n"
     ]
    },
    {
     "name": "stdout",
     "output_type": "stream",
     "text": [
      "✅ 2024-07-26 sukses\n"
     ]
    },
    {
     "name": "stderr",
     "output_type": "stream",
     "text": [
      "INFO:nixtla.nixtla_client:Validating inputs...\n",
      "INFO:nixtla.nixtla_client:Preprocessing dataframes...\n",
      "INFO:nixtla.nixtla_client:Calling Forecast Endpoint...\n"
     ]
    },
    {
     "name": "stdout",
     "output_type": "stream",
     "text": [
      "✅ 2024-07-27 sukses\n"
     ]
    },
    {
     "name": "stderr",
     "output_type": "stream",
     "text": [
      "INFO:nixtla.nixtla_client:Validating inputs...\n",
      "INFO:nixtla.nixtla_client:Preprocessing dataframes...\n",
      "INFO:nixtla.nixtla_client:Calling Forecast Endpoint...\n"
     ]
    },
    {
     "name": "stdout",
     "output_type": "stream",
     "text": [
      "✅ 2024-07-28 sukses\n"
     ]
    },
    {
     "name": "stderr",
     "output_type": "stream",
     "text": [
      "INFO:nixtla.nixtla_client:Validating inputs...\n",
      "INFO:nixtla.nixtla_client:Preprocessing dataframes...\n",
      "INFO:nixtla.nixtla_client:Calling Forecast Endpoint...\n"
     ]
    },
    {
     "name": "stdout",
     "output_type": "stream",
     "text": [
      "✅ 2024-07-29 sukses\n"
     ]
    },
    {
     "name": "stderr",
     "output_type": "stream",
     "text": [
      "INFO:nixtla.nixtla_client:Validating inputs...\n",
      "INFO:nixtla.nixtla_client:Preprocessing dataframes...\n",
      "INFO:nixtla.nixtla_client:Calling Forecast Endpoint...\n"
     ]
    },
    {
     "name": "stdout",
     "output_type": "stream",
     "text": [
      "✅ 2024-07-30 sukses\n"
     ]
    },
    {
     "name": "stderr",
     "output_type": "stream",
     "text": [
      "INFO:nixtla.nixtla_client:Validating inputs...\n",
      "INFO:nixtla.nixtla_client:Preprocessing dataframes...\n",
      "INFO:nixtla.nixtla_client:Calling Forecast Endpoint...\n"
     ]
    },
    {
     "name": "stdout",
     "output_type": "stream",
     "text": [
      "✅ 2024-07-31 sukses\n"
     ]
    },
    {
     "name": "stderr",
     "output_type": "stream",
     "text": [
      "INFO:nixtla.nixtla_client:Validating inputs...\n",
      "INFO:nixtla.nixtla_client:Preprocessing dataframes...\n",
      "INFO:nixtla.nixtla_client:Calling Forecast Endpoint...\n"
     ]
    },
    {
     "name": "stdout",
     "output_type": "stream",
     "text": [
      "✅ 2024-08-01 sukses\n"
     ]
    },
    {
     "name": "stderr",
     "output_type": "stream",
     "text": [
      "INFO:nixtla.nixtla_client:Validating inputs...\n",
      "INFO:nixtla.nixtla_client:Preprocessing dataframes...\n",
      "INFO:nixtla.nixtla_client:Calling Forecast Endpoint...\n"
     ]
    },
    {
     "name": "stdout",
     "output_type": "stream",
     "text": [
      "✅ 2024-08-02 sukses\n"
     ]
    },
    {
     "name": "stderr",
     "output_type": "stream",
     "text": [
      "INFO:nixtla.nixtla_client:Validating inputs...\n",
      "INFO:nixtla.nixtla_client:Preprocessing dataframes...\n",
      "INFO:nixtla.nixtla_client:Calling Forecast Endpoint...\n"
     ]
    },
    {
     "name": "stdout",
     "output_type": "stream",
     "text": [
      "✅ 2024-08-03 sukses\n"
     ]
    },
    {
     "name": "stderr",
     "output_type": "stream",
     "text": [
      "INFO:nixtla.nixtla_client:Validating inputs...\n",
      "INFO:nixtla.nixtla_client:Preprocessing dataframes...\n",
      "INFO:nixtla.nixtla_client:Calling Forecast Endpoint...\n"
     ]
    },
    {
     "name": "stdout",
     "output_type": "stream",
     "text": [
      "✅ 2024-08-04 sukses\n"
     ]
    },
    {
     "name": "stderr",
     "output_type": "stream",
     "text": [
      "INFO:nixtla.nixtla_client:Validating inputs...\n",
      "INFO:nixtla.nixtla_client:Preprocessing dataframes...\n",
      "INFO:nixtla.nixtla_client:Calling Forecast Endpoint...\n"
     ]
    },
    {
     "name": "stdout",
     "output_type": "stream",
     "text": [
      "✅ 2024-08-05 sukses\n"
     ]
    },
    {
     "name": "stderr",
     "output_type": "stream",
     "text": [
      "INFO:nixtla.nixtla_client:Validating inputs...\n",
      "INFO:nixtla.nixtla_client:Preprocessing dataframes...\n",
      "INFO:nixtla.nixtla_client:Calling Forecast Endpoint...\n"
     ]
    },
    {
     "name": "stdout",
     "output_type": "stream",
     "text": [
      "✅ 2024-08-06 sukses\n"
     ]
    },
    {
     "name": "stderr",
     "output_type": "stream",
     "text": [
      "INFO:nixtla.nixtla_client:Validating inputs...\n",
      "INFO:nixtla.nixtla_client:Preprocessing dataframes...\n",
      "INFO:nixtla.nixtla_client:Calling Forecast Endpoint...\n"
     ]
    },
    {
     "name": "stdout",
     "output_type": "stream",
     "text": [
      "✅ 2024-08-07 sukses\n"
     ]
    },
    {
     "name": "stderr",
     "output_type": "stream",
     "text": [
      "INFO:nixtla.nixtla_client:Validating inputs...\n",
      "INFO:nixtla.nixtla_client:Preprocessing dataframes...\n",
      "INFO:nixtla.nixtla_client:Calling Forecast Endpoint...\n"
     ]
    },
    {
     "name": "stdout",
     "output_type": "stream",
     "text": [
      "✅ 2024-08-08 sukses\n"
     ]
    },
    {
     "name": "stderr",
     "output_type": "stream",
     "text": [
      "INFO:nixtla.nixtla_client:Validating inputs...\n",
      "INFO:nixtla.nixtla_client:Preprocessing dataframes...\n",
      "INFO:nixtla.nixtla_client:Calling Forecast Endpoint...\n"
     ]
    },
    {
     "name": "stdout",
     "output_type": "stream",
     "text": [
      "✅ 2024-08-09 sukses\n"
     ]
    },
    {
     "name": "stderr",
     "output_type": "stream",
     "text": [
      "INFO:nixtla.nixtla_client:Validating inputs...\n",
      "INFO:nixtla.nixtla_client:Preprocessing dataframes...\n",
      "INFO:nixtla.nixtla_client:Calling Forecast Endpoint...\n"
     ]
    },
    {
     "name": "stdout",
     "output_type": "stream",
     "text": [
      "✅ 2024-08-10 sukses\n"
     ]
    },
    {
     "name": "stderr",
     "output_type": "stream",
     "text": [
      "INFO:nixtla.nixtla_client:Validating inputs...\n",
      "INFO:nixtla.nixtla_client:Preprocessing dataframes...\n",
      "INFO:nixtla.nixtla_client:Calling Forecast Endpoint...\n"
     ]
    },
    {
     "name": "stdout",
     "output_type": "stream",
     "text": [
      "✅ 2024-08-11 sukses\n"
     ]
    },
    {
     "name": "stderr",
     "output_type": "stream",
     "text": [
      "INFO:nixtla.nixtla_client:Validating inputs...\n",
      "INFO:nixtla.nixtla_client:Preprocessing dataframes...\n",
      "INFO:nixtla.nixtla_client:Calling Forecast Endpoint...\n"
     ]
    },
    {
     "name": "stdout",
     "output_type": "stream",
     "text": [
      "✅ 2024-08-12 sukses\n"
     ]
    },
    {
     "name": "stderr",
     "output_type": "stream",
     "text": [
      "INFO:nixtla.nixtla_client:Validating inputs...\n",
      "INFO:nixtla.nixtla_client:Preprocessing dataframes...\n",
      "INFO:nixtla.nixtla_client:Calling Forecast Endpoint...\n"
     ]
    },
    {
     "name": "stdout",
     "output_type": "stream",
     "text": [
      "✅ 2024-08-13 sukses\n"
     ]
    },
    {
     "name": "stderr",
     "output_type": "stream",
     "text": [
      "INFO:nixtla.nixtla_client:Validating inputs...\n",
      "INFO:nixtla.nixtla_client:Preprocessing dataframes...\n",
      "INFO:nixtla.nixtla_client:Calling Forecast Endpoint...\n"
     ]
    },
    {
     "name": "stdout",
     "output_type": "stream",
     "text": [
      "✅ 2024-08-14 sukses\n"
     ]
    },
    {
     "name": "stderr",
     "output_type": "stream",
     "text": [
      "INFO:nixtla.nixtla_client:Validating inputs...\n",
      "INFO:nixtla.nixtla_client:Preprocessing dataframes...\n",
      "INFO:nixtla.nixtla_client:Calling Forecast Endpoint...\n"
     ]
    },
    {
     "name": "stdout",
     "output_type": "stream",
     "text": [
      "✅ 2024-08-15 sukses\n"
     ]
    },
    {
     "name": "stderr",
     "output_type": "stream",
     "text": [
      "INFO:nixtla.nixtla_client:Validating inputs...\n",
      "INFO:nixtla.nixtla_client:Preprocessing dataframes...\n",
      "INFO:nixtla.nixtla_client:Calling Forecast Endpoint...\n"
     ]
    },
    {
     "name": "stdout",
     "output_type": "stream",
     "text": [
      "✅ 2024-08-16 sukses\n"
     ]
    },
    {
     "name": "stderr",
     "output_type": "stream",
     "text": [
      "INFO:nixtla.nixtla_client:Validating inputs...\n",
      "INFO:nixtla.nixtla_client:Preprocessing dataframes...\n",
      "INFO:nixtla.nixtla_client:Calling Forecast Endpoint...\n"
     ]
    },
    {
     "name": "stdout",
     "output_type": "stream",
     "text": [
      "✅ 2024-08-17 sukses\n"
     ]
    },
    {
     "name": "stderr",
     "output_type": "stream",
     "text": [
      "INFO:nixtla.nixtla_client:Validating inputs...\n",
      "INFO:nixtla.nixtla_client:Preprocessing dataframes...\n",
      "INFO:nixtla.nixtla_client:Calling Forecast Endpoint...\n"
     ]
    },
    {
     "name": "stdout",
     "output_type": "stream",
     "text": [
      "✅ 2024-08-18 sukses\n"
     ]
    },
    {
     "name": "stderr",
     "output_type": "stream",
     "text": [
      "INFO:nixtla.nixtla_client:Validating inputs...\n",
      "INFO:nixtla.nixtla_client:Preprocessing dataframes...\n",
      "INFO:nixtla.nixtla_client:Calling Forecast Endpoint...\n"
     ]
    },
    {
     "name": "stdout",
     "output_type": "stream",
     "text": [
      "✅ 2024-08-19 sukses\n"
     ]
    },
    {
     "name": "stderr",
     "output_type": "stream",
     "text": [
      "INFO:nixtla.nixtla_client:Validating inputs...\n",
      "INFO:nixtla.nixtla_client:Preprocessing dataframes...\n",
      "INFO:nixtla.nixtla_client:Calling Forecast Endpoint...\n"
     ]
    },
    {
     "name": "stdout",
     "output_type": "stream",
     "text": [
      "✅ 2024-08-20 sukses\n"
     ]
    },
    {
     "name": "stderr",
     "output_type": "stream",
     "text": [
      "ERROR:nixtla.nixtla_client:Attempt 1 failed with error: status_code: 429, body: {'detail': 'You have reached your request limit per month, email ops@nixtla.io to increase your usage limit or wait until next month'}\n",
      "ERROR:nixtla.nixtla_client:Attempt 2 failed with error: status_code: 429, body: {'detail': 'You have reached your request limit per month, email ops@nixtla.io to increase your usage limit or wait until next month'}\n",
      "ERROR:nixtla.nixtla_client:Attempt 3 failed with error: status_code: 429, body: {'detail': 'You have reached your request limit per month, email ops@nixtla.io to increase your usage limit or wait until next month'}\n",
      "ERROR:nixtla.nixtla_client:Attempt 4 failed with error: status_code: 429, body: {'detail': 'You have reached your request limit per month, email ops@nixtla.io to increase your usage limit or wait until next month'}\n",
      "ERROR:nixtla.nixtla_client:Attempt 5 failed with error: status_code: 429, body: {'detail': 'You have reached your request limit per month, email ops@nixtla.io to increase your usage limit or wait until next month'}\n",
      "ERROR:nixtla.nixtla_client:Attempt 6 failed with error: status_code: 429, body: {'detail': 'You have reached your request limit per month, email ops@nixtla.io to increase your usage limit or wait until next month'}\n",
      "INFO:nixtla.nixtla_client:Validating inputs...\n",
      "INFO:nixtla.nixtla_client:Preprocessing dataframes...\n",
      "INFO:nixtla.nixtla_client:Calling Forecast Endpoint...\n"
     ]
    },
    {
     "name": "stdout",
     "output_type": "stream",
     "text": [
      "❌ Gagal prediksi Terakhir untuk 2024-08-21: status_code: 429, body: {'detail': 'You have reached your request limit per month, email ops@nixtla.io to increase your usage limit or wait until next month'}\n"
     ]
    },
    {
     "name": "stderr",
     "output_type": "stream",
     "text": [
      "ERROR:nixtla.nixtla_client:Attempt 1 failed with error: status_code: 429, body: {'detail': 'You have reached your request limit per month, email ops@nixtla.io to increase your usage limit or wait until next month'}\n",
      "ERROR:nixtla.nixtla_client:Attempt 2 failed with error: status_code: 429, body: {'detail': 'You have reached your request limit per month, email ops@nixtla.io to increase your usage limit or wait until next month'}\n",
      "ERROR:nixtla.nixtla_client:Attempt 3 failed with error: status_code: 429, body: {'detail': 'You have reached your request limit per month, email ops@nixtla.io to increase your usage limit or wait until next month'}\n",
      "ERROR:nixtla.nixtla_client:Attempt 4 failed with error: status_code: 429, body: {'detail': 'You have reached your request limit per month, email ops@nixtla.io to increase your usage limit or wait until next month'}\n",
      "ERROR:nixtla.nixtla_client:Attempt 5 failed with error: status_code: 429, body: {'detail': 'You have reached your request limit per month, email ops@nixtla.io to increase your usage limit or wait until next month'}\n",
      "ERROR:nixtla.nixtla_client:Attempt 6 failed with error: status_code: 429, body: {'detail': 'You have reached your request limit per month, email ops@nixtla.io to increase your usage limit or wait until next month'}\n",
      "INFO:nixtla.nixtla_client:Validating inputs...\n",
      "INFO:nixtla.nixtla_client:Preprocessing dataframes...\n",
      "INFO:nixtla.nixtla_client:Calling Forecast Endpoint...\n"
     ]
    },
    {
     "name": "stdout",
     "output_type": "stream",
     "text": [
      "❌ Gagal prediksi Terakhir untuk 2024-08-22: status_code: 429, body: {'detail': 'You have reached your request limit per month, email ops@nixtla.io to increase your usage limit or wait until next month'}\n"
     ]
    },
    {
     "name": "stderr",
     "output_type": "stream",
     "text": [
      "ERROR:nixtla.nixtla_client:Attempt 1 failed with error: status_code: 429, body: {'detail': 'You have reached your request limit per month, email ops@nixtla.io to increase your usage limit or wait until next month'}\n",
      "ERROR:nixtla.nixtla_client:Attempt 2 failed with error: status_code: 429, body: {'detail': 'You have reached your request limit per month, email ops@nixtla.io to increase your usage limit or wait until next month'}\n",
      "ERROR:nixtla.nixtla_client:Attempt 3 failed with error: status_code: 429, body: {'detail': 'You have reached your request limit per month, email ops@nixtla.io to increase your usage limit or wait until next month'}\n",
      "ERROR:nixtla.nixtla_client:Attempt 4 failed with error: status_code: 429, body: {'detail': 'You have reached your request limit per month, email ops@nixtla.io to increase your usage limit or wait until next month'}\n",
      "ERROR:nixtla.nixtla_client:Attempt 5 failed with error: status_code: 429, body: {'detail': 'You have reached your request limit per month, email ops@nixtla.io to increase your usage limit or wait until next month'}\n",
      "ERROR:nixtla.nixtla_client:Attempt 6 failed with error: status_code: 429, body: {'detail': 'You have reached your request limit per month, email ops@nixtla.io to increase your usage limit or wait until next month'}\n",
      "INFO:nixtla.nixtla_client:Validating inputs...\n",
      "INFO:nixtla.nixtla_client:Preprocessing dataframes...\n",
      "INFO:nixtla.nixtla_client:Calling Forecast Endpoint...\n"
     ]
    },
    {
     "name": "stdout",
     "output_type": "stream",
     "text": [
      "❌ Gagal prediksi Terakhir untuk 2024-08-23: status_code: 429, body: {'detail': 'You have reached your request limit per month, email ops@nixtla.io to increase your usage limit or wait until next month'}\n"
     ]
    },
    {
     "name": "stderr",
     "output_type": "stream",
     "text": [
      "ERROR:nixtla.nixtla_client:Attempt 1 failed with error: status_code: 429, body: {'detail': 'You have reached your request limit per month, email ops@nixtla.io to increase your usage limit or wait until next month'}\n",
      "ERROR:nixtla.nixtla_client:Attempt 2 failed with error: status_code: 429, body: {'detail': 'You have reached your request limit per month, email ops@nixtla.io to increase your usage limit or wait until next month'}\n",
      "ERROR:nixtla.nixtla_client:Attempt 3 failed with error: status_code: 429, body: {'detail': 'You have reached your request limit per month, email ops@nixtla.io to increase your usage limit or wait until next month'}\n",
      "ERROR:nixtla.nixtla_client:Attempt 4 failed with error: status_code: 429, body: {'detail': 'You have reached your request limit per month, email ops@nixtla.io to increase your usage limit or wait until next month'}\n"
     ]
    },
    {
     "ename": "KeyboardInterrupt",
     "evalue": "",
     "output_type": "error",
     "traceback": [
      "\u001b[1;31m---------------------------------------------------------------------------\u001b[0m",
      "\u001b[1;31mKeyboardInterrupt\u001b[0m                         Traceback (most recent call last)",
      "\u001b[1;32m~\\AppData\\Local\\Temp\\ipykernel_33420\\931185467.py\u001b[0m in \u001b[0;36m<module>\u001b[1;34m\u001b[0m\n\u001b[0;32m     35\u001b[0m \u001b[1;33m\u001b[0m\u001b[0m\n\u001b[0;32m     36\u001b[0m             \u001b[1;31m# Forecast\u001b[0m\u001b[1;33m\u001b[0m\u001b[1;33m\u001b[0m\u001b[0m\n\u001b[1;32m---> 37\u001b[1;33m             forecast = nixtla_client.forecast(\n\u001b[0m\u001b[0;32m     38\u001b[0m                 \u001b[0mdf\u001b[0m\u001b[1;33m=\u001b[0m\u001b[0mtrain_subset\u001b[0m\u001b[1;33m,\u001b[0m\u001b[1;33m\u001b[0m\u001b[1;33m\u001b[0m\u001b[0m\n\u001b[0;32m     39\u001b[0m                 \u001b[0mh\u001b[0m\u001b[1;33m=\u001b[0m\u001b[1;36m1\u001b[0m\u001b[1;33m,\u001b[0m\u001b[1;33m\u001b[0m\u001b[1;33m\u001b[0m\u001b[0m\n",
      "\u001b[1;32mc:\\Users\\dylan\\anaconda3\\lib\\site-packages\\nixtla\\nixtla_client.py\u001b[0m in \u001b[0;36mforecast\u001b[1;34m(self, df, h, freq, id_col, time_col, target_col, X_df, level, quantiles, finetune_steps, finetune_depth, finetune_loss, finetuned_model_id, clean_ex_first, hist_exog_list, validate_api_key, add_history, date_features, date_features_to_one_hot, model, num_partitions, feature_contributions)\u001b[0m\n\u001b[0;32m   1507\u001b[0m             \u001b[0minsample_feat_contributions\u001b[0m \u001b[1;33m=\u001b[0m \u001b[1;32mNone\u001b[0m\u001b[1;33m\u001b[0m\u001b[1;33m\u001b[0m\u001b[0m\n\u001b[0;32m   1508\u001b[0m             \u001b[1;32mif\u001b[0m \u001b[0mnum_partitions\u001b[0m \u001b[1;32mis\u001b[0m \u001b[1;32mNone\u001b[0m\u001b[1;33m:\u001b[0m\u001b[1;33m\u001b[0m\u001b[1;33m\u001b[0m\u001b[0m\n\u001b[1;32m-> 1509\u001b[1;33m                 \u001b[0mresp\u001b[0m \u001b[1;33m=\u001b[0m \u001b[0mself\u001b[0m\u001b[1;33m.\u001b[0m\u001b[0m_make_request_with_retries\u001b[0m\u001b[1;33m(\u001b[0m\u001b[0mclient\u001b[0m\u001b[1;33m,\u001b[0m \u001b[1;34m\"v2/forecast\"\u001b[0m\u001b[1;33m,\u001b[0m \u001b[0mpayload\u001b[0m\u001b[1;33m)\u001b[0m\u001b[1;33m\u001b[0m\u001b[1;33m\u001b[0m\u001b[0m\n\u001b[0m\u001b[0;32m   1510\u001b[0m                 \u001b[1;32mif\u001b[0m \u001b[0madd_history\u001b[0m\u001b[1;33m:\u001b[0m\u001b[1;33m\u001b[0m\u001b[1;33m\u001b[0m\u001b[0m\n\u001b[0;32m   1511\u001b[0m                     \u001b[0min_sample_payload\u001b[0m \u001b[1;33m=\u001b[0m \u001b[0m_forecast_payload_to_in_sample\u001b[0m\u001b[1;33m(\u001b[0m\u001b[0mpayload\u001b[0m\u001b[1;33m)\u001b[0m\u001b[1;33m\u001b[0m\u001b[1;33m\u001b[0m\u001b[0m\n",
      "\u001b[1;32mc:\\Users\\dylan\\anaconda3\\lib\\site-packages\\nixtla\\nixtla_client.py\u001b[0m in \u001b[0;36m_make_request_with_retries\u001b[1;34m(self, client, endpoint, payload, multithreaded_compress)\u001b[0m\n\u001b[0;32m    781\u001b[0m         \u001b[0mmultithreaded_compress\u001b[0m\u001b[1;33m:\u001b[0m \u001b[0mbool\u001b[0m \u001b[1;33m=\u001b[0m \u001b[1;32mTrue\u001b[0m\u001b[1;33m,\u001b[0m\u001b[1;33m\u001b[0m\u001b[1;33m\u001b[0m\u001b[0m\n\u001b[0;32m    782\u001b[0m     ) -> dict[str, Any]:\n\u001b[1;32m--> 783\u001b[1;33m         return self._retry_strategy(self._make_request)(\n\u001b[0m\u001b[0;32m    784\u001b[0m             \u001b[0mclient\u001b[0m\u001b[1;33m=\u001b[0m\u001b[0mclient\u001b[0m\u001b[1;33m,\u001b[0m\u001b[1;33m\u001b[0m\u001b[1;33m\u001b[0m\u001b[0m\n\u001b[0;32m    785\u001b[0m             \u001b[0mendpoint\u001b[0m\u001b[1;33m=\u001b[0m\u001b[0mendpoint\u001b[0m\u001b[1;33m,\u001b[0m\u001b[1;33m\u001b[0m\u001b[1;33m\u001b[0m\u001b[0m\n",
      "\u001b[1;32mc:\\Users\\dylan\\anaconda3\\lib\\site-packages\\tenacity\\__init__.py\u001b[0m in \u001b[0;36mwrapped_f\u001b[1;34m(*args, **kw)\u001b[0m\n\u001b[0;32m    322\u001b[0m         \u001b[1;33m@\u001b[0m\u001b[0mfunctools\u001b[0m\u001b[1;33m.\u001b[0m\u001b[0mwraps\u001b[0m\u001b[1;33m(\u001b[0m\u001b[0mf\u001b[0m\u001b[1;33m)\u001b[0m\u001b[1;33m\u001b[0m\u001b[1;33m\u001b[0m\u001b[0m\n\u001b[0;32m    323\u001b[0m         \u001b[1;32mdef\u001b[0m \u001b[0mwrapped_f\u001b[0m\u001b[1;33m(\u001b[0m\u001b[1;33m*\u001b[0m\u001b[0margs\u001b[0m\u001b[1;33m:\u001b[0m \u001b[0mt\u001b[0m\u001b[1;33m.\u001b[0m\u001b[0mAny\u001b[0m\u001b[1;33m,\u001b[0m \u001b[1;33m**\u001b[0m\u001b[0mkw\u001b[0m\u001b[1;33m:\u001b[0m \u001b[0mt\u001b[0m\u001b[1;33m.\u001b[0m\u001b[0mAny\u001b[0m\u001b[1;33m)\u001b[0m \u001b[1;33m->\u001b[0m \u001b[0mt\u001b[0m\u001b[1;33m.\u001b[0m\u001b[0mAny\u001b[0m\u001b[1;33m:\u001b[0m\u001b[1;33m\u001b[0m\u001b[1;33m\u001b[0m\u001b[0m\n\u001b[1;32m--> 324\u001b[1;33m             \u001b[1;32mreturn\u001b[0m \u001b[0mself\u001b[0m\u001b[1;33m(\u001b[0m\u001b[0mf\u001b[0m\u001b[1;33m,\u001b[0m \u001b[1;33m*\u001b[0m\u001b[0margs\u001b[0m\u001b[1;33m,\u001b[0m \u001b[1;33m**\u001b[0m\u001b[0mkw\u001b[0m\u001b[1;33m)\u001b[0m\u001b[1;33m\u001b[0m\u001b[1;33m\u001b[0m\u001b[0m\n\u001b[0m\u001b[0;32m    325\u001b[0m \u001b[1;33m\u001b[0m\u001b[0m\n\u001b[0;32m    326\u001b[0m         \u001b[1;32mdef\u001b[0m \u001b[0mretry_with\u001b[0m\u001b[1;33m(\u001b[0m\u001b[1;33m*\u001b[0m\u001b[0margs\u001b[0m\u001b[1;33m:\u001b[0m \u001b[0mt\u001b[0m\u001b[1;33m.\u001b[0m\u001b[0mAny\u001b[0m\u001b[1;33m,\u001b[0m \u001b[1;33m**\u001b[0m\u001b[0mkwargs\u001b[0m\u001b[1;33m:\u001b[0m \u001b[0mt\u001b[0m\u001b[1;33m.\u001b[0m\u001b[0mAny\u001b[0m\u001b[1;33m)\u001b[0m \u001b[1;33m->\u001b[0m \u001b[0mWrappedFn\u001b[0m\u001b[1;33m:\u001b[0m\u001b[1;33m\u001b[0m\u001b[1;33m\u001b[0m\u001b[0m\n",
      "\u001b[1;32mc:\\Users\\dylan\\anaconda3\\lib\\site-packages\\tenacity\\__init__.py\u001b[0m in \u001b[0;36m__call__\u001b[1;34m(self, fn, *args, **kwargs)\u001b[0m\n\u001b[0;32m    412\u001b[0m             \u001b[1;32melif\u001b[0m \u001b[0misinstance\u001b[0m\u001b[1;33m(\u001b[0m\u001b[0mdo\u001b[0m\u001b[1;33m,\u001b[0m \u001b[0mDoSleep\u001b[0m\u001b[1;33m)\u001b[0m\u001b[1;33m:\u001b[0m\u001b[1;33m\u001b[0m\u001b[1;33m\u001b[0m\u001b[0m\n\u001b[0;32m    413\u001b[0m                 \u001b[0mretry_state\u001b[0m\u001b[1;33m.\u001b[0m\u001b[0mprepare_for_next_attempt\u001b[0m\u001b[1;33m(\u001b[0m\u001b[1;33m)\u001b[0m\u001b[1;33m\u001b[0m\u001b[1;33m\u001b[0m\u001b[0m\n\u001b[1;32m--> 414\u001b[1;33m                 \u001b[0mself\u001b[0m\u001b[1;33m.\u001b[0m\u001b[0msleep\u001b[0m\u001b[1;33m(\u001b[0m\u001b[0mdo\u001b[0m\u001b[1;33m)\u001b[0m\u001b[1;33m\u001b[0m\u001b[1;33m\u001b[0m\u001b[0m\n\u001b[0m\u001b[0;32m    415\u001b[0m             \u001b[1;32melse\u001b[0m\u001b[1;33m:\u001b[0m\u001b[1;33m\u001b[0m\u001b[1;33m\u001b[0m\u001b[0m\n\u001b[0;32m    416\u001b[0m                 \u001b[1;32mreturn\u001b[0m \u001b[0mdo\u001b[0m\u001b[1;33m\u001b[0m\u001b[1;33m\u001b[0m\u001b[0m\n",
      "\u001b[1;32mc:\\Users\\dylan\\anaconda3\\lib\\site-packages\\tenacity\\nap.py\u001b[0m in \u001b[0;36msleep\u001b[1;34m(seconds)\u001b[0m\n\u001b[0;32m     29\u001b[0m     \u001b[0mThis\u001b[0m \u001b[1;32mis\u001b[0m \u001b[0mthe\u001b[0m \u001b[0mdefault\u001b[0m \u001b[0mstrategy\u001b[0m\u001b[1;33m,\u001b[0m \u001b[1;32mand\u001b[0m \u001b[0mmay\u001b[0m \u001b[0mbe\u001b[0m \u001b[0mmocked\u001b[0m \u001b[0mout\u001b[0m \u001b[1;32mfor\u001b[0m \u001b[0munit\u001b[0m \u001b[0mtesting\u001b[0m\u001b[1;33m.\u001b[0m\u001b[1;33m\u001b[0m\u001b[1;33m\u001b[0m\u001b[0m\n\u001b[0;32m     30\u001b[0m     \"\"\"\n\u001b[1;32m---> 31\u001b[1;33m     \u001b[0mtime\u001b[0m\u001b[1;33m.\u001b[0m\u001b[0msleep\u001b[0m\u001b[1;33m(\u001b[0m\u001b[0mseconds\u001b[0m\u001b[1;33m)\u001b[0m\u001b[1;33m\u001b[0m\u001b[1;33m\u001b[0m\u001b[0m\n\u001b[0m\u001b[0;32m     32\u001b[0m \u001b[1;33m\u001b[0m\u001b[0m\n\u001b[0;32m     33\u001b[0m \u001b[1;33m\u001b[0m\u001b[0m\n",
      "\u001b[1;31mKeyboardInterrupt\u001b[0m: "
     ]
    }
   ],
   "source": [
    "# Tanggal prediksi\n",
    "start_date = pd.to_datetime('2024-07-01')\n",
    "end_date = pd.to_datetime('2025-01-31')\n",
    "\n",
    "# DataFrame hasil prediksi\n",
    "results_all = pd.DataFrame({'ds': pd.date_range(start=start_date, end=end_date, freq='B')})\n",
    "\n",
    "# Loop untuk setiap target kolom\n",
    "for col in target_columns:\n",
    "    print(f\"\\n🔮 Memulai prediksi untuk kolom: {col}\")\n",
    "    current_date = start_date\n",
    "    result_list = []\n",
    "\n",
    "    while current_date <= end_date:\n",
    "        try:\n",
    "            # Subset training\n",
    "            train_subset = df[df['ds'] < current_date][['ds', col]].copy()\n",
    "            train_subset = train_subset.rename(columns={col: 'y'})\n",
    "\n",
    "            if len(train_subset) < 480:\n",
    "                print(f\"📉 Skipped {current_date.date()} (data < 480)\")\n",
    "                current_date += pd.Timedelta(days=1)\n",
    "                continue\n",
    "\n",
    "            train_subset = train_subset[-480:]\n",
    "\n",
    "            # Pastikan frekuensi konsisten\n",
    "            expected_range = pd.date_range(start=train_subset['ds'].min(), end=train_subset['ds'].max(), freq='B')\n",
    "            train_subset = train_subset.set_index('ds').reindex(expected_range).rename_axis('ds').reset_index()\n",
    "            train_subset['y'] = train_subset['y'].interpolate(method='linear')\n",
    "            train_subset = train_subset.dropna()\n",
    "\n",
    "            # Transformasi log\n",
    "            train_subset['y'] = np.log(train_subset['y'])\n",
    "\n",
    "            # Forecast\n",
    "            forecast = nixtla_client.forecast(\n",
    "                df=train_subset,\n",
    "                h=1,\n",
    "                freq='B',\n",
    "                time_col='ds',\n",
    "                target_col='y',\n",
    "                model='timegpt-1',\n",
    "                finetune_steps=1,\n",
    "                finetune_depth=1,\n",
    "                finetune_loss='mae'\n",
    "            )\n",
    "\n",
    "            pred = np.exp(forecast['TimeGPT'][0])\n",
    "            result_list.append(pred)\n",
    "            print(f\"✅ {current_date.date()} sukses\")\n",
    "\n",
    "        except Exception as e:\n",
    "            print(f\"❌ Gagal prediksi {col} untuk {current_date.date()}: {e}\")\n",
    "            result_list.append(None)\n",
    "\n",
    "        current_date += pd.Timedelta(days=1)\n",
    "\n",
    "    results_all[col + '_pred'] = result_list\n",
    "\n",
    "# Simpan hasil ke CSV\n",
    "results_all.to_csv('forecast_saham_astra_all_columns.csv', index=False)\n",
    "print(\"\\n🎉 Prediksi selesai! Hasil disimpan di 'forecast_saham_astra_all_columns.csv'\")"
   ]
  },
  {
   "cell_type": "code",
   "execution_count": null,
   "metadata": {},
   "outputs": [],
   "source": []
  },
  {
   "cell_type": "code",
   "execution_count": 17,
   "metadata": {},
   "outputs": [],
   "source": [
    "# Pastikan tidak ada duplikat tanggal\n",
    "df = df.drop_duplicates(subset='ds')"
   ]
  },
  {
   "cell_type": "code",
   "execution_count": 18,
   "metadata": {},
   "outputs": [],
   "source": [
    "# Pastikan hanya 1 data per tanggal dan diurutkan\n",
    "df = df.sort_values('ds')\n"
   ]
  },
  {
   "cell_type": "code",
   "execution_count": 19,
   "metadata": {},
   "outputs": [
    {
     "ename": "KeyError",
     "evalue": "'y'",
     "output_type": "error",
     "traceback": [
      "\u001b[1;31m---------------------------------------------------------------------------\u001b[0m",
      "\u001b[1;31mKeyError\u001b[0m                                  Traceback (most recent call last)",
      "\u001b[1;32mc:\\Users\\dylan\\anaconda3\\lib\\site-packages\\pandas\\core\\indexes\\base.py\u001b[0m in \u001b[0;36mget_loc\u001b[1;34m(self, key, method, tolerance)\u001b[0m\n\u001b[0;32m   3628\u001b[0m             \u001b[1;32mtry\u001b[0m\u001b[1;33m:\u001b[0m\u001b[1;33m\u001b[0m\u001b[1;33m\u001b[0m\u001b[0m\n\u001b[1;32m-> 3629\u001b[1;33m                 \u001b[1;32mreturn\u001b[0m \u001b[0mself\u001b[0m\u001b[1;33m.\u001b[0m\u001b[0m_engine\u001b[0m\u001b[1;33m.\u001b[0m\u001b[0mget_loc\u001b[0m\u001b[1;33m(\u001b[0m\u001b[0mcasted_key\u001b[0m\u001b[1;33m)\u001b[0m\u001b[1;33m\u001b[0m\u001b[1;33m\u001b[0m\u001b[0m\n\u001b[0m\u001b[0;32m   3630\u001b[0m             \u001b[1;32mexcept\u001b[0m \u001b[0mKeyError\u001b[0m \u001b[1;32mas\u001b[0m \u001b[0merr\u001b[0m\u001b[1;33m:\u001b[0m\u001b[1;33m\u001b[0m\u001b[1;33m\u001b[0m\u001b[0m\n",
      "\u001b[1;32mc:\\Users\\dylan\\anaconda3\\lib\\site-packages\\pandas\\_libs\\index.pyx\u001b[0m in \u001b[0;36mpandas._libs.index.IndexEngine.get_loc\u001b[1;34m()\u001b[0m\n",
      "\u001b[1;32mc:\\Users\\dylan\\anaconda3\\lib\\site-packages\\pandas\\_libs\\index.pyx\u001b[0m in \u001b[0;36mpandas._libs.index.IndexEngine.get_loc\u001b[1;34m()\u001b[0m\n",
      "\u001b[1;32mpandas\\_libs\\hashtable_class_helper.pxi\u001b[0m in \u001b[0;36mpandas._libs.hashtable.PyObjectHashTable.get_item\u001b[1;34m()\u001b[0m\n",
      "\u001b[1;32mpandas\\_libs\\hashtable_class_helper.pxi\u001b[0m in \u001b[0;36mpandas._libs.hashtable.PyObjectHashTable.get_item\u001b[1;34m()\u001b[0m\n",
      "\u001b[1;31mKeyError\u001b[0m: 'y'",
      "\nThe above exception was the direct cause of the following exception:\n",
      "\u001b[1;31mKeyError\u001b[0m                                  Traceback (most recent call last)",
      "\u001b[1;32m~\\AppData\\Local\\Temp\\ipykernel_33420\\1332277641.py\u001b[0m in \u001b[0;36m<module>\u001b[1;34m\u001b[0m\n\u001b[0;32m      4\u001b[0m \u001b[1;33m\u001b[0m\u001b[0m\n\u001b[0;32m      5\u001b[0m \u001b[1;31m# Interpolasi nilai yang hilang\u001b[0m\u001b[1;33m\u001b[0m\u001b[1;33m\u001b[0m\u001b[0m\n\u001b[1;32m----> 6\u001b[1;33m \u001b[0mdf\u001b[0m\u001b[1;33m[\u001b[0m\u001b[1;34m'y'\u001b[0m\u001b[1;33m]\u001b[0m \u001b[1;33m=\u001b[0m \u001b[0mdf\u001b[0m\u001b[1;33m[\u001b[0m\u001b[1;34m'y'\u001b[0m\u001b[1;33m]\u001b[0m\u001b[1;33m.\u001b[0m\u001b[0minterpolate\u001b[0m\u001b[1;33m(\u001b[0m\u001b[0mmethod\u001b[0m\u001b[1;33m=\u001b[0m\u001b[1;34m'linear'\u001b[0m\u001b[1;33m)\u001b[0m\u001b[1;33m\u001b[0m\u001b[1;33m\u001b[0m\u001b[0m\n\u001b[0m",
      "\u001b[1;32mc:\\Users\\dylan\\anaconda3\\lib\\site-packages\\pandas\\core\\frame.py\u001b[0m in \u001b[0;36m__getitem__\u001b[1;34m(self, key)\u001b[0m\n\u001b[0;32m   3503\u001b[0m             \u001b[1;32mif\u001b[0m \u001b[0mself\u001b[0m\u001b[1;33m.\u001b[0m\u001b[0mcolumns\u001b[0m\u001b[1;33m.\u001b[0m\u001b[0mnlevels\u001b[0m \u001b[1;33m>\u001b[0m \u001b[1;36m1\u001b[0m\u001b[1;33m:\u001b[0m\u001b[1;33m\u001b[0m\u001b[1;33m\u001b[0m\u001b[0m\n\u001b[0;32m   3504\u001b[0m                 \u001b[1;32mreturn\u001b[0m \u001b[0mself\u001b[0m\u001b[1;33m.\u001b[0m\u001b[0m_getitem_multilevel\u001b[0m\u001b[1;33m(\u001b[0m\u001b[0mkey\u001b[0m\u001b[1;33m)\u001b[0m\u001b[1;33m\u001b[0m\u001b[1;33m\u001b[0m\u001b[0m\n\u001b[1;32m-> 3505\u001b[1;33m             \u001b[0mindexer\u001b[0m \u001b[1;33m=\u001b[0m \u001b[0mself\u001b[0m\u001b[1;33m.\u001b[0m\u001b[0mcolumns\u001b[0m\u001b[1;33m.\u001b[0m\u001b[0mget_loc\u001b[0m\u001b[1;33m(\u001b[0m\u001b[0mkey\u001b[0m\u001b[1;33m)\u001b[0m\u001b[1;33m\u001b[0m\u001b[1;33m\u001b[0m\u001b[0m\n\u001b[0m\u001b[0;32m   3506\u001b[0m             \u001b[1;32mif\u001b[0m \u001b[0mis_integer\u001b[0m\u001b[1;33m(\u001b[0m\u001b[0mindexer\u001b[0m\u001b[1;33m)\u001b[0m\u001b[1;33m:\u001b[0m\u001b[1;33m\u001b[0m\u001b[1;33m\u001b[0m\u001b[0m\n\u001b[0;32m   3507\u001b[0m                 \u001b[0mindexer\u001b[0m \u001b[1;33m=\u001b[0m \u001b[1;33m[\u001b[0m\u001b[0mindexer\u001b[0m\u001b[1;33m]\u001b[0m\u001b[1;33m\u001b[0m\u001b[1;33m\u001b[0m\u001b[0m\n",
      "\u001b[1;32mc:\\Users\\dylan\\anaconda3\\lib\\site-packages\\pandas\\core\\indexes\\base.py\u001b[0m in \u001b[0;36mget_loc\u001b[1;34m(self, key, method, tolerance)\u001b[0m\n\u001b[0;32m   3629\u001b[0m                 \u001b[1;32mreturn\u001b[0m \u001b[0mself\u001b[0m\u001b[1;33m.\u001b[0m\u001b[0m_engine\u001b[0m\u001b[1;33m.\u001b[0m\u001b[0mget_loc\u001b[0m\u001b[1;33m(\u001b[0m\u001b[0mcasted_key\u001b[0m\u001b[1;33m)\u001b[0m\u001b[1;33m\u001b[0m\u001b[1;33m\u001b[0m\u001b[0m\n\u001b[0;32m   3630\u001b[0m             \u001b[1;32mexcept\u001b[0m \u001b[0mKeyError\u001b[0m \u001b[1;32mas\u001b[0m \u001b[0merr\u001b[0m\u001b[1;33m:\u001b[0m\u001b[1;33m\u001b[0m\u001b[1;33m\u001b[0m\u001b[0m\n\u001b[1;32m-> 3631\u001b[1;33m                 \u001b[1;32mraise\u001b[0m \u001b[0mKeyError\u001b[0m\u001b[1;33m(\u001b[0m\u001b[0mkey\u001b[0m\u001b[1;33m)\u001b[0m \u001b[1;32mfrom\u001b[0m \u001b[0merr\u001b[0m\u001b[1;33m\u001b[0m\u001b[1;33m\u001b[0m\u001b[0m\n\u001b[0m\u001b[0;32m   3632\u001b[0m             \u001b[1;32mexcept\u001b[0m \u001b[0mTypeError\u001b[0m\u001b[1;33m:\u001b[0m\u001b[1;33m\u001b[0m\u001b[1;33m\u001b[0m\u001b[0m\n\u001b[0;32m   3633\u001b[0m                 \u001b[1;31m# If we have a listlike key, _check_indexing_error will raise\u001b[0m\u001b[1;33m\u001b[0m\u001b[1;33m\u001b[0m\u001b[0m\n",
      "\u001b[1;31mKeyError\u001b[0m: 'y'"
     ]
    }
   ],
   "source": [
    "# Reindex ke frekuensi hari kerja (business day)\n",
    "full_range = pd.date_range(start=df['ds'].min(), end=df['ds'].max(), freq='B')\n",
    "df = df.set_index('ds').reindex(full_range).rename_axis('ds').reset_index()\n",
    "\n",
    "# Interpolasi nilai yang hilang\n",
    "df['y'] = df['y'].interpolate(method='linear')"
   ]
  },
  {
   "cell_type": "code",
   "execution_count": 13,
   "metadata": {},
   "outputs": [],
   "source": [
    "# Tanggal awal dan akhir prediksi\n",
    "start_date = pd.to_datetime('2024-07-01')\n",
    "end_date = pd.to_datetime('2025-01-31')"
   ]
  },
  {
   "cell_type": "code",
   "execution_count": 16,
   "metadata": {},
   "outputs": [
    {
     "name": "stderr",
     "output_type": "stream",
     "text": [
      "INFO:nixtla.nixtla_client:Validating inputs...\n",
      "INFO:nixtla.nixtla_client:Validating inputs...\n",
      "INFO:nixtla.nixtla_client:Validating inputs...\n",
      "INFO:nixtla.nixtla_client:Validating inputs...\n",
      "INFO:nixtla.nixtla_client:Validating inputs...\n",
      "INFO:nixtla.nixtla_client:Validating inputs...\n",
      "INFO:nixtla.nixtla_client:Validating inputs...\n",
      "INFO:nixtla.nixtla_client:Validating inputs...\n",
      "INFO:nixtla.nixtla_client:Validating inputs...\n"
     ]
    },
    {
     "name": "stdout",
     "output_type": "stream",
     "text": [
      "Memulai prediksi untuk kolom: Terakhir\n",
      "Gagal prediksi Terakhir untuk tanggal 2024-07-01: Series contain missing or duplicate timestamps, or the timestamps do not match the provided frequency.\n",
      "Please make sure that all series have a single observation from the first to the last timestamp and that the provided frequency matches the timestamps'.\n",
      "You can refer to https://docs.nixtla.io/docs/tutorials-missing_values for an end to end example.\n",
      "Gagal prediksi Terakhir untuk tanggal 2024-07-02: Series contain missing or duplicate timestamps, or the timestamps do not match the provided frequency.\n",
      "Please make sure that all series have a single observation from the first to the last timestamp and that the provided frequency matches the timestamps'.\n",
      "You can refer to https://docs.nixtla.io/docs/tutorials-missing_values for an end to end example.\n",
      "Gagal prediksi Terakhir untuk tanggal 2024-07-03: Series contain missing or duplicate timestamps, or the timestamps do not match the provided frequency.\n",
      "Please make sure that all series have a single observation from the first to the last timestamp and that the provided frequency matches the timestamps'.\n",
      "You can refer to https://docs.nixtla.io/docs/tutorials-missing_values for an end to end example.\n",
      "Gagal prediksi Terakhir untuk tanggal 2024-07-04: Series contain missing or duplicate timestamps, or the timestamps do not match the provided frequency.\n",
      "Please make sure that all series have a single observation from the first to the last timestamp and that the provided frequency matches the timestamps'.\n",
      "You can refer to https://docs.nixtla.io/docs/tutorials-missing_values for an end to end example.\n",
      "Gagal prediksi Terakhir untuk tanggal 2024-07-05: Series contain missing or duplicate timestamps, or the timestamps do not match the provided frequency.\n",
      "Please make sure that all series have a single observation from the first to the last timestamp and that the provided frequency matches the timestamps'.\n",
      "You can refer to https://docs.nixtla.io/docs/tutorials-missing_values for an end to end example.\n",
      "Gagal prediksi Terakhir untuk tanggal 2024-07-06: Series contain missing or duplicate timestamps, or the timestamps do not match the provided frequency.\n",
      "Please make sure that all series have a single observation from the first to the last timestamp and that the provided frequency matches the timestamps'.\n",
      "You can refer to https://docs.nixtla.io/docs/tutorials-missing_values for an end to end example.\n",
      "Gagal prediksi Terakhir untuk tanggal 2024-07-07: Series contain missing or duplicate timestamps, or the timestamps do not match the provided frequency.\n",
      "Please make sure that all series have a single observation from the first to the last timestamp and that the provided frequency matches the timestamps'.\n",
      "You can refer to https://docs.nixtla.io/docs/tutorials-missing_values for an end to end example.\n",
      "Gagal prediksi Terakhir untuk tanggal 2024-07-08: Series contain missing or duplicate timestamps, or the timestamps do not match the provided frequency.\n",
      "Please make sure that all series have a single observation from the first to the last timestamp and that the provided frequency matches the timestamps'.\n",
      "You can refer to https://docs.nixtla.io/docs/tutorials-missing_values for an end to end example.\n"
     ]
    },
    {
     "name": "stderr",
     "output_type": "stream",
     "text": [
      "INFO:nixtla.nixtla_client:Validating inputs...\n",
      "INFO:nixtla.nixtla_client:Validating inputs...\n",
      "INFO:nixtla.nixtla_client:Validating inputs...\n",
      "INFO:nixtla.nixtla_client:Validating inputs...\n",
      "INFO:nixtla.nixtla_client:Validating inputs...\n",
      "INFO:nixtla.nixtla_client:Validating inputs...\n",
      "INFO:nixtla.nixtla_client:Validating inputs...\n",
      "INFO:nixtla.nixtla_client:Validating inputs...\n",
      "INFO:nixtla.nixtla_client:Validating inputs...\n",
      "INFO:nixtla.nixtla_client:Validating inputs...\n"
     ]
    },
    {
     "name": "stdout",
     "output_type": "stream",
     "text": [
      "Gagal prediksi Terakhir untuk tanggal 2024-07-09: Series contain missing or duplicate timestamps, or the timestamps do not match the provided frequency.\n",
      "Please make sure that all series have a single observation from the first to the last timestamp and that the provided frequency matches the timestamps'.\n",
      "You can refer to https://docs.nixtla.io/docs/tutorials-missing_values for an end to end example.\n",
      "Gagal prediksi Terakhir untuk tanggal 2024-07-10: Series contain missing or duplicate timestamps, or the timestamps do not match the provided frequency.\n",
      "Please make sure that all series have a single observation from the first to the last timestamp and that the provided frequency matches the timestamps'.\n",
      "You can refer to https://docs.nixtla.io/docs/tutorials-missing_values for an end to end example.\n",
      "Gagal prediksi Terakhir untuk tanggal 2024-07-11: Series contain missing or duplicate timestamps, or the timestamps do not match the provided frequency.\n",
      "Please make sure that all series have a single observation from the first to the last timestamp and that the provided frequency matches the timestamps'.\n",
      "You can refer to https://docs.nixtla.io/docs/tutorials-missing_values for an end to end example.\n",
      "Gagal prediksi Terakhir untuk tanggal 2024-07-12: Series contain missing or duplicate timestamps, or the timestamps do not match the provided frequency.\n",
      "Please make sure that all series have a single observation from the first to the last timestamp and that the provided frequency matches the timestamps'.\n",
      "You can refer to https://docs.nixtla.io/docs/tutorials-missing_values for an end to end example.\n",
      "Gagal prediksi Terakhir untuk tanggal 2024-07-13: Series contain missing or duplicate timestamps, or the timestamps do not match the provided frequency.\n",
      "Please make sure that all series have a single observation from the first to the last timestamp and that the provided frequency matches the timestamps'.\n",
      "You can refer to https://docs.nixtla.io/docs/tutorials-missing_values for an end to end example.\n",
      "Gagal prediksi Terakhir untuk tanggal 2024-07-14: Series contain missing or duplicate timestamps, or the timestamps do not match the provided frequency.\n",
      "Please make sure that all series have a single observation from the first to the last timestamp and that the provided frequency matches the timestamps'.\n",
      "You can refer to https://docs.nixtla.io/docs/tutorials-missing_values for an end to end example.\n",
      "Gagal prediksi Terakhir untuk tanggal 2024-07-15: Series contain missing or duplicate timestamps, or the timestamps do not match the provided frequency.\n",
      "Please make sure that all series have a single observation from the first to the last timestamp and that the provided frequency matches the timestamps'.\n",
      "You can refer to https://docs.nixtla.io/docs/tutorials-missing_values for an end to end example.\n",
      "Gagal prediksi Terakhir untuk tanggal 2024-07-16: Series contain missing or duplicate timestamps, or the timestamps do not match the provided frequency.\n",
      "Please make sure that all series have a single observation from the first to the last timestamp and that the provided frequency matches the timestamps'.\n",
      "You can refer to https://docs.nixtla.io/docs/tutorials-missing_values for an end to end example.\n",
      "Gagal prediksi Terakhir untuk tanggal 2024-07-17: Series contain missing or duplicate timestamps, or the timestamps do not match the provided frequency.\n",
      "Please make sure that all series have a single observation from the first to the last timestamp and that the provided frequency matches the timestamps'.\n",
      "You can refer to https://docs.nixtla.io/docs/tutorials-missing_values for an end to end example.\n",
      "Gagal prediksi Terakhir untuk tanggal 2024-07-18: Series contain missing or duplicate timestamps, or the timestamps do not match the provided frequency.\n",
      "Please make sure that all series have a single observation from the first to the last timestamp and that the provided frequency matches the timestamps'.\n",
      "You can refer to https://docs.nixtla.io/docs/tutorials-missing_values for an end to end example.\n",
      "Gagal prediksi Terakhir untuk tanggal 2024-07-19: Series contain missing or duplicate timestamps, or the timestamps do not match the provided frequency.\n",
      "Please make sure that all series have a single observation from the first to the last timestamp and that the provided frequency matches the timestamps'.\n",
      "You can refer to https://docs.nixtla.io/docs/tutorials-missing_values for an end to end example.\n"
     ]
    },
    {
     "name": "stderr",
     "output_type": "stream",
     "text": [
      "INFO:nixtla.nixtla_client:Validating inputs...\n",
      "INFO:nixtla.nixtla_client:Validating inputs...\n",
      "INFO:nixtla.nixtla_client:Validating inputs...\n",
      "INFO:nixtla.nixtla_client:Validating inputs...\n",
      "INFO:nixtla.nixtla_client:Validating inputs...\n",
      "INFO:nixtla.nixtla_client:Validating inputs...\n",
      "INFO:nixtla.nixtla_client:Validating inputs...\n",
      "INFO:nixtla.nixtla_client:Validating inputs...\n",
      "INFO:nixtla.nixtla_client:Validating inputs...\n",
      "INFO:nixtla.nixtla_client:Validating inputs...\n"
     ]
    },
    {
     "name": "stdout",
     "output_type": "stream",
     "text": [
      "Gagal prediksi Terakhir untuk tanggal 2024-07-20: Series contain missing or duplicate timestamps, or the timestamps do not match the provided frequency.\n",
      "Please make sure that all series have a single observation from the first to the last timestamp and that the provided frequency matches the timestamps'.\n",
      "You can refer to https://docs.nixtla.io/docs/tutorials-missing_values for an end to end example.\n",
      "Gagal prediksi Terakhir untuk tanggal 2024-07-21: Series contain missing or duplicate timestamps, or the timestamps do not match the provided frequency.\n",
      "Please make sure that all series have a single observation from the first to the last timestamp and that the provided frequency matches the timestamps'.\n",
      "You can refer to https://docs.nixtla.io/docs/tutorials-missing_values for an end to end example.\n",
      "Gagal prediksi Terakhir untuk tanggal 2024-07-22: Series contain missing or duplicate timestamps, or the timestamps do not match the provided frequency.\n",
      "Please make sure that all series have a single observation from the first to the last timestamp and that the provided frequency matches the timestamps'.\n",
      "You can refer to https://docs.nixtla.io/docs/tutorials-missing_values for an end to end example.\n",
      "Gagal prediksi Terakhir untuk tanggal 2024-07-23: Series contain missing or duplicate timestamps, or the timestamps do not match the provided frequency.\n",
      "Please make sure that all series have a single observation from the first to the last timestamp and that the provided frequency matches the timestamps'.\n",
      "You can refer to https://docs.nixtla.io/docs/tutorials-missing_values for an end to end example.\n",
      "Gagal prediksi Terakhir untuk tanggal 2024-07-24: Series contain missing or duplicate timestamps, or the timestamps do not match the provided frequency.\n",
      "Please make sure that all series have a single observation from the first to the last timestamp and that the provided frequency matches the timestamps'.\n",
      "You can refer to https://docs.nixtla.io/docs/tutorials-missing_values for an end to end example.\n",
      "Gagal prediksi Terakhir untuk tanggal 2024-07-25: Series contain missing or duplicate timestamps, or the timestamps do not match the provided frequency.\n",
      "Please make sure that all series have a single observation from the first to the last timestamp and that the provided frequency matches the timestamps'.\n",
      "You can refer to https://docs.nixtla.io/docs/tutorials-missing_values for an end to end example.\n",
      "Gagal prediksi Terakhir untuk tanggal 2024-07-26: Series contain missing or duplicate timestamps, or the timestamps do not match the provided frequency.\n",
      "Please make sure that all series have a single observation from the first to the last timestamp and that the provided frequency matches the timestamps'.\n",
      "You can refer to https://docs.nixtla.io/docs/tutorials-missing_values for an end to end example.\n",
      "Gagal prediksi Terakhir untuk tanggal 2024-07-27: Series contain missing or duplicate timestamps, or the timestamps do not match the provided frequency.\n",
      "Please make sure that all series have a single observation from the first to the last timestamp and that the provided frequency matches the timestamps'.\n",
      "You can refer to https://docs.nixtla.io/docs/tutorials-missing_values for an end to end example.\n",
      "Gagal prediksi Terakhir untuk tanggal 2024-07-28: Series contain missing or duplicate timestamps, or the timestamps do not match the provided frequency.\n",
      "Please make sure that all series have a single observation from the first to the last timestamp and that the provided frequency matches the timestamps'.\n",
      "You can refer to https://docs.nixtla.io/docs/tutorials-missing_values for an end to end example.\n"
     ]
    },
    {
     "name": "stderr",
     "output_type": "stream",
     "text": [
      "INFO:nixtla.nixtla_client:Validating inputs...\n",
      "INFO:nixtla.nixtla_client:Validating inputs...\n",
      "INFO:nixtla.nixtla_client:Validating inputs...\n",
      "INFO:nixtla.nixtla_client:Validating inputs...\n",
      "INFO:nixtla.nixtla_client:Validating inputs...\n",
      "INFO:nixtla.nixtla_client:Validating inputs...\n",
      "INFO:nixtla.nixtla_client:Validating inputs...\n",
      "INFO:nixtla.nixtla_client:Validating inputs...\n",
      "INFO:nixtla.nixtla_client:Validating inputs...\n",
      "INFO:nixtla.nixtla_client:Validating inputs...\n"
     ]
    },
    {
     "name": "stdout",
     "output_type": "stream",
     "text": [
      "Gagal prediksi Terakhir untuk tanggal 2024-07-29: Series contain missing or duplicate timestamps, or the timestamps do not match the provided frequency.\n",
      "Please make sure that all series have a single observation from the first to the last timestamp and that the provided frequency matches the timestamps'.\n",
      "You can refer to https://docs.nixtla.io/docs/tutorials-missing_values for an end to end example.\n",
      "Gagal prediksi Terakhir untuk tanggal 2024-07-30: Series contain missing or duplicate timestamps, or the timestamps do not match the provided frequency.\n",
      "Please make sure that all series have a single observation from the first to the last timestamp and that the provided frequency matches the timestamps'.\n",
      "You can refer to https://docs.nixtla.io/docs/tutorials-missing_values for an end to end example.\n",
      "Gagal prediksi Terakhir untuk tanggal 2024-07-31: Series contain missing or duplicate timestamps, or the timestamps do not match the provided frequency.\n",
      "Please make sure that all series have a single observation from the first to the last timestamp and that the provided frequency matches the timestamps'.\n",
      "You can refer to https://docs.nixtla.io/docs/tutorials-missing_values for an end to end example.\n",
      "Gagal prediksi Terakhir untuk tanggal 2024-08-01: Series contain missing or duplicate timestamps, or the timestamps do not match the provided frequency.\n",
      "Please make sure that all series have a single observation from the first to the last timestamp and that the provided frequency matches the timestamps'.\n",
      "You can refer to https://docs.nixtla.io/docs/tutorials-missing_values for an end to end example.\n",
      "Gagal prediksi Terakhir untuk tanggal 2024-08-02: Series contain missing or duplicate timestamps, or the timestamps do not match the provided frequency.\n",
      "Please make sure that all series have a single observation from the first to the last timestamp and that the provided frequency matches the timestamps'.\n",
      "You can refer to https://docs.nixtla.io/docs/tutorials-missing_values for an end to end example.\n",
      "Gagal prediksi Terakhir untuk tanggal 2024-08-03: Series contain missing or duplicate timestamps, or the timestamps do not match the provided frequency.\n",
      "Please make sure that all series have a single observation from the first to the last timestamp and that the provided frequency matches the timestamps'.\n",
      "You can refer to https://docs.nixtla.io/docs/tutorials-missing_values for an end to end example.\n",
      "Gagal prediksi Terakhir untuk tanggal 2024-08-04: Series contain missing or duplicate timestamps, or the timestamps do not match the provided frequency.\n",
      "Please make sure that all series have a single observation from the first to the last timestamp and that the provided frequency matches the timestamps'.\n",
      "You can refer to https://docs.nixtla.io/docs/tutorials-missing_values for an end to end example.\n",
      "Gagal prediksi Terakhir untuk tanggal 2024-08-05: Series contain missing or duplicate timestamps, or the timestamps do not match the provided frequency.\n",
      "Please make sure that all series have a single observation from the first to the last timestamp and that the provided frequency matches the timestamps'.\n",
      "You can refer to https://docs.nixtla.io/docs/tutorials-missing_values for an end to end example.\n",
      "Gagal prediksi Terakhir untuk tanggal 2024-08-06: Series contain missing or duplicate timestamps, or the timestamps do not match the provided frequency.\n",
      "Please make sure that all series have a single observation from the first to the last timestamp and that the provided frequency matches the timestamps'.\n",
      "You can refer to https://docs.nixtla.io/docs/tutorials-missing_values for an end to end example.\n",
      "Gagal prediksi Terakhir untuk tanggal 2024-08-07: Series contain missing or duplicate timestamps, or the timestamps do not match the provided frequency.\n",
      "Please make sure that all series have a single observation from the first to the last timestamp and that the provided frequency matches the timestamps'.\n",
      "You can refer to https://docs.nixtla.io/docs/tutorials-missing_values for an end to end example.\n"
     ]
    },
    {
     "name": "stderr",
     "output_type": "stream",
     "text": [
      "INFO:nixtla.nixtla_client:Validating inputs...\n",
      "INFO:nixtla.nixtla_client:Validating inputs...\n",
      "INFO:nixtla.nixtla_client:Validating inputs...\n",
      "INFO:nixtla.nixtla_client:Validating inputs...\n",
      "INFO:nixtla.nixtla_client:Validating inputs...\n",
      "INFO:nixtla.nixtla_client:Validating inputs...\n",
      "INFO:nixtla.nixtla_client:Validating inputs...\n",
      "INFO:nixtla.nixtla_client:Validating inputs...\n",
      "INFO:nixtla.nixtla_client:Validating inputs...\n",
      "INFO:nixtla.nixtla_client:Validating inputs...\n",
      "INFO:nixtla.nixtla_client:Validating inputs...\n"
     ]
    },
    {
     "name": "stdout",
     "output_type": "stream",
     "text": [
      "Gagal prediksi Terakhir untuk tanggal 2024-08-08: Series contain missing or duplicate timestamps, or the timestamps do not match the provided frequency.\n",
      "Please make sure that all series have a single observation from the first to the last timestamp and that the provided frequency matches the timestamps'.\n",
      "You can refer to https://docs.nixtla.io/docs/tutorials-missing_values for an end to end example.\n",
      "Gagal prediksi Terakhir untuk tanggal 2024-08-09: Series contain missing or duplicate timestamps, or the timestamps do not match the provided frequency.\n",
      "Please make sure that all series have a single observation from the first to the last timestamp and that the provided frequency matches the timestamps'.\n",
      "You can refer to https://docs.nixtla.io/docs/tutorials-missing_values for an end to end example.\n",
      "Gagal prediksi Terakhir untuk tanggal 2024-08-10: Series contain missing or duplicate timestamps, or the timestamps do not match the provided frequency.\n",
      "Please make sure that all series have a single observation from the first to the last timestamp and that the provided frequency matches the timestamps'.\n",
      "You can refer to https://docs.nixtla.io/docs/tutorials-missing_values for an end to end example.\n",
      "Gagal prediksi Terakhir untuk tanggal 2024-08-11: Series contain missing or duplicate timestamps, or the timestamps do not match the provided frequency.\n",
      "Please make sure that all series have a single observation from the first to the last timestamp and that the provided frequency matches the timestamps'.\n",
      "You can refer to https://docs.nixtla.io/docs/tutorials-missing_values for an end to end example.\n",
      "Gagal prediksi Terakhir untuk tanggal 2024-08-12: Series contain missing or duplicate timestamps, or the timestamps do not match the provided frequency.\n",
      "Please make sure that all series have a single observation from the first to the last timestamp and that the provided frequency matches the timestamps'.\n",
      "You can refer to https://docs.nixtla.io/docs/tutorials-missing_values for an end to end example.\n",
      "Gagal prediksi Terakhir untuk tanggal 2024-08-13: Series contain missing or duplicate timestamps, or the timestamps do not match the provided frequency.\n",
      "Please make sure that all series have a single observation from the first to the last timestamp and that the provided frequency matches the timestamps'.\n",
      "You can refer to https://docs.nixtla.io/docs/tutorials-missing_values for an end to end example.\n",
      "Gagal prediksi Terakhir untuk tanggal 2024-08-14: Series contain missing or duplicate timestamps, or the timestamps do not match the provided frequency.\n",
      "Please make sure that all series have a single observation from the first to the last timestamp and that the provided frequency matches the timestamps'.\n",
      "You can refer to https://docs.nixtla.io/docs/tutorials-missing_values for an end to end example.\n",
      "Gagal prediksi Terakhir untuk tanggal 2024-08-15: Series contain missing or duplicate timestamps, or the timestamps do not match the provided frequency.\n",
      "Please make sure that all series have a single observation from the first to the last timestamp and that the provided frequency matches the timestamps'.\n",
      "You can refer to https://docs.nixtla.io/docs/tutorials-missing_values for an end to end example.\n",
      "Gagal prediksi Terakhir untuk tanggal 2024-08-16: Series contain missing or duplicate timestamps, or the timestamps do not match the provided frequency.\n",
      "Please make sure that all series have a single observation from the first to the last timestamp and that the provided frequency matches the timestamps'.\n",
      "You can refer to https://docs.nixtla.io/docs/tutorials-missing_values for an end to end example.\n",
      "Gagal prediksi Terakhir untuk tanggal 2024-08-17: Series contain missing or duplicate timestamps, or the timestamps do not match the provided frequency.\n",
      "Please make sure that all series have a single observation from the first to the last timestamp and that the provided frequency matches the timestamps'.\n",
      "You can refer to https://docs.nixtla.io/docs/tutorials-missing_values for an end to end example.\n",
      "Gagal prediksi Terakhir untuk tanggal 2024-08-18: Series contain missing or duplicate timestamps, or the timestamps do not match the provided frequency.\n",
      "Please make sure that all series have a single observation from the first to the last timestamp and that the provided frequency matches the timestamps'.\n",
      "You can refer to https://docs.nixtla.io/docs/tutorials-missing_values for an end to end example.\n",
      "Gagal prediksi Terakhir untuk tanggal 2024-08-19: Series contain missing or duplicate timestamps, or the timestamps do not match the provided frequency.\n",
      "Please make sure that all series have a single observation from the first to the last timestamp and that the provided frequency matches the timestamps'.\n",
      "You can refer to https://docs.nixtla.io/docs/tutorials-missing_values for an end to end example.\n"
     ]
    },
    {
     "name": "stderr",
     "output_type": "stream",
     "text": [
      "INFO:nixtla.nixtla_client:Validating inputs...\n",
      "INFO:nixtla.nixtla_client:Validating inputs...\n",
      "INFO:nixtla.nixtla_client:Validating inputs...\n",
      "INFO:nixtla.nixtla_client:Validating inputs...\n",
      "INFO:nixtla.nixtla_client:Validating inputs...\n",
      "INFO:nixtla.nixtla_client:Validating inputs...\n",
      "INFO:nixtla.nixtla_client:Validating inputs...\n",
      "INFO:nixtla.nixtla_client:Validating inputs...\n",
      "INFO:nixtla.nixtla_client:Validating inputs...\n",
      "INFO:nixtla.nixtla_client:Validating inputs...\n",
      "INFO:nixtla.nixtla_client:Validating inputs...\n",
      "INFO:nixtla.nixtla_client:Validating inputs...\n"
     ]
    },
    {
     "name": "stdout",
     "output_type": "stream",
     "text": [
      "Gagal prediksi Terakhir untuk tanggal 2024-08-20: Series contain missing or duplicate timestamps, or the timestamps do not match the provided frequency.\n",
      "Please make sure that all series have a single observation from the first to the last timestamp and that the provided frequency matches the timestamps'.\n",
      "You can refer to https://docs.nixtla.io/docs/tutorials-missing_values for an end to end example.\n",
      "Gagal prediksi Terakhir untuk tanggal 2024-08-21: Series contain missing or duplicate timestamps, or the timestamps do not match the provided frequency.\n",
      "Please make sure that all series have a single observation from the first to the last timestamp and that the provided frequency matches the timestamps'.\n",
      "You can refer to https://docs.nixtla.io/docs/tutorials-missing_values for an end to end example.\n",
      "Gagal prediksi Terakhir untuk tanggal 2024-08-22: Series contain missing or duplicate timestamps, or the timestamps do not match the provided frequency.\n",
      "Please make sure that all series have a single observation from the first to the last timestamp and that the provided frequency matches the timestamps'.\n",
      "You can refer to https://docs.nixtla.io/docs/tutorials-missing_values for an end to end example.\n",
      "Gagal prediksi Terakhir untuk tanggal 2024-08-23: Series contain missing or duplicate timestamps, or the timestamps do not match the provided frequency.\n",
      "Please make sure that all series have a single observation from the first to the last timestamp and that the provided frequency matches the timestamps'.\n",
      "You can refer to https://docs.nixtla.io/docs/tutorials-missing_values for an end to end example.\n",
      "Gagal prediksi Terakhir untuk tanggal 2024-08-24: Series contain missing or duplicate timestamps, or the timestamps do not match the provided frequency.\n",
      "Please make sure that all series have a single observation from the first to the last timestamp and that the provided frequency matches the timestamps'.\n",
      "You can refer to https://docs.nixtla.io/docs/tutorials-missing_values for an end to end example.\n",
      "Gagal prediksi Terakhir untuk tanggal 2024-08-25: Series contain missing or duplicate timestamps, or the timestamps do not match the provided frequency.\n",
      "Please make sure that all series have a single observation from the first to the last timestamp and that the provided frequency matches the timestamps'.\n",
      "You can refer to https://docs.nixtla.io/docs/tutorials-missing_values for an end to end example.\n",
      "Gagal prediksi Terakhir untuk tanggal 2024-08-26: Series contain missing or duplicate timestamps, or the timestamps do not match the provided frequency.\n",
      "Please make sure that all series have a single observation from the first to the last timestamp and that the provided frequency matches the timestamps'.\n",
      "You can refer to https://docs.nixtla.io/docs/tutorials-missing_values for an end to end example.\n",
      "Gagal prediksi Terakhir untuk tanggal 2024-08-27: Series contain missing or duplicate timestamps, or the timestamps do not match the provided frequency.\n",
      "Please make sure that all series have a single observation from the first to the last timestamp and that the provided frequency matches the timestamps'.\n",
      "You can refer to https://docs.nixtla.io/docs/tutorials-missing_values for an end to end example.\n",
      "Gagal prediksi Terakhir untuk tanggal 2024-08-28: Series contain missing or duplicate timestamps, or the timestamps do not match the provided frequency.\n",
      "Please make sure that all series have a single observation from the first to the last timestamp and that the provided frequency matches the timestamps'.\n",
      "You can refer to https://docs.nixtla.io/docs/tutorials-missing_values for an end to end example.\n",
      "Gagal prediksi Terakhir untuk tanggal 2024-08-29: Series contain missing or duplicate timestamps, or the timestamps do not match the provided frequency.\n",
      "Please make sure that all series have a single observation from the first to the last timestamp and that the provided frequency matches the timestamps'.\n",
      "You can refer to https://docs.nixtla.io/docs/tutorials-missing_values for an end to end example.\n",
      "Gagal prediksi Terakhir untuk tanggal 2024-08-30: Series contain missing or duplicate timestamps, or the timestamps do not match the provided frequency.\n",
      "Please make sure that all series have a single observation from the first to the last timestamp and that the provided frequency matches the timestamps'.\n",
      "You can refer to https://docs.nixtla.io/docs/tutorials-missing_values for an end to end example.\n",
      "Gagal prediksi Terakhir untuk tanggal 2024-08-31: Series contain missing or duplicate timestamps, or the timestamps do not match the provided frequency.\n",
      "Please make sure that all series have a single observation from the first to the last timestamp and that the provided frequency matches the timestamps'.\n",
      "You can refer to https://docs.nixtla.io/docs/tutorials-missing_values for an end to end example.\n"
     ]
    },
    {
     "name": "stderr",
     "output_type": "stream",
     "text": [
      "INFO:nixtla.nixtla_client:Validating inputs...\n",
      "INFO:nixtla.nixtla_client:Validating inputs...\n",
      "INFO:nixtla.nixtla_client:Validating inputs...\n",
      "INFO:nixtla.nixtla_client:Validating inputs...\n",
      "INFO:nixtla.nixtla_client:Validating inputs...\n",
      "INFO:nixtla.nixtla_client:Validating inputs...\n",
      "INFO:nixtla.nixtla_client:Validating inputs...\n",
      "INFO:nixtla.nixtla_client:Validating inputs...\n",
      "INFO:nixtla.nixtla_client:Validating inputs...\n",
      "INFO:nixtla.nixtla_client:Validating inputs...\n"
     ]
    },
    {
     "name": "stdout",
     "output_type": "stream",
     "text": [
      "Gagal prediksi Terakhir untuk tanggal 2024-09-01: Series contain missing or duplicate timestamps, or the timestamps do not match the provided frequency.\n",
      "Please make sure that all series have a single observation from the first to the last timestamp and that the provided frequency matches the timestamps'.\n",
      "You can refer to https://docs.nixtla.io/docs/tutorials-missing_values for an end to end example.\n",
      "Gagal prediksi Terakhir untuk tanggal 2024-09-02: Series contain missing or duplicate timestamps, or the timestamps do not match the provided frequency.\n",
      "Please make sure that all series have a single observation from the first to the last timestamp and that the provided frequency matches the timestamps'.\n",
      "You can refer to https://docs.nixtla.io/docs/tutorials-missing_values for an end to end example.\n",
      "Gagal prediksi Terakhir untuk tanggal 2024-09-03: Series contain missing or duplicate timestamps, or the timestamps do not match the provided frequency.\n",
      "Please make sure that all series have a single observation from the first to the last timestamp and that the provided frequency matches the timestamps'.\n",
      "You can refer to https://docs.nixtla.io/docs/tutorials-missing_values for an end to end example.\n",
      "Gagal prediksi Terakhir untuk tanggal 2024-09-04: Series contain missing or duplicate timestamps, or the timestamps do not match the provided frequency.\n",
      "Please make sure that all series have a single observation from the first to the last timestamp and that the provided frequency matches the timestamps'.\n",
      "You can refer to https://docs.nixtla.io/docs/tutorials-missing_values for an end to end example.\n",
      "Gagal prediksi Terakhir untuk tanggal 2024-09-05: Series contain missing or duplicate timestamps, or the timestamps do not match the provided frequency.\n",
      "Please make sure that all series have a single observation from the first to the last timestamp and that the provided frequency matches the timestamps'.\n",
      "You can refer to https://docs.nixtla.io/docs/tutorials-missing_values for an end to end example.\n",
      "Gagal prediksi Terakhir untuk tanggal 2024-09-06: Series contain missing or duplicate timestamps, or the timestamps do not match the provided frequency.\n",
      "Please make sure that all series have a single observation from the first to the last timestamp and that the provided frequency matches the timestamps'.\n",
      "You can refer to https://docs.nixtla.io/docs/tutorials-missing_values for an end to end example.\n",
      "Gagal prediksi Terakhir untuk tanggal 2024-09-07: Series contain missing or duplicate timestamps, or the timestamps do not match the provided frequency.\n",
      "Please make sure that all series have a single observation from the first to the last timestamp and that the provided frequency matches the timestamps'.\n",
      "You can refer to https://docs.nixtla.io/docs/tutorials-missing_values for an end to end example.\n",
      "Gagal prediksi Terakhir untuk tanggal 2024-09-08: Series contain missing or duplicate timestamps, or the timestamps do not match the provided frequency.\n",
      "Please make sure that all series have a single observation from the first to the last timestamp and that the provided frequency matches the timestamps'.\n",
      "You can refer to https://docs.nixtla.io/docs/tutorials-missing_values for an end to end example.\n",
      "Gagal prediksi Terakhir untuk tanggal 2024-09-09: Series contain missing or duplicate timestamps, or the timestamps do not match the provided frequency.\n",
      "Please make sure that all series have a single observation from the first to the last timestamp and that the provided frequency matches the timestamps'.\n",
      "You can refer to https://docs.nixtla.io/docs/tutorials-missing_values for an end to end example.\n"
     ]
    },
    {
     "name": "stderr",
     "output_type": "stream",
     "text": [
      "INFO:nixtla.nixtla_client:Validating inputs...\n",
      "INFO:nixtla.nixtla_client:Validating inputs...\n",
      "INFO:nixtla.nixtla_client:Validating inputs...\n",
      "INFO:nixtla.nixtla_client:Validating inputs...\n",
      "INFO:nixtla.nixtla_client:Validating inputs...\n",
      "INFO:nixtla.nixtla_client:Validating inputs...\n",
      "INFO:nixtla.nixtla_client:Validating inputs...\n",
      "INFO:nixtla.nixtla_client:Validating inputs...\n",
      "INFO:nixtla.nixtla_client:Validating inputs...\n"
     ]
    },
    {
     "name": "stdout",
     "output_type": "stream",
     "text": [
      "Gagal prediksi Terakhir untuk tanggal 2024-09-10: Series contain missing or duplicate timestamps, or the timestamps do not match the provided frequency.\n",
      "Please make sure that all series have a single observation from the first to the last timestamp and that the provided frequency matches the timestamps'.\n",
      "You can refer to https://docs.nixtla.io/docs/tutorials-missing_values for an end to end example.\n",
      "Gagal prediksi Terakhir untuk tanggal 2024-09-11: Series contain missing or duplicate timestamps, or the timestamps do not match the provided frequency.\n",
      "Please make sure that all series have a single observation from the first to the last timestamp and that the provided frequency matches the timestamps'.\n",
      "You can refer to https://docs.nixtla.io/docs/tutorials-missing_values for an end to end example.\n",
      "Gagal prediksi Terakhir untuk tanggal 2024-09-12: Series contain missing or duplicate timestamps, or the timestamps do not match the provided frequency.\n",
      "Please make sure that all series have a single observation from the first to the last timestamp and that the provided frequency matches the timestamps'.\n",
      "You can refer to https://docs.nixtla.io/docs/tutorials-missing_values for an end to end example.\n",
      "Gagal prediksi Terakhir untuk tanggal 2024-09-13: Series contain missing or duplicate timestamps, or the timestamps do not match the provided frequency.\n",
      "Please make sure that all series have a single observation from the first to the last timestamp and that the provided frequency matches the timestamps'.\n",
      "You can refer to https://docs.nixtla.io/docs/tutorials-missing_values for an end to end example.\n",
      "Gagal prediksi Terakhir untuk tanggal 2024-09-14: Series contain missing or duplicate timestamps, or the timestamps do not match the provided frequency.\n",
      "Please make sure that all series have a single observation from the first to the last timestamp and that the provided frequency matches the timestamps'.\n",
      "You can refer to https://docs.nixtla.io/docs/tutorials-missing_values for an end to end example.\n",
      "Gagal prediksi Terakhir untuk tanggal 2024-09-15: Series contain missing or duplicate timestamps, or the timestamps do not match the provided frequency.\n",
      "Please make sure that all series have a single observation from the first to the last timestamp and that the provided frequency matches the timestamps'.\n",
      "You can refer to https://docs.nixtla.io/docs/tutorials-missing_values for an end to end example.\n",
      "Gagal prediksi Terakhir untuk tanggal 2024-09-16: Series contain missing or duplicate timestamps, or the timestamps do not match the provided frequency.\n",
      "Please make sure that all series have a single observation from the first to the last timestamp and that the provided frequency matches the timestamps'.\n",
      "You can refer to https://docs.nixtla.io/docs/tutorials-missing_values for an end to end example.\n",
      "Gagal prediksi Terakhir untuk tanggal 2024-09-17: Series contain missing or duplicate timestamps, or the timestamps do not match the provided frequency.\n",
      "Please make sure that all series have a single observation from the first to the last timestamp and that the provided frequency matches the timestamps'.\n",
      "You can refer to https://docs.nixtla.io/docs/tutorials-missing_values for an end to end example.\n",
      "Gagal prediksi Terakhir untuk tanggal 2024-09-18: Series contain missing or duplicate timestamps, or the timestamps do not match the provided frequency.\n",
      "Please make sure that all series have a single observation from the first to the last timestamp and that the provided frequency matches the timestamps'.\n",
      "You can refer to https://docs.nixtla.io/docs/tutorials-missing_values for an end to end example.\n"
     ]
    },
    {
     "name": "stderr",
     "output_type": "stream",
     "text": [
      "INFO:nixtla.nixtla_client:Validating inputs...\n",
      "INFO:nixtla.nixtla_client:Validating inputs...\n",
      "INFO:nixtla.nixtla_client:Validating inputs...\n",
      "INFO:nixtla.nixtla_client:Validating inputs...\n",
      "INFO:nixtla.nixtla_client:Validating inputs...\n",
      "INFO:nixtla.nixtla_client:Validating inputs...\n",
      "INFO:nixtla.nixtla_client:Validating inputs...\n",
      "INFO:nixtla.nixtla_client:Validating inputs...\n",
      "INFO:nixtla.nixtla_client:Validating inputs...\n",
      "INFO:nixtla.nixtla_client:Validating inputs...\n",
      "INFO:nixtla.nixtla_client:Validating inputs...\n"
     ]
    },
    {
     "name": "stdout",
     "output_type": "stream",
     "text": [
      "Gagal prediksi Terakhir untuk tanggal 2024-09-19: Series contain missing or duplicate timestamps, or the timestamps do not match the provided frequency.\n",
      "Please make sure that all series have a single observation from the first to the last timestamp and that the provided frequency matches the timestamps'.\n",
      "You can refer to https://docs.nixtla.io/docs/tutorials-missing_values for an end to end example.\n",
      "Gagal prediksi Terakhir untuk tanggal 2024-09-20: Series contain missing or duplicate timestamps, or the timestamps do not match the provided frequency.\n",
      "Please make sure that all series have a single observation from the first to the last timestamp and that the provided frequency matches the timestamps'.\n",
      "You can refer to https://docs.nixtla.io/docs/tutorials-missing_values for an end to end example.\n",
      "Gagal prediksi Terakhir untuk tanggal 2024-09-21: Series contain missing or duplicate timestamps, or the timestamps do not match the provided frequency.\n",
      "Please make sure that all series have a single observation from the first to the last timestamp and that the provided frequency matches the timestamps'.\n",
      "You can refer to https://docs.nixtla.io/docs/tutorials-missing_values for an end to end example.\n",
      "Gagal prediksi Terakhir untuk tanggal 2024-09-22: Series contain missing or duplicate timestamps, or the timestamps do not match the provided frequency.\n",
      "Please make sure that all series have a single observation from the first to the last timestamp and that the provided frequency matches the timestamps'.\n",
      "You can refer to https://docs.nixtla.io/docs/tutorials-missing_values for an end to end example.\n",
      "Gagal prediksi Terakhir untuk tanggal 2024-09-23: Series contain missing or duplicate timestamps, or the timestamps do not match the provided frequency.\n",
      "Please make sure that all series have a single observation from the first to the last timestamp and that the provided frequency matches the timestamps'.\n",
      "You can refer to https://docs.nixtla.io/docs/tutorials-missing_values for an end to end example.\n",
      "Gagal prediksi Terakhir untuk tanggal 2024-09-24: Series contain missing or duplicate timestamps, or the timestamps do not match the provided frequency.\n",
      "Please make sure that all series have a single observation from the first to the last timestamp and that the provided frequency matches the timestamps'.\n",
      "You can refer to https://docs.nixtla.io/docs/tutorials-missing_values for an end to end example.\n",
      "Gagal prediksi Terakhir untuk tanggal 2024-09-25: Series contain missing or duplicate timestamps, or the timestamps do not match the provided frequency.\n",
      "Please make sure that all series have a single observation from the first to the last timestamp and that the provided frequency matches the timestamps'.\n",
      "You can refer to https://docs.nixtla.io/docs/tutorials-missing_values for an end to end example.\n",
      "Gagal prediksi Terakhir untuk tanggal 2024-09-26: Series contain missing or duplicate timestamps, or the timestamps do not match the provided frequency.\n",
      "Please make sure that all series have a single observation from the first to the last timestamp and that the provided frequency matches the timestamps'.\n",
      "You can refer to https://docs.nixtla.io/docs/tutorials-missing_values for an end to end example.\n",
      "Gagal prediksi Terakhir untuk tanggal 2024-09-27: Series contain missing or duplicate timestamps, or the timestamps do not match the provided frequency.\n",
      "Please make sure that all series have a single observation from the first to the last timestamp and that the provided frequency matches the timestamps'.\n",
      "You can refer to https://docs.nixtla.io/docs/tutorials-missing_values for an end to end example.\n",
      "Gagal prediksi Terakhir untuk tanggal 2024-09-28: Series contain missing or duplicate timestamps, or the timestamps do not match the provided frequency.\n",
      "Please make sure that all series have a single observation from the first to the last timestamp and that the provided frequency matches the timestamps'.\n",
      "You can refer to https://docs.nixtla.io/docs/tutorials-missing_values for an end to end example.\n",
      "Gagal prediksi Terakhir untuk tanggal 2024-09-29: Series contain missing or duplicate timestamps, or the timestamps do not match the provided frequency.\n",
      "Please make sure that all series have a single observation from the first to the last timestamp and that the provided frequency matches the timestamps'.\n",
      "You can refer to https://docs.nixtla.io/docs/tutorials-missing_values for an end to end example.\n",
      "Gagal prediksi Terakhir untuk tanggal 2024-09-30: Series contain missing or duplicate timestamps, or the timestamps do not match the provided frequency.\n",
      "Please make sure that all series have a single observation from the first to the last timestamp and that the provided frequency matches the timestamps'.\n",
      "You can refer to https://docs.nixtla.io/docs/tutorials-missing_values for an end to end example.\n"
     ]
    },
    {
     "name": "stderr",
     "output_type": "stream",
     "text": [
      "INFO:nixtla.nixtla_client:Validating inputs...\n",
      "INFO:nixtla.nixtla_client:Validating inputs...\n",
      "INFO:nixtla.nixtla_client:Validating inputs...\n",
      "INFO:nixtla.nixtla_client:Validating inputs...\n",
      "INFO:nixtla.nixtla_client:Validating inputs...\n",
      "INFO:nixtla.nixtla_client:Validating inputs...\n",
      "INFO:nixtla.nixtla_client:Validating inputs...\n",
      "INFO:nixtla.nixtla_client:Validating inputs...\n",
      "INFO:nixtla.nixtla_client:Validating inputs...\n",
      "INFO:nixtla.nixtla_client:Validating inputs...\n",
      "INFO:nixtla.nixtla_client:Validating inputs...\n",
      "INFO:nixtla.nixtla_client:Validating inputs...\n"
     ]
    },
    {
     "name": "stdout",
     "output_type": "stream",
     "text": [
      "Gagal prediksi Terakhir untuk tanggal 2024-10-01: Series contain missing or duplicate timestamps, or the timestamps do not match the provided frequency.\n",
      "Please make sure that all series have a single observation from the first to the last timestamp and that the provided frequency matches the timestamps'.\n",
      "You can refer to https://docs.nixtla.io/docs/tutorials-missing_values for an end to end example.\n",
      "Gagal prediksi Terakhir untuk tanggal 2024-10-02: Series contain missing or duplicate timestamps, or the timestamps do not match the provided frequency.\n",
      "Please make sure that all series have a single observation from the first to the last timestamp and that the provided frequency matches the timestamps'.\n",
      "You can refer to https://docs.nixtla.io/docs/tutorials-missing_values for an end to end example.\n",
      "Gagal prediksi Terakhir untuk tanggal 2024-10-03: Series contain missing or duplicate timestamps, or the timestamps do not match the provided frequency.\n",
      "Please make sure that all series have a single observation from the first to the last timestamp and that the provided frequency matches the timestamps'.\n",
      "You can refer to https://docs.nixtla.io/docs/tutorials-missing_values for an end to end example.\n",
      "Gagal prediksi Terakhir untuk tanggal 2024-10-04: Series contain missing or duplicate timestamps, or the timestamps do not match the provided frequency.\n",
      "Please make sure that all series have a single observation from the first to the last timestamp and that the provided frequency matches the timestamps'.\n",
      "You can refer to https://docs.nixtla.io/docs/tutorials-missing_values for an end to end example.\n",
      "Gagal prediksi Terakhir untuk tanggal 2024-10-05: Series contain missing or duplicate timestamps, or the timestamps do not match the provided frequency.\n",
      "Please make sure that all series have a single observation from the first to the last timestamp and that the provided frequency matches the timestamps'.\n",
      "You can refer to https://docs.nixtla.io/docs/tutorials-missing_values for an end to end example.\n",
      "Gagal prediksi Terakhir untuk tanggal 2024-10-06: Series contain missing or duplicate timestamps, or the timestamps do not match the provided frequency.\n",
      "Please make sure that all series have a single observation from the first to the last timestamp and that the provided frequency matches the timestamps'.\n",
      "You can refer to https://docs.nixtla.io/docs/tutorials-missing_values for an end to end example.\n",
      "Gagal prediksi Terakhir untuk tanggal 2024-10-07: Series contain missing or duplicate timestamps, or the timestamps do not match the provided frequency.\n",
      "Please make sure that all series have a single observation from the first to the last timestamp and that the provided frequency matches the timestamps'.\n",
      "You can refer to https://docs.nixtla.io/docs/tutorials-missing_values for an end to end example.\n",
      "Gagal prediksi Terakhir untuk tanggal 2024-10-08: Series contain missing or duplicate timestamps, or the timestamps do not match the provided frequency.\n",
      "Please make sure that all series have a single observation from the first to the last timestamp and that the provided frequency matches the timestamps'.\n",
      "You can refer to https://docs.nixtla.io/docs/tutorials-missing_values for an end to end example.\n",
      "Gagal prediksi Terakhir untuk tanggal 2024-10-09: Series contain missing or duplicate timestamps, or the timestamps do not match the provided frequency.\n",
      "Please make sure that all series have a single observation from the first to the last timestamp and that the provided frequency matches the timestamps'.\n",
      "You can refer to https://docs.nixtla.io/docs/tutorials-missing_values for an end to end example.\n",
      "Gagal prediksi Terakhir untuk tanggal 2024-10-10: Series contain missing or duplicate timestamps, or the timestamps do not match the provided frequency.\n",
      "Please make sure that all series have a single observation from the first to the last timestamp and that the provided frequency matches the timestamps'.\n",
      "You can refer to https://docs.nixtla.io/docs/tutorials-missing_values for an end to end example.\n",
      "Gagal prediksi Terakhir untuk tanggal 2024-10-11: Series contain missing or duplicate timestamps, or the timestamps do not match the provided frequency.\n",
      "Please make sure that all series have a single observation from the first to the last timestamp and that the provided frequency matches the timestamps'.\n",
      "You can refer to https://docs.nixtla.io/docs/tutorials-missing_values for an end to end example.\n",
      "Gagal prediksi Terakhir untuk tanggal 2024-10-12: Series contain missing or duplicate timestamps, or the timestamps do not match the provided frequency.\n",
      "Please make sure that all series have a single observation from the first to the last timestamp and that the provided frequency matches the timestamps'.\n",
      "You can refer to https://docs.nixtla.io/docs/tutorials-missing_values for an end to end example.\n"
     ]
    },
    {
     "name": "stderr",
     "output_type": "stream",
     "text": [
      "INFO:nixtla.nixtla_client:Validating inputs...\n",
      "INFO:nixtla.nixtla_client:Validating inputs...\n",
      "INFO:nixtla.nixtla_client:Validating inputs...\n",
      "INFO:nixtla.nixtla_client:Validating inputs...\n",
      "INFO:nixtla.nixtla_client:Validating inputs...\n",
      "INFO:nixtla.nixtla_client:Validating inputs...\n",
      "INFO:nixtla.nixtla_client:Validating inputs...\n",
      "INFO:nixtla.nixtla_client:Validating inputs...\n",
      "INFO:nixtla.nixtla_client:Validating inputs...\n",
      "INFO:nixtla.nixtla_client:Validating inputs...\n",
      "INFO:nixtla.nixtla_client:Validating inputs...\n",
      "INFO:nixtla.nixtla_client:Validating inputs...\n",
      "INFO:nixtla.nixtla_client:Validating inputs...\n"
     ]
    },
    {
     "name": "stdout",
     "output_type": "stream",
     "text": [
      "Gagal prediksi Terakhir untuk tanggal 2024-10-13: Series contain missing or duplicate timestamps, or the timestamps do not match the provided frequency.\n",
      "Please make sure that all series have a single observation from the first to the last timestamp and that the provided frequency matches the timestamps'.\n",
      "You can refer to https://docs.nixtla.io/docs/tutorials-missing_values for an end to end example.\n",
      "Gagal prediksi Terakhir untuk tanggal 2024-10-14: Series contain missing or duplicate timestamps, or the timestamps do not match the provided frequency.\n",
      "Please make sure that all series have a single observation from the first to the last timestamp and that the provided frequency matches the timestamps'.\n",
      "You can refer to https://docs.nixtla.io/docs/tutorials-missing_values for an end to end example.\n",
      "Gagal prediksi Terakhir untuk tanggal 2024-10-15: Series contain missing or duplicate timestamps, or the timestamps do not match the provided frequency.\n",
      "Please make sure that all series have a single observation from the first to the last timestamp and that the provided frequency matches the timestamps'.\n",
      "You can refer to https://docs.nixtla.io/docs/tutorials-missing_values for an end to end example.\n",
      "Gagal prediksi Terakhir untuk tanggal 2024-10-16: Series contain missing or duplicate timestamps, or the timestamps do not match the provided frequency.\n",
      "Please make sure that all series have a single observation from the first to the last timestamp and that the provided frequency matches the timestamps'.\n",
      "You can refer to https://docs.nixtla.io/docs/tutorials-missing_values for an end to end example.\n",
      "Gagal prediksi Terakhir untuk tanggal 2024-10-17: Series contain missing or duplicate timestamps, or the timestamps do not match the provided frequency.\n",
      "Please make sure that all series have a single observation from the first to the last timestamp and that the provided frequency matches the timestamps'.\n",
      "You can refer to https://docs.nixtla.io/docs/tutorials-missing_values for an end to end example.\n",
      "Gagal prediksi Terakhir untuk tanggal 2024-10-18: Series contain missing or duplicate timestamps, or the timestamps do not match the provided frequency.\n",
      "Please make sure that all series have a single observation from the first to the last timestamp and that the provided frequency matches the timestamps'.\n",
      "You can refer to https://docs.nixtla.io/docs/tutorials-missing_values for an end to end example.\n",
      "Gagal prediksi Terakhir untuk tanggal 2024-10-19: Series contain missing or duplicate timestamps, or the timestamps do not match the provided frequency.\n",
      "Please make sure that all series have a single observation from the first to the last timestamp and that the provided frequency matches the timestamps'.\n",
      "You can refer to https://docs.nixtla.io/docs/tutorials-missing_values for an end to end example.\n",
      "Gagal prediksi Terakhir untuk tanggal 2024-10-20: Series contain missing or duplicate timestamps, or the timestamps do not match the provided frequency.\n",
      "Please make sure that all series have a single observation from the first to the last timestamp and that the provided frequency matches the timestamps'.\n",
      "You can refer to https://docs.nixtla.io/docs/tutorials-missing_values for an end to end example.\n",
      "Gagal prediksi Terakhir untuk tanggal 2024-10-21: Series contain missing or duplicate timestamps, or the timestamps do not match the provided frequency.\n",
      "Please make sure that all series have a single observation from the first to the last timestamp and that the provided frequency matches the timestamps'.\n",
      "You can refer to https://docs.nixtla.io/docs/tutorials-missing_values for an end to end example.\n",
      "Gagal prediksi Terakhir untuk tanggal 2024-10-22: Series contain missing or duplicate timestamps, or the timestamps do not match the provided frequency.\n",
      "Please make sure that all series have a single observation from the first to the last timestamp and that the provided frequency matches the timestamps'.\n",
      "You can refer to https://docs.nixtla.io/docs/tutorials-missing_values for an end to end example.\n",
      "Gagal prediksi Terakhir untuk tanggal 2024-10-23: Series contain missing or duplicate timestamps, or the timestamps do not match the provided frequency.\n",
      "Please make sure that all series have a single observation from the first to the last timestamp and that the provided frequency matches the timestamps'.\n",
      "You can refer to https://docs.nixtla.io/docs/tutorials-missing_values for an end to end example.\n",
      "Gagal prediksi Terakhir untuk tanggal 2024-10-24: Series contain missing or duplicate timestamps, or the timestamps do not match the provided frequency.\n",
      "Please make sure that all series have a single observation from the first to the last timestamp and that the provided frequency matches the timestamps'.\n",
      "You can refer to https://docs.nixtla.io/docs/tutorials-missing_values for an end to end example.\n"
     ]
    },
    {
     "name": "stderr",
     "output_type": "stream",
     "text": [
      "INFO:nixtla.nixtla_client:Validating inputs...\n",
      "INFO:nixtla.nixtla_client:Validating inputs...\n",
      "INFO:nixtla.nixtla_client:Validating inputs...\n",
      "INFO:nixtla.nixtla_client:Validating inputs...\n",
      "INFO:nixtla.nixtla_client:Validating inputs...\n",
      "INFO:nixtla.nixtla_client:Validating inputs...\n",
      "INFO:nixtla.nixtla_client:Validating inputs...\n",
      "INFO:nixtla.nixtla_client:Validating inputs...\n",
      "INFO:nixtla.nixtla_client:Validating inputs...\n",
      "INFO:nixtla.nixtla_client:Validating inputs...\n"
     ]
    },
    {
     "name": "stdout",
     "output_type": "stream",
     "text": [
      "Gagal prediksi Terakhir untuk tanggal 2024-10-25: Series contain missing or duplicate timestamps, or the timestamps do not match the provided frequency.\n",
      "Please make sure that all series have a single observation from the first to the last timestamp and that the provided frequency matches the timestamps'.\n",
      "You can refer to https://docs.nixtla.io/docs/tutorials-missing_values for an end to end example.\n",
      "Gagal prediksi Terakhir untuk tanggal 2024-10-26: Series contain missing or duplicate timestamps, or the timestamps do not match the provided frequency.\n",
      "Please make sure that all series have a single observation from the first to the last timestamp and that the provided frequency matches the timestamps'.\n",
      "You can refer to https://docs.nixtla.io/docs/tutorials-missing_values for an end to end example.\n",
      "Gagal prediksi Terakhir untuk tanggal 2024-10-27: Series contain missing or duplicate timestamps, or the timestamps do not match the provided frequency.\n",
      "Please make sure that all series have a single observation from the first to the last timestamp and that the provided frequency matches the timestamps'.\n",
      "You can refer to https://docs.nixtla.io/docs/tutorials-missing_values for an end to end example.\n",
      "Gagal prediksi Terakhir untuk tanggal 2024-10-28: Series contain missing or duplicate timestamps, or the timestamps do not match the provided frequency.\n",
      "Please make sure that all series have a single observation from the first to the last timestamp and that the provided frequency matches the timestamps'.\n",
      "You can refer to https://docs.nixtla.io/docs/tutorials-missing_values for an end to end example.\n",
      "Gagal prediksi Terakhir untuk tanggal 2024-10-29: Series contain missing or duplicate timestamps, or the timestamps do not match the provided frequency.\n",
      "Please make sure that all series have a single observation from the first to the last timestamp and that the provided frequency matches the timestamps'.\n",
      "You can refer to https://docs.nixtla.io/docs/tutorials-missing_values for an end to end example.\n",
      "Gagal prediksi Terakhir untuk tanggal 2024-10-30: Series contain missing or duplicate timestamps, or the timestamps do not match the provided frequency.\n",
      "Please make sure that all series have a single observation from the first to the last timestamp and that the provided frequency matches the timestamps'.\n",
      "You can refer to https://docs.nixtla.io/docs/tutorials-missing_values for an end to end example.\n",
      "Gagal prediksi Terakhir untuk tanggal 2024-10-31: Series contain missing or duplicate timestamps, or the timestamps do not match the provided frequency.\n",
      "Please make sure that all series have a single observation from the first to the last timestamp and that the provided frequency matches the timestamps'.\n",
      "You can refer to https://docs.nixtla.io/docs/tutorials-missing_values for an end to end example.\n",
      "Gagal prediksi Terakhir untuk tanggal 2024-11-01: Series contain missing or duplicate timestamps, or the timestamps do not match the provided frequency.\n",
      "Please make sure that all series have a single observation from the first to the last timestamp and that the provided frequency matches the timestamps'.\n",
      "You can refer to https://docs.nixtla.io/docs/tutorials-missing_values for an end to end example.\n",
      "Gagal prediksi Terakhir untuk tanggal 2024-11-02: Series contain missing or duplicate timestamps, or the timestamps do not match the provided frequency.\n",
      "Please make sure that all series have a single observation from the first to the last timestamp and that the provided frequency matches the timestamps'.\n",
      "You can refer to https://docs.nixtla.io/docs/tutorials-missing_values for an end to end example.\n",
      "Gagal prediksi Terakhir untuk tanggal 2024-11-03: Series contain missing or duplicate timestamps, or the timestamps do not match the provided frequency.\n",
      "Please make sure that all series have a single observation from the first to the last timestamp and that the provided frequency matches the timestamps'.\n",
      "You can refer to https://docs.nixtla.io/docs/tutorials-missing_values for an end to end example.\n",
      "Gagal prediksi Terakhir untuk tanggal 2024-11-04: Series contain missing or duplicate timestamps, or the timestamps do not match the provided frequency.\n",
      "Please make sure that all series have a single observation from the first to the last timestamp and that the provided frequency matches the timestamps'.\n",
      "You can refer to https://docs.nixtla.io/docs/tutorials-missing_values for an end to end example.\n"
     ]
    },
    {
     "name": "stderr",
     "output_type": "stream",
     "text": [
      "INFO:nixtla.nixtla_client:Validating inputs...\n",
      "INFO:nixtla.nixtla_client:Validating inputs...\n",
      "INFO:nixtla.nixtla_client:Validating inputs...\n",
      "INFO:nixtla.nixtla_client:Validating inputs...\n",
      "INFO:nixtla.nixtla_client:Validating inputs...\n",
      "INFO:nixtla.nixtla_client:Validating inputs...\n",
      "INFO:nixtla.nixtla_client:Validating inputs...\n",
      "INFO:nixtla.nixtla_client:Validating inputs...\n",
      "INFO:nixtla.nixtla_client:Validating inputs...\n",
      "INFO:nixtla.nixtla_client:Validating inputs...\n"
     ]
    },
    {
     "name": "stdout",
     "output_type": "stream",
     "text": [
      "Gagal prediksi Terakhir untuk tanggal 2024-11-05: Series contain missing or duplicate timestamps, or the timestamps do not match the provided frequency.\n",
      "Please make sure that all series have a single observation from the first to the last timestamp and that the provided frequency matches the timestamps'.\n",
      "You can refer to https://docs.nixtla.io/docs/tutorials-missing_values for an end to end example.\n",
      "Gagal prediksi Terakhir untuk tanggal 2024-11-06: Series contain missing or duplicate timestamps, or the timestamps do not match the provided frequency.\n",
      "Please make sure that all series have a single observation from the first to the last timestamp and that the provided frequency matches the timestamps'.\n",
      "You can refer to https://docs.nixtla.io/docs/tutorials-missing_values for an end to end example.\n",
      "Gagal prediksi Terakhir untuk tanggal 2024-11-07: Series contain missing or duplicate timestamps, or the timestamps do not match the provided frequency.\n",
      "Please make sure that all series have a single observation from the first to the last timestamp and that the provided frequency matches the timestamps'.\n",
      "You can refer to https://docs.nixtla.io/docs/tutorials-missing_values for an end to end example.\n",
      "Gagal prediksi Terakhir untuk tanggal 2024-11-08: Series contain missing or duplicate timestamps, or the timestamps do not match the provided frequency.\n",
      "Please make sure that all series have a single observation from the first to the last timestamp and that the provided frequency matches the timestamps'.\n",
      "You can refer to https://docs.nixtla.io/docs/tutorials-missing_values for an end to end example.\n",
      "Gagal prediksi Terakhir untuk tanggal 2024-11-09: Series contain missing or duplicate timestamps, or the timestamps do not match the provided frequency.\n",
      "Please make sure that all series have a single observation from the first to the last timestamp and that the provided frequency matches the timestamps'.\n",
      "You can refer to https://docs.nixtla.io/docs/tutorials-missing_values for an end to end example.\n",
      "Gagal prediksi Terakhir untuk tanggal 2024-11-10: Series contain missing or duplicate timestamps, or the timestamps do not match the provided frequency.\n",
      "Please make sure that all series have a single observation from the first to the last timestamp and that the provided frequency matches the timestamps'.\n",
      "You can refer to https://docs.nixtla.io/docs/tutorials-missing_values for an end to end example.\n",
      "Gagal prediksi Terakhir untuk tanggal 2024-11-11: Series contain missing or duplicate timestamps, or the timestamps do not match the provided frequency.\n",
      "Please make sure that all series have a single observation from the first to the last timestamp and that the provided frequency matches the timestamps'.\n",
      "You can refer to https://docs.nixtla.io/docs/tutorials-missing_values for an end to end example.\n",
      "Gagal prediksi Terakhir untuk tanggal 2024-11-12: Series contain missing or duplicate timestamps, or the timestamps do not match the provided frequency.\n",
      "Please make sure that all series have a single observation from the first to the last timestamp and that the provided frequency matches the timestamps'.\n",
      "You can refer to https://docs.nixtla.io/docs/tutorials-missing_values for an end to end example.\n",
      "Gagal prediksi Terakhir untuk tanggal 2024-11-13: Series contain missing or duplicate timestamps, or the timestamps do not match the provided frequency.\n",
      "Please make sure that all series have a single observation from the first to the last timestamp and that the provided frequency matches the timestamps'.\n",
      "You can refer to https://docs.nixtla.io/docs/tutorials-missing_values for an end to end example.\n"
     ]
    },
    {
     "name": "stderr",
     "output_type": "stream",
     "text": [
      "INFO:nixtla.nixtla_client:Validating inputs...\n",
      "INFO:nixtla.nixtla_client:Validating inputs...\n",
      "INFO:nixtla.nixtla_client:Validating inputs...\n",
      "INFO:nixtla.nixtla_client:Validating inputs...\n",
      "INFO:nixtla.nixtla_client:Validating inputs...\n",
      "INFO:nixtla.nixtla_client:Validating inputs...\n",
      "INFO:nixtla.nixtla_client:Validating inputs...\n",
      "INFO:nixtla.nixtla_client:Validating inputs...\n",
      "INFO:nixtla.nixtla_client:Validating inputs...\n"
     ]
    },
    {
     "name": "stdout",
     "output_type": "stream",
     "text": [
      "Gagal prediksi Terakhir untuk tanggal 2024-11-14: Series contain missing or duplicate timestamps, or the timestamps do not match the provided frequency.\n",
      "Please make sure that all series have a single observation from the first to the last timestamp and that the provided frequency matches the timestamps'.\n",
      "You can refer to https://docs.nixtla.io/docs/tutorials-missing_values for an end to end example.\n",
      "Gagal prediksi Terakhir untuk tanggal 2024-11-15: Series contain missing or duplicate timestamps, or the timestamps do not match the provided frequency.\n",
      "Please make sure that all series have a single observation from the first to the last timestamp and that the provided frequency matches the timestamps'.\n",
      "You can refer to https://docs.nixtla.io/docs/tutorials-missing_values for an end to end example.\n",
      "Gagal prediksi Terakhir untuk tanggal 2024-11-16: Series contain missing or duplicate timestamps, or the timestamps do not match the provided frequency.\n",
      "Please make sure that all series have a single observation from the first to the last timestamp and that the provided frequency matches the timestamps'.\n",
      "You can refer to https://docs.nixtla.io/docs/tutorials-missing_values for an end to end example.\n",
      "Gagal prediksi Terakhir untuk tanggal 2024-11-17: Series contain missing or duplicate timestamps, or the timestamps do not match the provided frequency.\n",
      "Please make sure that all series have a single observation from the first to the last timestamp and that the provided frequency matches the timestamps'.\n",
      "You can refer to https://docs.nixtla.io/docs/tutorials-missing_values for an end to end example.\n",
      "Gagal prediksi Terakhir untuk tanggal 2024-11-18: Series contain missing or duplicate timestamps, or the timestamps do not match the provided frequency.\n",
      "Please make sure that all series have a single observation from the first to the last timestamp and that the provided frequency matches the timestamps'.\n",
      "You can refer to https://docs.nixtla.io/docs/tutorials-missing_values for an end to end example.\n",
      "Gagal prediksi Terakhir untuk tanggal 2024-11-19: Series contain missing or duplicate timestamps, or the timestamps do not match the provided frequency.\n",
      "Please make sure that all series have a single observation from the first to the last timestamp and that the provided frequency matches the timestamps'.\n",
      "You can refer to https://docs.nixtla.io/docs/tutorials-missing_values for an end to end example.\n",
      "Gagal prediksi Terakhir untuk tanggal 2024-11-20: Series contain missing or duplicate timestamps, or the timestamps do not match the provided frequency.\n",
      "Please make sure that all series have a single observation from the first to the last timestamp and that the provided frequency matches the timestamps'.\n",
      "You can refer to https://docs.nixtla.io/docs/tutorials-missing_values for an end to end example.\n",
      "Gagal prediksi Terakhir untuk tanggal 2024-11-21: Series contain missing or duplicate timestamps, or the timestamps do not match the provided frequency.\n",
      "Please make sure that all series have a single observation from the first to the last timestamp and that the provided frequency matches the timestamps'.\n",
      "You can refer to https://docs.nixtla.io/docs/tutorials-missing_values for an end to end example.\n",
      "Gagal prediksi Terakhir untuk tanggal 2024-11-22: Series contain missing or duplicate timestamps, or the timestamps do not match the provided frequency.\n",
      "Please make sure that all series have a single observation from the first to the last timestamp and that the provided frequency matches the timestamps'.\n",
      "You can refer to https://docs.nixtla.io/docs/tutorials-missing_values for an end to end example.\n"
     ]
    },
    {
     "name": "stderr",
     "output_type": "stream",
     "text": [
      "INFO:nixtla.nixtla_client:Validating inputs...\n",
      "INFO:nixtla.nixtla_client:Validating inputs...\n",
      "INFO:nixtla.nixtla_client:Validating inputs...\n",
      "INFO:nixtla.nixtla_client:Validating inputs...\n",
      "INFO:nixtla.nixtla_client:Validating inputs...\n",
      "INFO:nixtla.nixtla_client:Validating inputs...\n",
      "INFO:nixtla.nixtla_client:Validating inputs...\n",
      "INFO:nixtla.nixtla_client:Validating inputs...\n",
      "INFO:nixtla.nixtla_client:Validating inputs...\n",
      "INFO:nixtla.nixtla_client:Validating inputs...\n"
     ]
    },
    {
     "name": "stdout",
     "output_type": "stream",
     "text": [
      "Gagal prediksi Terakhir untuk tanggal 2024-11-23: Series contain missing or duplicate timestamps, or the timestamps do not match the provided frequency.\n",
      "Please make sure that all series have a single observation from the first to the last timestamp and that the provided frequency matches the timestamps'.\n",
      "You can refer to https://docs.nixtla.io/docs/tutorials-missing_values for an end to end example.\n",
      "Gagal prediksi Terakhir untuk tanggal 2024-11-24: Series contain missing or duplicate timestamps, or the timestamps do not match the provided frequency.\n",
      "Please make sure that all series have a single observation from the first to the last timestamp and that the provided frequency matches the timestamps'.\n",
      "You can refer to https://docs.nixtla.io/docs/tutorials-missing_values for an end to end example.\n",
      "Gagal prediksi Terakhir untuk tanggal 2024-11-25: Series contain missing or duplicate timestamps, or the timestamps do not match the provided frequency.\n",
      "Please make sure that all series have a single observation from the first to the last timestamp and that the provided frequency matches the timestamps'.\n",
      "You can refer to https://docs.nixtla.io/docs/tutorials-missing_values for an end to end example.\n",
      "Gagal prediksi Terakhir untuk tanggal 2024-11-26: Series contain missing or duplicate timestamps, or the timestamps do not match the provided frequency.\n",
      "Please make sure that all series have a single observation from the first to the last timestamp and that the provided frequency matches the timestamps'.\n",
      "You can refer to https://docs.nixtla.io/docs/tutorials-missing_values for an end to end example.\n",
      "Gagal prediksi Terakhir untuk tanggal 2024-11-27: Series contain missing or duplicate timestamps, or the timestamps do not match the provided frequency.\n",
      "Please make sure that all series have a single observation from the first to the last timestamp and that the provided frequency matches the timestamps'.\n",
      "You can refer to https://docs.nixtla.io/docs/tutorials-missing_values for an end to end example.\n",
      "Gagal prediksi Terakhir untuk tanggal 2024-11-28: Series contain missing or duplicate timestamps, or the timestamps do not match the provided frequency.\n",
      "Please make sure that all series have a single observation from the first to the last timestamp and that the provided frequency matches the timestamps'.\n",
      "You can refer to https://docs.nixtla.io/docs/tutorials-missing_values for an end to end example.\n",
      "Gagal prediksi Terakhir untuk tanggal 2024-11-29: Series contain missing or duplicate timestamps, or the timestamps do not match the provided frequency.\n",
      "Please make sure that all series have a single observation from the first to the last timestamp and that the provided frequency matches the timestamps'.\n",
      "You can refer to https://docs.nixtla.io/docs/tutorials-missing_values for an end to end example.\n",
      "Gagal prediksi Terakhir untuk tanggal 2024-11-30: Series contain missing or duplicate timestamps, or the timestamps do not match the provided frequency.\n",
      "Please make sure that all series have a single observation from the first to the last timestamp and that the provided frequency matches the timestamps'.\n",
      "You can refer to https://docs.nixtla.io/docs/tutorials-missing_values for an end to end example.\n",
      "Gagal prediksi Terakhir untuk tanggal 2024-12-01: Series contain missing or duplicate timestamps, or the timestamps do not match the provided frequency.\n",
      "Please make sure that all series have a single observation from the first to the last timestamp and that the provided frequency matches the timestamps'.\n",
      "You can refer to https://docs.nixtla.io/docs/tutorials-missing_values for an end to end example.\n",
      "Gagal prediksi Terakhir untuk tanggal 2024-12-02: Series contain missing or duplicate timestamps, or the timestamps do not match the provided frequency.\n",
      "Please make sure that all series have a single observation from the first to the last timestamp and that the provided frequency matches the timestamps'.\n",
      "You can refer to https://docs.nixtla.io/docs/tutorials-missing_values for an end to end example.\n"
     ]
    },
    {
     "name": "stderr",
     "output_type": "stream",
     "text": [
      "INFO:nixtla.nixtla_client:Validating inputs...\n",
      "INFO:nixtla.nixtla_client:Validating inputs...\n",
      "INFO:nixtla.nixtla_client:Validating inputs...\n",
      "INFO:nixtla.nixtla_client:Validating inputs...\n",
      "INFO:nixtla.nixtla_client:Validating inputs...\n",
      "INFO:nixtla.nixtla_client:Validating inputs...\n",
      "INFO:nixtla.nixtla_client:Validating inputs...\n",
      "INFO:nixtla.nixtla_client:Validating inputs...\n",
      "INFO:nixtla.nixtla_client:Validating inputs...\n",
      "INFO:nixtla.nixtla_client:Validating inputs...\n",
      "INFO:nixtla.nixtla_client:Validating inputs...\n",
      "INFO:nixtla.nixtla_client:Validating inputs...\n",
      "INFO:nixtla.nixtla_client:Validating inputs...\n"
     ]
    },
    {
     "name": "stdout",
     "output_type": "stream",
     "text": [
      "Gagal prediksi Terakhir untuk tanggal 2024-12-03: Series contain missing or duplicate timestamps, or the timestamps do not match the provided frequency.\n",
      "Please make sure that all series have a single observation from the first to the last timestamp and that the provided frequency matches the timestamps'.\n",
      "You can refer to https://docs.nixtla.io/docs/tutorials-missing_values for an end to end example.\n",
      "Gagal prediksi Terakhir untuk tanggal 2024-12-04: Series contain missing or duplicate timestamps, or the timestamps do not match the provided frequency.\n",
      "Please make sure that all series have a single observation from the first to the last timestamp and that the provided frequency matches the timestamps'.\n",
      "You can refer to https://docs.nixtla.io/docs/tutorials-missing_values for an end to end example.\n",
      "Gagal prediksi Terakhir untuk tanggal 2024-12-05: Series contain missing or duplicate timestamps, or the timestamps do not match the provided frequency.\n",
      "Please make sure that all series have a single observation from the first to the last timestamp and that the provided frequency matches the timestamps'.\n",
      "You can refer to https://docs.nixtla.io/docs/tutorials-missing_values for an end to end example.\n",
      "Gagal prediksi Terakhir untuk tanggal 2024-12-06: Series contain missing or duplicate timestamps, or the timestamps do not match the provided frequency.\n",
      "Please make sure that all series have a single observation from the first to the last timestamp and that the provided frequency matches the timestamps'.\n",
      "You can refer to https://docs.nixtla.io/docs/tutorials-missing_values for an end to end example.\n",
      "Gagal prediksi Terakhir untuk tanggal 2024-12-07: Series contain missing or duplicate timestamps, or the timestamps do not match the provided frequency.\n",
      "Please make sure that all series have a single observation from the first to the last timestamp and that the provided frequency matches the timestamps'.\n",
      "You can refer to https://docs.nixtla.io/docs/tutorials-missing_values for an end to end example.\n",
      "Gagal prediksi Terakhir untuk tanggal 2024-12-08: Series contain missing or duplicate timestamps, or the timestamps do not match the provided frequency.\n",
      "Please make sure that all series have a single observation from the first to the last timestamp and that the provided frequency matches the timestamps'.\n",
      "You can refer to https://docs.nixtla.io/docs/tutorials-missing_values for an end to end example.\n",
      "Gagal prediksi Terakhir untuk tanggal 2024-12-09: Series contain missing or duplicate timestamps, or the timestamps do not match the provided frequency.\n",
      "Please make sure that all series have a single observation from the first to the last timestamp and that the provided frequency matches the timestamps'.\n",
      "You can refer to https://docs.nixtla.io/docs/tutorials-missing_values for an end to end example.\n",
      "Gagal prediksi Terakhir untuk tanggal 2024-12-10: Series contain missing or duplicate timestamps, or the timestamps do not match the provided frequency.\n",
      "Please make sure that all series have a single observation from the first to the last timestamp and that the provided frequency matches the timestamps'.\n",
      "You can refer to https://docs.nixtla.io/docs/tutorials-missing_values for an end to end example.\n",
      "Gagal prediksi Terakhir untuk tanggal 2024-12-11: Series contain missing or duplicate timestamps, or the timestamps do not match the provided frequency.\n",
      "Please make sure that all series have a single observation from the first to the last timestamp and that the provided frequency matches the timestamps'.\n",
      "You can refer to https://docs.nixtla.io/docs/tutorials-missing_values for an end to end example.\n",
      "Gagal prediksi Terakhir untuk tanggal 2024-12-12: Series contain missing or duplicate timestamps, or the timestamps do not match the provided frequency.\n",
      "Please make sure that all series have a single observation from the first to the last timestamp and that the provided frequency matches the timestamps'.\n",
      "You can refer to https://docs.nixtla.io/docs/tutorials-missing_values for an end to end example.\n",
      "Gagal prediksi Terakhir untuk tanggal 2024-12-13: Series contain missing or duplicate timestamps, or the timestamps do not match the provided frequency.\n",
      "Please make sure that all series have a single observation from the first to the last timestamp and that the provided frequency matches the timestamps'.\n",
      "You can refer to https://docs.nixtla.io/docs/tutorials-missing_values for an end to end example.\n",
      "Gagal prediksi Terakhir untuk tanggal 2024-12-14: Series contain missing or duplicate timestamps, or the timestamps do not match the provided frequency.\n",
      "Please make sure that all series have a single observation from the first to the last timestamp and that the provided frequency matches the timestamps'.\n",
      "You can refer to https://docs.nixtla.io/docs/tutorials-missing_values for an end to end example.\n",
      "Gagal prediksi Terakhir untuk tanggal 2024-12-15: Series contain missing or duplicate timestamps, or the timestamps do not match the provided frequency.\n",
      "Please make sure that all series have a single observation from the first to the last timestamp and that the provided frequency matches the timestamps'.\n",
      "You can refer to https://docs.nixtla.io/docs/tutorials-missing_values for an end to end example.\n"
     ]
    },
    {
     "name": "stderr",
     "output_type": "stream",
     "text": [
      "INFO:nixtla.nixtla_client:Validating inputs...\n",
      "INFO:nixtla.nixtla_client:Validating inputs...\n",
      "INFO:nixtla.nixtla_client:Validating inputs...\n",
      "INFO:nixtla.nixtla_client:Validating inputs...\n",
      "INFO:nixtla.nixtla_client:Validating inputs...\n",
      "INFO:nixtla.nixtla_client:Validating inputs...\n",
      "INFO:nixtla.nixtla_client:Validating inputs...\n",
      "INFO:nixtla.nixtla_client:Validating inputs...\n",
      "INFO:nixtla.nixtla_client:Validating inputs...\n",
      "INFO:nixtla.nixtla_client:Validating inputs...\n",
      "INFO:nixtla.nixtla_client:Validating inputs...\n"
     ]
    },
    {
     "name": "stdout",
     "output_type": "stream",
     "text": [
      "Gagal prediksi Terakhir untuk tanggal 2024-12-16: Series contain missing or duplicate timestamps, or the timestamps do not match the provided frequency.\n",
      "Please make sure that all series have a single observation from the first to the last timestamp and that the provided frequency matches the timestamps'.\n",
      "You can refer to https://docs.nixtla.io/docs/tutorials-missing_values for an end to end example.\n",
      "Gagal prediksi Terakhir untuk tanggal 2024-12-17: Series contain missing or duplicate timestamps, or the timestamps do not match the provided frequency.\n",
      "Please make sure that all series have a single observation from the first to the last timestamp and that the provided frequency matches the timestamps'.\n",
      "You can refer to https://docs.nixtla.io/docs/tutorials-missing_values for an end to end example.\n",
      "Gagal prediksi Terakhir untuk tanggal 2024-12-18: Series contain missing or duplicate timestamps, or the timestamps do not match the provided frequency.\n",
      "Please make sure that all series have a single observation from the first to the last timestamp and that the provided frequency matches the timestamps'.\n",
      "You can refer to https://docs.nixtla.io/docs/tutorials-missing_values for an end to end example.\n",
      "Gagal prediksi Terakhir untuk tanggal 2024-12-19: Series contain missing or duplicate timestamps, or the timestamps do not match the provided frequency.\n",
      "Please make sure that all series have a single observation from the first to the last timestamp and that the provided frequency matches the timestamps'.\n",
      "You can refer to https://docs.nixtla.io/docs/tutorials-missing_values for an end to end example.\n",
      "Gagal prediksi Terakhir untuk tanggal 2024-12-20: Series contain missing or duplicate timestamps, or the timestamps do not match the provided frequency.\n",
      "Please make sure that all series have a single observation from the first to the last timestamp and that the provided frequency matches the timestamps'.\n",
      "You can refer to https://docs.nixtla.io/docs/tutorials-missing_values for an end to end example.\n",
      "Gagal prediksi Terakhir untuk tanggal 2024-12-21: Series contain missing or duplicate timestamps, or the timestamps do not match the provided frequency.\n",
      "Please make sure that all series have a single observation from the first to the last timestamp and that the provided frequency matches the timestamps'.\n",
      "You can refer to https://docs.nixtla.io/docs/tutorials-missing_values for an end to end example.\n",
      "Gagal prediksi Terakhir untuk tanggal 2024-12-22: Series contain missing or duplicate timestamps, or the timestamps do not match the provided frequency.\n",
      "Please make sure that all series have a single observation from the first to the last timestamp and that the provided frequency matches the timestamps'.\n",
      "You can refer to https://docs.nixtla.io/docs/tutorials-missing_values for an end to end example.\n",
      "Gagal prediksi Terakhir untuk tanggal 2024-12-23: Series contain missing or duplicate timestamps, or the timestamps do not match the provided frequency.\n",
      "Please make sure that all series have a single observation from the first to the last timestamp and that the provided frequency matches the timestamps'.\n",
      "You can refer to https://docs.nixtla.io/docs/tutorials-missing_values for an end to end example.\n",
      "Gagal prediksi Terakhir untuk tanggal 2024-12-24: Series contain missing or duplicate timestamps, or the timestamps do not match the provided frequency.\n",
      "Please make sure that all series have a single observation from the first to the last timestamp and that the provided frequency matches the timestamps'.\n",
      "You can refer to https://docs.nixtla.io/docs/tutorials-missing_values for an end to end example.\n",
      "Gagal prediksi Terakhir untuk tanggal 2024-12-25: Series contain missing or duplicate timestamps, or the timestamps do not match the provided frequency.\n",
      "Please make sure that all series have a single observation from the first to the last timestamp and that the provided frequency matches the timestamps'.\n",
      "You can refer to https://docs.nixtla.io/docs/tutorials-missing_values for an end to end example.\n",
      "Gagal prediksi Terakhir untuk tanggal 2024-12-26: Series contain missing or duplicate timestamps, or the timestamps do not match the provided frequency.\n",
      "Please make sure that all series have a single observation from the first to the last timestamp and that the provided frequency matches the timestamps'.\n",
      "You can refer to https://docs.nixtla.io/docs/tutorials-missing_values for an end to end example.\n"
     ]
    },
    {
     "name": "stderr",
     "output_type": "stream",
     "text": [
      "INFO:nixtla.nixtla_client:Validating inputs...\n",
      "INFO:nixtla.nixtla_client:Validating inputs...\n",
      "INFO:nixtla.nixtla_client:Validating inputs...\n",
      "INFO:nixtla.nixtla_client:Validating inputs...\n",
      "INFO:nixtla.nixtla_client:Validating inputs...\n",
      "INFO:nixtla.nixtla_client:Validating inputs...\n",
      "INFO:nixtla.nixtla_client:Validating inputs...\n",
      "INFO:nixtla.nixtla_client:Validating inputs...\n",
      "INFO:nixtla.nixtla_client:Validating inputs...\n",
      "INFO:nixtla.nixtla_client:Validating inputs...\n",
      "INFO:nixtla.nixtla_client:Validating inputs...\n"
     ]
    },
    {
     "name": "stdout",
     "output_type": "stream",
     "text": [
      "Gagal prediksi Terakhir untuk tanggal 2024-12-27: Series contain missing or duplicate timestamps, or the timestamps do not match the provided frequency.\n",
      "Please make sure that all series have a single observation from the first to the last timestamp and that the provided frequency matches the timestamps'.\n",
      "You can refer to https://docs.nixtla.io/docs/tutorials-missing_values for an end to end example.\n",
      "Gagal prediksi Terakhir untuk tanggal 2024-12-28: Series contain missing or duplicate timestamps, or the timestamps do not match the provided frequency.\n",
      "Please make sure that all series have a single observation from the first to the last timestamp and that the provided frequency matches the timestamps'.\n",
      "You can refer to https://docs.nixtla.io/docs/tutorials-missing_values for an end to end example.\n",
      "Gagal prediksi Terakhir untuk tanggal 2024-12-29: Series contain missing or duplicate timestamps, or the timestamps do not match the provided frequency.\n",
      "Please make sure that all series have a single observation from the first to the last timestamp and that the provided frequency matches the timestamps'.\n",
      "You can refer to https://docs.nixtla.io/docs/tutorials-missing_values for an end to end example.\n",
      "Gagal prediksi Terakhir untuk tanggal 2024-12-30: Series contain missing or duplicate timestamps, or the timestamps do not match the provided frequency.\n",
      "Please make sure that all series have a single observation from the first to the last timestamp and that the provided frequency matches the timestamps'.\n",
      "You can refer to https://docs.nixtla.io/docs/tutorials-missing_values for an end to end example.\n",
      "Gagal prediksi Terakhir untuk tanggal 2024-12-31: Series contain missing or duplicate timestamps, or the timestamps do not match the provided frequency.\n",
      "Please make sure that all series have a single observation from the first to the last timestamp and that the provided frequency matches the timestamps'.\n",
      "You can refer to https://docs.nixtla.io/docs/tutorials-missing_values for an end to end example.\n",
      "Gagal prediksi Terakhir untuk tanggal 2025-01-01: Series contain missing or duplicate timestamps, or the timestamps do not match the provided frequency.\n",
      "Please make sure that all series have a single observation from the first to the last timestamp and that the provided frequency matches the timestamps'.\n",
      "You can refer to https://docs.nixtla.io/docs/tutorials-missing_values for an end to end example.\n",
      "Gagal prediksi Terakhir untuk tanggal 2025-01-02: Series contain missing or duplicate timestamps, or the timestamps do not match the provided frequency.\n",
      "Please make sure that all series have a single observation from the first to the last timestamp and that the provided frequency matches the timestamps'.\n",
      "You can refer to https://docs.nixtla.io/docs/tutorials-missing_values for an end to end example.\n",
      "Gagal prediksi Terakhir untuk tanggal 2025-01-03: Series contain missing or duplicate timestamps, or the timestamps do not match the provided frequency.\n",
      "Please make sure that all series have a single observation from the first to the last timestamp and that the provided frequency matches the timestamps'.\n",
      "You can refer to https://docs.nixtla.io/docs/tutorials-missing_values for an end to end example.\n",
      "Gagal prediksi Terakhir untuk tanggal 2025-01-04: Series contain missing or duplicate timestamps, or the timestamps do not match the provided frequency.\n",
      "Please make sure that all series have a single observation from the first to the last timestamp and that the provided frequency matches the timestamps'.\n",
      "You can refer to https://docs.nixtla.io/docs/tutorials-missing_values for an end to end example.\n",
      "Gagal prediksi Terakhir untuk tanggal 2025-01-05: Series contain missing or duplicate timestamps, or the timestamps do not match the provided frequency.\n",
      "Please make sure that all series have a single observation from the first to the last timestamp and that the provided frequency matches the timestamps'.\n",
      "You can refer to https://docs.nixtla.io/docs/tutorials-missing_values for an end to end example.\n",
      "Gagal prediksi Terakhir untuk tanggal 2025-01-06: Series contain missing or duplicate timestamps, or the timestamps do not match the provided frequency.\n",
      "Please make sure that all series have a single observation from the first to the last timestamp and that the provided frequency matches the timestamps'.\n",
      "You can refer to https://docs.nixtla.io/docs/tutorials-missing_values for an end to end example.\n",
      "Gagal prediksi Terakhir untuk tanggal 2025-01-07: Series contain missing or duplicate timestamps, or the timestamps do not match the provided frequency.\n",
      "Please make sure that all series have a single observation from the first to the last timestamp and that the provided frequency matches the timestamps'.\n",
      "You can refer to https://docs.nixtla.io/docs/tutorials-missing_values for an end to end example.\n"
     ]
    },
    {
     "name": "stderr",
     "output_type": "stream",
     "text": [
      "INFO:nixtla.nixtla_client:Validating inputs...\n",
      "INFO:nixtla.nixtla_client:Validating inputs...\n",
      "INFO:nixtla.nixtla_client:Validating inputs...\n",
      "INFO:nixtla.nixtla_client:Validating inputs...\n",
      "INFO:nixtla.nixtla_client:Validating inputs...\n",
      "INFO:nixtla.nixtla_client:Validating inputs...\n",
      "INFO:nixtla.nixtla_client:Validating inputs...\n",
      "INFO:nixtla.nixtla_client:Validating inputs...\n",
      "INFO:nixtla.nixtla_client:Validating inputs...\n",
      "INFO:nixtla.nixtla_client:Validating inputs...\n",
      "INFO:nixtla.nixtla_client:Validating inputs...\n",
      "INFO:nixtla.nixtla_client:Validating inputs...\n"
     ]
    },
    {
     "name": "stdout",
     "output_type": "stream",
     "text": [
      "Gagal prediksi Terakhir untuk tanggal 2025-01-08: Series contain missing or duplicate timestamps, or the timestamps do not match the provided frequency.\n",
      "Please make sure that all series have a single observation from the first to the last timestamp and that the provided frequency matches the timestamps'.\n",
      "You can refer to https://docs.nixtla.io/docs/tutorials-missing_values for an end to end example.\n",
      "Gagal prediksi Terakhir untuk tanggal 2025-01-09: Series contain missing or duplicate timestamps, or the timestamps do not match the provided frequency.\n",
      "Please make sure that all series have a single observation from the first to the last timestamp and that the provided frequency matches the timestamps'.\n",
      "You can refer to https://docs.nixtla.io/docs/tutorials-missing_values for an end to end example.\n",
      "Gagal prediksi Terakhir untuk tanggal 2025-01-10: Series contain missing or duplicate timestamps, or the timestamps do not match the provided frequency.\n",
      "Please make sure that all series have a single observation from the first to the last timestamp and that the provided frequency matches the timestamps'.\n",
      "You can refer to https://docs.nixtla.io/docs/tutorials-missing_values for an end to end example.\n",
      "Gagal prediksi Terakhir untuk tanggal 2025-01-11: Series contain missing or duplicate timestamps, or the timestamps do not match the provided frequency.\n",
      "Please make sure that all series have a single observation from the first to the last timestamp and that the provided frequency matches the timestamps'.\n",
      "You can refer to https://docs.nixtla.io/docs/tutorials-missing_values for an end to end example.\n",
      "Gagal prediksi Terakhir untuk tanggal 2025-01-12: Series contain missing or duplicate timestamps, or the timestamps do not match the provided frequency.\n",
      "Please make sure that all series have a single observation from the first to the last timestamp and that the provided frequency matches the timestamps'.\n",
      "You can refer to https://docs.nixtla.io/docs/tutorials-missing_values for an end to end example.\n",
      "Gagal prediksi Terakhir untuk tanggal 2025-01-13: Series contain missing or duplicate timestamps, or the timestamps do not match the provided frequency.\n",
      "Please make sure that all series have a single observation from the first to the last timestamp and that the provided frequency matches the timestamps'.\n",
      "You can refer to https://docs.nixtla.io/docs/tutorials-missing_values for an end to end example.\n",
      "Gagal prediksi Terakhir untuk tanggal 2025-01-14: Series contain missing or duplicate timestamps, or the timestamps do not match the provided frequency.\n",
      "Please make sure that all series have a single observation from the first to the last timestamp and that the provided frequency matches the timestamps'.\n",
      "You can refer to https://docs.nixtla.io/docs/tutorials-missing_values for an end to end example.\n",
      "Gagal prediksi Terakhir untuk tanggal 2025-01-15: Series contain missing or duplicate timestamps, or the timestamps do not match the provided frequency.\n",
      "Please make sure that all series have a single observation from the first to the last timestamp and that the provided frequency matches the timestamps'.\n",
      "You can refer to https://docs.nixtla.io/docs/tutorials-missing_values for an end to end example.\n",
      "Gagal prediksi Terakhir untuk tanggal 2025-01-16: Series contain missing or duplicate timestamps, or the timestamps do not match the provided frequency.\n",
      "Please make sure that all series have a single observation from the first to the last timestamp and that the provided frequency matches the timestamps'.\n",
      "You can refer to https://docs.nixtla.io/docs/tutorials-missing_values for an end to end example.\n",
      "Gagal prediksi Terakhir untuk tanggal 2025-01-17: Series contain missing or duplicate timestamps, or the timestamps do not match the provided frequency.\n",
      "Please make sure that all series have a single observation from the first to the last timestamp and that the provided frequency matches the timestamps'.\n",
      "You can refer to https://docs.nixtla.io/docs/tutorials-missing_values for an end to end example.\n",
      "Gagal prediksi Terakhir untuk tanggal 2025-01-18: Series contain missing or duplicate timestamps, or the timestamps do not match the provided frequency.\n",
      "Please make sure that all series have a single observation from the first to the last timestamp and that the provided frequency matches the timestamps'.\n",
      "You can refer to https://docs.nixtla.io/docs/tutorials-missing_values for an end to end example.\n"
     ]
    },
    {
     "name": "stderr",
     "output_type": "stream",
     "text": [
      "INFO:nixtla.nixtla_client:Validating inputs...\n",
      "INFO:nixtla.nixtla_client:Validating inputs...\n",
      "INFO:nixtla.nixtla_client:Validating inputs...\n",
      "INFO:nixtla.nixtla_client:Validating inputs...\n",
      "INFO:nixtla.nixtla_client:Validating inputs...\n",
      "INFO:nixtla.nixtla_client:Validating inputs...\n",
      "INFO:nixtla.nixtla_client:Validating inputs...\n",
      "INFO:nixtla.nixtla_client:Validating inputs...\n",
      "INFO:nixtla.nixtla_client:Validating inputs...\n",
      "INFO:nixtla.nixtla_client:Validating inputs...\n",
      "INFO:nixtla.nixtla_client:Validating inputs...\n",
      "INFO:nixtla.nixtla_client:Validating inputs...\n"
     ]
    },
    {
     "name": "stdout",
     "output_type": "stream",
     "text": [
      "Gagal prediksi Terakhir untuk tanggal 2025-01-19: Series contain missing or duplicate timestamps, or the timestamps do not match the provided frequency.\n",
      "Please make sure that all series have a single observation from the first to the last timestamp and that the provided frequency matches the timestamps'.\n",
      "You can refer to https://docs.nixtla.io/docs/tutorials-missing_values for an end to end example.\n",
      "Gagal prediksi Terakhir untuk tanggal 2025-01-20: Series contain missing or duplicate timestamps, or the timestamps do not match the provided frequency.\n",
      "Please make sure that all series have a single observation from the first to the last timestamp and that the provided frequency matches the timestamps'.\n",
      "You can refer to https://docs.nixtla.io/docs/tutorials-missing_values for an end to end example.\n",
      "Gagal prediksi Terakhir untuk tanggal 2025-01-21: Series contain missing or duplicate timestamps, or the timestamps do not match the provided frequency.\n",
      "Please make sure that all series have a single observation from the first to the last timestamp and that the provided frequency matches the timestamps'.\n",
      "You can refer to https://docs.nixtla.io/docs/tutorials-missing_values for an end to end example.\n",
      "Gagal prediksi Terakhir untuk tanggal 2025-01-22: Series contain missing or duplicate timestamps, or the timestamps do not match the provided frequency.\n",
      "Please make sure that all series have a single observation from the first to the last timestamp and that the provided frequency matches the timestamps'.\n",
      "You can refer to https://docs.nixtla.io/docs/tutorials-missing_values for an end to end example.\n",
      "Gagal prediksi Terakhir untuk tanggal 2025-01-23: Series contain missing or duplicate timestamps, or the timestamps do not match the provided frequency.\n",
      "Please make sure that all series have a single observation from the first to the last timestamp and that the provided frequency matches the timestamps'.\n",
      "You can refer to https://docs.nixtla.io/docs/tutorials-missing_values for an end to end example.\n",
      "Gagal prediksi Terakhir untuk tanggal 2025-01-24: Series contain missing or duplicate timestamps, or the timestamps do not match the provided frequency.\n",
      "Please make sure that all series have a single observation from the first to the last timestamp and that the provided frequency matches the timestamps'.\n",
      "You can refer to https://docs.nixtla.io/docs/tutorials-missing_values for an end to end example.\n",
      "Gagal prediksi Terakhir untuk tanggal 2025-01-25: Series contain missing or duplicate timestamps, or the timestamps do not match the provided frequency.\n",
      "Please make sure that all series have a single observation from the first to the last timestamp and that the provided frequency matches the timestamps'.\n",
      "You can refer to https://docs.nixtla.io/docs/tutorials-missing_values for an end to end example.\n",
      "Gagal prediksi Terakhir untuk tanggal 2025-01-26: Series contain missing or duplicate timestamps, or the timestamps do not match the provided frequency.\n",
      "Please make sure that all series have a single observation from the first to the last timestamp and that the provided frequency matches the timestamps'.\n",
      "You can refer to https://docs.nixtla.io/docs/tutorials-missing_values for an end to end example.\n",
      "Gagal prediksi Terakhir untuk tanggal 2025-01-27: Series contain missing or duplicate timestamps, or the timestamps do not match the provided frequency.\n",
      "Please make sure that all series have a single observation from the first to the last timestamp and that the provided frequency matches the timestamps'.\n",
      "You can refer to https://docs.nixtla.io/docs/tutorials-missing_values for an end to end example.\n",
      "Gagal prediksi Terakhir untuk tanggal 2025-01-28: Series contain missing or duplicate timestamps, or the timestamps do not match the provided frequency.\n",
      "Please make sure that all series have a single observation from the first to the last timestamp and that the provided frequency matches the timestamps'.\n",
      "You can refer to https://docs.nixtla.io/docs/tutorials-missing_values for an end to end example.\n",
      "Gagal prediksi Terakhir untuk tanggal 2025-01-29: Series contain missing or duplicate timestamps, or the timestamps do not match the provided frequency.\n",
      "Please make sure that all series have a single observation from the first to the last timestamp and that the provided frequency matches the timestamps'.\n",
      "You can refer to https://docs.nixtla.io/docs/tutorials-missing_values for an end to end example.\n",
      "Gagal prediksi Terakhir untuk tanggal 2025-01-30: Series contain missing or duplicate timestamps, or the timestamps do not match the provided frequency.\n",
      "Please make sure that all series have a single observation from the first to the last timestamp and that the provided frequency matches the timestamps'.\n",
      "You can refer to https://docs.nixtla.io/docs/tutorials-missing_values for an end to end example.\n"
     ]
    },
    {
     "name": "stderr",
     "output_type": "stream",
     "text": [
      "INFO:nixtla.nixtla_client:Validating inputs...\n",
      "INFO:nixtla.nixtla_client:Validating inputs...\n",
      "INFO:nixtla.nixtla_client:Validating inputs...\n",
      "INFO:nixtla.nixtla_client:Validating inputs...\n",
      "INFO:nixtla.nixtla_client:Validating inputs...\n",
      "INFO:nixtla.nixtla_client:Validating inputs...\n",
      "INFO:nixtla.nixtla_client:Validating inputs...\n",
      "INFO:nixtla.nixtla_client:Validating inputs...\n",
      "INFO:nixtla.nixtla_client:Validating inputs...\n",
      "INFO:nixtla.nixtla_client:Validating inputs...\n",
      "INFO:nixtla.nixtla_client:Validating inputs...\n"
     ]
    },
    {
     "name": "stdout",
     "output_type": "stream",
     "text": [
      "Gagal prediksi Terakhir untuk tanggal 2025-01-31: Series contain missing or duplicate timestamps, or the timestamps do not match the provided frequency.\n",
      "Please make sure that all series have a single observation from the first to the last timestamp and that the provided frequency matches the timestamps'.\n",
      "You can refer to https://docs.nixtla.io/docs/tutorials-missing_values for an end to end example.\n",
      "Memulai prediksi untuk kolom: Pembukaan\n",
      "Gagal prediksi Pembukaan untuk tanggal 2024-07-01: Series contain missing or duplicate timestamps, or the timestamps do not match the provided frequency.\n",
      "Please make sure that all series have a single observation from the first to the last timestamp and that the provided frequency matches the timestamps'.\n",
      "You can refer to https://docs.nixtla.io/docs/tutorials-missing_values for an end to end example.\n",
      "Gagal prediksi Pembukaan untuk tanggal 2024-07-02: Series contain missing or duplicate timestamps, or the timestamps do not match the provided frequency.\n",
      "Please make sure that all series have a single observation from the first to the last timestamp and that the provided frequency matches the timestamps'.\n",
      "You can refer to https://docs.nixtla.io/docs/tutorials-missing_values for an end to end example.\n",
      "Gagal prediksi Pembukaan untuk tanggal 2024-07-03: Series contain missing or duplicate timestamps, or the timestamps do not match the provided frequency.\n",
      "Please make sure that all series have a single observation from the first to the last timestamp and that the provided frequency matches the timestamps'.\n",
      "You can refer to https://docs.nixtla.io/docs/tutorials-missing_values for an end to end example.\n",
      "Gagal prediksi Pembukaan untuk tanggal 2024-07-04: Series contain missing or duplicate timestamps, or the timestamps do not match the provided frequency.\n",
      "Please make sure that all series have a single observation from the first to the last timestamp and that the provided frequency matches the timestamps'.\n",
      "You can refer to https://docs.nixtla.io/docs/tutorials-missing_values for an end to end example.\n",
      "Gagal prediksi Pembukaan untuk tanggal 2024-07-05: Series contain missing or duplicate timestamps, or the timestamps do not match the provided frequency.\n",
      "Please make sure that all series have a single observation from the first to the last timestamp and that the provided frequency matches the timestamps'.\n",
      "You can refer to https://docs.nixtla.io/docs/tutorials-missing_values for an end to end example.\n",
      "Gagal prediksi Pembukaan untuk tanggal 2024-07-06: Series contain missing or duplicate timestamps, or the timestamps do not match the provided frequency.\n",
      "Please make sure that all series have a single observation from the first to the last timestamp and that the provided frequency matches the timestamps'.\n",
      "You can refer to https://docs.nixtla.io/docs/tutorials-missing_values for an end to end example.\n",
      "Gagal prediksi Pembukaan untuk tanggal 2024-07-07: Series contain missing or duplicate timestamps, or the timestamps do not match the provided frequency.\n",
      "Please make sure that all series have a single observation from the first to the last timestamp and that the provided frequency matches the timestamps'.\n",
      "You can refer to https://docs.nixtla.io/docs/tutorials-missing_values for an end to end example.\n",
      "Gagal prediksi Pembukaan untuk tanggal 2024-07-08: Series contain missing or duplicate timestamps, or the timestamps do not match the provided frequency.\n",
      "Please make sure that all series have a single observation from the first to the last timestamp and that the provided frequency matches the timestamps'.\n",
      "You can refer to https://docs.nixtla.io/docs/tutorials-missing_values for an end to end example.\n",
      "Gagal prediksi Pembukaan untuk tanggal 2024-07-09: Series contain missing or duplicate timestamps, or the timestamps do not match the provided frequency.\n",
      "Please make sure that all series have a single observation from the first to the last timestamp and that the provided frequency matches the timestamps'.\n",
      "You can refer to https://docs.nixtla.io/docs/tutorials-missing_values for an end to end example.\n",
      "Gagal prediksi Pembukaan untuk tanggal 2024-07-10: Series contain missing or duplicate timestamps, or the timestamps do not match the provided frequency.\n",
      "Please make sure that all series have a single observation from the first to the last timestamp and that the provided frequency matches the timestamps'.\n",
      "You can refer to https://docs.nixtla.io/docs/tutorials-missing_values for an end to end example.\n",
      "Gagal prediksi Pembukaan untuk tanggal 2024-07-11: Series contain missing or duplicate timestamps, or the timestamps do not match the provided frequency.\n",
      "Please make sure that all series have a single observation from the first to the last timestamp and that the provided frequency matches the timestamps'.\n",
      "You can refer to https://docs.nixtla.io/docs/tutorials-missing_values for an end to end example.\n"
     ]
    },
    {
     "name": "stderr",
     "output_type": "stream",
     "text": [
      "INFO:nixtla.nixtla_client:Validating inputs...\n",
      "INFO:nixtla.nixtla_client:Validating inputs...\n",
      "INFO:nixtla.nixtla_client:Validating inputs...\n",
      "INFO:nixtla.nixtla_client:Validating inputs...\n",
      "INFO:nixtla.nixtla_client:Validating inputs...\n",
      "INFO:nixtla.nixtla_client:Validating inputs...\n",
      "INFO:nixtla.nixtla_client:Validating inputs...\n",
      "INFO:nixtla.nixtla_client:Validating inputs...\n",
      "INFO:nixtla.nixtla_client:Validating inputs...\n",
      "INFO:nixtla.nixtla_client:Validating inputs...\n",
      "INFO:nixtla.nixtla_client:Validating inputs...\n",
      "INFO:nixtla.nixtla_client:Validating inputs...\n",
      "INFO:nixtla.nixtla_client:Validating inputs...\n",
      "INFO:nixtla.nixtla_client:Validating inputs...\n",
      "INFO:nixtla.nixtla_client:Validating inputs...\n"
     ]
    },
    {
     "name": "stdout",
     "output_type": "stream",
     "text": [
      "Gagal prediksi Pembukaan untuk tanggal 2024-07-12: Series contain missing or duplicate timestamps, or the timestamps do not match the provided frequency.\n",
      "Please make sure that all series have a single observation from the first to the last timestamp and that the provided frequency matches the timestamps'.\n",
      "You can refer to https://docs.nixtla.io/docs/tutorials-missing_values for an end to end example.\n",
      "Gagal prediksi Pembukaan untuk tanggal 2024-07-13: Series contain missing or duplicate timestamps, or the timestamps do not match the provided frequency.\n",
      "Please make sure that all series have a single observation from the first to the last timestamp and that the provided frequency matches the timestamps'.\n",
      "You can refer to https://docs.nixtla.io/docs/tutorials-missing_values for an end to end example.\n",
      "Gagal prediksi Pembukaan untuk tanggal 2024-07-14: Series contain missing or duplicate timestamps, or the timestamps do not match the provided frequency.\n",
      "Please make sure that all series have a single observation from the first to the last timestamp and that the provided frequency matches the timestamps'.\n",
      "You can refer to https://docs.nixtla.io/docs/tutorials-missing_values for an end to end example.\n",
      "Gagal prediksi Pembukaan untuk tanggal 2024-07-15: Series contain missing or duplicate timestamps, or the timestamps do not match the provided frequency.\n",
      "Please make sure that all series have a single observation from the first to the last timestamp and that the provided frequency matches the timestamps'.\n",
      "You can refer to https://docs.nixtla.io/docs/tutorials-missing_values for an end to end example.\n",
      "Gagal prediksi Pembukaan untuk tanggal 2024-07-16: Series contain missing or duplicate timestamps, or the timestamps do not match the provided frequency.\n",
      "Please make sure that all series have a single observation from the first to the last timestamp and that the provided frequency matches the timestamps'.\n",
      "You can refer to https://docs.nixtla.io/docs/tutorials-missing_values for an end to end example.\n",
      "Gagal prediksi Pembukaan untuk tanggal 2024-07-17: Series contain missing or duplicate timestamps, or the timestamps do not match the provided frequency.\n",
      "Please make sure that all series have a single observation from the first to the last timestamp and that the provided frequency matches the timestamps'.\n",
      "You can refer to https://docs.nixtla.io/docs/tutorials-missing_values for an end to end example.\n",
      "Gagal prediksi Pembukaan untuk tanggal 2024-07-18: Series contain missing or duplicate timestamps, or the timestamps do not match the provided frequency.\n",
      "Please make sure that all series have a single observation from the first to the last timestamp and that the provided frequency matches the timestamps'.\n",
      "You can refer to https://docs.nixtla.io/docs/tutorials-missing_values for an end to end example.\n",
      "Gagal prediksi Pembukaan untuk tanggal 2024-07-19: Series contain missing or duplicate timestamps, or the timestamps do not match the provided frequency.\n",
      "Please make sure that all series have a single observation from the first to the last timestamp and that the provided frequency matches the timestamps'.\n",
      "You can refer to https://docs.nixtla.io/docs/tutorials-missing_values for an end to end example.\n",
      "Gagal prediksi Pembukaan untuk tanggal 2024-07-20: Series contain missing or duplicate timestamps, or the timestamps do not match the provided frequency.\n",
      "Please make sure that all series have a single observation from the first to the last timestamp and that the provided frequency matches the timestamps'.\n",
      "You can refer to https://docs.nixtla.io/docs/tutorials-missing_values for an end to end example.\n",
      "Gagal prediksi Pembukaan untuk tanggal 2024-07-21: Series contain missing or duplicate timestamps, or the timestamps do not match the provided frequency.\n",
      "Please make sure that all series have a single observation from the first to the last timestamp and that the provided frequency matches the timestamps'.\n",
      "You can refer to https://docs.nixtla.io/docs/tutorials-missing_values for an end to end example.\n",
      "Gagal prediksi Pembukaan untuk tanggal 2024-07-22: Series contain missing or duplicate timestamps, or the timestamps do not match the provided frequency.\n",
      "Please make sure that all series have a single observation from the first to the last timestamp and that the provided frequency matches the timestamps'.\n",
      "You can refer to https://docs.nixtla.io/docs/tutorials-missing_values for an end to end example.\n",
      "Gagal prediksi Pembukaan untuk tanggal 2024-07-23: Series contain missing or duplicate timestamps, or the timestamps do not match the provided frequency.\n",
      "Please make sure that all series have a single observation from the first to the last timestamp and that the provided frequency matches the timestamps'.\n",
      "You can refer to https://docs.nixtla.io/docs/tutorials-missing_values for an end to end example.\n",
      "Gagal prediksi Pembukaan untuk tanggal 2024-07-24: Series contain missing or duplicate timestamps, or the timestamps do not match the provided frequency.\n",
      "Please make sure that all series have a single observation from the first to the last timestamp and that the provided frequency matches the timestamps'.\n",
      "You can refer to https://docs.nixtla.io/docs/tutorials-missing_values for an end to end example.\n",
      "Gagal prediksi Pembukaan untuk tanggal 2024-07-25: Series contain missing or duplicate timestamps, or the timestamps do not match the provided frequency.\n",
      "Please make sure that all series have a single observation from the first to the last timestamp and that the provided frequency matches the timestamps'.\n",
      "You can refer to https://docs.nixtla.io/docs/tutorials-missing_values for an end to end example.\n"
     ]
    },
    {
     "name": "stderr",
     "output_type": "stream",
     "text": [
      "INFO:nixtla.nixtla_client:Validating inputs...\n",
      "INFO:nixtla.nixtla_client:Validating inputs...\n",
      "INFO:nixtla.nixtla_client:Validating inputs...\n",
      "INFO:nixtla.nixtla_client:Validating inputs...\n",
      "INFO:nixtla.nixtla_client:Validating inputs...\n",
      "INFO:nixtla.nixtla_client:Validating inputs...\n",
      "INFO:nixtla.nixtla_client:Validating inputs...\n",
      "INFO:nixtla.nixtla_client:Validating inputs...\n",
      "INFO:nixtla.nixtla_client:Validating inputs...\n",
      "INFO:nixtla.nixtla_client:Validating inputs...\n",
      "INFO:nixtla.nixtla_client:Validating inputs...\n",
      "INFO:nixtla.nixtla_client:Validating inputs...\n",
      "INFO:nixtla.nixtla_client:Validating inputs...\n",
      "INFO:nixtla.nixtla_client:Validating inputs...\n"
     ]
    },
    {
     "name": "stdout",
     "output_type": "stream",
     "text": [
      "Gagal prediksi Pembukaan untuk tanggal 2024-07-26: Series contain missing or duplicate timestamps, or the timestamps do not match the provided frequency.\n",
      "Please make sure that all series have a single observation from the first to the last timestamp and that the provided frequency matches the timestamps'.\n",
      "You can refer to https://docs.nixtla.io/docs/tutorials-missing_values for an end to end example.\n",
      "Gagal prediksi Pembukaan untuk tanggal 2024-07-27: Series contain missing or duplicate timestamps, or the timestamps do not match the provided frequency.\n",
      "Please make sure that all series have a single observation from the first to the last timestamp and that the provided frequency matches the timestamps'.\n",
      "You can refer to https://docs.nixtla.io/docs/tutorials-missing_values for an end to end example.\n",
      "Gagal prediksi Pembukaan untuk tanggal 2024-07-28: Series contain missing or duplicate timestamps, or the timestamps do not match the provided frequency.\n",
      "Please make sure that all series have a single observation from the first to the last timestamp and that the provided frequency matches the timestamps'.\n",
      "You can refer to https://docs.nixtla.io/docs/tutorials-missing_values for an end to end example.\n",
      "Gagal prediksi Pembukaan untuk tanggal 2024-07-29: Series contain missing or duplicate timestamps, or the timestamps do not match the provided frequency.\n",
      "Please make sure that all series have a single observation from the first to the last timestamp and that the provided frequency matches the timestamps'.\n",
      "You can refer to https://docs.nixtla.io/docs/tutorials-missing_values for an end to end example.\n",
      "Gagal prediksi Pembukaan untuk tanggal 2024-07-30: Series contain missing or duplicate timestamps, or the timestamps do not match the provided frequency.\n",
      "Please make sure that all series have a single observation from the first to the last timestamp and that the provided frequency matches the timestamps'.\n",
      "You can refer to https://docs.nixtla.io/docs/tutorials-missing_values for an end to end example.\n",
      "Gagal prediksi Pembukaan untuk tanggal 2024-07-31: Series contain missing or duplicate timestamps, or the timestamps do not match the provided frequency.\n",
      "Please make sure that all series have a single observation from the first to the last timestamp and that the provided frequency matches the timestamps'.\n",
      "You can refer to https://docs.nixtla.io/docs/tutorials-missing_values for an end to end example.\n",
      "Gagal prediksi Pembukaan untuk tanggal 2024-08-01: Series contain missing or duplicate timestamps, or the timestamps do not match the provided frequency.\n",
      "Please make sure that all series have a single observation from the first to the last timestamp and that the provided frequency matches the timestamps'.\n",
      "You can refer to https://docs.nixtla.io/docs/tutorials-missing_values for an end to end example.\n",
      "Gagal prediksi Pembukaan untuk tanggal 2024-08-02: Series contain missing or duplicate timestamps, or the timestamps do not match the provided frequency.\n",
      "Please make sure that all series have a single observation from the first to the last timestamp and that the provided frequency matches the timestamps'.\n",
      "You can refer to https://docs.nixtla.io/docs/tutorials-missing_values for an end to end example.\n",
      "Gagal prediksi Pembukaan untuk tanggal 2024-08-03: Series contain missing or duplicate timestamps, or the timestamps do not match the provided frequency.\n",
      "Please make sure that all series have a single observation from the first to the last timestamp and that the provided frequency matches the timestamps'.\n",
      "You can refer to https://docs.nixtla.io/docs/tutorials-missing_values for an end to end example.\n",
      "Gagal prediksi Pembukaan untuk tanggal 2024-08-04: Series contain missing or duplicate timestamps, or the timestamps do not match the provided frequency.\n",
      "Please make sure that all series have a single observation from the first to the last timestamp and that the provided frequency matches the timestamps'.\n",
      "You can refer to https://docs.nixtla.io/docs/tutorials-missing_values for an end to end example.\n",
      "Gagal prediksi Pembukaan untuk tanggal 2024-08-05: Series contain missing or duplicate timestamps, or the timestamps do not match the provided frequency.\n",
      "Please make sure that all series have a single observation from the first to the last timestamp and that the provided frequency matches the timestamps'.\n",
      "You can refer to https://docs.nixtla.io/docs/tutorials-missing_values for an end to end example.\n",
      "Gagal prediksi Pembukaan untuk tanggal 2024-08-06: Series contain missing or duplicate timestamps, or the timestamps do not match the provided frequency.\n",
      "Please make sure that all series have a single observation from the first to the last timestamp and that the provided frequency matches the timestamps'.\n",
      "You can refer to https://docs.nixtla.io/docs/tutorials-missing_values for an end to end example.\n",
      "Gagal prediksi Pembukaan untuk tanggal 2024-08-07: Series contain missing or duplicate timestamps, or the timestamps do not match the provided frequency.\n",
      "Please make sure that all series have a single observation from the first to the last timestamp and that the provided frequency matches the timestamps'.\n",
      "You can refer to https://docs.nixtla.io/docs/tutorials-missing_values for an end to end example.\n",
      "Gagal prediksi Pembukaan untuk tanggal 2024-08-08: Series contain missing or duplicate timestamps, or the timestamps do not match the provided frequency.\n",
      "Please make sure that all series have a single observation from the first to the last timestamp and that the provided frequency matches the timestamps'.\n",
      "You can refer to https://docs.nixtla.io/docs/tutorials-missing_values for an end to end example.\n"
     ]
    },
    {
     "name": "stderr",
     "output_type": "stream",
     "text": [
      "INFO:nixtla.nixtla_client:Validating inputs...\n",
      "INFO:nixtla.nixtla_client:Validating inputs...\n",
      "INFO:nixtla.nixtla_client:Validating inputs...\n",
      "INFO:nixtla.nixtla_client:Validating inputs...\n",
      "INFO:nixtla.nixtla_client:Validating inputs...\n",
      "INFO:nixtla.nixtla_client:Validating inputs...\n",
      "INFO:nixtla.nixtla_client:Validating inputs...\n",
      "INFO:nixtla.nixtla_client:Validating inputs...\n",
      "INFO:nixtla.nixtla_client:Validating inputs...\n",
      "INFO:nixtla.nixtla_client:Validating inputs...\n",
      "INFO:nixtla.nixtla_client:Validating inputs...\n",
      "INFO:nixtla.nixtla_client:Validating inputs...\n"
     ]
    },
    {
     "name": "stdout",
     "output_type": "stream",
     "text": [
      "Gagal prediksi Pembukaan untuk tanggal 2024-08-09: Series contain missing or duplicate timestamps, or the timestamps do not match the provided frequency.\n",
      "Please make sure that all series have a single observation from the first to the last timestamp and that the provided frequency matches the timestamps'.\n",
      "You can refer to https://docs.nixtla.io/docs/tutorials-missing_values for an end to end example.\n",
      "Gagal prediksi Pembukaan untuk tanggal 2024-08-10: Series contain missing or duplicate timestamps, or the timestamps do not match the provided frequency.\n",
      "Please make sure that all series have a single observation from the first to the last timestamp and that the provided frequency matches the timestamps'.\n",
      "You can refer to https://docs.nixtla.io/docs/tutorials-missing_values for an end to end example.\n",
      "Gagal prediksi Pembukaan untuk tanggal 2024-08-11: Series contain missing or duplicate timestamps, or the timestamps do not match the provided frequency.\n",
      "Please make sure that all series have a single observation from the first to the last timestamp and that the provided frequency matches the timestamps'.\n",
      "You can refer to https://docs.nixtla.io/docs/tutorials-missing_values for an end to end example.\n",
      "Gagal prediksi Pembukaan untuk tanggal 2024-08-12: Series contain missing or duplicate timestamps, or the timestamps do not match the provided frequency.\n",
      "Please make sure that all series have a single observation from the first to the last timestamp and that the provided frequency matches the timestamps'.\n",
      "You can refer to https://docs.nixtla.io/docs/tutorials-missing_values for an end to end example.\n",
      "Gagal prediksi Pembukaan untuk tanggal 2024-08-13: Series contain missing or duplicate timestamps, or the timestamps do not match the provided frequency.\n",
      "Please make sure that all series have a single observation from the first to the last timestamp and that the provided frequency matches the timestamps'.\n",
      "You can refer to https://docs.nixtla.io/docs/tutorials-missing_values for an end to end example.\n",
      "Gagal prediksi Pembukaan untuk tanggal 2024-08-14: Series contain missing or duplicate timestamps, or the timestamps do not match the provided frequency.\n",
      "Please make sure that all series have a single observation from the first to the last timestamp and that the provided frequency matches the timestamps'.\n",
      "You can refer to https://docs.nixtla.io/docs/tutorials-missing_values for an end to end example.\n",
      "Gagal prediksi Pembukaan untuk tanggal 2024-08-15: Series contain missing or duplicate timestamps, or the timestamps do not match the provided frequency.\n",
      "Please make sure that all series have a single observation from the first to the last timestamp and that the provided frequency matches the timestamps'.\n",
      "You can refer to https://docs.nixtla.io/docs/tutorials-missing_values for an end to end example.\n",
      "Gagal prediksi Pembukaan untuk tanggal 2024-08-16: Series contain missing or duplicate timestamps, or the timestamps do not match the provided frequency.\n",
      "Please make sure that all series have a single observation from the first to the last timestamp and that the provided frequency matches the timestamps'.\n",
      "You can refer to https://docs.nixtla.io/docs/tutorials-missing_values for an end to end example.\n",
      "Gagal prediksi Pembukaan untuk tanggal 2024-08-17: Series contain missing or duplicate timestamps, or the timestamps do not match the provided frequency.\n",
      "Please make sure that all series have a single observation from the first to the last timestamp and that the provided frequency matches the timestamps'.\n",
      "You can refer to https://docs.nixtla.io/docs/tutorials-missing_values for an end to end example.\n",
      "Gagal prediksi Pembukaan untuk tanggal 2024-08-18: Series contain missing or duplicate timestamps, or the timestamps do not match the provided frequency.\n",
      "Please make sure that all series have a single observation from the first to the last timestamp and that the provided frequency matches the timestamps'.\n",
      "You can refer to https://docs.nixtla.io/docs/tutorials-missing_values for an end to end example.\n",
      "Gagal prediksi Pembukaan untuk tanggal 2024-08-19: Series contain missing or duplicate timestamps, or the timestamps do not match the provided frequency.\n",
      "Please make sure that all series have a single observation from the first to the last timestamp and that the provided frequency matches the timestamps'.\n",
      "You can refer to https://docs.nixtla.io/docs/tutorials-missing_values for an end to end example.\n",
      "Gagal prediksi Pembukaan untuk tanggal 2024-08-20: Series contain missing or duplicate timestamps, or the timestamps do not match the provided frequency.\n",
      "Please make sure that all series have a single observation from the first to the last timestamp and that the provided frequency matches the timestamps'.\n",
      "You can refer to https://docs.nixtla.io/docs/tutorials-missing_values for an end to end example.\n"
     ]
    },
    {
     "name": "stderr",
     "output_type": "stream",
     "text": [
      "INFO:nixtla.nixtla_client:Validating inputs...\n",
      "INFO:nixtla.nixtla_client:Validating inputs...\n",
      "INFO:nixtla.nixtla_client:Validating inputs...\n",
      "INFO:nixtla.nixtla_client:Validating inputs...\n",
      "INFO:nixtla.nixtla_client:Validating inputs...\n",
      "INFO:nixtla.nixtla_client:Validating inputs...\n",
      "INFO:nixtla.nixtla_client:Validating inputs...\n",
      "INFO:nixtla.nixtla_client:Validating inputs...\n",
      "INFO:nixtla.nixtla_client:Validating inputs...\n",
      "INFO:nixtla.nixtla_client:Validating inputs...\n",
      "INFO:nixtla.nixtla_client:Validating inputs...\n",
      "INFO:nixtla.nixtla_client:Validating inputs...\n",
      "INFO:nixtla.nixtla_client:Validating inputs...\n",
      "INFO:nixtla.nixtla_client:Validating inputs...\n"
     ]
    },
    {
     "name": "stdout",
     "output_type": "stream",
     "text": [
      "Gagal prediksi Pembukaan untuk tanggal 2024-08-21: Series contain missing or duplicate timestamps, or the timestamps do not match the provided frequency.\n",
      "Please make sure that all series have a single observation from the first to the last timestamp and that the provided frequency matches the timestamps'.\n",
      "You can refer to https://docs.nixtla.io/docs/tutorials-missing_values for an end to end example.\n",
      "Gagal prediksi Pembukaan untuk tanggal 2024-08-22: Series contain missing or duplicate timestamps, or the timestamps do not match the provided frequency.\n",
      "Please make sure that all series have a single observation from the first to the last timestamp and that the provided frequency matches the timestamps'.\n",
      "You can refer to https://docs.nixtla.io/docs/tutorials-missing_values for an end to end example.\n",
      "Gagal prediksi Pembukaan untuk tanggal 2024-08-23: Series contain missing or duplicate timestamps, or the timestamps do not match the provided frequency.\n",
      "Please make sure that all series have a single observation from the first to the last timestamp and that the provided frequency matches the timestamps'.\n",
      "You can refer to https://docs.nixtla.io/docs/tutorials-missing_values for an end to end example.\n",
      "Gagal prediksi Pembukaan untuk tanggal 2024-08-24: Series contain missing or duplicate timestamps, or the timestamps do not match the provided frequency.\n",
      "Please make sure that all series have a single observation from the first to the last timestamp and that the provided frequency matches the timestamps'.\n",
      "You can refer to https://docs.nixtla.io/docs/tutorials-missing_values for an end to end example.\n",
      "Gagal prediksi Pembukaan untuk tanggal 2024-08-25: Series contain missing or duplicate timestamps, or the timestamps do not match the provided frequency.\n",
      "Please make sure that all series have a single observation from the first to the last timestamp and that the provided frequency matches the timestamps'.\n",
      "You can refer to https://docs.nixtla.io/docs/tutorials-missing_values for an end to end example.\n",
      "Gagal prediksi Pembukaan untuk tanggal 2024-08-26: Series contain missing or duplicate timestamps, or the timestamps do not match the provided frequency.\n",
      "Please make sure that all series have a single observation from the first to the last timestamp and that the provided frequency matches the timestamps'.\n",
      "You can refer to https://docs.nixtla.io/docs/tutorials-missing_values for an end to end example.\n",
      "Gagal prediksi Pembukaan untuk tanggal 2024-08-27: Series contain missing or duplicate timestamps, or the timestamps do not match the provided frequency.\n",
      "Please make sure that all series have a single observation from the first to the last timestamp and that the provided frequency matches the timestamps'.\n",
      "You can refer to https://docs.nixtla.io/docs/tutorials-missing_values for an end to end example.\n",
      "Gagal prediksi Pembukaan untuk tanggal 2024-08-28: Series contain missing or duplicate timestamps, or the timestamps do not match the provided frequency.\n",
      "Please make sure that all series have a single observation from the first to the last timestamp and that the provided frequency matches the timestamps'.\n",
      "You can refer to https://docs.nixtla.io/docs/tutorials-missing_values for an end to end example.\n",
      "Gagal prediksi Pembukaan untuk tanggal 2024-08-29: Series contain missing or duplicate timestamps, or the timestamps do not match the provided frequency.\n",
      "Please make sure that all series have a single observation from the first to the last timestamp and that the provided frequency matches the timestamps'.\n",
      "You can refer to https://docs.nixtla.io/docs/tutorials-missing_values for an end to end example.\n",
      "Gagal prediksi Pembukaan untuk tanggal 2024-08-30: Series contain missing or duplicate timestamps, or the timestamps do not match the provided frequency.\n",
      "Please make sure that all series have a single observation from the first to the last timestamp and that the provided frequency matches the timestamps'.\n",
      "You can refer to https://docs.nixtla.io/docs/tutorials-missing_values for an end to end example.\n",
      "Gagal prediksi Pembukaan untuk tanggal 2024-08-31: Series contain missing or duplicate timestamps, or the timestamps do not match the provided frequency.\n",
      "Please make sure that all series have a single observation from the first to the last timestamp and that the provided frequency matches the timestamps'.\n",
      "You can refer to https://docs.nixtla.io/docs/tutorials-missing_values for an end to end example.\n",
      "Gagal prediksi Pembukaan untuk tanggal 2024-09-01: Series contain missing or duplicate timestamps, or the timestamps do not match the provided frequency.\n",
      "Please make sure that all series have a single observation from the first to the last timestamp and that the provided frequency matches the timestamps'.\n",
      "You can refer to https://docs.nixtla.io/docs/tutorials-missing_values for an end to end example.\n",
      "Gagal prediksi Pembukaan untuk tanggal 2024-09-02: Series contain missing or duplicate timestamps, or the timestamps do not match the provided frequency.\n",
      "Please make sure that all series have a single observation from the first to the last timestamp and that the provided frequency matches the timestamps'.\n",
      "You can refer to https://docs.nixtla.io/docs/tutorials-missing_values for an end to end example.\n",
      "Gagal prediksi Pembukaan untuk tanggal 2024-09-03: Series contain missing or duplicate timestamps, or the timestamps do not match the provided frequency.\n",
      "Please make sure that all series have a single observation from the first to the last timestamp and that the provided frequency matches the timestamps'.\n",
      "You can refer to https://docs.nixtla.io/docs/tutorials-missing_values for an end to end example.\n"
     ]
    },
    {
     "name": "stderr",
     "output_type": "stream",
     "text": [
      "INFO:nixtla.nixtla_client:Validating inputs...\n",
      "INFO:nixtla.nixtla_client:Validating inputs...\n",
      "INFO:nixtla.nixtla_client:Validating inputs...\n",
      "INFO:nixtla.nixtla_client:Validating inputs...\n",
      "INFO:nixtla.nixtla_client:Validating inputs...\n",
      "INFO:nixtla.nixtla_client:Validating inputs...\n",
      "INFO:nixtla.nixtla_client:Validating inputs...\n",
      "INFO:nixtla.nixtla_client:Validating inputs...\n",
      "INFO:nixtla.nixtla_client:Validating inputs...\n",
      "INFO:nixtla.nixtla_client:Validating inputs...\n",
      "INFO:nixtla.nixtla_client:Validating inputs...\n",
      "INFO:nixtla.nixtla_client:Validating inputs...\n"
     ]
    },
    {
     "name": "stdout",
     "output_type": "stream",
     "text": [
      "Gagal prediksi Pembukaan untuk tanggal 2024-09-04: Series contain missing or duplicate timestamps, or the timestamps do not match the provided frequency.\n",
      "Please make sure that all series have a single observation from the first to the last timestamp and that the provided frequency matches the timestamps'.\n",
      "You can refer to https://docs.nixtla.io/docs/tutorials-missing_values for an end to end example.\n",
      "Gagal prediksi Pembukaan untuk tanggal 2024-09-05: Series contain missing or duplicate timestamps, or the timestamps do not match the provided frequency.\n",
      "Please make sure that all series have a single observation from the first to the last timestamp and that the provided frequency matches the timestamps'.\n",
      "You can refer to https://docs.nixtla.io/docs/tutorials-missing_values for an end to end example.\n",
      "Gagal prediksi Pembukaan untuk tanggal 2024-09-06: Series contain missing or duplicate timestamps, or the timestamps do not match the provided frequency.\n",
      "Please make sure that all series have a single observation from the first to the last timestamp and that the provided frequency matches the timestamps'.\n",
      "You can refer to https://docs.nixtla.io/docs/tutorials-missing_values for an end to end example.\n",
      "Gagal prediksi Pembukaan untuk tanggal 2024-09-07: Series contain missing or duplicate timestamps, or the timestamps do not match the provided frequency.\n",
      "Please make sure that all series have a single observation from the first to the last timestamp and that the provided frequency matches the timestamps'.\n",
      "You can refer to https://docs.nixtla.io/docs/tutorials-missing_values for an end to end example.\n",
      "Gagal prediksi Pembukaan untuk tanggal 2024-09-08: Series contain missing or duplicate timestamps, or the timestamps do not match the provided frequency.\n",
      "Please make sure that all series have a single observation from the first to the last timestamp and that the provided frequency matches the timestamps'.\n",
      "You can refer to https://docs.nixtla.io/docs/tutorials-missing_values for an end to end example.\n",
      "Gagal prediksi Pembukaan untuk tanggal 2024-09-09: Series contain missing or duplicate timestamps, or the timestamps do not match the provided frequency.\n",
      "Please make sure that all series have a single observation from the first to the last timestamp and that the provided frequency matches the timestamps'.\n",
      "You can refer to https://docs.nixtla.io/docs/tutorials-missing_values for an end to end example.\n",
      "Gagal prediksi Pembukaan untuk tanggal 2024-09-10: Series contain missing or duplicate timestamps, or the timestamps do not match the provided frequency.\n",
      "Please make sure that all series have a single observation from the first to the last timestamp and that the provided frequency matches the timestamps'.\n",
      "You can refer to https://docs.nixtla.io/docs/tutorials-missing_values for an end to end example.\n",
      "Gagal prediksi Pembukaan untuk tanggal 2024-09-11: Series contain missing or duplicate timestamps, or the timestamps do not match the provided frequency.\n",
      "Please make sure that all series have a single observation from the first to the last timestamp and that the provided frequency matches the timestamps'.\n",
      "You can refer to https://docs.nixtla.io/docs/tutorials-missing_values for an end to end example.\n",
      "Gagal prediksi Pembukaan untuk tanggal 2024-09-12: Series contain missing or duplicate timestamps, or the timestamps do not match the provided frequency.\n",
      "Please make sure that all series have a single observation from the first to the last timestamp and that the provided frequency matches the timestamps'.\n",
      "You can refer to https://docs.nixtla.io/docs/tutorials-missing_values for an end to end example.\n",
      "Gagal prediksi Pembukaan untuk tanggal 2024-09-13: Series contain missing or duplicate timestamps, or the timestamps do not match the provided frequency.\n",
      "Please make sure that all series have a single observation from the first to the last timestamp and that the provided frequency matches the timestamps'.\n",
      "You can refer to https://docs.nixtla.io/docs/tutorials-missing_values for an end to end example.\n",
      "Gagal prediksi Pembukaan untuk tanggal 2024-09-14: Series contain missing or duplicate timestamps, or the timestamps do not match the provided frequency.\n",
      "Please make sure that all series have a single observation from the first to the last timestamp and that the provided frequency matches the timestamps'.\n",
      "You can refer to https://docs.nixtla.io/docs/tutorials-missing_values for an end to end example.\n",
      "Gagal prediksi Pembukaan untuk tanggal 2024-09-15: Series contain missing or duplicate timestamps, or the timestamps do not match the provided frequency.\n",
      "Please make sure that all series have a single observation from the first to the last timestamp and that the provided frequency matches the timestamps'.\n",
      "You can refer to https://docs.nixtla.io/docs/tutorials-missing_values for an end to end example.\n",
      "Gagal prediksi Pembukaan untuk tanggal 2024-09-16: Series contain missing or duplicate timestamps, or the timestamps do not match the provided frequency.\n",
      "Please make sure that all series have a single observation from the first to the last timestamp and that the provided frequency matches the timestamps'.\n",
      "You can refer to https://docs.nixtla.io/docs/tutorials-missing_values for an end to end example.\n"
     ]
    },
    {
     "name": "stderr",
     "output_type": "stream",
     "text": [
      "INFO:nixtla.nixtla_client:Validating inputs...\n",
      "INFO:nixtla.nixtla_client:Validating inputs...\n",
      "INFO:nixtla.nixtla_client:Validating inputs...\n",
      "INFO:nixtla.nixtla_client:Validating inputs...\n",
      "INFO:nixtla.nixtla_client:Validating inputs...\n",
      "INFO:nixtla.nixtla_client:Validating inputs...\n",
      "INFO:nixtla.nixtla_client:Validating inputs...\n",
      "INFO:nixtla.nixtla_client:Validating inputs...\n",
      "INFO:nixtla.nixtla_client:Validating inputs...\n",
      "INFO:nixtla.nixtla_client:Validating inputs...\n"
     ]
    },
    {
     "name": "stdout",
     "output_type": "stream",
     "text": [
      "Gagal prediksi Pembukaan untuk tanggal 2024-09-17: Series contain missing or duplicate timestamps, or the timestamps do not match the provided frequency.\n",
      "Please make sure that all series have a single observation from the first to the last timestamp and that the provided frequency matches the timestamps'.\n",
      "You can refer to https://docs.nixtla.io/docs/tutorials-missing_values for an end to end example.\n",
      "Gagal prediksi Pembukaan untuk tanggal 2024-09-18: Series contain missing or duplicate timestamps, or the timestamps do not match the provided frequency.\n",
      "Please make sure that all series have a single observation from the first to the last timestamp and that the provided frequency matches the timestamps'.\n",
      "You can refer to https://docs.nixtla.io/docs/tutorials-missing_values for an end to end example.\n",
      "Gagal prediksi Pembukaan untuk tanggal 2024-09-19: Series contain missing or duplicate timestamps, or the timestamps do not match the provided frequency.\n",
      "Please make sure that all series have a single observation from the first to the last timestamp and that the provided frequency matches the timestamps'.\n",
      "You can refer to https://docs.nixtla.io/docs/tutorials-missing_values for an end to end example.\n",
      "Gagal prediksi Pembukaan untuk tanggal 2024-09-20: Series contain missing or duplicate timestamps, or the timestamps do not match the provided frequency.\n",
      "Please make sure that all series have a single observation from the first to the last timestamp and that the provided frequency matches the timestamps'.\n",
      "You can refer to https://docs.nixtla.io/docs/tutorials-missing_values for an end to end example.\n",
      "Gagal prediksi Pembukaan untuk tanggal 2024-09-21: Series contain missing or duplicate timestamps, or the timestamps do not match the provided frequency.\n",
      "Please make sure that all series have a single observation from the first to the last timestamp and that the provided frequency matches the timestamps'.\n",
      "You can refer to https://docs.nixtla.io/docs/tutorials-missing_values for an end to end example.\n",
      "Gagal prediksi Pembukaan untuk tanggal 2024-09-22: Series contain missing or duplicate timestamps, or the timestamps do not match the provided frequency.\n",
      "Please make sure that all series have a single observation from the first to the last timestamp and that the provided frequency matches the timestamps'.\n",
      "You can refer to https://docs.nixtla.io/docs/tutorials-missing_values for an end to end example.\n",
      "Gagal prediksi Pembukaan untuk tanggal 2024-09-23: Series contain missing or duplicate timestamps, or the timestamps do not match the provided frequency.\n",
      "Please make sure that all series have a single observation from the first to the last timestamp and that the provided frequency matches the timestamps'.\n",
      "You can refer to https://docs.nixtla.io/docs/tutorials-missing_values for an end to end example.\n",
      "Gagal prediksi Pembukaan untuk tanggal 2024-09-24: Series contain missing or duplicate timestamps, or the timestamps do not match the provided frequency.\n",
      "Please make sure that all series have a single observation from the first to the last timestamp and that the provided frequency matches the timestamps'.\n",
      "You can refer to https://docs.nixtla.io/docs/tutorials-missing_values for an end to end example.\n",
      "Gagal prediksi Pembukaan untuk tanggal 2024-09-25: Series contain missing or duplicate timestamps, or the timestamps do not match the provided frequency.\n",
      "Please make sure that all series have a single observation from the first to the last timestamp and that the provided frequency matches the timestamps'.\n",
      "You can refer to https://docs.nixtla.io/docs/tutorials-missing_values for an end to end example.\n",
      "Gagal prediksi Pembukaan untuk tanggal 2024-09-26: Series contain missing or duplicate timestamps, or the timestamps do not match the provided frequency.\n",
      "Please make sure that all series have a single observation from the first to the last timestamp and that the provided frequency matches the timestamps'.\n",
      "You can refer to https://docs.nixtla.io/docs/tutorials-missing_values for an end to end example.\n"
     ]
    },
    {
     "name": "stderr",
     "output_type": "stream",
     "text": [
      "INFO:nixtla.nixtla_client:Validating inputs...\n",
      "INFO:nixtla.nixtla_client:Validating inputs...\n",
      "INFO:nixtla.nixtla_client:Validating inputs...\n",
      "INFO:nixtla.nixtla_client:Validating inputs...\n",
      "INFO:nixtla.nixtla_client:Validating inputs...\n",
      "INFO:nixtla.nixtla_client:Validating inputs...\n",
      "INFO:nixtla.nixtla_client:Validating inputs...\n",
      "INFO:nixtla.nixtla_client:Validating inputs...\n",
      "INFO:nixtla.nixtla_client:Validating inputs...\n",
      "INFO:nixtla.nixtla_client:Validating inputs...\n"
     ]
    },
    {
     "name": "stdout",
     "output_type": "stream",
     "text": [
      "Gagal prediksi Pembukaan untuk tanggal 2024-09-27: Series contain missing or duplicate timestamps, or the timestamps do not match the provided frequency.\n",
      "Please make sure that all series have a single observation from the first to the last timestamp and that the provided frequency matches the timestamps'.\n",
      "You can refer to https://docs.nixtla.io/docs/tutorials-missing_values for an end to end example.\n",
      "Gagal prediksi Pembukaan untuk tanggal 2024-09-28: Series contain missing or duplicate timestamps, or the timestamps do not match the provided frequency.\n",
      "Please make sure that all series have a single observation from the first to the last timestamp and that the provided frequency matches the timestamps'.\n",
      "You can refer to https://docs.nixtla.io/docs/tutorials-missing_values for an end to end example.\n",
      "Gagal prediksi Pembukaan untuk tanggal 2024-09-29: Series contain missing or duplicate timestamps, or the timestamps do not match the provided frequency.\n",
      "Please make sure that all series have a single observation from the first to the last timestamp and that the provided frequency matches the timestamps'.\n",
      "You can refer to https://docs.nixtla.io/docs/tutorials-missing_values for an end to end example.\n",
      "Gagal prediksi Pembukaan untuk tanggal 2024-09-30: Series contain missing or duplicate timestamps, or the timestamps do not match the provided frequency.\n",
      "Please make sure that all series have a single observation from the first to the last timestamp and that the provided frequency matches the timestamps'.\n",
      "You can refer to https://docs.nixtla.io/docs/tutorials-missing_values for an end to end example.\n",
      "Gagal prediksi Pembukaan untuk tanggal 2024-10-01: Series contain missing or duplicate timestamps, or the timestamps do not match the provided frequency.\n",
      "Please make sure that all series have a single observation from the first to the last timestamp and that the provided frequency matches the timestamps'.\n",
      "You can refer to https://docs.nixtla.io/docs/tutorials-missing_values for an end to end example.\n",
      "Gagal prediksi Pembukaan untuk tanggal 2024-10-02: Series contain missing or duplicate timestamps, or the timestamps do not match the provided frequency.\n",
      "Please make sure that all series have a single observation from the first to the last timestamp and that the provided frequency matches the timestamps'.\n",
      "You can refer to https://docs.nixtla.io/docs/tutorials-missing_values for an end to end example.\n",
      "Gagal prediksi Pembukaan untuk tanggal 2024-10-03: Series contain missing or duplicate timestamps, or the timestamps do not match the provided frequency.\n",
      "Please make sure that all series have a single observation from the first to the last timestamp and that the provided frequency matches the timestamps'.\n",
      "You can refer to https://docs.nixtla.io/docs/tutorials-missing_values for an end to end example.\n",
      "Gagal prediksi Pembukaan untuk tanggal 2024-10-04: Series contain missing or duplicate timestamps, or the timestamps do not match the provided frequency.\n",
      "Please make sure that all series have a single observation from the first to the last timestamp and that the provided frequency matches the timestamps'.\n",
      "You can refer to https://docs.nixtla.io/docs/tutorials-missing_values for an end to end example.\n",
      "Gagal prediksi Pembukaan untuk tanggal 2024-10-05: Series contain missing or duplicate timestamps, or the timestamps do not match the provided frequency.\n",
      "Please make sure that all series have a single observation from the first to the last timestamp and that the provided frequency matches the timestamps'.\n",
      "You can refer to https://docs.nixtla.io/docs/tutorials-missing_values for an end to end example.\n",
      "Gagal prediksi Pembukaan untuk tanggal 2024-10-06: Series contain missing or duplicate timestamps, or the timestamps do not match the provided frequency.\n",
      "Please make sure that all series have a single observation from the first to the last timestamp and that the provided frequency matches the timestamps'.\n",
      "You can refer to https://docs.nixtla.io/docs/tutorials-missing_values for an end to end example.\n"
     ]
    },
    {
     "name": "stderr",
     "output_type": "stream",
     "text": [
      "INFO:nixtla.nixtla_client:Validating inputs...\n",
      "INFO:nixtla.nixtla_client:Validating inputs...\n",
      "INFO:nixtla.nixtla_client:Validating inputs...\n",
      "INFO:nixtla.nixtla_client:Validating inputs...\n",
      "INFO:nixtla.nixtla_client:Validating inputs...\n",
      "INFO:nixtla.nixtla_client:Validating inputs...\n",
      "INFO:nixtla.nixtla_client:Validating inputs...\n",
      "INFO:nixtla.nixtla_client:Validating inputs...\n",
      "INFO:nixtla.nixtla_client:Validating inputs...\n",
      "INFO:nixtla.nixtla_client:Validating inputs...\n"
     ]
    },
    {
     "name": "stdout",
     "output_type": "stream",
     "text": [
      "Gagal prediksi Pembukaan untuk tanggal 2024-10-07: Series contain missing or duplicate timestamps, or the timestamps do not match the provided frequency.\n",
      "Please make sure that all series have a single observation from the first to the last timestamp and that the provided frequency matches the timestamps'.\n",
      "You can refer to https://docs.nixtla.io/docs/tutorials-missing_values for an end to end example.\n",
      "Gagal prediksi Pembukaan untuk tanggal 2024-10-08: Series contain missing or duplicate timestamps, or the timestamps do not match the provided frequency.\n",
      "Please make sure that all series have a single observation from the first to the last timestamp and that the provided frequency matches the timestamps'.\n",
      "You can refer to https://docs.nixtla.io/docs/tutorials-missing_values for an end to end example.\n",
      "Gagal prediksi Pembukaan untuk tanggal 2024-10-09: Series contain missing or duplicate timestamps, or the timestamps do not match the provided frequency.\n",
      "Please make sure that all series have a single observation from the first to the last timestamp and that the provided frequency matches the timestamps'.\n",
      "You can refer to https://docs.nixtla.io/docs/tutorials-missing_values for an end to end example.\n",
      "Gagal prediksi Pembukaan untuk tanggal 2024-10-10: Series contain missing or duplicate timestamps, or the timestamps do not match the provided frequency.\n",
      "Please make sure that all series have a single observation from the first to the last timestamp and that the provided frequency matches the timestamps'.\n",
      "You can refer to https://docs.nixtla.io/docs/tutorials-missing_values for an end to end example.\n",
      "Gagal prediksi Pembukaan untuk tanggal 2024-10-11: Series contain missing or duplicate timestamps, or the timestamps do not match the provided frequency.\n",
      "Please make sure that all series have a single observation from the first to the last timestamp and that the provided frequency matches the timestamps'.\n",
      "You can refer to https://docs.nixtla.io/docs/tutorials-missing_values for an end to end example.\n",
      "Gagal prediksi Pembukaan untuk tanggal 2024-10-12: Series contain missing or duplicate timestamps, or the timestamps do not match the provided frequency.\n",
      "Please make sure that all series have a single observation from the first to the last timestamp and that the provided frequency matches the timestamps'.\n",
      "You can refer to https://docs.nixtla.io/docs/tutorials-missing_values for an end to end example.\n",
      "Gagal prediksi Pembukaan untuk tanggal 2024-10-13: Series contain missing or duplicate timestamps, or the timestamps do not match the provided frequency.\n",
      "Please make sure that all series have a single observation from the first to the last timestamp and that the provided frequency matches the timestamps'.\n",
      "You can refer to https://docs.nixtla.io/docs/tutorials-missing_values for an end to end example.\n",
      "Gagal prediksi Pembukaan untuk tanggal 2024-10-14: Series contain missing or duplicate timestamps, or the timestamps do not match the provided frequency.\n",
      "Please make sure that all series have a single observation from the first to the last timestamp and that the provided frequency matches the timestamps'.\n",
      "You can refer to https://docs.nixtla.io/docs/tutorials-missing_values for an end to end example.\n",
      "Gagal prediksi Pembukaan untuk tanggal 2024-10-15: Series contain missing or duplicate timestamps, or the timestamps do not match the provided frequency.\n",
      "Please make sure that all series have a single observation from the first to the last timestamp and that the provided frequency matches the timestamps'.\n",
      "You can refer to https://docs.nixtla.io/docs/tutorials-missing_values for an end to end example.\n"
     ]
    },
    {
     "name": "stderr",
     "output_type": "stream",
     "text": [
      "INFO:nixtla.nixtla_client:Validating inputs...\n",
      "INFO:nixtla.nixtla_client:Validating inputs...\n",
      "INFO:nixtla.nixtla_client:Validating inputs...\n",
      "INFO:nixtla.nixtla_client:Validating inputs...\n",
      "INFO:nixtla.nixtla_client:Validating inputs...\n",
      "INFO:nixtla.nixtla_client:Validating inputs...\n",
      "INFO:nixtla.nixtla_client:Validating inputs...\n",
      "INFO:nixtla.nixtla_client:Validating inputs...\n",
      "INFO:nixtla.nixtla_client:Validating inputs...\n",
      "INFO:nixtla.nixtla_client:Validating inputs...\n",
      "INFO:nixtla.nixtla_client:Validating inputs...\n"
     ]
    },
    {
     "name": "stdout",
     "output_type": "stream",
     "text": [
      "Gagal prediksi Pembukaan untuk tanggal 2024-10-16: Series contain missing or duplicate timestamps, or the timestamps do not match the provided frequency.\n",
      "Please make sure that all series have a single observation from the first to the last timestamp and that the provided frequency matches the timestamps'.\n",
      "You can refer to https://docs.nixtla.io/docs/tutorials-missing_values for an end to end example.\n",
      "Gagal prediksi Pembukaan untuk tanggal 2024-10-17: Series contain missing or duplicate timestamps, or the timestamps do not match the provided frequency.\n",
      "Please make sure that all series have a single observation from the first to the last timestamp and that the provided frequency matches the timestamps'.\n",
      "You can refer to https://docs.nixtla.io/docs/tutorials-missing_values for an end to end example.\n",
      "Gagal prediksi Pembukaan untuk tanggal 2024-10-18: Series contain missing or duplicate timestamps, or the timestamps do not match the provided frequency.\n",
      "Please make sure that all series have a single observation from the first to the last timestamp and that the provided frequency matches the timestamps'.\n",
      "You can refer to https://docs.nixtla.io/docs/tutorials-missing_values for an end to end example.\n",
      "Gagal prediksi Pembukaan untuk tanggal 2024-10-19: Series contain missing or duplicate timestamps, or the timestamps do not match the provided frequency.\n",
      "Please make sure that all series have a single observation from the first to the last timestamp and that the provided frequency matches the timestamps'.\n",
      "You can refer to https://docs.nixtla.io/docs/tutorials-missing_values for an end to end example.\n",
      "Gagal prediksi Pembukaan untuk tanggal 2024-10-20: Series contain missing or duplicate timestamps, or the timestamps do not match the provided frequency.\n",
      "Please make sure that all series have a single observation from the first to the last timestamp and that the provided frequency matches the timestamps'.\n",
      "You can refer to https://docs.nixtla.io/docs/tutorials-missing_values for an end to end example.\n",
      "Gagal prediksi Pembukaan untuk tanggal 2024-10-21: Series contain missing or duplicate timestamps, or the timestamps do not match the provided frequency.\n",
      "Please make sure that all series have a single observation from the first to the last timestamp and that the provided frequency matches the timestamps'.\n",
      "You can refer to https://docs.nixtla.io/docs/tutorials-missing_values for an end to end example.\n",
      "Gagal prediksi Pembukaan untuk tanggal 2024-10-22: Series contain missing or duplicate timestamps, or the timestamps do not match the provided frequency.\n",
      "Please make sure that all series have a single observation from the first to the last timestamp and that the provided frequency matches the timestamps'.\n",
      "You can refer to https://docs.nixtla.io/docs/tutorials-missing_values for an end to end example.\n",
      "Gagal prediksi Pembukaan untuk tanggal 2024-10-23: Series contain missing or duplicate timestamps, or the timestamps do not match the provided frequency.\n",
      "Please make sure that all series have a single observation from the first to the last timestamp and that the provided frequency matches the timestamps'.\n",
      "You can refer to https://docs.nixtla.io/docs/tutorials-missing_values for an end to end example.\n",
      "Gagal prediksi Pembukaan untuk tanggal 2024-10-24: Series contain missing or duplicate timestamps, or the timestamps do not match the provided frequency.\n",
      "Please make sure that all series have a single observation from the first to the last timestamp and that the provided frequency matches the timestamps'.\n",
      "You can refer to https://docs.nixtla.io/docs/tutorials-missing_values for an end to end example.\n",
      "Gagal prediksi Pembukaan untuk tanggal 2024-10-25: Series contain missing or duplicate timestamps, or the timestamps do not match the provided frequency.\n",
      "Please make sure that all series have a single observation from the first to the last timestamp and that the provided frequency matches the timestamps'.\n",
      "You can refer to https://docs.nixtla.io/docs/tutorials-missing_values for an end to end example.\n",
      "Gagal prediksi Pembukaan untuk tanggal 2024-10-26: Series contain missing or duplicate timestamps, or the timestamps do not match the provided frequency.\n",
      "Please make sure that all series have a single observation from the first to the last timestamp and that the provided frequency matches the timestamps'.\n",
      "You can refer to https://docs.nixtla.io/docs/tutorials-missing_values for an end to end example.\n"
     ]
    },
    {
     "name": "stderr",
     "output_type": "stream",
     "text": [
      "INFO:nixtla.nixtla_client:Validating inputs...\n",
      "INFO:nixtla.nixtla_client:Validating inputs...\n",
      "INFO:nixtla.nixtla_client:Validating inputs...\n",
      "INFO:nixtla.nixtla_client:Validating inputs...\n",
      "INFO:nixtla.nixtla_client:Validating inputs...\n",
      "INFO:nixtla.nixtla_client:Validating inputs...\n",
      "INFO:nixtla.nixtla_client:Validating inputs...\n",
      "INFO:nixtla.nixtla_client:Validating inputs...\n",
      "INFO:nixtla.nixtla_client:Validating inputs...\n",
      "INFO:nixtla.nixtla_client:Validating inputs...\n"
     ]
    },
    {
     "name": "stdout",
     "output_type": "stream",
     "text": [
      "Gagal prediksi Pembukaan untuk tanggal 2024-10-27: Series contain missing or duplicate timestamps, or the timestamps do not match the provided frequency.\n",
      "Please make sure that all series have a single observation from the first to the last timestamp and that the provided frequency matches the timestamps'.\n",
      "You can refer to https://docs.nixtla.io/docs/tutorials-missing_values for an end to end example.\n",
      "Gagal prediksi Pembukaan untuk tanggal 2024-10-28: Series contain missing or duplicate timestamps, or the timestamps do not match the provided frequency.\n",
      "Please make sure that all series have a single observation from the first to the last timestamp and that the provided frequency matches the timestamps'.\n",
      "You can refer to https://docs.nixtla.io/docs/tutorials-missing_values for an end to end example.\n",
      "Gagal prediksi Pembukaan untuk tanggal 2024-10-29: Series contain missing or duplicate timestamps, or the timestamps do not match the provided frequency.\n",
      "Please make sure that all series have a single observation from the first to the last timestamp and that the provided frequency matches the timestamps'.\n",
      "You can refer to https://docs.nixtla.io/docs/tutorials-missing_values for an end to end example.\n",
      "Gagal prediksi Pembukaan untuk tanggal 2024-10-30: Series contain missing or duplicate timestamps, or the timestamps do not match the provided frequency.\n",
      "Please make sure that all series have a single observation from the first to the last timestamp and that the provided frequency matches the timestamps'.\n",
      "You can refer to https://docs.nixtla.io/docs/tutorials-missing_values for an end to end example.\n",
      "Gagal prediksi Pembukaan untuk tanggal 2024-10-31: Series contain missing or duplicate timestamps, or the timestamps do not match the provided frequency.\n",
      "Please make sure that all series have a single observation from the first to the last timestamp and that the provided frequency matches the timestamps'.\n",
      "You can refer to https://docs.nixtla.io/docs/tutorials-missing_values for an end to end example.\n",
      "Gagal prediksi Pembukaan untuk tanggal 2024-11-01: Series contain missing or duplicate timestamps, or the timestamps do not match the provided frequency.\n",
      "Please make sure that all series have a single observation from the first to the last timestamp and that the provided frequency matches the timestamps'.\n",
      "You can refer to https://docs.nixtla.io/docs/tutorials-missing_values for an end to end example.\n",
      "Gagal prediksi Pembukaan untuk tanggal 2024-11-02: Series contain missing or duplicate timestamps, or the timestamps do not match the provided frequency.\n",
      "Please make sure that all series have a single observation from the first to the last timestamp and that the provided frequency matches the timestamps'.\n",
      "You can refer to https://docs.nixtla.io/docs/tutorials-missing_values for an end to end example.\n",
      "Gagal prediksi Pembukaan untuk tanggal 2024-11-03: Series contain missing or duplicate timestamps, or the timestamps do not match the provided frequency.\n",
      "Please make sure that all series have a single observation from the first to the last timestamp and that the provided frequency matches the timestamps'.\n",
      "You can refer to https://docs.nixtla.io/docs/tutorials-missing_values for an end to end example.\n",
      "Gagal prediksi Pembukaan untuk tanggal 2024-11-04: Series contain missing or duplicate timestamps, or the timestamps do not match the provided frequency.\n",
      "Please make sure that all series have a single observation from the first to the last timestamp and that the provided frequency matches the timestamps'.\n",
      "You can refer to https://docs.nixtla.io/docs/tutorials-missing_values for an end to end example.\n",
      "Gagal prediksi Pembukaan untuk tanggal 2024-11-05: Series contain missing or duplicate timestamps, or the timestamps do not match the provided frequency.\n",
      "Please make sure that all series have a single observation from the first to the last timestamp and that the provided frequency matches the timestamps'.\n",
      "You can refer to https://docs.nixtla.io/docs/tutorials-missing_values for an end to end example.\n"
     ]
    },
    {
     "name": "stderr",
     "output_type": "stream",
     "text": [
      "INFO:nixtla.nixtla_client:Validating inputs...\n",
      "INFO:nixtla.nixtla_client:Validating inputs...\n",
      "INFO:nixtla.nixtla_client:Validating inputs...\n",
      "INFO:nixtla.nixtla_client:Validating inputs...\n",
      "INFO:nixtla.nixtla_client:Validating inputs...\n",
      "INFO:nixtla.nixtla_client:Validating inputs...\n",
      "INFO:nixtla.nixtla_client:Validating inputs...\n",
      "INFO:nixtla.nixtla_client:Validating inputs...\n",
      "INFO:nixtla.nixtla_client:Validating inputs...\n"
     ]
    },
    {
     "name": "stdout",
     "output_type": "stream",
     "text": [
      "Gagal prediksi Pembukaan untuk tanggal 2024-11-06: Series contain missing or duplicate timestamps, or the timestamps do not match the provided frequency.\n",
      "Please make sure that all series have a single observation from the first to the last timestamp and that the provided frequency matches the timestamps'.\n",
      "You can refer to https://docs.nixtla.io/docs/tutorials-missing_values for an end to end example.\n",
      "Gagal prediksi Pembukaan untuk tanggal 2024-11-07: Series contain missing or duplicate timestamps, or the timestamps do not match the provided frequency.\n",
      "Please make sure that all series have a single observation from the first to the last timestamp and that the provided frequency matches the timestamps'.\n",
      "You can refer to https://docs.nixtla.io/docs/tutorials-missing_values for an end to end example.\n",
      "Gagal prediksi Pembukaan untuk tanggal 2024-11-08: Series contain missing or duplicate timestamps, or the timestamps do not match the provided frequency.\n",
      "Please make sure that all series have a single observation from the first to the last timestamp and that the provided frequency matches the timestamps'.\n",
      "You can refer to https://docs.nixtla.io/docs/tutorials-missing_values for an end to end example.\n",
      "Gagal prediksi Pembukaan untuk tanggal 2024-11-09: Series contain missing or duplicate timestamps, or the timestamps do not match the provided frequency.\n",
      "Please make sure that all series have a single observation from the first to the last timestamp and that the provided frequency matches the timestamps'.\n",
      "You can refer to https://docs.nixtla.io/docs/tutorials-missing_values for an end to end example.\n",
      "Gagal prediksi Pembukaan untuk tanggal 2024-11-10: Series contain missing or duplicate timestamps, or the timestamps do not match the provided frequency.\n",
      "Please make sure that all series have a single observation from the first to the last timestamp and that the provided frequency matches the timestamps'.\n",
      "You can refer to https://docs.nixtla.io/docs/tutorials-missing_values for an end to end example.\n",
      "Gagal prediksi Pembukaan untuk tanggal 2024-11-11: Series contain missing or duplicate timestamps, or the timestamps do not match the provided frequency.\n",
      "Please make sure that all series have a single observation from the first to the last timestamp and that the provided frequency matches the timestamps'.\n",
      "You can refer to https://docs.nixtla.io/docs/tutorials-missing_values for an end to end example.\n",
      "Gagal prediksi Pembukaan untuk tanggal 2024-11-12: Series contain missing or duplicate timestamps, or the timestamps do not match the provided frequency.\n",
      "Please make sure that all series have a single observation from the first to the last timestamp and that the provided frequency matches the timestamps'.\n",
      "You can refer to https://docs.nixtla.io/docs/tutorials-missing_values for an end to end example.\n",
      "Gagal prediksi Pembukaan untuk tanggal 2024-11-13: Series contain missing or duplicate timestamps, or the timestamps do not match the provided frequency.\n",
      "Please make sure that all series have a single observation from the first to the last timestamp and that the provided frequency matches the timestamps'.\n",
      "You can refer to https://docs.nixtla.io/docs/tutorials-missing_values for an end to end example.\n",
      "Gagal prediksi Pembukaan untuk tanggal 2024-11-14: Series contain missing or duplicate timestamps, or the timestamps do not match the provided frequency.\n",
      "Please make sure that all series have a single observation from the first to the last timestamp and that the provided frequency matches the timestamps'.\n",
      "You can refer to https://docs.nixtla.io/docs/tutorials-missing_values for an end to end example.\n",
      "Gagal prediksi Pembukaan untuk tanggal 2024-11-15: Series contain missing or duplicate timestamps, or the timestamps do not match the provided frequency.\n",
      "Please make sure that all series have a single observation from the first to the last timestamp and that the provided frequency matches the timestamps'.\n",
      "You can refer to https://docs.nixtla.io/docs/tutorials-missing_values for an end to end example.\n"
     ]
    },
    {
     "name": "stderr",
     "output_type": "stream",
     "text": [
      "INFO:nixtla.nixtla_client:Validating inputs...\n",
      "INFO:nixtla.nixtla_client:Validating inputs...\n",
      "INFO:nixtla.nixtla_client:Validating inputs...\n",
      "INFO:nixtla.nixtla_client:Validating inputs...\n",
      "INFO:nixtla.nixtla_client:Validating inputs...\n",
      "INFO:nixtla.nixtla_client:Validating inputs...\n",
      "INFO:nixtla.nixtla_client:Validating inputs...\n",
      "INFO:nixtla.nixtla_client:Validating inputs...\n",
      "INFO:nixtla.nixtla_client:Validating inputs...\n",
      "INFO:nixtla.nixtla_client:Validating inputs...\n",
      "INFO:nixtla.nixtla_client:Validating inputs...\n"
     ]
    },
    {
     "name": "stdout",
     "output_type": "stream",
     "text": [
      "Gagal prediksi Pembukaan untuk tanggal 2024-11-16: Series contain missing or duplicate timestamps, or the timestamps do not match the provided frequency.\n",
      "Please make sure that all series have a single observation from the first to the last timestamp and that the provided frequency matches the timestamps'.\n",
      "You can refer to https://docs.nixtla.io/docs/tutorials-missing_values for an end to end example.\n",
      "Gagal prediksi Pembukaan untuk tanggal 2024-11-17: Series contain missing or duplicate timestamps, or the timestamps do not match the provided frequency.\n",
      "Please make sure that all series have a single observation from the first to the last timestamp and that the provided frequency matches the timestamps'.\n",
      "You can refer to https://docs.nixtla.io/docs/tutorials-missing_values for an end to end example.\n",
      "Gagal prediksi Pembukaan untuk tanggal 2024-11-18: Series contain missing or duplicate timestamps, or the timestamps do not match the provided frequency.\n",
      "Please make sure that all series have a single observation from the first to the last timestamp and that the provided frequency matches the timestamps'.\n",
      "You can refer to https://docs.nixtla.io/docs/tutorials-missing_values for an end to end example.\n",
      "Gagal prediksi Pembukaan untuk tanggal 2024-11-19: Series contain missing or duplicate timestamps, or the timestamps do not match the provided frequency.\n",
      "Please make sure that all series have a single observation from the first to the last timestamp and that the provided frequency matches the timestamps'.\n",
      "You can refer to https://docs.nixtla.io/docs/tutorials-missing_values for an end to end example.\n",
      "Gagal prediksi Pembukaan untuk tanggal 2024-11-20: Series contain missing or duplicate timestamps, or the timestamps do not match the provided frequency.\n",
      "Please make sure that all series have a single observation from the first to the last timestamp and that the provided frequency matches the timestamps'.\n",
      "You can refer to https://docs.nixtla.io/docs/tutorials-missing_values for an end to end example.\n",
      "Gagal prediksi Pembukaan untuk tanggal 2024-11-21: Series contain missing or duplicate timestamps, or the timestamps do not match the provided frequency.\n",
      "Please make sure that all series have a single observation from the first to the last timestamp and that the provided frequency matches the timestamps'.\n",
      "You can refer to https://docs.nixtla.io/docs/tutorials-missing_values for an end to end example.\n",
      "Gagal prediksi Pembukaan untuk tanggal 2024-11-22: Series contain missing or duplicate timestamps, or the timestamps do not match the provided frequency.\n",
      "Please make sure that all series have a single observation from the first to the last timestamp and that the provided frequency matches the timestamps'.\n",
      "You can refer to https://docs.nixtla.io/docs/tutorials-missing_values for an end to end example.\n",
      "Gagal prediksi Pembukaan untuk tanggal 2024-11-23: Series contain missing or duplicate timestamps, or the timestamps do not match the provided frequency.\n",
      "Please make sure that all series have a single observation from the first to the last timestamp and that the provided frequency matches the timestamps'.\n",
      "You can refer to https://docs.nixtla.io/docs/tutorials-missing_values for an end to end example.\n",
      "Gagal prediksi Pembukaan untuk tanggal 2024-11-24: Series contain missing or duplicate timestamps, or the timestamps do not match the provided frequency.\n",
      "Please make sure that all series have a single observation from the first to the last timestamp and that the provided frequency matches the timestamps'.\n",
      "You can refer to https://docs.nixtla.io/docs/tutorials-missing_values for an end to end example.\n",
      "Gagal prediksi Pembukaan untuk tanggal 2024-11-25: Series contain missing or duplicate timestamps, or the timestamps do not match the provided frequency.\n",
      "Please make sure that all series have a single observation from the first to the last timestamp and that the provided frequency matches the timestamps'.\n",
      "You can refer to https://docs.nixtla.io/docs/tutorials-missing_values for an end to end example.\n",
      "Gagal prediksi Pembukaan untuk tanggal 2024-11-26: Series contain missing or duplicate timestamps, or the timestamps do not match the provided frequency.\n",
      "Please make sure that all series have a single observation from the first to the last timestamp and that the provided frequency matches the timestamps'.\n",
      "You can refer to https://docs.nixtla.io/docs/tutorials-missing_values for an end to end example.\n"
     ]
    },
    {
     "name": "stderr",
     "output_type": "stream",
     "text": [
      "INFO:nixtla.nixtla_client:Validating inputs...\n",
      "INFO:nixtla.nixtla_client:Validating inputs...\n",
      "INFO:nixtla.nixtla_client:Validating inputs...\n",
      "INFO:nixtla.nixtla_client:Validating inputs...\n",
      "INFO:nixtla.nixtla_client:Validating inputs...\n",
      "INFO:nixtla.nixtla_client:Validating inputs...\n",
      "INFO:nixtla.nixtla_client:Validating inputs...\n",
      "INFO:nixtla.nixtla_client:Validating inputs...\n",
      "INFO:nixtla.nixtla_client:Validating inputs...\n",
      "INFO:nixtla.nixtla_client:Validating inputs...\n"
     ]
    },
    {
     "name": "stdout",
     "output_type": "stream",
     "text": [
      "Gagal prediksi Pembukaan untuk tanggal 2024-11-27: Series contain missing or duplicate timestamps, or the timestamps do not match the provided frequency.\n",
      "Please make sure that all series have a single observation from the first to the last timestamp and that the provided frequency matches the timestamps'.\n",
      "You can refer to https://docs.nixtla.io/docs/tutorials-missing_values for an end to end example.\n",
      "Gagal prediksi Pembukaan untuk tanggal 2024-11-28: Series contain missing or duplicate timestamps, or the timestamps do not match the provided frequency.\n",
      "Please make sure that all series have a single observation from the first to the last timestamp and that the provided frequency matches the timestamps'.\n",
      "You can refer to https://docs.nixtla.io/docs/tutorials-missing_values for an end to end example.\n",
      "Gagal prediksi Pembukaan untuk tanggal 2024-11-29: Series contain missing or duplicate timestamps, or the timestamps do not match the provided frequency.\n",
      "Please make sure that all series have a single observation from the first to the last timestamp and that the provided frequency matches the timestamps'.\n",
      "You can refer to https://docs.nixtla.io/docs/tutorials-missing_values for an end to end example.\n",
      "Gagal prediksi Pembukaan untuk tanggal 2024-11-30: Series contain missing or duplicate timestamps, or the timestamps do not match the provided frequency.\n",
      "Please make sure that all series have a single observation from the first to the last timestamp and that the provided frequency matches the timestamps'.\n",
      "You can refer to https://docs.nixtla.io/docs/tutorials-missing_values for an end to end example.\n",
      "Gagal prediksi Pembukaan untuk tanggal 2024-12-01: Series contain missing or duplicate timestamps, or the timestamps do not match the provided frequency.\n",
      "Please make sure that all series have a single observation from the first to the last timestamp and that the provided frequency matches the timestamps'.\n",
      "You can refer to https://docs.nixtla.io/docs/tutorials-missing_values for an end to end example.\n",
      "Gagal prediksi Pembukaan untuk tanggal 2024-12-02: Series contain missing or duplicate timestamps, or the timestamps do not match the provided frequency.\n",
      "Please make sure that all series have a single observation from the first to the last timestamp and that the provided frequency matches the timestamps'.\n",
      "You can refer to https://docs.nixtla.io/docs/tutorials-missing_values for an end to end example.\n",
      "Gagal prediksi Pembukaan untuk tanggal 2024-12-03: Series contain missing or duplicate timestamps, or the timestamps do not match the provided frequency.\n",
      "Please make sure that all series have a single observation from the first to the last timestamp and that the provided frequency matches the timestamps'.\n",
      "You can refer to https://docs.nixtla.io/docs/tutorials-missing_values for an end to end example.\n",
      "Gagal prediksi Pembukaan untuk tanggal 2024-12-04: Series contain missing or duplicate timestamps, or the timestamps do not match the provided frequency.\n",
      "Please make sure that all series have a single observation from the first to the last timestamp and that the provided frequency matches the timestamps'.\n",
      "You can refer to https://docs.nixtla.io/docs/tutorials-missing_values for an end to end example.\n",
      "Gagal prediksi Pembukaan untuk tanggal 2024-12-05: Series contain missing or duplicate timestamps, or the timestamps do not match the provided frequency.\n",
      "Please make sure that all series have a single observation from the first to the last timestamp and that the provided frequency matches the timestamps'.\n",
      "You can refer to https://docs.nixtla.io/docs/tutorials-missing_values for an end to end example.\n",
      "Gagal prediksi Pembukaan untuk tanggal 2024-12-06: Series contain missing or duplicate timestamps, or the timestamps do not match the provided frequency.\n",
      "Please make sure that all series have a single observation from the first to the last timestamp and that the provided frequency matches the timestamps'.\n",
      "You can refer to https://docs.nixtla.io/docs/tutorials-missing_values for an end to end example.\n"
     ]
    },
    {
     "name": "stderr",
     "output_type": "stream",
     "text": [
      "INFO:nixtla.nixtla_client:Validating inputs...\n",
      "INFO:nixtla.nixtla_client:Validating inputs...\n",
      "INFO:nixtla.nixtla_client:Validating inputs...\n",
      "INFO:nixtla.nixtla_client:Validating inputs...\n",
      "INFO:nixtla.nixtla_client:Validating inputs...\n",
      "INFO:nixtla.nixtla_client:Validating inputs...\n",
      "INFO:nixtla.nixtla_client:Validating inputs...\n",
      "INFO:nixtla.nixtla_client:Validating inputs...\n",
      "INFO:nixtla.nixtla_client:Validating inputs...\n",
      "INFO:nixtla.nixtla_client:Validating inputs...\n",
      "INFO:nixtla.nixtla_client:Validating inputs...\n"
     ]
    },
    {
     "name": "stdout",
     "output_type": "stream",
     "text": [
      "Gagal prediksi Pembukaan untuk tanggal 2024-12-07: Series contain missing or duplicate timestamps, or the timestamps do not match the provided frequency.\n",
      "Please make sure that all series have a single observation from the first to the last timestamp and that the provided frequency matches the timestamps'.\n",
      "You can refer to https://docs.nixtla.io/docs/tutorials-missing_values for an end to end example.\n",
      "Gagal prediksi Pembukaan untuk tanggal 2024-12-08: Series contain missing or duplicate timestamps, or the timestamps do not match the provided frequency.\n",
      "Please make sure that all series have a single observation from the first to the last timestamp and that the provided frequency matches the timestamps'.\n",
      "You can refer to https://docs.nixtla.io/docs/tutorials-missing_values for an end to end example.\n",
      "Gagal prediksi Pembukaan untuk tanggal 2024-12-09: Series contain missing or duplicate timestamps, or the timestamps do not match the provided frequency.\n",
      "Please make sure that all series have a single observation from the first to the last timestamp and that the provided frequency matches the timestamps'.\n",
      "You can refer to https://docs.nixtla.io/docs/tutorials-missing_values for an end to end example.\n",
      "Gagal prediksi Pembukaan untuk tanggal 2024-12-10: Series contain missing or duplicate timestamps, or the timestamps do not match the provided frequency.\n",
      "Please make sure that all series have a single observation from the first to the last timestamp and that the provided frequency matches the timestamps'.\n",
      "You can refer to https://docs.nixtla.io/docs/tutorials-missing_values for an end to end example.\n",
      "Gagal prediksi Pembukaan untuk tanggal 2024-12-11: Series contain missing or duplicate timestamps, or the timestamps do not match the provided frequency.\n",
      "Please make sure that all series have a single observation from the first to the last timestamp and that the provided frequency matches the timestamps'.\n",
      "You can refer to https://docs.nixtla.io/docs/tutorials-missing_values for an end to end example.\n",
      "Gagal prediksi Pembukaan untuk tanggal 2024-12-12: Series contain missing or duplicate timestamps, or the timestamps do not match the provided frequency.\n",
      "Please make sure that all series have a single observation from the first to the last timestamp and that the provided frequency matches the timestamps'.\n",
      "You can refer to https://docs.nixtla.io/docs/tutorials-missing_values for an end to end example.\n",
      "Gagal prediksi Pembukaan untuk tanggal 2024-12-13: Series contain missing or duplicate timestamps, or the timestamps do not match the provided frequency.\n",
      "Please make sure that all series have a single observation from the first to the last timestamp and that the provided frequency matches the timestamps'.\n",
      "You can refer to https://docs.nixtla.io/docs/tutorials-missing_values for an end to end example.\n",
      "Gagal prediksi Pembukaan untuk tanggal 2024-12-14: Series contain missing or duplicate timestamps, or the timestamps do not match the provided frequency.\n",
      "Please make sure that all series have a single observation from the first to the last timestamp and that the provided frequency matches the timestamps'.\n",
      "You can refer to https://docs.nixtla.io/docs/tutorials-missing_values for an end to end example.\n",
      "Gagal prediksi Pembukaan untuk tanggal 2024-12-15: Series contain missing or duplicate timestamps, or the timestamps do not match the provided frequency.\n",
      "Please make sure that all series have a single observation from the first to the last timestamp and that the provided frequency matches the timestamps'.\n",
      "You can refer to https://docs.nixtla.io/docs/tutorials-missing_values for an end to end example.\n",
      "Gagal prediksi Pembukaan untuk tanggal 2024-12-16: Series contain missing or duplicate timestamps, or the timestamps do not match the provided frequency.\n",
      "Please make sure that all series have a single observation from the first to the last timestamp and that the provided frequency matches the timestamps'.\n",
      "You can refer to https://docs.nixtla.io/docs/tutorials-missing_values for an end to end example.\n",
      "Gagal prediksi Pembukaan untuk tanggal 2024-12-17: Series contain missing or duplicate timestamps, or the timestamps do not match the provided frequency.\n",
      "Please make sure that all series have a single observation from the first to the last timestamp and that the provided frequency matches the timestamps'.\n",
      "You can refer to https://docs.nixtla.io/docs/tutorials-missing_values for an end to end example.\n"
     ]
    },
    {
     "name": "stderr",
     "output_type": "stream",
     "text": [
      "INFO:nixtla.nixtla_client:Validating inputs...\n",
      "INFO:nixtla.nixtla_client:Validating inputs...\n",
      "INFO:nixtla.nixtla_client:Validating inputs...\n",
      "INFO:nixtla.nixtla_client:Validating inputs...\n",
      "INFO:nixtla.nixtla_client:Validating inputs...\n",
      "INFO:nixtla.nixtla_client:Validating inputs...\n",
      "INFO:nixtla.nixtla_client:Validating inputs...\n",
      "INFO:nixtla.nixtla_client:Validating inputs...\n",
      "INFO:nixtla.nixtla_client:Validating inputs...\n",
      "INFO:nixtla.nixtla_client:Validating inputs...\n",
      "INFO:nixtla.nixtla_client:Validating inputs...\n"
     ]
    },
    {
     "name": "stdout",
     "output_type": "stream",
     "text": [
      "Gagal prediksi Pembukaan untuk tanggal 2024-12-18: Series contain missing or duplicate timestamps, or the timestamps do not match the provided frequency.\n",
      "Please make sure that all series have a single observation from the first to the last timestamp and that the provided frequency matches the timestamps'.\n",
      "You can refer to https://docs.nixtla.io/docs/tutorials-missing_values for an end to end example.\n",
      "Gagal prediksi Pembukaan untuk tanggal 2024-12-19: Series contain missing or duplicate timestamps, or the timestamps do not match the provided frequency.\n",
      "Please make sure that all series have a single observation from the first to the last timestamp and that the provided frequency matches the timestamps'.\n",
      "You can refer to https://docs.nixtla.io/docs/tutorials-missing_values for an end to end example.\n",
      "Gagal prediksi Pembukaan untuk tanggal 2024-12-20: Series contain missing or duplicate timestamps, or the timestamps do not match the provided frequency.\n",
      "Please make sure that all series have a single observation from the first to the last timestamp and that the provided frequency matches the timestamps'.\n",
      "You can refer to https://docs.nixtla.io/docs/tutorials-missing_values for an end to end example.\n",
      "Gagal prediksi Pembukaan untuk tanggal 2024-12-21: Series contain missing or duplicate timestamps, or the timestamps do not match the provided frequency.\n",
      "Please make sure that all series have a single observation from the first to the last timestamp and that the provided frequency matches the timestamps'.\n",
      "You can refer to https://docs.nixtla.io/docs/tutorials-missing_values for an end to end example.\n",
      "Gagal prediksi Pembukaan untuk tanggal 2024-12-22: Series contain missing or duplicate timestamps, or the timestamps do not match the provided frequency.\n",
      "Please make sure that all series have a single observation from the first to the last timestamp and that the provided frequency matches the timestamps'.\n",
      "You can refer to https://docs.nixtla.io/docs/tutorials-missing_values for an end to end example.\n",
      "Gagal prediksi Pembukaan untuk tanggal 2024-12-23: Series contain missing or duplicate timestamps, or the timestamps do not match the provided frequency.\n",
      "Please make sure that all series have a single observation from the first to the last timestamp and that the provided frequency matches the timestamps'.\n",
      "You can refer to https://docs.nixtla.io/docs/tutorials-missing_values for an end to end example.\n",
      "Gagal prediksi Pembukaan untuk tanggal 2024-12-24: Series contain missing or duplicate timestamps, or the timestamps do not match the provided frequency.\n",
      "Please make sure that all series have a single observation from the first to the last timestamp and that the provided frequency matches the timestamps'.\n",
      "You can refer to https://docs.nixtla.io/docs/tutorials-missing_values for an end to end example.\n",
      "Gagal prediksi Pembukaan untuk tanggal 2024-12-25: Series contain missing or duplicate timestamps, or the timestamps do not match the provided frequency.\n",
      "Please make sure that all series have a single observation from the first to the last timestamp and that the provided frequency matches the timestamps'.\n",
      "You can refer to https://docs.nixtla.io/docs/tutorials-missing_values for an end to end example.\n",
      "Gagal prediksi Pembukaan untuk tanggal 2024-12-26: Series contain missing or duplicate timestamps, or the timestamps do not match the provided frequency.\n",
      "Please make sure that all series have a single observation from the first to the last timestamp and that the provided frequency matches the timestamps'.\n",
      "You can refer to https://docs.nixtla.io/docs/tutorials-missing_values for an end to end example.\n",
      "Gagal prediksi Pembukaan untuk tanggal 2024-12-27: Series contain missing or duplicate timestamps, or the timestamps do not match the provided frequency.\n",
      "Please make sure that all series have a single observation from the first to the last timestamp and that the provided frequency matches the timestamps'.\n",
      "You can refer to https://docs.nixtla.io/docs/tutorials-missing_values for an end to end example.\n"
     ]
    },
    {
     "name": "stderr",
     "output_type": "stream",
     "text": [
      "INFO:nixtla.nixtla_client:Validating inputs...\n",
      "INFO:nixtla.nixtla_client:Validating inputs...\n",
      "INFO:nixtla.nixtla_client:Validating inputs...\n",
      "INFO:nixtla.nixtla_client:Validating inputs...\n",
      "INFO:nixtla.nixtla_client:Validating inputs...\n",
      "INFO:nixtla.nixtla_client:Validating inputs...\n",
      "INFO:nixtla.nixtla_client:Validating inputs...\n",
      "INFO:nixtla.nixtla_client:Validating inputs...\n"
     ]
    },
    {
     "name": "stdout",
     "output_type": "stream",
     "text": [
      "Gagal prediksi Pembukaan untuk tanggal 2024-12-28: Series contain missing or duplicate timestamps, or the timestamps do not match the provided frequency.\n",
      "Please make sure that all series have a single observation from the first to the last timestamp and that the provided frequency matches the timestamps'.\n",
      "You can refer to https://docs.nixtla.io/docs/tutorials-missing_values for an end to end example.\n",
      "Gagal prediksi Pembukaan untuk tanggal 2024-12-29: Series contain missing or duplicate timestamps, or the timestamps do not match the provided frequency.\n",
      "Please make sure that all series have a single observation from the first to the last timestamp and that the provided frequency matches the timestamps'.\n",
      "You can refer to https://docs.nixtla.io/docs/tutorials-missing_values for an end to end example.\n",
      "Gagal prediksi Pembukaan untuk tanggal 2024-12-30: Series contain missing or duplicate timestamps, or the timestamps do not match the provided frequency.\n",
      "Please make sure that all series have a single observation from the first to the last timestamp and that the provided frequency matches the timestamps'.\n",
      "You can refer to https://docs.nixtla.io/docs/tutorials-missing_values for an end to end example.\n",
      "Gagal prediksi Pembukaan untuk tanggal 2024-12-31: Series contain missing or duplicate timestamps, or the timestamps do not match the provided frequency.\n",
      "Please make sure that all series have a single observation from the first to the last timestamp and that the provided frequency matches the timestamps'.\n",
      "You can refer to https://docs.nixtla.io/docs/tutorials-missing_values for an end to end example.\n",
      "Gagal prediksi Pembukaan untuk tanggal 2025-01-01: Series contain missing or duplicate timestamps, or the timestamps do not match the provided frequency.\n",
      "Please make sure that all series have a single observation from the first to the last timestamp and that the provided frequency matches the timestamps'.\n",
      "You can refer to https://docs.nixtla.io/docs/tutorials-missing_values for an end to end example.\n",
      "Gagal prediksi Pembukaan untuk tanggal 2025-01-02: Series contain missing or duplicate timestamps, or the timestamps do not match the provided frequency.\n",
      "Please make sure that all series have a single observation from the first to the last timestamp and that the provided frequency matches the timestamps'.\n",
      "You can refer to https://docs.nixtla.io/docs/tutorials-missing_values for an end to end example.\n",
      "Gagal prediksi Pembukaan untuk tanggal 2025-01-03: Series contain missing or duplicate timestamps, or the timestamps do not match the provided frequency.\n",
      "Please make sure that all series have a single observation from the first to the last timestamp and that the provided frequency matches the timestamps'.\n",
      "You can refer to https://docs.nixtla.io/docs/tutorials-missing_values for an end to end example.\n",
      "Gagal prediksi Pembukaan untuk tanggal 2025-01-04: Series contain missing or duplicate timestamps, or the timestamps do not match the provided frequency.\n",
      "Please make sure that all series have a single observation from the first to the last timestamp and that the provided frequency matches the timestamps'.\n",
      "You can refer to https://docs.nixtla.io/docs/tutorials-missing_values for an end to end example.\n",
      "Gagal prediksi Pembukaan untuk tanggal 2025-01-05: Series contain missing or duplicate timestamps, or the timestamps do not match the provided frequency.\n",
      "Please make sure that all series have a single observation from the first to the last timestamp and that the provided frequency matches the timestamps'.\n",
      "You can refer to https://docs.nixtla.io/docs/tutorials-missing_values for an end to end example.\n"
     ]
    },
    {
     "name": "stderr",
     "output_type": "stream",
     "text": [
      "INFO:nixtla.nixtla_client:Validating inputs...\n",
      "INFO:nixtla.nixtla_client:Validating inputs...\n",
      "INFO:nixtla.nixtla_client:Validating inputs...\n",
      "INFO:nixtla.nixtla_client:Validating inputs...\n",
      "INFO:nixtla.nixtla_client:Validating inputs...\n",
      "INFO:nixtla.nixtla_client:Validating inputs...\n",
      "INFO:nixtla.nixtla_client:Validating inputs...\n",
      "INFO:nixtla.nixtla_client:Validating inputs...\n",
      "INFO:nixtla.nixtla_client:Validating inputs...\n",
      "INFO:nixtla.nixtla_client:Validating inputs...\n",
      "INFO:nixtla.nixtla_client:Validating inputs...\n",
      "INFO:nixtla.nixtla_client:Validating inputs...\n"
     ]
    },
    {
     "name": "stdout",
     "output_type": "stream",
     "text": [
      "Gagal prediksi Pembukaan untuk tanggal 2025-01-06: Series contain missing or duplicate timestamps, or the timestamps do not match the provided frequency.\n",
      "Please make sure that all series have a single observation from the first to the last timestamp and that the provided frequency matches the timestamps'.\n",
      "You can refer to https://docs.nixtla.io/docs/tutorials-missing_values for an end to end example.\n",
      "Gagal prediksi Pembukaan untuk tanggal 2025-01-07: Series contain missing or duplicate timestamps, or the timestamps do not match the provided frequency.\n",
      "Please make sure that all series have a single observation from the first to the last timestamp and that the provided frequency matches the timestamps'.\n",
      "You can refer to https://docs.nixtla.io/docs/tutorials-missing_values for an end to end example.\n",
      "Gagal prediksi Pembukaan untuk tanggal 2025-01-08: Series contain missing or duplicate timestamps, or the timestamps do not match the provided frequency.\n",
      "Please make sure that all series have a single observation from the first to the last timestamp and that the provided frequency matches the timestamps'.\n",
      "You can refer to https://docs.nixtla.io/docs/tutorials-missing_values for an end to end example.\n",
      "Gagal prediksi Pembukaan untuk tanggal 2025-01-09: Series contain missing or duplicate timestamps, or the timestamps do not match the provided frequency.\n",
      "Please make sure that all series have a single observation from the first to the last timestamp and that the provided frequency matches the timestamps'.\n",
      "You can refer to https://docs.nixtla.io/docs/tutorials-missing_values for an end to end example.\n",
      "Gagal prediksi Pembukaan untuk tanggal 2025-01-10: Series contain missing or duplicate timestamps, or the timestamps do not match the provided frequency.\n",
      "Please make sure that all series have a single observation from the first to the last timestamp and that the provided frequency matches the timestamps'.\n",
      "You can refer to https://docs.nixtla.io/docs/tutorials-missing_values for an end to end example.\n",
      "Gagal prediksi Pembukaan untuk tanggal 2025-01-11: Series contain missing or duplicate timestamps, or the timestamps do not match the provided frequency.\n",
      "Please make sure that all series have a single observation from the first to the last timestamp and that the provided frequency matches the timestamps'.\n",
      "You can refer to https://docs.nixtla.io/docs/tutorials-missing_values for an end to end example.\n",
      "Gagal prediksi Pembukaan untuk tanggal 2025-01-12: Series contain missing or duplicate timestamps, or the timestamps do not match the provided frequency.\n",
      "Please make sure that all series have a single observation from the first to the last timestamp and that the provided frequency matches the timestamps'.\n",
      "You can refer to https://docs.nixtla.io/docs/tutorials-missing_values for an end to end example.\n",
      "Gagal prediksi Pembukaan untuk tanggal 2025-01-13: Series contain missing or duplicate timestamps, or the timestamps do not match the provided frequency.\n",
      "Please make sure that all series have a single observation from the first to the last timestamp and that the provided frequency matches the timestamps'.\n",
      "You can refer to https://docs.nixtla.io/docs/tutorials-missing_values for an end to end example.\n",
      "Gagal prediksi Pembukaan untuk tanggal 2025-01-14: Series contain missing or duplicate timestamps, or the timestamps do not match the provided frequency.\n",
      "Please make sure that all series have a single observation from the first to the last timestamp and that the provided frequency matches the timestamps'.\n",
      "You can refer to https://docs.nixtla.io/docs/tutorials-missing_values for an end to end example.\n",
      "Gagal prediksi Pembukaan untuk tanggal 2025-01-15: Series contain missing or duplicate timestamps, or the timestamps do not match the provided frequency.\n",
      "Please make sure that all series have a single observation from the first to the last timestamp and that the provided frequency matches the timestamps'.\n",
      "You can refer to https://docs.nixtla.io/docs/tutorials-missing_values for an end to end example.\n",
      "Gagal prediksi Pembukaan untuk tanggal 2025-01-16: Series contain missing or duplicate timestamps, or the timestamps do not match the provided frequency.\n",
      "Please make sure that all series have a single observation from the first to the last timestamp and that the provided frequency matches the timestamps'.\n",
      "You can refer to https://docs.nixtla.io/docs/tutorials-missing_values for an end to end example.\n"
     ]
    },
    {
     "name": "stderr",
     "output_type": "stream",
     "text": [
      "INFO:nixtla.nixtla_client:Validating inputs...\n",
      "INFO:nixtla.nixtla_client:Validating inputs...\n",
      "INFO:nixtla.nixtla_client:Validating inputs...\n",
      "INFO:nixtla.nixtla_client:Validating inputs...\n",
      "INFO:nixtla.nixtla_client:Validating inputs...\n",
      "INFO:nixtla.nixtla_client:Validating inputs...\n",
      "INFO:nixtla.nixtla_client:Validating inputs...\n",
      "INFO:nixtla.nixtla_client:Validating inputs...\n",
      "INFO:nixtla.nixtla_client:Validating inputs...\n",
      "INFO:nixtla.nixtla_client:Validating inputs...\n",
      "INFO:nixtla.nixtla_client:Validating inputs...\n",
      "INFO:nixtla.nixtla_client:Validating inputs...\n"
     ]
    },
    {
     "name": "stdout",
     "output_type": "stream",
     "text": [
      "Gagal prediksi Pembukaan untuk tanggal 2025-01-17: Series contain missing or duplicate timestamps, or the timestamps do not match the provided frequency.\n",
      "Please make sure that all series have a single observation from the first to the last timestamp and that the provided frequency matches the timestamps'.\n",
      "You can refer to https://docs.nixtla.io/docs/tutorials-missing_values for an end to end example.\n",
      "Gagal prediksi Pembukaan untuk tanggal 2025-01-18: Series contain missing or duplicate timestamps, or the timestamps do not match the provided frequency.\n",
      "Please make sure that all series have a single observation from the first to the last timestamp and that the provided frequency matches the timestamps'.\n",
      "You can refer to https://docs.nixtla.io/docs/tutorials-missing_values for an end to end example.\n",
      "Gagal prediksi Pembukaan untuk tanggal 2025-01-19: Series contain missing or duplicate timestamps, or the timestamps do not match the provided frequency.\n",
      "Please make sure that all series have a single observation from the first to the last timestamp and that the provided frequency matches the timestamps'.\n",
      "You can refer to https://docs.nixtla.io/docs/tutorials-missing_values for an end to end example.\n",
      "Gagal prediksi Pembukaan untuk tanggal 2025-01-20: Series contain missing or duplicate timestamps, or the timestamps do not match the provided frequency.\n",
      "Please make sure that all series have a single observation from the first to the last timestamp and that the provided frequency matches the timestamps'.\n",
      "You can refer to https://docs.nixtla.io/docs/tutorials-missing_values for an end to end example.\n",
      "Gagal prediksi Pembukaan untuk tanggal 2025-01-21: Series contain missing or duplicate timestamps, or the timestamps do not match the provided frequency.\n",
      "Please make sure that all series have a single observation from the first to the last timestamp and that the provided frequency matches the timestamps'.\n",
      "You can refer to https://docs.nixtla.io/docs/tutorials-missing_values for an end to end example.\n",
      "Gagal prediksi Pembukaan untuk tanggal 2025-01-22: Series contain missing or duplicate timestamps, or the timestamps do not match the provided frequency.\n",
      "Please make sure that all series have a single observation from the first to the last timestamp and that the provided frequency matches the timestamps'.\n",
      "You can refer to https://docs.nixtla.io/docs/tutorials-missing_values for an end to end example.\n",
      "Gagal prediksi Pembukaan untuk tanggal 2025-01-23: Series contain missing or duplicate timestamps, or the timestamps do not match the provided frequency.\n",
      "Please make sure that all series have a single observation from the first to the last timestamp and that the provided frequency matches the timestamps'.\n",
      "You can refer to https://docs.nixtla.io/docs/tutorials-missing_values for an end to end example.\n",
      "Gagal prediksi Pembukaan untuk tanggal 2025-01-24: Series contain missing or duplicate timestamps, or the timestamps do not match the provided frequency.\n",
      "Please make sure that all series have a single observation from the first to the last timestamp and that the provided frequency matches the timestamps'.\n",
      "You can refer to https://docs.nixtla.io/docs/tutorials-missing_values for an end to end example.\n",
      "Gagal prediksi Pembukaan untuk tanggal 2025-01-25: Series contain missing or duplicate timestamps, or the timestamps do not match the provided frequency.\n",
      "Please make sure that all series have a single observation from the first to the last timestamp and that the provided frequency matches the timestamps'.\n",
      "You can refer to https://docs.nixtla.io/docs/tutorials-missing_values for an end to end example.\n",
      "Gagal prediksi Pembukaan untuk tanggal 2025-01-26: Series contain missing or duplicate timestamps, or the timestamps do not match the provided frequency.\n",
      "Please make sure that all series have a single observation from the first to the last timestamp and that the provided frequency matches the timestamps'.\n",
      "You can refer to https://docs.nixtla.io/docs/tutorials-missing_values for an end to end example.\n",
      "Gagal prediksi Pembukaan untuk tanggal 2025-01-27: Series contain missing or duplicate timestamps, or the timestamps do not match the provided frequency.\n",
      "Please make sure that all series have a single observation from the first to the last timestamp and that the provided frequency matches the timestamps'.\n",
      "You can refer to https://docs.nixtla.io/docs/tutorials-missing_values for an end to end example.\n",
      "Gagal prediksi Pembukaan untuk tanggal 2025-01-28: Series contain missing or duplicate timestamps, or the timestamps do not match the provided frequency.\n",
      "Please make sure that all series have a single observation from the first to the last timestamp and that the provided frequency matches the timestamps'.\n",
      "You can refer to https://docs.nixtla.io/docs/tutorials-missing_values for an end to end example.\n"
     ]
    },
    {
     "name": "stderr",
     "output_type": "stream",
     "text": [
      "INFO:nixtla.nixtla_client:Validating inputs...\n",
      "INFO:nixtla.nixtla_client:Validating inputs...\n",
      "INFO:nixtla.nixtla_client:Validating inputs...\n",
      "INFO:nixtla.nixtla_client:Validating inputs...\n",
      "INFO:nixtla.nixtla_client:Validating inputs...\n",
      "INFO:nixtla.nixtla_client:Validating inputs...\n",
      "INFO:nixtla.nixtla_client:Validating inputs...\n",
      "INFO:nixtla.nixtla_client:Validating inputs...\n",
      "INFO:nixtla.nixtla_client:Validating inputs...\n"
     ]
    },
    {
     "name": "stdout",
     "output_type": "stream",
     "text": [
      "Gagal prediksi Pembukaan untuk tanggal 2025-01-29: Series contain missing or duplicate timestamps, or the timestamps do not match the provided frequency.\n",
      "Please make sure that all series have a single observation from the first to the last timestamp and that the provided frequency matches the timestamps'.\n",
      "You can refer to https://docs.nixtla.io/docs/tutorials-missing_values for an end to end example.\n",
      "Gagal prediksi Pembukaan untuk tanggal 2025-01-30: Series contain missing or duplicate timestamps, or the timestamps do not match the provided frequency.\n",
      "Please make sure that all series have a single observation from the first to the last timestamp and that the provided frequency matches the timestamps'.\n",
      "You can refer to https://docs.nixtla.io/docs/tutorials-missing_values for an end to end example.\n",
      "Gagal prediksi Pembukaan untuk tanggal 2025-01-31: Series contain missing or duplicate timestamps, or the timestamps do not match the provided frequency.\n",
      "Please make sure that all series have a single observation from the first to the last timestamp and that the provided frequency matches the timestamps'.\n",
      "You can refer to https://docs.nixtla.io/docs/tutorials-missing_values for an end to end example.\n",
      "Memulai prediksi untuk kolom: Tertinggi\n",
      "Gagal prediksi Tertinggi untuk tanggal 2024-07-01: Series contain missing or duplicate timestamps, or the timestamps do not match the provided frequency.\n",
      "Please make sure that all series have a single observation from the first to the last timestamp and that the provided frequency matches the timestamps'.\n",
      "You can refer to https://docs.nixtla.io/docs/tutorials-missing_values for an end to end example.\n",
      "Gagal prediksi Tertinggi untuk tanggal 2024-07-02: Series contain missing or duplicate timestamps, or the timestamps do not match the provided frequency.\n",
      "Please make sure that all series have a single observation from the first to the last timestamp and that the provided frequency matches the timestamps'.\n",
      "You can refer to https://docs.nixtla.io/docs/tutorials-missing_values for an end to end example.\n",
      "Gagal prediksi Tertinggi untuk tanggal 2024-07-03: Series contain missing or duplicate timestamps, or the timestamps do not match the provided frequency.\n",
      "Please make sure that all series have a single observation from the first to the last timestamp and that the provided frequency matches the timestamps'.\n",
      "You can refer to https://docs.nixtla.io/docs/tutorials-missing_values for an end to end example.\n",
      "Gagal prediksi Tertinggi untuk tanggal 2024-07-04: Series contain missing or duplicate timestamps, or the timestamps do not match the provided frequency.\n",
      "Please make sure that all series have a single observation from the first to the last timestamp and that the provided frequency matches the timestamps'.\n",
      "You can refer to https://docs.nixtla.io/docs/tutorials-missing_values for an end to end example.\n",
      "Gagal prediksi Tertinggi untuk tanggal 2024-07-05: Series contain missing or duplicate timestamps, or the timestamps do not match the provided frequency.\n",
      "Please make sure that all series have a single observation from the first to the last timestamp and that the provided frequency matches the timestamps'.\n",
      "You can refer to https://docs.nixtla.io/docs/tutorials-missing_values for an end to end example.\n",
      "Gagal prediksi Tertinggi untuk tanggal 2024-07-06: Series contain missing or duplicate timestamps, or the timestamps do not match the provided frequency.\n",
      "Please make sure that all series have a single observation from the first to the last timestamp and that the provided frequency matches the timestamps'.\n",
      "You can refer to https://docs.nixtla.io/docs/tutorials-missing_values for an end to end example.\n",
      "Gagal prediksi Tertinggi untuk tanggal 2024-07-07: Series contain missing or duplicate timestamps, or the timestamps do not match the provided frequency.\n",
      "Please make sure that all series have a single observation from the first to the last timestamp and that the provided frequency matches the timestamps'.\n",
      "You can refer to https://docs.nixtla.io/docs/tutorials-missing_values for an end to end example.\n"
     ]
    },
    {
     "name": "stderr",
     "output_type": "stream",
     "text": [
      "INFO:nixtla.nixtla_client:Validating inputs...\n",
      "INFO:nixtla.nixtla_client:Validating inputs...\n",
      "INFO:nixtla.nixtla_client:Validating inputs...\n",
      "INFO:nixtla.nixtla_client:Validating inputs...\n",
      "INFO:nixtla.nixtla_client:Validating inputs...\n",
      "INFO:nixtla.nixtla_client:Validating inputs...\n",
      "INFO:nixtla.nixtla_client:Validating inputs...\n",
      "INFO:nixtla.nixtla_client:Validating inputs...\n",
      "INFO:nixtla.nixtla_client:Validating inputs...\n",
      "INFO:nixtla.nixtla_client:Validating inputs...\n",
      "INFO:nixtla.nixtla_client:Validating inputs...\n",
      "INFO:nixtla.nixtla_client:Validating inputs...\n",
      "INFO:nixtla.nixtla_client:Validating inputs...\n"
     ]
    },
    {
     "name": "stdout",
     "output_type": "stream",
     "text": [
      "Gagal prediksi Tertinggi untuk tanggal 2024-07-08: Series contain missing or duplicate timestamps, or the timestamps do not match the provided frequency.\n",
      "Please make sure that all series have a single observation from the first to the last timestamp and that the provided frequency matches the timestamps'.\n",
      "You can refer to https://docs.nixtla.io/docs/tutorials-missing_values for an end to end example.\n",
      "Gagal prediksi Tertinggi untuk tanggal 2024-07-09: Series contain missing or duplicate timestamps, or the timestamps do not match the provided frequency.\n",
      "Please make sure that all series have a single observation from the first to the last timestamp and that the provided frequency matches the timestamps'.\n",
      "You can refer to https://docs.nixtla.io/docs/tutorials-missing_values for an end to end example.\n",
      "Gagal prediksi Tertinggi untuk tanggal 2024-07-10: Series contain missing or duplicate timestamps, or the timestamps do not match the provided frequency.\n",
      "Please make sure that all series have a single observation from the first to the last timestamp and that the provided frequency matches the timestamps'.\n",
      "You can refer to https://docs.nixtla.io/docs/tutorials-missing_values for an end to end example.\n",
      "Gagal prediksi Tertinggi untuk tanggal 2024-07-11: Series contain missing or duplicate timestamps, or the timestamps do not match the provided frequency.\n",
      "Please make sure that all series have a single observation from the first to the last timestamp and that the provided frequency matches the timestamps'.\n",
      "You can refer to https://docs.nixtla.io/docs/tutorials-missing_values for an end to end example.\n",
      "Gagal prediksi Tertinggi untuk tanggal 2024-07-12: Series contain missing or duplicate timestamps, or the timestamps do not match the provided frequency.\n",
      "Please make sure that all series have a single observation from the first to the last timestamp and that the provided frequency matches the timestamps'.\n",
      "You can refer to https://docs.nixtla.io/docs/tutorials-missing_values for an end to end example.\n",
      "Gagal prediksi Tertinggi untuk tanggal 2024-07-13: Series contain missing or duplicate timestamps, or the timestamps do not match the provided frequency.\n",
      "Please make sure that all series have a single observation from the first to the last timestamp and that the provided frequency matches the timestamps'.\n",
      "You can refer to https://docs.nixtla.io/docs/tutorials-missing_values for an end to end example.\n",
      "Gagal prediksi Tertinggi untuk tanggal 2024-07-14: Series contain missing or duplicate timestamps, or the timestamps do not match the provided frequency.\n",
      "Please make sure that all series have a single observation from the first to the last timestamp and that the provided frequency matches the timestamps'.\n",
      "You can refer to https://docs.nixtla.io/docs/tutorials-missing_values for an end to end example.\n",
      "Gagal prediksi Tertinggi untuk tanggal 2024-07-15: Series contain missing or duplicate timestamps, or the timestamps do not match the provided frequency.\n",
      "Please make sure that all series have a single observation from the first to the last timestamp and that the provided frequency matches the timestamps'.\n",
      "You can refer to https://docs.nixtla.io/docs/tutorials-missing_values for an end to end example.\n",
      "Gagal prediksi Tertinggi untuk tanggal 2024-07-16: Series contain missing or duplicate timestamps, or the timestamps do not match the provided frequency.\n",
      "Please make sure that all series have a single observation from the first to the last timestamp and that the provided frequency matches the timestamps'.\n",
      "You can refer to https://docs.nixtla.io/docs/tutorials-missing_values for an end to end example.\n",
      "Gagal prediksi Tertinggi untuk tanggal 2024-07-17: Series contain missing or duplicate timestamps, or the timestamps do not match the provided frequency.\n",
      "Please make sure that all series have a single observation from the first to the last timestamp and that the provided frequency matches the timestamps'.\n",
      "You can refer to https://docs.nixtla.io/docs/tutorials-missing_values for an end to end example.\n",
      "Gagal prediksi Tertinggi untuk tanggal 2024-07-18: Series contain missing or duplicate timestamps, or the timestamps do not match the provided frequency.\n",
      "Please make sure that all series have a single observation from the first to the last timestamp and that the provided frequency matches the timestamps'.\n",
      "You can refer to https://docs.nixtla.io/docs/tutorials-missing_values for an end to end example.\n",
      "Gagal prediksi Tertinggi untuk tanggal 2024-07-19: Series contain missing or duplicate timestamps, or the timestamps do not match the provided frequency.\n",
      "Please make sure that all series have a single observation from the first to the last timestamp and that the provided frequency matches the timestamps'.\n",
      "You can refer to https://docs.nixtla.io/docs/tutorials-missing_values for an end to end example.\n"
     ]
    },
    {
     "name": "stderr",
     "output_type": "stream",
     "text": [
      "INFO:nixtla.nixtla_client:Validating inputs...\n",
      "INFO:nixtla.nixtla_client:Validating inputs...\n",
      "INFO:nixtla.nixtla_client:Validating inputs...\n",
      "INFO:nixtla.nixtla_client:Validating inputs...\n",
      "INFO:nixtla.nixtla_client:Validating inputs...\n",
      "INFO:nixtla.nixtla_client:Validating inputs...\n",
      "INFO:nixtla.nixtla_client:Validating inputs...\n",
      "INFO:nixtla.nixtla_client:Validating inputs...\n",
      "INFO:nixtla.nixtla_client:Validating inputs...\n",
      "INFO:nixtla.nixtla_client:Validating inputs...\n",
      "INFO:nixtla.nixtla_client:Validating inputs...\n",
      "INFO:nixtla.nixtla_client:Validating inputs...\n"
     ]
    },
    {
     "name": "stdout",
     "output_type": "stream",
     "text": [
      "Gagal prediksi Tertinggi untuk tanggal 2024-07-20: Series contain missing or duplicate timestamps, or the timestamps do not match the provided frequency.\n",
      "Please make sure that all series have a single observation from the first to the last timestamp and that the provided frequency matches the timestamps'.\n",
      "You can refer to https://docs.nixtla.io/docs/tutorials-missing_values for an end to end example.\n",
      "Gagal prediksi Tertinggi untuk tanggal 2024-07-21: Series contain missing or duplicate timestamps, or the timestamps do not match the provided frequency.\n",
      "Please make sure that all series have a single observation from the first to the last timestamp and that the provided frequency matches the timestamps'.\n",
      "You can refer to https://docs.nixtla.io/docs/tutorials-missing_values for an end to end example.\n",
      "Gagal prediksi Tertinggi untuk tanggal 2024-07-22: Series contain missing or duplicate timestamps, or the timestamps do not match the provided frequency.\n",
      "Please make sure that all series have a single observation from the first to the last timestamp and that the provided frequency matches the timestamps'.\n",
      "You can refer to https://docs.nixtla.io/docs/tutorials-missing_values for an end to end example.\n",
      "Gagal prediksi Tertinggi untuk tanggal 2024-07-23: Series contain missing or duplicate timestamps, or the timestamps do not match the provided frequency.\n",
      "Please make sure that all series have a single observation from the first to the last timestamp and that the provided frequency matches the timestamps'.\n",
      "You can refer to https://docs.nixtla.io/docs/tutorials-missing_values for an end to end example.\n",
      "Gagal prediksi Tertinggi untuk tanggal 2024-07-24: Series contain missing or duplicate timestamps, or the timestamps do not match the provided frequency.\n",
      "Please make sure that all series have a single observation from the first to the last timestamp and that the provided frequency matches the timestamps'.\n",
      "You can refer to https://docs.nixtla.io/docs/tutorials-missing_values for an end to end example.\n",
      "Gagal prediksi Tertinggi untuk tanggal 2024-07-25: Series contain missing or duplicate timestamps, or the timestamps do not match the provided frequency.\n",
      "Please make sure that all series have a single observation from the first to the last timestamp and that the provided frequency matches the timestamps'.\n",
      "You can refer to https://docs.nixtla.io/docs/tutorials-missing_values for an end to end example.\n",
      "Gagal prediksi Tertinggi untuk tanggal 2024-07-26: Series contain missing or duplicate timestamps, or the timestamps do not match the provided frequency.\n",
      "Please make sure that all series have a single observation from the first to the last timestamp and that the provided frequency matches the timestamps'.\n",
      "You can refer to https://docs.nixtla.io/docs/tutorials-missing_values for an end to end example.\n",
      "Gagal prediksi Tertinggi untuk tanggal 2024-07-27: Series contain missing or duplicate timestamps, or the timestamps do not match the provided frequency.\n",
      "Please make sure that all series have a single observation from the first to the last timestamp and that the provided frequency matches the timestamps'.\n",
      "You can refer to https://docs.nixtla.io/docs/tutorials-missing_values for an end to end example.\n",
      "Gagal prediksi Tertinggi untuk tanggal 2024-07-28: Series contain missing or duplicate timestamps, or the timestamps do not match the provided frequency.\n",
      "Please make sure that all series have a single observation from the first to the last timestamp and that the provided frequency matches the timestamps'.\n",
      "You can refer to https://docs.nixtla.io/docs/tutorials-missing_values for an end to end example.\n",
      "Gagal prediksi Tertinggi untuk tanggal 2024-07-29: Series contain missing or duplicate timestamps, or the timestamps do not match the provided frequency.\n",
      "Please make sure that all series have a single observation from the first to the last timestamp and that the provided frequency matches the timestamps'.\n",
      "You can refer to https://docs.nixtla.io/docs/tutorials-missing_values for an end to end example.\n",
      "Gagal prediksi Tertinggi untuk tanggal 2024-07-30: Series contain missing or duplicate timestamps, or the timestamps do not match the provided frequency.\n",
      "Please make sure that all series have a single observation from the first to the last timestamp and that the provided frequency matches the timestamps'.\n",
      "You can refer to https://docs.nixtla.io/docs/tutorials-missing_values for an end to end example.\n",
      "Gagal prediksi Tertinggi untuk tanggal 2024-07-31: Series contain missing or duplicate timestamps, or the timestamps do not match the provided frequency.\n",
      "Please make sure that all series have a single observation from the first to the last timestamp and that the provided frequency matches the timestamps'.\n",
      "You can refer to https://docs.nixtla.io/docs/tutorials-missing_values for an end to end example.\n"
     ]
    },
    {
     "name": "stderr",
     "output_type": "stream",
     "text": [
      "INFO:nixtla.nixtla_client:Validating inputs...\n",
      "INFO:nixtla.nixtla_client:Validating inputs...\n",
      "INFO:nixtla.nixtla_client:Validating inputs...\n",
      "INFO:nixtla.nixtla_client:Validating inputs...\n",
      "INFO:nixtla.nixtla_client:Validating inputs...\n",
      "INFO:nixtla.nixtla_client:Validating inputs...\n",
      "INFO:nixtla.nixtla_client:Validating inputs...\n",
      "INFO:nixtla.nixtla_client:Validating inputs...\n",
      "INFO:nixtla.nixtla_client:Validating inputs...\n",
      "INFO:nixtla.nixtla_client:Validating inputs...\n",
      "INFO:nixtla.nixtla_client:Validating inputs...\n"
     ]
    },
    {
     "name": "stdout",
     "output_type": "stream",
     "text": [
      "Gagal prediksi Tertinggi untuk tanggal 2024-08-01: Series contain missing or duplicate timestamps, or the timestamps do not match the provided frequency.\n",
      "Please make sure that all series have a single observation from the first to the last timestamp and that the provided frequency matches the timestamps'.\n",
      "You can refer to https://docs.nixtla.io/docs/tutorials-missing_values for an end to end example.\n",
      "Gagal prediksi Tertinggi untuk tanggal 2024-08-02: Series contain missing or duplicate timestamps, or the timestamps do not match the provided frequency.\n",
      "Please make sure that all series have a single observation from the first to the last timestamp and that the provided frequency matches the timestamps'.\n",
      "You can refer to https://docs.nixtla.io/docs/tutorials-missing_values for an end to end example.\n",
      "Gagal prediksi Tertinggi untuk tanggal 2024-08-03: Series contain missing or duplicate timestamps, or the timestamps do not match the provided frequency.\n",
      "Please make sure that all series have a single observation from the first to the last timestamp and that the provided frequency matches the timestamps'.\n",
      "You can refer to https://docs.nixtla.io/docs/tutorials-missing_values for an end to end example.\n",
      "Gagal prediksi Tertinggi untuk tanggal 2024-08-04: Series contain missing or duplicate timestamps, or the timestamps do not match the provided frequency.\n",
      "Please make sure that all series have a single observation from the first to the last timestamp and that the provided frequency matches the timestamps'.\n",
      "You can refer to https://docs.nixtla.io/docs/tutorials-missing_values for an end to end example.\n",
      "Gagal prediksi Tertinggi untuk tanggal 2024-08-05: Series contain missing or duplicate timestamps, or the timestamps do not match the provided frequency.\n",
      "Please make sure that all series have a single observation from the first to the last timestamp and that the provided frequency matches the timestamps'.\n",
      "You can refer to https://docs.nixtla.io/docs/tutorials-missing_values for an end to end example.\n",
      "Gagal prediksi Tertinggi untuk tanggal 2024-08-06: Series contain missing or duplicate timestamps, or the timestamps do not match the provided frequency.\n",
      "Please make sure that all series have a single observation from the first to the last timestamp and that the provided frequency matches the timestamps'.\n",
      "You can refer to https://docs.nixtla.io/docs/tutorials-missing_values for an end to end example.\n",
      "Gagal prediksi Tertinggi untuk tanggal 2024-08-07: Series contain missing or duplicate timestamps, or the timestamps do not match the provided frequency.\n",
      "Please make sure that all series have a single observation from the first to the last timestamp and that the provided frequency matches the timestamps'.\n",
      "You can refer to https://docs.nixtla.io/docs/tutorials-missing_values for an end to end example.\n",
      "Gagal prediksi Tertinggi untuk tanggal 2024-08-08: Series contain missing or duplicate timestamps, or the timestamps do not match the provided frequency.\n",
      "Please make sure that all series have a single observation from the first to the last timestamp and that the provided frequency matches the timestamps'.\n",
      "You can refer to https://docs.nixtla.io/docs/tutorials-missing_values for an end to end example.\n",
      "Gagal prediksi Tertinggi untuk tanggal 2024-08-09: Series contain missing or duplicate timestamps, or the timestamps do not match the provided frequency.\n",
      "Please make sure that all series have a single observation from the first to the last timestamp and that the provided frequency matches the timestamps'.\n",
      "You can refer to https://docs.nixtla.io/docs/tutorials-missing_values for an end to end example.\n",
      "Gagal prediksi Tertinggi untuk tanggal 2024-08-10: Series contain missing or duplicate timestamps, or the timestamps do not match the provided frequency.\n",
      "Please make sure that all series have a single observation from the first to the last timestamp and that the provided frequency matches the timestamps'.\n",
      "You can refer to https://docs.nixtla.io/docs/tutorials-missing_values for an end to end example.\n",
      "Gagal prediksi Tertinggi untuk tanggal 2024-08-11: Series contain missing or duplicate timestamps, or the timestamps do not match the provided frequency.\n",
      "Please make sure that all series have a single observation from the first to the last timestamp and that the provided frequency matches the timestamps'.\n",
      "You can refer to https://docs.nixtla.io/docs/tutorials-missing_values for an end to end example.\n"
     ]
    },
    {
     "name": "stderr",
     "output_type": "stream",
     "text": [
      "INFO:nixtla.nixtla_client:Validating inputs...\n",
      "INFO:nixtla.nixtla_client:Validating inputs...\n",
      "INFO:nixtla.nixtla_client:Validating inputs...\n",
      "INFO:nixtla.nixtla_client:Validating inputs...\n",
      "INFO:nixtla.nixtla_client:Validating inputs...\n",
      "INFO:nixtla.nixtla_client:Validating inputs...\n",
      "INFO:nixtla.nixtla_client:Validating inputs...\n",
      "INFO:nixtla.nixtla_client:Validating inputs...\n",
      "INFO:nixtla.nixtla_client:Validating inputs...\n",
      "INFO:nixtla.nixtla_client:Validating inputs...\n",
      "INFO:nixtla.nixtla_client:Validating inputs...\n"
     ]
    },
    {
     "name": "stdout",
     "output_type": "stream",
     "text": [
      "Gagal prediksi Tertinggi untuk tanggal 2024-08-12: Series contain missing or duplicate timestamps, or the timestamps do not match the provided frequency.\n",
      "Please make sure that all series have a single observation from the first to the last timestamp and that the provided frequency matches the timestamps'.\n",
      "You can refer to https://docs.nixtla.io/docs/tutorials-missing_values for an end to end example.\n",
      "Gagal prediksi Tertinggi untuk tanggal 2024-08-13: Series contain missing or duplicate timestamps, or the timestamps do not match the provided frequency.\n",
      "Please make sure that all series have a single observation from the first to the last timestamp and that the provided frequency matches the timestamps'.\n",
      "You can refer to https://docs.nixtla.io/docs/tutorials-missing_values for an end to end example.\n",
      "Gagal prediksi Tertinggi untuk tanggal 2024-08-14: Series contain missing or duplicate timestamps, or the timestamps do not match the provided frequency.\n",
      "Please make sure that all series have a single observation from the first to the last timestamp and that the provided frequency matches the timestamps'.\n",
      "You can refer to https://docs.nixtla.io/docs/tutorials-missing_values for an end to end example.\n",
      "Gagal prediksi Tertinggi untuk tanggal 2024-08-15: Series contain missing or duplicate timestamps, or the timestamps do not match the provided frequency.\n",
      "Please make sure that all series have a single observation from the first to the last timestamp and that the provided frequency matches the timestamps'.\n",
      "You can refer to https://docs.nixtla.io/docs/tutorials-missing_values for an end to end example.\n",
      "Gagal prediksi Tertinggi untuk tanggal 2024-08-16: Series contain missing or duplicate timestamps, or the timestamps do not match the provided frequency.\n",
      "Please make sure that all series have a single observation from the first to the last timestamp and that the provided frequency matches the timestamps'.\n",
      "You can refer to https://docs.nixtla.io/docs/tutorials-missing_values for an end to end example.\n",
      "Gagal prediksi Tertinggi untuk tanggal 2024-08-17: Series contain missing or duplicate timestamps, or the timestamps do not match the provided frequency.\n",
      "Please make sure that all series have a single observation from the first to the last timestamp and that the provided frequency matches the timestamps'.\n",
      "You can refer to https://docs.nixtla.io/docs/tutorials-missing_values for an end to end example.\n",
      "Gagal prediksi Tertinggi untuk tanggal 2024-08-18: Series contain missing or duplicate timestamps, or the timestamps do not match the provided frequency.\n",
      "Please make sure that all series have a single observation from the first to the last timestamp and that the provided frequency matches the timestamps'.\n",
      "You can refer to https://docs.nixtla.io/docs/tutorials-missing_values for an end to end example.\n",
      "Gagal prediksi Tertinggi untuk tanggal 2024-08-19: Series contain missing or duplicate timestamps, or the timestamps do not match the provided frequency.\n",
      "Please make sure that all series have a single observation from the first to the last timestamp and that the provided frequency matches the timestamps'.\n",
      "You can refer to https://docs.nixtla.io/docs/tutorials-missing_values for an end to end example.\n",
      "Gagal prediksi Tertinggi untuk tanggal 2024-08-20: Series contain missing or duplicate timestamps, or the timestamps do not match the provided frequency.\n",
      "Please make sure that all series have a single observation from the first to the last timestamp and that the provided frequency matches the timestamps'.\n",
      "You can refer to https://docs.nixtla.io/docs/tutorials-missing_values for an end to end example.\n",
      "Gagal prediksi Tertinggi untuk tanggal 2024-08-21: Series contain missing or duplicate timestamps, or the timestamps do not match the provided frequency.\n",
      "Please make sure that all series have a single observation from the first to the last timestamp and that the provided frequency matches the timestamps'.\n",
      "You can refer to https://docs.nixtla.io/docs/tutorials-missing_values for an end to end example.\n",
      "Gagal prediksi Tertinggi untuk tanggal 2024-08-22: Series contain missing or duplicate timestamps, or the timestamps do not match the provided frequency.\n",
      "Please make sure that all series have a single observation from the first to the last timestamp and that the provided frequency matches the timestamps'.\n",
      "You can refer to https://docs.nixtla.io/docs/tutorials-missing_values for an end to end example.\n"
     ]
    },
    {
     "name": "stderr",
     "output_type": "stream",
     "text": [
      "INFO:nixtla.nixtla_client:Validating inputs...\n",
      "INFO:nixtla.nixtla_client:Validating inputs...\n",
      "INFO:nixtla.nixtla_client:Validating inputs...\n",
      "INFO:nixtla.nixtla_client:Validating inputs...\n",
      "INFO:nixtla.nixtla_client:Validating inputs...\n",
      "INFO:nixtla.nixtla_client:Validating inputs...\n",
      "INFO:nixtla.nixtla_client:Validating inputs...\n",
      "INFO:nixtla.nixtla_client:Validating inputs...\n",
      "INFO:nixtla.nixtla_client:Validating inputs...\n",
      "INFO:nixtla.nixtla_client:Validating inputs...\n",
      "INFO:nixtla.nixtla_client:Validating inputs...\n"
     ]
    },
    {
     "name": "stdout",
     "output_type": "stream",
     "text": [
      "Gagal prediksi Tertinggi untuk tanggal 2024-08-23: Series contain missing or duplicate timestamps, or the timestamps do not match the provided frequency.\n",
      "Please make sure that all series have a single observation from the first to the last timestamp and that the provided frequency matches the timestamps'.\n",
      "You can refer to https://docs.nixtla.io/docs/tutorials-missing_values for an end to end example.\n",
      "Gagal prediksi Tertinggi untuk tanggal 2024-08-24: Series contain missing or duplicate timestamps, or the timestamps do not match the provided frequency.\n",
      "Please make sure that all series have a single observation from the first to the last timestamp and that the provided frequency matches the timestamps'.\n",
      "You can refer to https://docs.nixtla.io/docs/tutorials-missing_values for an end to end example.\n",
      "Gagal prediksi Tertinggi untuk tanggal 2024-08-25: Series contain missing or duplicate timestamps, or the timestamps do not match the provided frequency.\n",
      "Please make sure that all series have a single observation from the first to the last timestamp and that the provided frequency matches the timestamps'.\n",
      "You can refer to https://docs.nixtla.io/docs/tutorials-missing_values for an end to end example.\n",
      "Gagal prediksi Tertinggi untuk tanggal 2024-08-26: Series contain missing or duplicate timestamps, or the timestamps do not match the provided frequency.\n",
      "Please make sure that all series have a single observation from the first to the last timestamp and that the provided frequency matches the timestamps'.\n",
      "You can refer to https://docs.nixtla.io/docs/tutorials-missing_values for an end to end example.\n",
      "Gagal prediksi Tertinggi untuk tanggal 2024-08-27: Series contain missing or duplicate timestamps, or the timestamps do not match the provided frequency.\n",
      "Please make sure that all series have a single observation from the first to the last timestamp and that the provided frequency matches the timestamps'.\n",
      "You can refer to https://docs.nixtla.io/docs/tutorials-missing_values for an end to end example.\n",
      "Gagal prediksi Tertinggi untuk tanggal 2024-08-28: Series contain missing or duplicate timestamps, or the timestamps do not match the provided frequency.\n",
      "Please make sure that all series have a single observation from the first to the last timestamp and that the provided frequency matches the timestamps'.\n",
      "You can refer to https://docs.nixtla.io/docs/tutorials-missing_values for an end to end example.\n",
      "Gagal prediksi Tertinggi untuk tanggal 2024-08-29: Series contain missing or duplicate timestamps, or the timestamps do not match the provided frequency.\n",
      "Please make sure that all series have a single observation from the first to the last timestamp and that the provided frequency matches the timestamps'.\n",
      "You can refer to https://docs.nixtla.io/docs/tutorials-missing_values for an end to end example.\n",
      "Gagal prediksi Tertinggi untuk tanggal 2024-08-30: Series contain missing or duplicate timestamps, or the timestamps do not match the provided frequency.\n",
      "Please make sure that all series have a single observation from the first to the last timestamp and that the provided frequency matches the timestamps'.\n",
      "You can refer to https://docs.nixtla.io/docs/tutorials-missing_values for an end to end example.\n",
      "Gagal prediksi Tertinggi untuk tanggal 2024-08-31: Series contain missing or duplicate timestamps, or the timestamps do not match the provided frequency.\n",
      "Please make sure that all series have a single observation from the first to the last timestamp and that the provided frequency matches the timestamps'.\n",
      "You can refer to https://docs.nixtla.io/docs/tutorials-missing_values for an end to end example.\n",
      "Gagal prediksi Tertinggi untuk tanggal 2024-09-01: Series contain missing or duplicate timestamps, or the timestamps do not match the provided frequency.\n",
      "Please make sure that all series have a single observation from the first to the last timestamp and that the provided frequency matches the timestamps'.\n",
      "You can refer to https://docs.nixtla.io/docs/tutorials-missing_values for an end to end example.\n",
      "Gagal prediksi Tertinggi untuk tanggal 2024-09-02: Series contain missing or duplicate timestamps, or the timestamps do not match the provided frequency.\n",
      "Please make sure that all series have a single observation from the first to the last timestamp and that the provided frequency matches the timestamps'.\n",
      "You can refer to https://docs.nixtla.io/docs/tutorials-missing_values for an end to end example.\n",
      "Gagal prediksi Tertinggi untuk tanggal 2024-09-03: Series contain missing or duplicate timestamps, or the timestamps do not match the provided frequency.\n",
      "Please make sure that all series have a single observation from the first to the last timestamp and that the provided frequency matches the timestamps'.\n",
      "You can refer to https://docs.nixtla.io/docs/tutorials-missing_values for an end to end example.\n"
     ]
    },
    {
     "name": "stderr",
     "output_type": "stream",
     "text": [
      "INFO:nixtla.nixtla_client:Validating inputs...\n",
      "INFO:nixtla.nixtla_client:Validating inputs...\n",
      "INFO:nixtla.nixtla_client:Validating inputs...\n",
      "INFO:nixtla.nixtla_client:Validating inputs...\n",
      "INFO:nixtla.nixtla_client:Validating inputs...\n",
      "INFO:nixtla.nixtla_client:Validating inputs...\n",
      "INFO:nixtla.nixtla_client:Validating inputs...\n",
      "INFO:nixtla.nixtla_client:Validating inputs...\n",
      "INFO:nixtla.nixtla_client:Validating inputs...\n",
      "INFO:nixtla.nixtla_client:Validating inputs...\n",
      "INFO:nixtla.nixtla_client:Validating inputs...\n"
     ]
    },
    {
     "name": "stdout",
     "output_type": "stream",
     "text": [
      "Gagal prediksi Tertinggi untuk tanggal 2024-09-04: Series contain missing or duplicate timestamps, or the timestamps do not match the provided frequency.\n",
      "Please make sure that all series have a single observation from the first to the last timestamp and that the provided frequency matches the timestamps'.\n",
      "You can refer to https://docs.nixtla.io/docs/tutorials-missing_values for an end to end example.\n",
      "Gagal prediksi Tertinggi untuk tanggal 2024-09-05: Series contain missing or duplicate timestamps, or the timestamps do not match the provided frequency.\n",
      "Please make sure that all series have a single observation from the first to the last timestamp and that the provided frequency matches the timestamps'.\n",
      "You can refer to https://docs.nixtla.io/docs/tutorials-missing_values for an end to end example.\n",
      "Gagal prediksi Tertinggi untuk tanggal 2024-09-06: Series contain missing or duplicate timestamps, or the timestamps do not match the provided frequency.\n",
      "Please make sure that all series have a single observation from the first to the last timestamp and that the provided frequency matches the timestamps'.\n",
      "You can refer to https://docs.nixtla.io/docs/tutorials-missing_values for an end to end example.\n",
      "Gagal prediksi Tertinggi untuk tanggal 2024-09-07: Series contain missing or duplicate timestamps, or the timestamps do not match the provided frequency.\n",
      "Please make sure that all series have a single observation from the first to the last timestamp and that the provided frequency matches the timestamps'.\n",
      "You can refer to https://docs.nixtla.io/docs/tutorials-missing_values for an end to end example.\n",
      "Gagal prediksi Tertinggi untuk tanggal 2024-09-08: Series contain missing or duplicate timestamps, or the timestamps do not match the provided frequency.\n",
      "Please make sure that all series have a single observation from the first to the last timestamp and that the provided frequency matches the timestamps'.\n",
      "You can refer to https://docs.nixtla.io/docs/tutorials-missing_values for an end to end example.\n",
      "Gagal prediksi Tertinggi untuk tanggal 2024-09-09: Series contain missing or duplicate timestamps, or the timestamps do not match the provided frequency.\n",
      "Please make sure that all series have a single observation from the first to the last timestamp and that the provided frequency matches the timestamps'.\n",
      "You can refer to https://docs.nixtla.io/docs/tutorials-missing_values for an end to end example.\n",
      "Gagal prediksi Tertinggi untuk tanggal 2024-09-10: Series contain missing or duplicate timestamps, or the timestamps do not match the provided frequency.\n",
      "Please make sure that all series have a single observation from the first to the last timestamp and that the provided frequency matches the timestamps'.\n",
      "You can refer to https://docs.nixtla.io/docs/tutorials-missing_values for an end to end example.\n",
      "Gagal prediksi Tertinggi untuk tanggal 2024-09-11: Series contain missing or duplicate timestamps, or the timestamps do not match the provided frequency.\n",
      "Please make sure that all series have a single observation from the first to the last timestamp and that the provided frequency matches the timestamps'.\n",
      "You can refer to https://docs.nixtla.io/docs/tutorials-missing_values for an end to end example.\n",
      "Gagal prediksi Tertinggi untuk tanggal 2024-09-12: Series contain missing or duplicate timestamps, or the timestamps do not match the provided frequency.\n",
      "Please make sure that all series have a single observation from the first to the last timestamp and that the provided frequency matches the timestamps'.\n",
      "You can refer to https://docs.nixtla.io/docs/tutorials-missing_values for an end to end example.\n",
      "Gagal prediksi Tertinggi untuk tanggal 2024-09-13: Series contain missing or duplicate timestamps, or the timestamps do not match the provided frequency.\n",
      "Please make sure that all series have a single observation from the first to the last timestamp and that the provided frequency matches the timestamps'.\n",
      "You can refer to https://docs.nixtla.io/docs/tutorials-missing_values for an end to end example.\n"
     ]
    },
    {
     "name": "stderr",
     "output_type": "stream",
     "text": [
      "INFO:nixtla.nixtla_client:Validating inputs...\n",
      "INFO:nixtla.nixtla_client:Validating inputs...\n",
      "INFO:nixtla.nixtla_client:Validating inputs...\n",
      "INFO:nixtla.nixtla_client:Validating inputs...\n",
      "INFO:nixtla.nixtla_client:Validating inputs...\n",
      "INFO:nixtla.nixtla_client:Validating inputs...\n",
      "INFO:nixtla.nixtla_client:Validating inputs...\n",
      "INFO:nixtla.nixtla_client:Validating inputs...\n",
      "INFO:nixtla.nixtla_client:Validating inputs...\n",
      "INFO:nixtla.nixtla_client:Validating inputs...\n",
      "INFO:nixtla.nixtla_client:Validating inputs...\n",
      "INFO:nixtla.nixtla_client:Validating inputs...\n"
     ]
    },
    {
     "name": "stdout",
     "output_type": "stream",
     "text": [
      "Gagal prediksi Tertinggi untuk tanggal 2024-09-14: Series contain missing or duplicate timestamps, or the timestamps do not match the provided frequency.\n",
      "Please make sure that all series have a single observation from the first to the last timestamp and that the provided frequency matches the timestamps'.\n",
      "You can refer to https://docs.nixtla.io/docs/tutorials-missing_values for an end to end example.\n",
      "Gagal prediksi Tertinggi untuk tanggal 2024-09-15: Series contain missing or duplicate timestamps, or the timestamps do not match the provided frequency.\n",
      "Please make sure that all series have a single observation from the first to the last timestamp and that the provided frequency matches the timestamps'.\n",
      "You can refer to https://docs.nixtla.io/docs/tutorials-missing_values for an end to end example.\n",
      "Gagal prediksi Tertinggi untuk tanggal 2024-09-16: Series contain missing or duplicate timestamps, or the timestamps do not match the provided frequency.\n",
      "Please make sure that all series have a single observation from the first to the last timestamp and that the provided frequency matches the timestamps'.\n",
      "You can refer to https://docs.nixtla.io/docs/tutorials-missing_values for an end to end example.\n",
      "Gagal prediksi Tertinggi untuk tanggal 2024-09-17: Series contain missing or duplicate timestamps, or the timestamps do not match the provided frequency.\n",
      "Please make sure that all series have a single observation from the first to the last timestamp and that the provided frequency matches the timestamps'.\n",
      "You can refer to https://docs.nixtla.io/docs/tutorials-missing_values for an end to end example.\n",
      "Gagal prediksi Tertinggi untuk tanggal 2024-09-18: Series contain missing or duplicate timestamps, or the timestamps do not match the provided frequency.\n",
      "Please make sure that all series have a single observation from the first to the last timestamp and that the provided frequency matches the timestamps'.\n",
      "You can refer to https://docs.nixtla.io/docs/tutorials-missing_values for an end to end example.\n",
      "Gagal prediksi Tertinggi untuk tanggal 2024-09-19: Series contain missing or duplicate timestamps, or the timestamps do not match the provided frequency.\n",
      "Please make sure that all series have a single observation from the first to the last timestamp and that the provided frequency matches the timestamps'.\n",
      "You can refer to https://docs.nixtla.io/docs/tutorials-missing_values for an end to end example.\n",
      "Gagal prediksi Tertinggi untuk tanggal 2024-09-20: Series contain missing or duplicate timestamps, or the timestamps do not match the provided frequency.\n",
      "Please make sure that all series have a single observation from the first to the last timestamp and that the provided frequency matches the timestamps'.\n",
      "You can refer to https://docs.nixtla.io/docs/tutorials-missing_values for an end to end example.\n",
      "Gagal prediksi Tertinggi untuk tanggal 2024-09-21: Series contain missing or duplicate timestamps, or the timestamps do not match the provided frequency.\n",
      "Please make sure that all series have a single observation from the first to the last timestamp and that the provided frequency matches the timestamps'.\n",
      "You can refer to https://docs.nixtla.io/docs/tutorials-missing_values for an end to end example.\n",
      "Gagal prediksi Tertinggi untuk tanggal 2024-09-22: Series contain missing or duplicate timestamps, or the timestamps do not match the provided frequency.\n",
      "Please make sure that all series have a single observation from the first to the last timestamp and that the provided frequency matches the timestamps'.\n",
      "You can refer to https://docs.nixtla.io/docs/tutorials-missing_values for an end to end example.\n",
      "Gagal prediksi Tertinggi untuk tanggal 2024-09-23: Series contain missing or duplicate timestamps, or the timestamps do not match the provided frequency.\n",
      "Please make sure that all series have a single observation from the first to the last timestamp and that the provided frequency matches the timestamps'.\n",
      "You can refer to https://docs.nixtla.io/docs/tutorials-missing_values for an end to end example.\n",
      "Gagal prediksi Tertinggi untuk tanggal 2024-09-24: Series contain missing or duplicate timestamps, or the timestamps do not match the provided frequency.\n",
      "Please make sure that all series have a single observation from the first to the last timestamp and that the provided frequency matches the timestamps'.\n",
      "You can refer to https://docs.nixtla.io/docs/tutorials-missing_values for an end to end example.\n",
      "Gagal prediksi Tertinggi untuk tanggal 2024-09-25: Series contain missing or duplicate timestamps, or the timestamps do not match the provided frequency.\n",
      "Please make sure that all series have a single observation from the first to the last timestamp and that the provided frequency matches the timestamps'.\n",
      "You can refer to https://docs.nixtla.io/docs/tutorials-missing_values for an end to end example.\n"
     ]
    },
    {
     "name": "stderr",
     "output_type": "stream",
     "text": [
      "INFO:nixtla.nixtla_client:Validating inputs...\n",
      "INFO:nixtla.nixtla_client:Validating inputs...\n",
      "INFO:nixtla.nixtla_client:Validating inputs...\n",
      "INFO:nixtla.nixtla_client:Validating inputs...\n",
      "INFO:nixtla.nixtla_client:Validating inputs...\n",
      "INFO:nixtla.nixtla_client:Validating inputs...\n",
      "INFO:nixtla.nixtla_client:Validating inputs...\n",
      "INFO:nixtla.nixtla_client:Validating inputs...\n",
      "INFO:nixtla.nixtla_client:Validating inputs...\n",
      "INFO:nixtla.nixtla_client:Validating inputs...\n",
      "INFO:nixtla.nixtla_client:Validating inputs...\n",
      "INFO:nixtla.nixtla_client:Validating inputs...\n"
     ]
    },
    {
     "name": "stdout",
     "output_type": "stream",
     "text": [
      "Gagal prediksi Tertinggi untuk tanggal 2024-09-26: Series contain missing or duplicate timestamps, or the timestamps do not match the provided frequency.\n",
      "Please make sure that all series have a single observation from the first to the last timestamp and that the provided frequency matches the timestamps'.\n",
      "You can refer to https://docs.nixtla.io/docs/tutorials-missing_values for an end to end example.\n",
      "Gagal prediksi Tertinggi untuk tanggal 2024-09-27: Series contain missing or duplicate timestamps, or the timestamps do not match the provided frequency.\n",
      "Please make sure that all series have a single observation from the first to the last timestamp and that the provided frequency matches the timestamps'.\n",
      "You can refer to https://docs.nixtla.io/docs/tutorials-missing_values for an end to end example.\n",
      "Gagal prediksi Tertinggi untuk tanggal 2024-09-28: Series contain missing or duplicate timestamps, or the timestamps do not match the provided frequency.\n",
      "Please make sure that all series have a single observation from the first to the last timestamp and that the provided frequency matches the timestamps'.\n",
      "You can refer to https://docs.nixtla.io/docs/tutorials-missing_values for an end to end example.\n",
      "Gagal prediksi Tertinggi untuk tanggal 2024-09-29: Series contain missing or duplicate timestamps, or the timestamps do not match the provided frequency.\n",
      "Please make sure that all series have a single observation from the first to the last timestamp and that the provided frequency matches the timestamps'.\n",
      "You can refer to https://docs.nixtla.io/docs/tutorials-missing_values for an end to end example.\n",
      "Gagal prediksi Tertinggi untuk tanggal 2024-09-30: Series contain missing or duplicate timestamps, or the timestamps do not match the provided frequency.\n",
      "Please make sure that all series have a single observation from the first to the last timestamp and that the provided frequency matches the timestamps'.\n",
      "You can refer to https://docs.nixtla.io/docs/tutorials-missing_values for an end to end example.\n",
      "Gagal prediksi Tertinggi untuk tanggal 2024-10-01: Series contain missing or duplicate timestamps, or the timestamps do not match the provided frequency.\n",
      "Please make sure that all series have a single observation from the first to the last timestamp and that the provided frequency matches the timestamps'.\n",
      "You can refer to https://docs.nixtla.io/docs/tutorials-missing_values for an end to end example.\n",
      "Gagal prediksi Tertinggi untuk tanggal 2024-10-02: Series contain missing or duplicate timestamps, or the timestamps do not match the provided frequency.\n",
      "Please make sure that all series have a single observation from the first to the last timestamp and that the provided frequency matches the timestamps'.\n",
      "You can refer to https://docs.nixtla.io/docs/tutorials-missing_values for an end to end example.\n",
      "Gagal prediksi Tertinggi untuk tanggal 2024-10-03: Series contain missing or duplicate timestamps, or the timestamps do not match the provided frequency.\n",
      "Please make sure that all series have a single observation from the first to the last timestamp and that the provided frequency matches the timestamps'.\n",
      "You can refer to https://docs.nixtla.io/docs/tutorials-missing_values for an end to end example.\n",
      "Gagal prediksi Tertinggi untuk tanggal 2024-10-04: Series contain missing or duplicate timestamps, or the timestamps do not match the provided frequency.\n",
      "Please make sure that all series have a single observation from the first to the last timestamp and that the provided frequency matches the timestamps'.\n",
      "You can refer to https://docs.nixtla.io/docs/tutorials-missing_values for an end to end example.\n",
      "Gagal prediksi Tertinggi untuk tanggal 2024-10-05: Series contain missing or duplicate timestamps, or the timestamps do not match the provided frequency.\n",
      "Please make sure that all series have a single observation from the first to the last timestamp and that the provided frequency matches the timestamps'.\n",
      "You can refer to https://docs.nixtla.io/docs/tutorials-missing_values for an end to end example.\n",
      "Gagal prediksi Tertinggi untuk tanggal 2024-10-06: Series contain missing or duplicate timestamps, or the timestamps do not match the provided frequency.\n",
      "Please make sure that all series have a single observation from the first to the last timestamp and that the provided frequency matches the timestamps'.\n",
      "You can refer to https://docs.nixtla.io/docs/tutorials-missing_values for an end to end example.\n",
      "Gagal prediksi Tertinggi untuk tanggal 2024-10-07: Series contain missing or duplicate timestamps, or the timestamps do not match the provided frequency.\n",
      "Please make sure that all series have a single observation from the first to the last timestamp and that the provided frequency matches the timestamps'.\n",
      "You can refer to https://docs.nixtla.io/docs/tutorials-missing_values for an end to end example.\n"
     ]
    },
    {
     "name": "stderr",
     "output_type": "stream",
     "text": [
      "INFO:nixtla.nixtla_client:Validating inputs...\n",
      "INFO:nixtla.nixtla_client:Validating inputs...\n",
      "INFO:nixtla.nixtla_client:Validating inputs...\n",
      "INFO:nixtla.nixtla_client:Validating inputs...\n",
      "INFO:nixtla.nixtla_client:Validating inputs...\n",
      "INFO:nixtla.nixtla_client:Validating inputs...\n",
      "INFO:nixtla.nixtla_client:Validating inputs...\n",
      "INFO:nixtla.nixtla_client:Validating inputs...\n",
      "INFO:nixtla.nixtla_client:Validating inputs...\n"
     ]
    },
    {
     "name": "stdout",
     "output_type": "stream",
     "text": [
      "Gagal prediksi Tertinggi untuk tanggal 2024-10-08: Series contain missing or duplicate timestamps, or the timestamps do not match the provided frequency.\n",
      "Please make sure that all series have a single observation from the first to the last timestamp and that the provided frequency matches the timestamps'.\n",
      "You can refer to https://docs.nixtla.io/docs/tutorials-missing_values for an end to end example.\n",
      "Gagal prediksi Tertinggi untuk tanggal 2024-10-09: Series contain missing or duplicate timestamps, or the timestamps do not match the provided frequency.\n",
      "Please make sure that all series have a single observation from the first to the last timestamp and that the provided frequency matches the timestamps'.\n",
      "You can refer to https://docs.nixtla.io/docs/tutorials-missing_values for an end to end example.\n",
      "Gagal prediksi Tertinggi untuk tanggal 2024-10-10: Series contain missing or duplicate timestamps, or the timestamps do not match the provided frequency.\n",
      "Please make sure that all series have a single observation from the first to the last timestamp and that the provided frequency matches the timestamps'.\n",
      "You can refer to https://docs.nixtla.io/docs/tutorials-missing_values for an end to end example.\n",
      "Gagal prediksi Tertinggi untuk tanggal 2024-10-11: Series contain missing or duplicate timestamps, or the timestamps do not match the provided frequency.\n",
      "Please make sure that all series have a single observation from the first to the last timestamp and that the provided frequency matches the timestamps'.\n",
      "You can refer to https://docs.nixtla.io/docs/tutorials-missing_values for an end to end example.\n",
      "Gagal prediksi Tertinggi untuk tanggal 2024-10-12: Series contain missing or duplicate timestamps, or the timestamps do not match the provided frequency.\n",
      "Please make sure that all series have a single observation from the first to the last timestamp and that the provided frequency matches the timestamps'.\n",
      "You can refer to https://docs.nixtla.io/docs/tutorials-missing_values for an end to end example.\n",
      "Gagal prediksi Tertinggi untuk tanggal 2024-10-13: Series contain missing or duplicate timestamps, or the timestamps do not match the provided frequency.\n",
      "Please make sure that all series have a single observation from the first to the last timestamp and that the provided frequency matches the timestamps'.\n",
      "You can refer to https://docs.nixtla.io/docs/tutorials-missing_values for an end to end example.\n",
      "Gagal prediksi Tertinggi untuk tanggal 2024-10-14: Series contain missing or duplicate timestamps, or the timestamps do not match the provided frequency.\n",
      "Please make sure that all series have a single observation from the first to the last timestamp and that the provided frequency matches the timestamps'.\n",
      "You can refer to https://docs.nixtla.io/docs/tutorials-missing_values for an end to end example.\n",
      "Gagal prediksi Tertinggi untuk tanggal 2024-10-15: Series contain missing or duplicate timestamps, or the timestamps do not match the provided frequency.\n",
      "Please make sure that all series have a single observation from the first to the last timestamp and that the provided frequency matches the timestamps'.\n",
      "You can refer to https://docs.nixtla.io/docs/tutorials-missing_values for an end to end example.\n",
      "Gagal prediksi Tertinggi untuk tanggal 2024-10-16: Series contain missing or duplicate timestamps, or the timestamps do not match the provided frequency.\n",
      "Please make sure that all series have a single observation from the first to the last timestamp and that the provided frequency matches the timestamps'.\n",
      "You can refer to https://docs.nixtla.io/docs/tutorials-missing_values for an end to end example.\n",
      "Gagal prediksi Tertinggi untuk tanggal 2024-10-17: Series contain missing or duplicate timestamps, or the timestamps do not match the provided frequency.\n",
      "Please make sure that all series have a single observation from the first to the last timestamp and that the provided frequency matches the timestamps'.\n",
      "You can refer to https://docs.nixtla.io/docs/tutorials-missing_values for an end to end example.\n"
     ]
    },
    {
     "name": "stderr",
     "output_type": "stream",
     "text": [
      "INFO:nixtla.nixtla_client:Validating inputs...\n",
      "INFO:nixtla.nixtla_client:Validating inputs...\n",
      "INFO:nixtla.nixtla_client:Validating inputs...\n",
      "INFO:nixtla.nixtla_client:Validating inputs...\n",
      "INFO:nixtla.nixtla_client:Validating inputs...\n",
      "INFO:nixtla.nixtla_client:Validating inputs...\n",
      "INFO:nixtla.nixtla_client:Validating inputs...\n",
      "INFO:nixtla.nixtla_client:Validating inputs...\n",
      "INFO:nixtla.nixtla_client:Validating inputs...\n",
      "INFO:nixtla.nixtla_client:Validating inputs...\n",
      "INFO:nixtla.nixtla_client:Validating inputs...\n"
     ]
    },
    {
     "name": "stdout",
     "output_type": "stream",
     "text": [
      "Gagal prediksi Tertinggi untuk tanggal 2024-10-18: Series contain missing or duplicate timestamps, or the timestamps do not match the provided frequency.\n",
      "Please make sure that all series have a single observation from the first to the last timestamp and that the provided frequency matches the timestamps'.\n",
      "You can refer to https://docs.nixtla.io/docs/tutorials-missing_values for an end to end example.\n",
      "Gagal prediksi Tertinggi untuk tanggal 2024-10-19: Series contain missing or duplicate timestamps, or the timestamps do not match the provided frequency.\n",
      "Please make sure that all series have a single observation from the first to the last timestamp and that the provided frequency matches the timestamps'.\n",
      "You can refer to https://docs.nixtla.io/docs/tutorials-missing_values for an end to end example.\n",
      "Gagal prediksi Tertinggi untuk tanggal 2024-10-20: Series contain missing or duplicate timestamps, or the timestamps do not match the provided frequency.\n",
      "Please make sure that all series have a single observation from the first to the last timestamp and that the provided frequency matches the timestamps'.\n",
      "You can refer to https://docs.nixtla.io/docs/tutorials-missing_values for an end to end example.\n",
      "Gagal prediksi Tertinggi untuk tanggal 2024-10-21: Series contain missing or duplicate timestamps, or the timestamps do not match the provided frequency.\n",
      "Please make sure that all series have a single observation from the first to the last timestamp and that the provided frequency matches the timestamps'.\n",
      "You can refer to https://docs.nixtla.io/docs/tutorials-missing_values for an end to end example.\n",
      "Gagal prediksi Tertinggi untuk tanggal 2024-10-22: Series contain missing or duplicate timestamps, or the timestamps do not match the provided frequency.\n",
      "Please make sure that all series have a single observation from the first to the last timestamp and that the provided frequency matches the timestamps'.\n",
      "You can refer to https://docs.nixtla.io/docs/tutorials-missing_values for an end to end example.\n",
      "Gagal prediksi Tertinggi untuk tanggal 2024-10-23: Series contain missing or duplicate timestamps, or the timestamps do not match the provided frequency.\n",
      "Please make sure that all series have a single observation from the first to the last timestamp and that the provided frequency matches the timestamps'.\n",
      "You can refer to https://docs.nixtla.io/docs/tutorials-missing_values for an end to end example.\n",
      "Gagal prediksi Tertinggi untuk tanggal 2024-10-24: Series contain missing or duplicate timestamps, or the timestamps do not match the provided frequency.\n",
      "Please make sure that all series have a single observation from the first to the last timestamp and that the provided frequency matches the timestamps'.\n",
      "You can refer to https://docs.nixtla.io/docs/tutorials-missing_values for an end to end example.\n",
      "Gagal prediksi Tertinggi untuk tanggal 2024-10-25: Series contain missing or duplicate timestamps, or the timestamps do not match the provided frequency.\n",
      "Please make sure that all series have a single observation from the first to the last timestamp and that the provided frequency matches the timestamps'.\n",
      "You can refer to https://docs.nixtla.io/docs/tutorials-missing_values for an end to end example.\n",
      "Gagal prediksi Tertinggi untuk tanggal 2024-10-26: Series contain missing or duplicate timestamps, or the timestamps do not match the provided frequency.\n",
      "Please make sure that all series have a single observation from the first to the last timestamp and that the provided frequency matches the timestamps'.\n",
      "You can refer to https://docs.nixtla.io/docs/tutorials-missing_values for an end to end example.\n",
      "Gagal prediksi Tertinggi untuk tanggal 2024-10-27: Series contain missing or duplicate timestamps, or the timestamps do not match the provided frequency.\n",
      "Please make sure that all series have a single observation from the first to the last timestamp and that the provided frequency matches the timestamps'.\n",
      "You can refer to https://docs.nixtla.io/docs/tutorials-missing_values for an end to end example.\n"
     ]
    },
    {
     "name": "stderr",
     "output_type": "stream",
     "text": [
      "INFO:nixtla.nixtla_client:Validating inputs...\n",
      "INFO:nixtla.nixtla_client:Validating inputs...\n",
      "INFO:nixtla.nixtla_client:Validating inputs...\n",
      "INFO:nixtla.nixtla_client:Validating inputs...\n",
      "INFO:nixtla.nixtla_client:Validating inputs...\n",
      "INFO:nixtla.nixtla_client:Validating inputs...\n",
      "INFO:nixtla.nixtla_client:Validating inputs...\n",
      "INFO:nixtla.nixtla_client:Validating inputs...\n",
      "INFO:nixtla.nixtla_client:Validating inputs...\n",
      "INFO:nixtla.nixtla_client:Validating inputs...\n",
      "INFO:nixtla.nixtla_client:Validating inputs...\n"
     ]
    },
    {
     "name": "stdout",
     "output_type": "stream",
     "text": [
      "Gagal prediksi Tertinggi untuk tanggal 2024-10-28: Series contain missing or duplicate timestamps, or the timestamps do not match the provided frequency.\n",
      "Please make sure that all series have a single observation from the first to the last timestamp and that the provided frequency matches the timestamps'.\n",
      "You can refer to https://docs.nixtla.io/docs/tutorials-missing_values for an end to end example.\n",
      "Gagal prediksi Tertinggi untuk tanggal 2024-10-29: Series contain missing or duplicate timestamps, or the timestamps do not match the provided frequency.\n",
      "Please make sure that all series have a single observation from the first to the last timestamp and that the provided frequency matches the timestamps'.\n",
      "You can refer to https://docs.nixtla.io/docs/tutorials-missing_values for an end to end example.\n",
      "Gagal prediksi Tertinggi untuk tanggal 2024-10-30: Series contain missing or duplicate timestamps, or the timestamps do not match the provided frequency.\n",
      "Please make sure that all series have a single observation from the first to the last timestamp and that the provided frequency matches the timestamps'.\n",
      "You can refer to https://docs.nixtla.io/docs/tutorials-missing_values for an end to end example.\n",
      "Gagal prediksi Tertinggi untuk tanggal 2024-10-31: Series contain missing or duplicate timestamps, or the timestamps do not match the provided frequency.\n",
      "Please make sure that all series have a single observation from the first to the last timestamp and that the provided frequency matches the timestamps'.\n",
      "You can refer to https://docs.nixtla.io/docs/tutorials-missing_values for an end to end example.\n",
      "Gagal prediksi Tertinggi untuk tanggal 2024-11-01: Series contain missing or duplicate timestamps, or the timestamps do not match the provided frequency.\n",
      "Please make sure that all series have a single observation from the first to the last timestamp and that the provided frequency matches the timestamps'.\n",
      "You can refer to https://docs.nixtla.io/docs/tutorials-missing_values for an end to end example.\n",
      "Gagal prediksi Tertinggi untuk tanggal 2024-11-02: Series contain missing or duplicate timestamps, or the timestamps do not match the provided frequency.\n",
      "Please make sure that all series have a single observation from the first to the last timestamp and that the provided frequency matches the timestamps'.\n",
      "You can refer to https://docs.nixtla.io/docs/tutorials-missing_values for an end to end example.\n",
      "Gagal prediksi Tertinggi untuk tanggal 2024-11-03: Series contain missing or duplicate timestamps, or the timestamps do not match the provided frequency.\n",
      "Please make sure that all series have a single observation from the first to the last timestamp and that the provided frequency matches the timestamps'.\n",
      "You can refer to https://docs.nixtla.io/docs/tutorials-missing_values for an end to end example.\n",
      "Gagal prediksi Tertinggi untuk tanggal 2024-11-04: Series contain missing or duplicate timestamps, or the timestamps do not match the provided frequency.\n",
      "Please make sure that all series have a single observation from the first to the last timestamp and that the provided frequency matches the timestamps'.\n",
      "You can refer to https://docs.nixtla.io/docs/tutorials-missing_values for an end to end example.\n",
      "Gagal prediksi Tertinggi untuk tanggal 2024-11-05: Series contain missing or duplicate timestamps, or the timestamps do not match the provided frequency.\n",
      "Please make sure that all series have a single observation from the first to the last timestamp and that the provided frequency matches the timestamps'.\n",
      "You can refer to https://docs.nixtla.io/docs/tutorials-missing_values for an end to end example.\n",
      "Gagal prediksi Tertinggi untuk tanggal 2024-11-06: Series contain missing or duplicate timestamps, or the timestamps do not match the provided frequency.\n",
      "Please make sure that all series have a single observation from the first to the last timestamp and that the provided frequency matches the timestamps'.\n",
      "You can refer to https://docs.nixtla.io/docs/tutorials-missing_values for an end to end example.\n",
      "Gagal prediksi Tertinggi untuk tanggal 2024-11-07: Series contain missing or duplicate timestamps, or the timestamps do not match the provided frequency.\n",
      "Please make sure that all series have a single observation from the first to the last timestamp and that the provided frequency matches the timestamps'.\n",
      "You can refer to https://docs.nixtla.io/docs/tutorials-missing_values for an end to end example.\n"
     ]
    },
    {
     "name": "stderr",
     "output_type": "stream",
     "text": [
      "INFO:nixtla.nixtla_client:Validating inputs...\n",
      "INFO:nixtla.nixtla_client:Validating inputs...\n",
      "INFO:nixtla.nixtla_client:Validating inputs...\n",
      "INFO:nixtla.nixtla_client:Validating inputs...\n",
      "INFO:nixtla.nixtla_client:Validating inputs...\n",
      "INFO:nixtla.nixtla_client:Validating inputs...\n",
      "INFO:nixtla.nixtla_client:Validating inputs...\n",
      "INFO:nixtla.nixtla_client:Validating inputs...\n",
      "INFO:nixtla.nixtla_client:Validating inputs...\n"
     ]
    },
    {
     "name": "stdout",
     "output_type": "stream",
     "text": [
      "Gagal prediksi Tertinggi untuk tanggal 2024-11-08: Series contain missing or duplicate timestamps, or the timestamps do not match the provided frequency.\n",
      "Please make sure that all series have a single observation from the first to the last timestamp and that the provided frequency matches the timestamps'.\n",
      "You can refer to https://docs.nixtla.io/docs/tutorials-missing_values for an end to end example.\n",
      "Gagal prediksi Tertinggi untuk tanggal 2024-11-09: Series contain missing or duplicate timestamps, or the timestamps do not match the provided frequency.\n",
      "Please make sure that all series have a single observation from the first to the last timestamp and that the provided frequency matches the timestamps'.\n",
      "You can refer to https://docs.nixtla.io/docs/tutorials-missing_values for an end to end example.\n",
      "Gagal prediksi Tertinggi untuk tanggal 2024-11-10: Series contain missing or duplicate timestamps, or the timestamps do not match the provided frequency.\n",
      "Please make sure that all series have a single observation from the first to the last timestamp and that the provided frequency matches the timestamps'.\n",
      "You can refer to https://docs.nixtla.io/docs/tutorials-missing_values for an end to end example.\n",
      "Gagal prediksi Tertinggi untuk tanggal 2024-11-11: Series contain missing or duplicate timestamps, or the timestamps do not match the provided frequency.\n",
      "Please make sure that all series have a single observation from the first to the last timestamp and that the provided frequency matches the timestamps'.\n",
      "You can refer to https://docs.nixtla.io/docs/tutorials-missing_values for an end to end example.\n",
      "Gagal prediksi Tertinggi untuk tanggal 2024-11-12: Series contain missing or duplicate timestamps, or the timestamps do not match the provided frequency.\n",
      "Please make sure that all series have a single observation from the first to the last timestamp and that the provided frequency matches the timestamps'.\n",
      "You can refer to https://docs.nixtla.io/docs/tutorials-missing_values for an end to end example.\n",
      "Gagal prediksi Tertinggi untuk tanggal 2024-11-13: Series contain missing or duplicate timestamps, or the timestamps do not match the provided frequency.\n",
      "Please make sure that all series have a single observation from the first to the last timestamp and that the provided frequency matches the timestamps'.\n",
      "You can refer to https://docs.nixtla.io/docs/tutorials-missing_values for an end to end example.\n",
      "Gagal prediksi Tertinggi untuk tanggal 2024-11-14: Series contain missing or duplicate timestamps, or the timestamps do not match the provided frequency.\n",
      "Please make sure that all series have a single observation from the first to the last timestamp and that the provided frequency matches the timestamps'.\n",
      "You can refer to https://docs.nixtla.io/docs/tutorials-missing_values for an end to end example.\n",
      "Gagal prediksi Tertinggi untuk tanggal 2024-11-15: Series contain missing or duplicate timestamps, or the timestamps do not match the provided frequency.\n",
      "Please make sure that all series have a single observation from the first to the last timestamp and that the provided frequency matches the timestamps'.\n",
      "You can refer to https://docs.nixtla.io/docs/tutorials-missing_values for an end to end example.\n",
      "Gagal prediksi Tertinggi untuk tanggal 2024-11-16: Series contain missing or duplicate timestamps, or the timestamps do not match the provided frequency.\n",
      "Please make sure that all series have a single observation from the first to the last timestamp and that the provided frequency matches the timestamps'.\n",
      "You can refer to https://docs.nixtla.io/docs/tutorials-missing_values for an end to end example.\n"
     ]
    },
    {
     "name": "stderr",
     "output_type": "stream",
     "text": [
      "INFO:nixtla.nixtla_client:Validating inputs...\n",
      "INFO:nixtla.nixtla_client:Validating inputs...\n",
      "INFO:nixtla.nixtla_client:Validating inputs...\n",
      "INFO:nixtla.nixtla_client:Validating inputs...\n",
      "INFO:nixtla.nixtla_client:Validating inputs...\n",
      "INFO:nixtla.nixtla_client:Validating inputs...\n",
      "INFO:nixtla.nixtla_client:Validating inputs...\n",
      "INFO:nixtla.nixtla_client:Validating inputs...\n",
      "INFO:nixtla.nixtla_client:Validating inputs...\n",
      "INFO:nixtla.nixtla_client:Validating inputs...\n",
      "INFO:nixtla.nixtla_client:Validating inputs...\n"
     ]
    },
    {
     "name": "stdout",
     "output_type": "stream",
     "text": [
      "Gagal prediksi Tertinggi untuk tanggal 2024-11-17: Series contain missing or duplicate timestamps, or the timestamps do not match the provided frequency.\n",
      "Please make sure that all series have a single observation from the first to the last timestamp and that the provided frequency matches the timestamps'.\n",
      "You can refer to https://docs.nixtla.io/docs/tutorials-missing_values for an end to end example.\n",
      "Gagal prediksi Tertinggi untuk tanggal 2024-11-18: Series contain missing or duplicate timestamps, or the timestamps do not match the provided frequency.\n",
      "Please make sure that all series have a single observation from the first to the last timestamp and that the provided frequency matches the timestamps'.\n",
      "You can refer to https://docs.nixtla.io/docs/tutorials-missing_values for an end to end example.\n",
      "Gagal prediksi Tertinggi untuk tanggal 2024-11-19: Series contain missing or duplicate timestamps, or the timestamps do not match the provided frequency.\n",
      "Please make sure that all series have a single observation from the first to the last timestamp and that the provided frequency matches the timestamps'.\n",
      "You can refer to https://docs.nixtla.io/docs/tutorials-missing_values for an end to end example.\n",
      "Gagal prediksi Tertinggi untuk tanggal 2024-11-20: Series contain missing or duplicate timestamps, or the timestamps do not match the provided frequency.\n",
      "Please make sure that all series have a single observation from the first to the last timestamp and that the provided frequency matches the timestamps'.\n",
      "You can refer to https://docs.nixtla.io/docs/tutorials-missing_values for an end to end example.\n",
      "Gagal prediksi Tertinggi untuk tanggal 2024-11-21: Series contain missing or duplicate timestamps, or the timestamps do not match the provided frequency.\n",
      "Please make sure that all series have a single observation from the first to the last timestamp and that the provided frequency matches the timestamps'.\n",
      "You can refer to https://docs.nixtla.io/docs/tutorials-missing_values for an end to end example.\n",
      "Gagal prediksi Tertinggi untuk tanggal 2024-11-22: Series contain missing or duplicate timestamps, or the timestamps do not match the provided frequency.\n",
      "Please make sure that all series have a single observation from the first to the last timestamp and that the provided frequency matches the timestamps'.\n",
      "You can refer to https://docs.nixtla.io/docs/tutorials-missing_values for an end to end example.\n",
      "Gagal prediksi Tertinggi untuk tanggal 2024-11-23: Series contain missing or duplicate timestamps, or the timestamps do not match the provided frequency.\n",
      "Please make sure that all series have a single observation from the first to the last timestamp and that the provided frequency matches the timestamps'.\n",
      "You can refer to https://docs.nixtla.io/docs/tutorials-missing_values for an end to end example.\n",
      "Gagal prediksi Tertinggi untuk tanggal 2024-11-24: Series contain missing or duplicate timestamps, or the timestamps do not match the provided frequency.\n",
      "Please make sure that all series have a single observation from the first to the last timestamp and that the provided frequency matches the timestamps'.\n",
      "You can refer to https://docs.nixtla.io/docs/tutorials-missing_values for an end to end example.\n",
      "Gagal prediksi Tertinggi untuk tanggal 2024-11-25: Series contain missing or duplicate timestamps, or the timestamps do not match the provided frequency.\n",
      "Please make sure that all series have a single observation from the first to the last timestamp and that the provided frequency matches the timestamps'.\n",
      "You can refer to https://docs.nixtla.io/docs/tutorials-missing_values for an end to end example.\n",
      "Gagal prediksi Tertinggi untuk tanggal 2024-11-26: Series contain missing or duplicate timestamps, or the timestamps do not match the provided frequency.\n",
      "Please make sure that all series have a single observation from the first to the last timestamp and that the provided frequency matches the timestamps'.\n",
      "You can refer to https://docs.nixtla.io/docs/tutorials-missing_values for an end to end example.\n",
      "Gagal prediksi Tertinggi untuk tanggal 2024-11-27: Series contain missing or duplicate timestamps, or the timestamps do not match the provided frequency.\n",
      "Please make sure that all series have a single observation from the first to the last timestamp and that the provided frequency matches the timestamps'.\n",
      "You can refer to https://docs.nixtla.io/docs/tutorials-missing_values for an end to end example.\n"
     ]
    },
    {
     "name": "stderr",
     "output_type": "stream",
     "text": [
      "INFO:nixtla.nixtla_client:Validating inputs...\n",
      "INFO:nixtla.nixtla_client:Validating inputs...\n",
      "INFO:nixtla.nixtla_client:Validating inputs...\n",
      "INFO:nixtla.nixtla_client:Validating inputs...\n",
      "INFO:nixtla.nixtla_client:Validating inputs...\n",
      "INFO:nixtla.nixtla_client:Validating inputs...\n",
      "INFO:nixtla.nixtla_client:Validating inputs...\n",
      "INFO:nixtla.nixtla_client:Validating inputs...\n",
      "INFO:nixtla.nixtla_client:Validating inputs...\n",
      "INFO:nixtla.nixtla_client:Validating inputs...\n",
      "INFO:nixtla.nixtla_client:Validating inputs...\n"
     ]
    },
    {
     "name": "stdout",
     "output_type": "stream",
     "text": [
      "Gagal prediksi Tertinggi untuk tanggal 2024-11-28: Series contain missing or duplicate timestamps, or the timestamps do not match the provided frequency.\n",
      "Please make sure that all series have a single observation from the first to the last timestamp and that the provided frequency matches the timestamps'.\n",
      "You can refer to https://docs.nixtla.io/docs/tutorials-missing_values for an end to end example.\n",
      "Gagal prediksi Tertinggi untuk tanggal 2024-11-29: Series contain missing or duplicate timestamps, or the timestamps do not match the provided frequency.\n",
      "Please make sure that all series have a single observation from the first to the last timestamp and that the provided frequency matches the timestamps'.\n",
      "You can refer to https://docs.nixtla.io/docs/tutorials-missing_values for an end to end example.\n",
      "Gagal prediksi Tertinggi untuk tanggal 2024-11-30: Series contain missing or duplicate timestamps, or the timestamps do not match the provided frequency.\n",
      "Please make sure that all series have a single observation from the first to the last timestamp and that the provided frequency matches the timestamps'.\n",
      "You can refer to https://docs.nixtla.io/docs/tutorials-missing_values for an end to end example.\n",
      "Gagal prediksi Tertinggi untuk tanggal 2024-12-01: Series contain missing or duplicate timestamps, or the timestamps do not match the provided frequency.\n",
      "Please make sure that all series have a single observation from the first to the last timestamp and that the provided frequency matches the timestamps'.\n",
      "You can refer to https://docs.nixtla.io/docs/tutorials-missing_values for an end to end example.\n",
      "Gagal prediksi Tertinggi untuk tanggal 2024-12-02: Series contain missing or duplicate timestamps, or the timestamps do not match the provided frequency.\n",
      "Please make sure that all series have a single observation from the first to the last timestamp and that the provided frequency matches the timestamps'.\n",
      "You can refer to https://docs.nixtla.io/docs/tutorials-missing_values for an end to end example.\n",
      "Gagal prediksi Tertinggi untuk tanggal 2024-12-03: Series contain missing or duplicate timestamps, or the timestamps do not match the provided frequency.\n",
      "Please make sure that all series have a single observation from the first to the last timestamp and that the provided frequency matches the timestamps'.\n",
      "You can refer to https://docs.nixtla.io/docs/tutorials-missing_values for an end to end example.\n",
      "Gagal prediksi Tertinggi untuk tanggal 2024-12-04: Series contain missing or duplicate timestamps, or the timestamps do not match the provided frequency.\n",
      "Please make sure that all series have a single observation from the first to the last timestamp and that the provided frequency matches the timestamps'.\n",
      "You can refer to https://docs.nixtla.io/docs/tutorials-missing_values for an end to end example.\n",
      "Gagal prediksi Tertinggi untuk tanggal 2024-12-05: Series contain missing or duplicate timestamps, or the timestamps do not match the provided frequency.\n",
      "Please make sure that all series have a single observation from the first to the last timestamp and that the provided frequency matches the timestamps'.\n",
      "You can refer to https://docs.nixtla.io/docs/tutorials-missing_values for an end to end example.\n",
      "Gagal prediksi Tertinggi untuk tanggal 2024-12-06: Series contain missing or duplicate timestamps, or the timestamps do not match the provided frequency.\n",
      "Please make sure that all series have a single observation from the first to the last timestamp and that the provided frequency matches the timestamps'.\n",
      "You can refer to https://docs.nixtla.io/docs/tutorials-missing_values for an end to end example.\n",
      "Gagal prediksi Tertinggi untuk tanggal 2024-12-07: Series contain missing or duplicate timestamps, or the timestamps do not match the provided frequency.\n",
      "Please make sure that all series have a single observation from the first to the last timestamp and that the provided frequency matches the timestamps'.\n",
      "You can refer to https://docs.nixtla.io/docs/tutorials-missing_values for an end to end example.\n",
      "Gagal prediksi Tertinggi untuk tanggal 2024-12-08: Series contain missing or duplicate timestamps, or the timestamps do not match the provided frequency.\n",
      "Please make sure that all series have a single observation from the first to the last timestamp and that the provided frequency matches the timestamps'.\n",
      "You can refer to https://docs.nixtla.io/docs/tutorials-missing_values for an end to end example.\n"
     ]
    },
    {
     "name": "stderr",
     "output_type": "stream",
     "text": [
      "INFO:nixtla.nixtla_client:Validating inputs...\n",
      "INFO:nixtla.nixtla_client:Validating inputs...\n",
      "INFO:nixtla.nixtla_client:Validating inputs...\n",
      "INFO:nixtla.nixtla_client:Validating inputs...\n",
      "INFO:nixtla.nixtla_client:Validating inputs...\n",
      "INFO:nixtla.nixtla_client:Validating inputs...\n",
      "INFO:nixtla.nixtla_client:Validating inputs...\n",
      "INFO:nixtla.nixtla_client:Validating inputs...\n",
      "INFO:nixtla.nixtla_client:Validating inputs...\n"
     ]
    },
    {
     "name": "stdout",
     "output_type": "stream",
     "text": [
      "Gagal prediksi Tertinggi untuk tanggal 2024-12-09: Series contain missing or duplicate timestamps, or the timestamps do not match the provided frequency.\n",
      "Please make sure that all series have a single observation from the first to the last timestamp and that the provided frequency matches the timestamps'.\n",
      "You can refer to https://docs.nixtla.io/docs/tutorials-missing_values for an end to end example.\n",
      "Gagal prediksi Tertinggi untuk tanggal 2024-12-10: Series contain missing or duplicate timestamps, or the timestamps do not match the provided frequency.\n",
      "Please make sure that all series have a single observation from the first to the last timestamp and that the provided frequency matches the timestamps'.\n",
      "You can refer to https://docs.nixtla.io/docs/tutorials-missing_values for an end to end example.\n",
      "Gagal prediksi Tertinggi untuk tanggal 2024-12-11: Series contain missing or duplicate timestamps, or the timestamps do not match the provided frequency.\n",
      "Please make sure that all series have a single observation from the first to the last timestamp and that the provided frequency matches the timestamps'.\n",
      "You can refer to https://docs.nixtla.io/docs/tutorials-missing_values for an end to end example.\n",
      "Gagal prediksi Tertinggi untuk tanggal 2024-12-12: Series contain missing or duplicate timestamps, or the timestamps do not match the provided frequency.\n",
      "Please make sure that all series have a single observation from the first to the last timestamp and that the provided frequency matches the timestamps'.\n",
      "You can refer to https://docs.nixtla.io/docs/tutorials-missing_values for an end to end example.\n",
      "Gagal prediksi Tertinggi untuk tanggal 2024-12-13: Series contain missing or duplicate timestamps, or the timestamps do not match the provided frequency.\n",
      "Please make sure that all series have a single observation from the first to the last timestamp and that the provided frequency matches the timestamps'.\n",
      "You can refer to https://docs.nixtla.io/docs/tutorials-missing_values for an end to end example.\n",
      "Gagal prediksi Tertinggi untuk tanggal 2024-12-14: Series contain missing or duplicate timestamps, or the timestamps do not match the provided frequency.\n",
      "Please make sure that all series have a single observation from the first to the last timestamp and that the provided frequency matches the timestamps'.\n",
      "You can refer to https://docs.nixtla.io/docs/tutorials-missing_values for an end to end example.\n",
      "Gagal prediksi Tertinggi untuk tanggal 2024-12-15: Series contain missing or duplicate timestamps, or the timestamps do not match the provided frequency.\n",
      "Please make sure that all series have a single observation from the first to the last timestamp and that the provided frequency matches the timestamps'.\n",
      "You can refer to https://docs.nixtla.io/docs/tutorials-missing_values for an end to end example.\n",
      "Gagal prediksi Tertinggi untuk tanggal 2024-12-16: Series contain missing or duplicate timestamps, or the timestamps do not match the provided frequency.\n",
      "Please make sure that all series have a single observation from the first to the last timestamp and that the provided frequency matches the timestamps'.\n",
      "You can refer to https://docs.nixtla.io/docs/tutorials-missing_values for an end to end example.\n",
      "Gagal prediksi Tertinggi untuk tanggal 2024-12-17: Series contain missing or duplicate timestamps, or the timestamps do not match the provided frequency.\n",
      "Please make sure that all series have a single observation from the first to the last timestamp and that the provided frequency matches the timestamps'.\n",
      "You can refer to https://docs.nixtla.io/docs/tutorials-missing_values for an end to end example.\n",
      "Gagal prediksi Tertinggi untuk tanggal 2024-12-18: Series contain missing or duplicate timestamps, or the timestamps do not match the provided frequency.\n",
      "Please make sure that all series have a single observation from the first to the last timestamp and that the provided frequency matches the timestamps'.\n",
      "You can refer to https://docs.nixtla.io/docs/tutorials-missing_values for an end to end example.\n"
     ]
    },
    {
     "name": "stderr",
     "output_type": "stream",
     "text": [
      "INFO:nixtla.nixtla_client:Validating inputs...\n",
      "INFO:nixtla.nixtla_client:Validating inputs...\n",
      "INFO:nixtla.nixtla_client:Validating inputs...\n",
      "INFO:nixtla.nixtla_client:Validating inputs...\n",
      "INFO:nixtla.nixtla_client:Validating inputs...\n",
      "INFO:nixtla.nixtla_client:Validating inputs...\n",
      "INFO:nixtla.nixtla_client:Validating inputs...\n",
      "INFO:nixtla.nixtla_client:Validating inputs...\n",
      "INFO:nixtla.nixtla_client:Validating inputs...\n",
      "INFO:nixtla.nixtla_client:Validating inputs...\n",
      "INFO:nixtla.nixtla_client:Validating inputs...\n",
      "INFO:nixtla.nixtla_client:Validating inputs...\n"
     ]
    },
    {
     "name": "stdout",
     "output_type": "stream",
     "text": [
      "Gagal prediksi Tertinggi untuk tanggal 2024-12-19: Series contain missing or duplicate timestamps, or the timestamps do not match the provided frequency.\n",
      "Please make sure that all series have a single observation from the first to the last timestamp and that the provided frequency matches the timestamps'.\n",
      "You can refer to https://docs.nixtla.io/docs/tutorials-missing_values for an end to end example.\n",
      "Gagal prediksi Tertinggi untuk tanggal 2024-12-20: Series contain missing or duplicate timestamps, or the timestamps do not match the provided frequency.\n",
      "Please make sure that all series have a single observation from the first to the last timestamp and that the provided frequency matches the timestamps'.\n",
      "You can refer to https://docs.nixtla.io/docs/tutorials-missing_values for an end to end example.\n",
      "Gagal prediksi Tertinggi untuk tanggal 2024-12-21: Series contain missing or duplicate timestamps, or the timestamps do not match the provided frequency.\n",
      "Please make sure that all series have a single observation from the first to the last timestamp and that the provided frequency matches the timestamps'.\n",
      "You can refer to https://docs.nixtla.io/docs/tutorials-missing_values for an end to end example.\n",
      "Gagal prediksi Tertinggi untuk tanggal 2024-12-22: Series contain missing or duplicate timestamps, or the timestamps do not match the provided frequency.\n",
      "Please make sure that all series have a single observation from the first to the last timestamp and that the provided frequency matches the timestamps'.\n",
      "You can refer to https://docs.nixtla.io/docs/tutorials-missing_values for an end to end example.\n",
      "Gagal prediksi Tertinggi untuk tanggal 2024-12-23: Series contain missing or duplicate timestamps, or the timestamps do not match the provided frequency.\n",
      "Please make sure that all series have a single observation from the first to the last timestamp and that the provided frequency matches the timestamps'.\n",
      "You can refer to https://docs.nixtla.io/docs/tutorials-missing_values for an end to end example.\n",
      "Gagal prediksi Tertinggi untuk tanggal 2024-12-24: Series contain missing or duplicate timestamps, or the timestamps do not match the provided frequency.\n",
      "Please make sure that all series have a single observation from the first to the last timestamp and that the provided frequency matches the timestamps'.\n",
      "You can refer to https://docs.nixtla.io/docs/tutorials-missing_values for an end to end example.\n",
      "Gagal prediksi Tertinggi untuk tanggal 2024-12-25: Series contain missing or duplicate timestamps, or the timestamps do not match the provided frequency.\n",
      "Please make sure that all series have a single observation from the first to the last timestamp and that the provided frequency matches the timestamps'.\n",
      "You can refer to https://docs.nixtla.io/docs/tutorials-missing_values for an end to end example.\n",
      "Gagal prediksi Tertinggi untuk tanggal 2024-12-26: Series contain missing or duplicate timestamps, or the timestamps do not match the provided frequency.\n",
      "Please make sure that all series have a single observation from the first to the last timestamp and that the provided frequency matches the timestamps'.\n",
      "You can refer to https://docs.nixtla.io/docs/tutorials-missing_values for an end to end example.\n",
      "Gagal prediksi Tertinggi untuk tanggal 2024-12-27: Series contain missing or duplicate timestamps, or the timestamps do not match the provided frequency.\n",
      "Please make sure that all series have a single observation from the first to the last timestamp and that the provided frequency matches the timestamps'.\n",
      "You can refer to https://docs.nixtla.io/docs/tutorials-missing_values for an end to end example.\n",
      "Gagal prediksi Tertinggi untuk tanggal 2024-12-28: Series contain missing or duplicate timestamps, or the timestamps do not match the provided frequency.\n",
      "Please make sure that all series have a single observation from the first to the last timestamp and that the provided frequency matches the timestamps'.\n",
      "You can refer to https://docs.nixtla.io/docs/tutorials-missing_values for an end to end example.\n",
      "Gagal prediksi Tertinggi untuk tanggal 2024-12-29: Series contain missing or duplicate timestamps, or the timestamps do not match the provided frequency.\n",
      "Please make sure that all series have a single observation from the first to the last timestamp and that the provided frequency matches the timestamps'.\n",
      "You can refer to https://docs.nixtla.io/docs/tutorials-missing_values for an end to end example.\n",
      "Gagal prediksi Tertinggi untuk tanggal 2024-12-30: Series contain missing or duplicate timestamps, or the timestamps do not match the provided frequency.\n",
      "Please make sure that all series have a single observation from the first to the last timestamp and that the provided frequency matches the timestamps'.\n",
      "You can refer to https://docs.nixtla.io/docs/tutorials-missing_values for an end to end example.\n"
     ]
    },
    {
     "name": "stderr",
     "output_type": "stream",
     "text": [
      "INFO:nixtla.nixtla_client:Validating inputs...\n",
      "INFO:nixtla.nixtla_client:Validating inputs...\n",
      "INFO:nixtla.nixtla_client:Validating inputs...\n",
      "INFO:nixtla.nixtla_client:Validating inputs...\n",
      "INFO:nixtla.nixtla_client:Validating inputs...\n",
      "INFO:nixtla.nixtla_client:Validating inputs...\n",
      "INFO:nixtla.nixtla_client:Validating inputs...\n",
      "INFO:nixtla.nixtla_client:Validating inputs...\n",
      "INFO:nixtla.nixtla_client:Validating inputs...\n",
      "INFO:nixtla.nixtla_client:Validating inputs...\n",
      "INFO:nixtla.nixtla_client:Validating inputs...\n"
     ]
    },
    {
     "name": "stdout",
     "output_type": "stream",
     "text": [
      "Gagal prediksi Tertinggi untuk tanggal 2024-12-31: Series contain missing or duplicate timestamps, or the timestamps do not match the provided frequency.\n",
      "Please make sure that all series have a single observation from the first to the last timestamp and that the provided frequency matches the timestamps'.\n",
      "You can refer to https://docs.nixtla.io/docs/tutorials-missing_values for an end to end example.\n",
      "Gagal prediksi Tertinggi untuk tanggal 2025-01-01: Series contain missing or duplicate timestamps, or the timestamps do not match the provided frequency.\n",
      "Please make sure that all series have a single observation from the first to the last timestamp and that the provided frequency matches the timestamps'.\n",
      "You can refer to https://docs.nixtla.io/docs/tutorials-missing_values for an end to end example.\n",
      "Gagal prediksi Tertinggi untuk tanggal 2025-01-02: Series contain missing or duplicate timestamps, or the timestamps do not match the provided frequency.\n",
      "Please make sure that all series have a single observation from the first to the last timestamp and that the provided frequency matches the timestamps'.\n",
      "You can refer to https://docs.nixtla.io/docs/tutorials-missing_values for an end to end example.\n",
      "Gagal prediksi Tertinggi untuk tanggal 2025-01-03: Series contain missing or duplicate timestamps, or the timestamps do not match the provided frequency.\n",
      "Please make sure that all series have a single observation from the first to the last timestamp and that the provided frequency matches the timestamps'.\n",
      "You can refer to https://docs.nixtla.io/docs/tutorials-missing_values for an end to end example.\n",
      "Gagal prediksi Tertinggi untuk tanggal 2025-01-04: Series contain missing or duplicate timestamps, or the timestamps do not match the provided frequency.\n",
      "Please make sure that all series have a single observation from the first to the last timestamp and that the provided frequency matches the timestamps'.\n",
      "You can refer to https://docs.nixtla.io/docs/tutorials-missing_values for an end to end example.\n",
      "Gagal prediksi Tertinggi untuk tanggal 2025-01-05: Series contain missing or duplicate timestamps, or the timestamps do not match the provided frequency.\n",
      "Please make sure that all series have a single observation from the first to the last timestamp and that the provided frequency matches the timestamps'.\n",
      "You can refer to https://docs.nixtla.io/docs/tutorials-missing_values for an end to end example.\n",
      "Gagal prediksi Tertinggi untuk tanggal 2025-01-06: Series contain missing or duplicate timestamps, or the timestamps do not match the provided frequency.\n",
      "Please make sure that all series have a single observation from the first to the last timestamp and that the provided frequency matches the timestamps'.\n",
      "You can refer to https://docs.nixtla.io/docs/tutorials-missing_values for an end to end example.\n",
      "Gagal prediksi Tertinggi untuk tanggal 2025-01-07: Series contain missing or duplicate timestamps, or the timestamps do not match the provided frequency.\n",
      "Please make sure that all series have a single observation from the first to the last timestamp and that the provided frequency matches the timestamps'.\n",
      "You can refer to https://docs.nixtla.io/docs/tutorials-missing_values for an end to end example.\n",
      "Gagal prediksi Tertinggi untuk tanggal 2025-01-08: Series contain missing or duplicate timestamps, or the timestamps do not match the provided frequency.\n",
      "Please make sure that all series have a single observation from the first to the last timestamp and that the provided frequency matches the timestamps'.\n",
      "You can refer to https://docs.nixtla.io/docs/tutorials-missing_values for an end to end example.\n",
      "Gagal prediksi Tertinggi untuk tanggal 2025-01-09: Series contain missing or duplicate timestamps, or the timestamps do not match the provided frequency.\n",
      "Please make sure that all series have a single observation from the first to the last timestamp and that the provided frequency matches the timestamps'.\n",
      "You can refer to https://docs.nixtla.io/docs/tutorials-missing_values for an end to end example.\n"
     ]
    },
    {
     "name": "stderr",
     "output_type": "stream",
     "text": [
      "INFO:nixtla.nixtla_client:Validating inputs...\n",
      "INFO:nixtla.nixtla_client:Validating inputs...\n",
      "INFO:nixtla.nixtla_client:Validating inputs...\n",
      "INFO:nixtla.nixtla_client:Validating inputs...\n",
      "INFO:nixtla.nixtla_client:Validating inputs...\n",
      "INFO:nixtla.nixtla_client:Validating inputs...\n",
      "INFO:nixtla.nixtla_client:Validating inputs...\n",
      "INFO:nixtla.nixtla_client:Validating inputs...\n"
     ]
    },
    {
     "name": "stdout",
     "output_type": "stream",
     "text": [
      "Gagal prediksi Tertinggi untuk tanggal 2025-01-10: Series contain missing or duplicate timestamps, or the timestamps do not match the provided frequency.\n",
      "Please make sure that all series have a single observation from the first to the last timestamp and that the provided frequency matches the timestamps'.\n",
      "You can refer to https://docs.nixtla.io/docs/tutorials-missing_values for an end to end example.\n",
      "Gagal prediksi Tertinggi untuk tanggal 2025-01-11: Series contain missing or duplicate timestamps, or the timestamps do not match the provided frequency.\n",
      "Please make sure that all series have a single observation from the first to the last timestamp and that the provided frequency matches the timestamps'.\n",
      "You can refer to https://docs.nixtla.io/docs/tutorials-missing_values for an end to end example.\n",
      "Gagal prediksi Tertinggi untuk tanggal 2025-01-12: Series contain missing or duplicate timestamps, or the timestamps do not match the provided frequency.\n",
      "Please make sure that all series have a single observation from the first to the last timestamp and that the provided frequency matches the timestamps'.\n",
      "You can refer to https://docs.nixtla.io/docs/tutorials-missing_values for an end to end example.\n",
      "Gagal prediksi Tertinggi untuk tanggal 2025-01-13: Series contain missing or duplicate timestamps, or the timestamps do not match the provided frequency.\n",
      "Please make sure that all series have a single observation from the first to the last timestamp and that the provided frequency matches the timestamps'.\n",
      "You can refer to https://docs.nixtla.io/docs/tutorials-missing_values for an end to end example.\n",
      "Gagal prediksi Tertinggi untuk tanggal 2025-01-14: Series contain missing or duplicate timestamps, or the timestamps do not match the provided frequency.\n",
      "Please make sure that all series have a single observation from the first to the last timestamp and that the provided frequency matches the timestamps'.\n",
      "You can refer to https://docs.nixtla.io/docs/tutorials-missing_values for an end to end example.\n",
      "Gagal prediksi Tertinggi untuk tanggal 2025-01-15: Series contain missing or duplicate timestamps, or the timestamps do not match the provided frequency.\n",
      "Please make sure that all series have a single observation from the first to the last timestamp and that the provided frequency matches the timestamps'.\n",
      "You can refer to https://docs.nixtla.io/docs/tutorials-missing_values for an end to end example.\n",
      "Gagal prediksi Tertinggi untuk tanggal 2025-01-16: Series contain missing or duplicate timestamps, or the timestamps do not match the provided frequency.\n",
      "Please make sure that all series have a single observation from the first to the last timestamp and that the provided frequency matches the timestamps'.\n",
      "You can refer to https://docs.nixtla.io/docs/tutorials-missing_values for an end to end example.\n",
      "Gagal prediksi Tertinggi untuk tanggal 2025-01-17: Series contain missing or duplicate timestamps, or the timestamps do not match the provided frequency.\n",
      "Please make sure that all series have a single observation from the first to the last timestamp and that the provided frequency matches the timestamps'.\n",
      "You can refer to https://docs.nixtla.io/docs/tutorials-missing_values for an end to end example.\n",
      "Gagal prediksi Tertinggi untuk tanggal 2025-01-18: Series contain missing or duplicate timestamps, or the timestamps do not match the provided frequency.\n",
      "Please make sure that all series have a single observation from the first to the last timestamp and that the provided frequency matches the timestamps'.\n",
      "You can refer to https://docs.nixtla.io/docs/tutorials-missing_values for an end to end example.\n"
     ]
    },
    {
     "name": "stderr",
     "output_type": "stream",
     "text": [
      "INFO:nixtla.nixtla_client:Validating inputs...\n",
      "INFO:nixtla.nixtla_client:Validating inputs...\n",
      "INFO:nixtla.nixtla_client:Validating inputs...\n",
      "INFO:nixtla.nixtla_client:Validating inputs...\n",
      "INFO:nixtla.nixtla_client:Validating inputs...\n",
      "INFO:nixtla.nixtla_client:Validating inputs...\n",
      "INFO:nixtla.nixtla_client:Validating inputs...\n",
      "INFO:nixtla.nixtla_client:Validating inputs...\n",
      "INFO:nixtla.nixtla_client:Validating inputs...\n",
      "INFO:nixtla.nixtla_client:Validating inputs...\n"
     ]
    },
    {
     "name": "stdout",
     "output_type": "stream",
     "text": [
      "Gagal prediksi Tertinggi untuk tanggal 2025-01-19: Series contain missing or duplicate timestamps, or the timestamps do not match the provided frequency.\n",
      "Please make sure that all series have a single observation from the first to the last timestamp and that the provided frequency matches the timestamps'.\n",
      "You can refer to https://docs.nixtla.io/docs/tutorials-missing_values for an end to end example.\n",
      "Gagal prediksi Tertinggi untuk tanggal 2025-01-20: Series contain missing or duplicate timestamps, or the timestamps do not match the provided frequency.\n",
      "Please make sure that all series have a single observation from the first to the last timestamp and that the provided frequency matches the timestamps'.\n",
      "You can refer to https://docs.nixtla.io/docs/tutorials-missing_values for an end to end example.\n",
      "Gagal prediksi Tertinggi untuk tanggal 2025-01-21: Series contain missing or duplicate timestamps, or the timestamps do not match the provided frequency.\n",
      "Please make sure that all series have a single observation from the first to the last timestamp and that the provided frequency matches the timestamps'.\n",
      "You can refer to https://docs.nixtla.io/docs/tutorials-missing_values for an end to end example.\n",
      "Gagal prediksi Tertinggi untuk tanggal 2025-01-22: Series contain missing or duplicate timestamps, or the timestamps do not match the provided frequency.\n",
      "Please make sure that all series have a single observation from the first to the last timestamp and that the provided frequency matches the timestamps'.\n",
      "You can refer to https://docs.nixtla.io/docs/tutorials-missing_values for an end to end example.\n",
      "Gagal prediksi Tertinggi untuk tanggal 2025-01-23: Series contain missing or duplicate timestamps, or the timestamps do not match the provided frequency.\n",
      "Please make sure that all series have a single observation from the first to the last timestamp and that the provided frequency matches the timestamps'.\n",
      "You can refer to https://docs.nixtla.io/docs/tutorials-missing_values for an end to end example.\n",
      "Gagal prediksi Tertinggi untuk tanggal 2025-01-24: Series contain missing or duplicate timestamps, or the timestamps do not match the provided frequency.\n",
      "Please make sure that all series have a single observation from the first to the last timestamp and that the provided frequency matches the timestamps'.\n",
      "You can refer to https://docs.nixtla.io/docs/tutorials-missing_values for an end to end example.\n",
      "Gagal prediksi Tertinggi untuk tanggal 2025-01-25: Series contain missing or duplicate timestamps, or the timestamps do not match the provided frequency.\n",
      "Please make sure that all series have a single observation from the first to the last timestamp and that the provided frequency matches the timestamps'.\n",
      "You can refer to https://docs.nixtla.io/docs/tutorials-missing_values for an end to end example.\n",
      "Gagal prediksi Tertinggi untuk tanggal 2025-01-26: Series contain missing or duplicate timestamps, or the timestamps do not match the provided frequency.\n",
      "Please make sure that all series have a single observation from the first to the last timestamp and that the provided frequency matches the timestamps'.\n",
      "You can refer to https://docs.nixtla.io/docs/tutorials-missing_values for an end to end example.\n",
      "Gagal prediksi Tertinggi untuk tanggal 2025-01-27: Series contain missing or duplicate timestamps, or the timestamps do not match the provided frequency.\n",
      "Please make sure that all series have a single observation from the first to the last timestamp and that the provided frequency matches the timestamps'.\n",
      "You can refer to https://docs.nixtla.io/docs/tutorials-missing_values for an end to end example.\n"
     ]
    },
    {
     "name": "stderr",
     "output_type": "stream",
     "text": [
      "INFO:nixtla.nixtla_client:Validating inputs...\n",
      "INFO:nixtla.nixtla_client:Validating inputs...\n",
      "INFO:nixtla.nixtla_client:Validating inputs...\n",
      "INFO:nixtla.nixtla_client:Validating inputs...\n",
      "INFO:nixtla.nixtla_client:Validating inputs...\n",
      "INFO:nixtla.nixtla_client:Validating inputs...\n",
      "INFO:nixtla.nixtla_client:Validating inputs...\n",
      "INFO:nixtla.nixtla_client:Validating inputs...\n",
      "INFO:nixtla.nixtla_client:Validating inputs...\n",
      "INFO:nixtla.nixtla_client:Validating inputs...\n",
      "INFO:nixtla.nixtla_client:Validating inputs...\n",
      "INFO:nixtla.nixtla_client:Validating inputs...\n"
     ]
    },
    {
     "name": "stdout",
     "output_type": "stream",
     "text": [
      "Gagal prediksi Tertinggi untuk tanggal 2025-01-28: Series contain missing or duplicate timestamps, or the timestamps do not match the provided frequency.\n",
      "Please make sure that all series have a single observation from the first to the last timestamp and that the provided frequency matches the timestamps'.\n",
      "You can refer to https://docs.nixtla.io/docs/tutorials-missing_values for an end to end example.\n",
      "Gagal prediksi Tertinggi untuk tanggal 2025-01-29: Series contain missing or duplicate timestamps, or the timestamps do not match the provided frequency.\n",
      "Please make sure that all series have a single observation from the first to the last timestamp and that the provided frequency matches the timestamps'.\n",
      "You can refer to https://docs.nixtla.io/docs/tutorials-missing_values for an end to end example.\n",
      "Gagal prediksi Tertinggi untuk tanggal 2025-01-30: Series contain missing or duplicate timestamps, or the timestamps do not match the provided frequency.\n",
      "Please make sure that all series have a single observation from the first to the last timestamp and that the provided frequency matches the timestamps'.\n",
      "You can refer to https://docs.nixtla.io/docs/tutorials-missing_values for an end to end example.\n",
      "Gagal prediksi Tertinggi untuk tanggal 2025-01-31: Series contain missing or duplicate timestamps, or the timestamps do not match the provided frequency.\n",
      "Please make sure that all series have a single observation from the first to the last timestamp and that the provided frequency matches the timestamps'.\n",
      "You can refer to https://docs.nixtla.io/docs/tutorials-missing_values for an end to end example.\n",
      "Memulai prediksi untuk kolom: Terendah\n",
      "Gagal prediksi Terendah untuk tanggal 2024-07-01: Series contain missing or duplicate timestamps, or the timestamps do not match the provided frequency.\n",
      "Please make sure that all series have a single observation from the first to the last timestamp and that the provided frequency matches the timestamps'.\n",
      "You can refer to https://docs.nixtla.io/docs/tutorials-missing_values for an end to end example.\n",
      "Gagal prediksi Terendah untuk tanggal 2024-07-02: Series contain missing or duplicate timestamps, or the timestamps do not match the provided frequency.\n",
      "Please make sure that all series have a single observation from the first to the last timestamp and that the provided frequency matches the timestamps'.\n",
      "You can refer to https://docs.nixtla.io/docs/tutorials-missing_values for an end to end example.\n",
      "Gagal prediksi Terendah untuk tanggal 2024-07-03: Series contain missing or duplicate timestamps, or the timestamps do not match the provided frequency.\n",
      "Please make sure that all series have a single observation from the first to the last timestamp and that the provided frequency matches the timestamps'.\n",
      "You can refer to https://docs.nixtla.io/docs/tutorials-missing_values for an end to end example.\n",
      "Gagal prediksi Terendah untuk tanggal 2024-07-04: Series contain missing or duplicate timestamps, or the timestamps do not match the provided frequency.\n",
      "Please make sure that all series have a single observation from the first to the last timestamp and that the provided frequency matches the timestamps'.\n",
      "You can refer to https://docs.nixtla.io/docs/tutorials-missing_values for an end to end example.\n",
      "Gagal prediksi Terendah untuk tanggal 2024-07-05: Series contain missing or duplicate timestamps, or the timestamps do not match the provided frequency.\n",
      "Please make sure that all series have a single observation from the first to the last timestamp and that the provided frequency matches the timestamps'.\n",
      "You can refer to https://docs.nixtla.io/docs/tutorials-missing_values for an end to end example.\n",
      "Gagal prediksi Terendah untuk tanggal 2024-07-06: Series contain missing or duplicate timestamps, or the timestamps do not match the provided frequency.\n",
      "Please make sure that all series have a single observation from the first to the last timestamp and that the provided frequency matches the timestamps'.\n",
      "You can refer to https://docs.nixtla.io/docs/tutorials-missing_values for an end to end example.\n",
      "Gagal prediksi Terendah untuk tanggal 2024-07-07: Series contain missing or duplicate timestamps, or the timestamps do not match the provided frequency.\n",
      "Please make sure that all series have a single observation from the first to the last timestamp and that the provided frequency matches the timestamps'.\n",
      "You can refer to https://docs.nixtla.io/docs/tutorials-missing_values for an end to end example.\n",
      "Gagal prediksi Terendah untuk tanggal 2024-07-08: Series contain missing or duplicate timestamps, or the timestamps do not match the provided frequency.\n",
      "Please make sure that all series have a single observation from the first to the last timestamp and that the provided frequency matches the timestamps'.\n",
      "You can refer to https://docs.nixtla.io/docs/tutorials-missing_values for an end to end example.\n"
     ]
    },
    {
     "name": "stderr",
     "output_type": "stream",
     "text": [
      "INFO:nixtla.nixtla_client:Validating inputs...\n",
      "INFO:nixtla.nixtla_client:Validating inputs...\n",
      "INFO:nixtla.nixtla_client:Validating inputs...\n",
      "INFO:nixtla.nixtla_client:Validating inputs...\n",
      "INFO:nixtla.nixtla_client:Validating inputs...\n",
      "INFO:nixtla.nixtla_client:Validating inputs...\n",
      "INFO:nixtla.nixtla_client:Validating inputs...\n",
      "INFO:nixtla.nixtla_client:Validating inputs...\n",
      "INFO:nixtla.nixtla_client:Validating inputs...\n",
      "INFO:nixtla.nixtla_client:Validating inputs...\n",
      "INFO:nixtla.nixtla_client:Validating inputs...\n"
     ]
    },
    {
     "name": "stdout",
     "output_type": "stream",
     "text": [
      "Gagal prediksi Terendah untuk tanggal 2024-07-09: Series contain missing or duplicate timestamps, or the timestamps do not match the provided frequency.\n",
      "Please make sure that all series have a single observation from the first to the last timestamp and that the provided frequency matches the timestamps'.\n",
      "You can refer to https://docs.nixtla.io/docs/tutorials-missing_values for an end to end example.\n",
      "Gagal prediksi Terendah untuk tanggal 2024-07-10: Series contain missing or duplicate timestamps, or the timestamps do not match the provided frequency.\n",
      "Please make sure that all series have a single observation from the first to the last timestamp and that the provided frequency matches the timestamps'.\n",
      "You can refer to https://docs.nixtla.io/docs/tutorials-missing_values for an end to end example.\n",
      "Gagal prediksi Terendah untuk tanggal 2024-07-11: Series contain missing or duplicate timestamps, or the timestamps do not match the provided frequency.\n",
      "Please make sure that all series have a single observation from the first to the last timestamp and that the provided frequency matches the timestamps'.\n",
      "You can refer to https://docs.nixtla.io/docs/tutorials-missing_values for an end to end example.\n",
      "Gagal prediksi Terendah untuk tanggal 2024-07-12: Series contain missing or duplicate timestamps, or the timestamps do not match the provided frequency.\n",
      "Please make sure that all series have a single observation from the first to the last timestamp and that the provided frequency matches the timestamps'.\n",
      "You can refer to https://docs.nixtla.io/docs/tutorials-missing_values for an end to end example.\n",
      "Gagal prediksi Terendah untuk tanggal 2024-07-13: Series contain missing or duplicate timestamps, or the timestamps do not match the provided frequency.\n",
      "Please make sure that all series have a single observation from the first to the last timestamp and that the provided frequency matches the timestamps'.\n",
      "You can refer to https://docs.nixtla.io/docs/tutorials-missing_values for an end to end example.\n",
      "Gagal prediksi Terendah untuk tanggal 2024-07-14: Series contain missing or duplicate timestamps, or the timestamps do not match the provided frequency.\n",
      "Please make sure that all series have a single observation from the first to the last timestamp and that the provided frequency matches the timestamps'.\n",
      "You can refer to https://docs.nixtla.io/docs/tutorials-missing_values for an end to end example.\n",
      "Gagal prediksi Terendah untuk tanggal 2024-07-15: Series contain missing or duplicate timestamps, or the timestamps do not match the provided frequency.\n",
      "Please make sure that all series have a single observation from the first to the last timestamp and that the provided frequency matches the timestamps'.\n",
      "You can refer to https://docs.nixtla.io/docs/tutorials-missing_values for an end to end example.\n",
      "Gagal prediksi Terendah untuk tanggal 2024-07-16: Series contain missing or duplicate timestamps, or the timestamps do not match the provided frequency.\n",
      "Please make sure that all series have a single observation from the first to the last timestamp and that the provided frequency matches the timestamps'.\n",
      "You can refer to https://docs.nixtla.io/docs/tutorials-missing_values for an end to end example.\n",
      "Gagal prediksi Terendah untuk tanggal 2024-07-17: Series contain missing or duplicate timestamps, or the timestamps do not match the provided frequency.\n",
      "Please make sure that all series have a single observation from the first to the last timestamp and that the provided frequency matches the timestamps'.\n",
      "You can refer to https://docs.nixtla.io/docs/tutorials-missing_values for an end to end example.\n",
      "Gagal prediksi Terendah untuk tanggal 2024-07-18: Series contain missing or duplicate timestamps, or the timestamps do not match the provided frequency.\n",
      "Please make sure that all series have a single observation from the first to the last timestamp and that the provided frequency matches the timestamps'.\n",
      "You can refer to https://docs.nixtla.io/docs/tutorials-missing_values for an end to end example.\n",
      "Gagal prediksi Terendah untuk tanggal 2024-07-19: Series contain missing or duplicate timestamps, or the timestamps do not match the provided frequency.\n",
      "Please make sure that all series have a single observation from the first to the last timestamp and that the provided frequency matches the timestamps'.\n",
      "You can refer to https://docs.nixtla.io/docs/tutorials-missing_values for an end to end example.\n",
      "Gagal prediksi Terendah untuk tanggal 2024-07-20: Series contain missing or duplicate timestamps, or the timestamps do not match the provided frequency.\n",
      "Please make sure that all series have a single observation from the first to the last timestamp and that the provided frequency matches the timestamps'.\n",
      "You can refer to https://docs.nixtla.io/docs/tutorials-missing_values for an end to end example.\n"
     ]
    },
    {
     "name": "stderr",
     "output_type": "stream",
     "text": [
      "INFO:nixtla.nixtla_client:Validating inputs...\n",
      "INFO:nixtla.nixtla_client:Validating inputs...\n",
      "INFO:nixtla.nixtla_client:Validating inputs...\n",
      "INFO:nixtla.nixtla_client:Validating inputs...\n",
      "INFO:nixtla.nixtla_client:Validating inputs...\n",
      "INFO:nixtla.nixtla_client:Validating inputs...\n",
      "INFO:nixtla.nixtla_client:Validating inputs...\n",
      "INFO:nixtla.nixtla_client:Validating inputs...\n",
      "INFO:nixtla.nixtla_client:Validating inputs...\n",
      "INFO:nixtla.nixtla_client:Validating inputs...\n",
      "INFO:nixtla.nixtla_client:Validating inputs...\n"
     ]
    },
    {
     "name": "stdout",
     "output_type": "stream",
     "text": [
      "Gagal prediksi Terendah untuk tanggal 2024-07-21: Series contain missing or duplicate timestamps, or the timestamps do not match the provided frequency.\n",
      "Please make sure that all series have a single observation from the first to the last timestamp and that the provided frequency matches the timestamps'.\n",
      "You can refer to https://docs.nixtla.io/docs/tutorials-missing_values for an end to end example.\n",
      "Gagal prediksi Terendah untuk tanggal 2024-07-22: Series contain missing or duplicate timestamps, or the timestamps do not match the provided frequency.\n",
      "Please make sure that all series have a single observation from the first to the last timestamp and that the provided frequency matches the timestamps'.\n",
      "You can refer to https://docs.nixtla.io/docs/tutorials-missing_values for an end to end example.\n",
      "Gagal prediksi Terendah untuk tanggal 2024-07-23: Series contain missing or duplicate timestamps, or the timestamps do not match the provided frequency.\n",
      "Please make sure that all series have a single observation from the first to the last timestamp and that the provided frequency matches the timestamps'.\n",
      "You can refer to https://docs.nixtla.io/docs/tutorials-missing_values for an end to end example.\n",
      "Gagal prediksi Terendah untuk tanggal 2024-07-24: Series contain missing or duplicate timestamps, or the timestamps do not match the provided frequency.\n",
      "Please make sure that all series have a single observation from the first to the last timestamp and that the provided frequency matches the timestamps'.\n",
      "You can refer to https://docs.nixtla.io/docs/tutorials-missing_values for an end to end example.\n",
      "Gagal prediksi Terendah untuk tanggal 2024-07-25: Series contain missing or duplicate timestamps, or the timestamps do not match the provided frequency.\n",
      "Please make sure that all series have a single observation from the first to the last timestamp and that the provided frequency matches the timestamps'.\n",
      "You can refer to https://docs.nixtla.io/docs/tutorials-missing_values for an end to end example.\n",
      "Gagal prediksi Terendah untuk tanggal 2024-07-26: Series contain missing or duplicate timestamps, or the timestamps do not match the provided frequency.\n",
      "Please make sure that all series have a single observation from the first to the last timestamp and that the provided frequency matches the timestamps'.\n",
      "You can refer to https://docs.nixtla.io/docs/tutorials-missing_values for an end to end example.\n",
      "Gagal prediksi Terendah untuk tanggal 2024-07-27: Series contain missing or duplicate timestamps, or the timestamps do not match the provided frequency.\n",
      "Please make sure that all series have a single observation from the first to the last timestamp and that the provided frequency matches the timestamps'.\n",
      "You can refer to https://docs.nixtla.io/docs/tutorials-missing_values for an end to end example.\n",
      "Gagal prediksi Terendah untuk tanggal 2024-07-28: Series contain missing or duplicate timestamps, or the timestamps do not match the provided frequency.\n",
      "Please make sure that all series have a single observation from the first to the last timestamp and that the provided frequency matches the timestamps'.\n",
      "You can refer to https://docs.nixtla.io/docs/tutorials-missing_values for an end to end example.\n",
      "Gagal prediksi Terendah untuk tanggal 2024-07-29: Series contain missing or duplicate timestamps, or the timestamps do not match the provided frequency.\n",
      "Please make sure that all series have a single observation from the first to the last timestamp and that the provided frequency matches the timestamps'.\n",
      "You can refer to https://docs.nixtla.io/docs/tutorials-missing_values for an end to end example.\n",
      "Gagal prediksi Terendah untuk tanggal 2024-07-30: Series contain missing or duplicate timestamps, or the timestamps do not match the provided frequency.\n",
      "Please make sure that all series have a single observation from the first to the last timestamp and that the provided frequency matches the timestamps'.\n",
      "You can refer to https://docs.nixtla.io/docs/tutorials-missing_values for an end to end example.\n"
     ]
    },
    {
     "name": "stderr",
     "output_type": "stream",
     "text": [
      "INFO:nixtla.nixtla_client:Validating inputs...\n",
      "INFO:nixtla.nixtla_client:Validating inputs...\n",
      "INFO:nixtla.nixtla_client:Validating inputs...\n",
      "INFO:nixtla.nixtla_client:Validating inputs...\n",
      "INFO:nixtla.nixtla_client:Validating inputs...\n",
      "INFO:nixtla.nixtla_client:Validating inputs...\n",
      "INFO:nixtla.nixtla_client:Validating inputs...\n",
      "INFO:nixtla.nixtla_client:Validating inputs...\n",
      "INFO:nixtla.nixtla_client:Validating inputs...\n",
      "INFO:nixtla.nixtla_client:Validating inputs...\n",
      "INFO:nixtla.nixtla_client:Validating inputs...\n"
     ]
    },
    {
     "name": "stdout",
     "output_type": "stream",
     "text": [
      "Gagal prediksi Terendah untuk tanggal 2024-07-31: Series contain missing or duplicate timestamps, or the timestamps do not match the provided frequency.\n",
      "Please make sure that all series have a single observation from the first to the last timestamp and that the provided frequency matches the timestamps'.\n",
      "You can refer to https://docs.nixtla.io/docs/tutorials-missing_values for an end to end example.\n",
      "Gagal prediksi Terendah untuk tanggal 2024-08-01: Series contain missing or duplicate timestamps, or the timestamps do not match the provided frequency.\n",
      "Please make sure that all series have a single observation from the first to the last timestamp and that the provided frequency matches the timestamps'.\n",
      "You can refer to https://docs.nixtla.io/docs/tutorials-missing_values for an end to end example.\n",
      "Gagal prediksi Terendah untuk tanggal 2024-08-02: Series contain missing or duplicate timestamps, or the timestamps do not match the provided frequency.\n",
      "Please make sure that all series have a single observation from the first to the last timestamp and that the provided frequency matches the timestamps'.\n",
      "You can refer to https://docs.nixtla.io/docs/tutorials-missing_values for an end to end example.\n",
      "Gagal prediksi Terendah untuk tanggal 2024-08-03: Series contain missing or duplicate timestamps, or the timestamps do not match the provided frequency.\n",
      "Please make sure that all series have a single observation from the first to the last timestamp and that the provided frequency matches the timestamps'.\n",
      "You can refer to https://docs.nixtla.io/docs/tutorials-missing_values for an end to end example.\n",
      "Gagal prediksi Terendah untuk tanggal 2024-08-04: Series contain missing or duplicate timestamps, or the timestamps do not match the provided frequency.\n",
      "Please make sure that all series have a single observation from the first to the last timestamp and that the provided frequency matches the timestamps'.\n",
      "You can refer to https://docs.nixtla.io/docs/tutorials-missing_values for an end to end example.\n",
      "Gagal prediksi Terendah untuk tanggal 2024-08-05: Series contain missing or duplicate timestamps, or the timestamps do not match the provided frequency.\n",
      "Please make sure that all series have a single observation from the first to the last timestamp and that the provided frequency matches the timestamps'.\n",
      "You can refer to https://docs.nixtla.io/docs/tutorials-missing_values for an end to end example.\n",
      "Gagal prediksi Terendah untuk tanggal 2024-08-06: Series contain missing or duplicate timestamps, or the timestamps do not match the provided frequency.\n",
      "Please make sure that all series have a single observation from the first to the last timestamp and that the provided frequency matches the timestamps'.\n",
      "You can refer to https://docs.nixtla.io/docs/tutorials-missing_values for an end to end example.\n",
      "Gagal prediksi Terendah untuk tanggal 2024-08-07: Series contain missing or duplicate timestamps, or the timestamps do not match the provided frequency.\n",
      "Please make sure that all series have a single observation from the first to the last timestamp and that the provided frequency matches the timestamps'.\n",
      "You can refer to https://docs.nixtla.io/docs/tutorials-missing_values for an end to end example.\n",
      "Gagal prediksi Terendah untuk tanggal 2024-08-08: Series contain missing or duplicate timestamps, or the timestamps do not match the provided frequency.\n",
      "Please make sure that all series have a single observation from the first to the last timestamp and that the provided frequency matches the timestamps'.\n",
      "You can refer to https://docs.nixtla.io/docs/tutorials-missing_values for an end to end example.\n",
      "Gagal prediksi Terendah untuk tanggal 2024-08-09: Series contain missing or duplicate timestamps, or the timestamps do not match the provided frequency.\n",
      "Please make sure that all series have a single observation from the first to the last timestamp and that the provided frequency matches the timestamps'.\n",
      "You can refer to https://docs.nixtla.io/docs/tutorials-missing_values for an end to end example.\n",
      "Gagal prediksi Terendah untuk tanggal 2024-08-10: Series contain missing or duplicate timestamps, or the timestamps do not match the provided frequency.\n",
      "Please make sure that all series have a single observation from the first to the last timestamp and that the provided frequency matches the timestamps'.\n",
      "You can refer to https://docs.nixtla.io/docs/tutorials-missing_values for an end to end example.\n",
      "Gagal prediksi Terendah untuk tanggal 2024-08-11: Series contain missing or duplicate timestamps, or the timestamps do not match the provided frequency.\n",
      "Please make sure that all series have a single observation from the first to the last timestamp and that the provided frequency matches the timestamps'.\n",
      "You can refer to https://docs.nixtla.io/docs/tutorials-missing_values for an end to end example.\n"
     ]
    },
    {
     "name": "stderr",
     "output_type": "stream",
     "text": [
      "INFO:nixtla.nixtla_client:Validating inputs...\n",
      "INFO:nixtla.nixtla_client:Validating inputs...\n",
      "INFO:nixtla.nixtla_client:Validating inputs...\n",
      "INFO:nixtla.nixtla_client:Validating inputs...\n",
      "INFO:nixtla.nixtla_client:Validating inputs...\n",
      "INFO:nixtla.nixtla_client:Validating inputs...\n",
      "INFO:nixtla.nixtla_client:Validating inputs...\n",
      "INFO:nixtla.nixtla_client:Validating inputs...\n",
      "INFO:nixtla.nixtla_client:Validating inputs...\n",
      "INFO:nixtla.nixtla_client:Validating inputs...\n",
      "INFO:nixtla.nixtla_client:Validating inputs...\n",
      "INFO:nixtla.nixtla_client:Validating inputs...\n"
     ]
    },
    {
     "name": "stdout",
     "output_type": "stream",
     "text": [
      "Gagal prediksi Terendah untuk tanggal 2024-08-12: Series contain missing or duplicate timestamps, or the timestamps do not match the provided frequency.\n",
      "Please make sure that all series have a single observation from the first to the last timestamp and that the provided frequency matches the timestamps'.\n",
      "You can refer to https://docs.nixtla.io/docs/tutorials-missing_values for an end to end example.\n",
      "Gagal prediksi Terendah untuk tanggal 2024-08-13: Series contain missing or duplicate timestamps, or the timestamps do not match the provided frequency.\n",
      "Please make sure that all series have a single observation from the first to the last timestamp and that the provided frequency matches the timestamps'.\n",
      "You can refer to https://docs.nixtla.io/docs/tutorials-missing_values for an end to end example.\n",
      "Gagal prediksi Terendah untuk tanggal 2024-08-14: Series contain missing or duplicate timestamps, or the timestamps do not match the provided frequency.\n",
      "Please make sure that all series have a single observation from the first to the last timestamp and that the provided frequency matches the timestamps'.\n",
      "You can refer to https://docs.nixtla.io/docs/tutorials-missing_values for an end to end example.\n",
      "Gagal prediksi Terendah untuk tanggal 2024-08-15: Series contain missing or duplicate timestamps, or the timestamps do not match the provided frequency.\n",
      "Please make sure that all series have a single observation from the first to the last timestamp and that the provided frequency matches the timestamps'.\n",
      "You can refer to https://docs.nixtla.io/docs/tutorials-missing_values for an end to end example.\n",
      "Gagal prediksi Terendah untuk tanggal 2024-08-16: Series contain missing or duplicate timestamps, or the timestamps do not match the provided frequency.\n",
      "Please make sure that all series have a single observation from the first to the last timestamp and that the provided frequency matches the timestamps'.\n",
      "You can refer to https://docs.nixtla.io/docs/tutorials-missing_values for an end to end example.\n",
      "Gagal prediksi Terendah untuk tanggal 2024-08-17: Series contain missing or duplicate timestamps, or the timestamps do not match the provided frequency.\n",
      "Please make sure that all series have a single observation from the first to the last timestamp and that the provided frequency matches the timestamps'.\n",
      "You can refer to https://docs.nixtla.io/docs/tutorials-missing_values for an end to end example.\n",
      "Gagal prediksi Terendah untuk tanggal 2024-08-18: Series contain missing or duplicate timestamps, or the timestamps do not match the provided frequency.\n",
      "Please make sure that all series have a single observation from the first to the last timestamp and that the provided frequency matches the timestamps'.\n",
      "You can refer to https://docs.nixtla.io/docs/tutorials-missing_values for an end to end example.\n",
      "Gagal prediksi Terendah untuk tanggal 2024-08-19: Series contain missing or duplicate timestamps, or the timestamps do not match the provided frequency.\n",
      "Please make sure that all series have a single observation from the first to the last timestamp and that the provided frequency matches the timestamps'.\n",
      "You can refer to https://docs.nixtla.io/docs/tutorials-missing_values for an end to end example.\n",
      "Gagal prediksi Terendah untuk tanggal 2024-08-20: Series contain missing or duplicate timestamps, or the timestamps do not match the provided frequency.\n",
      "Please make sure that all series have a single observation from the first to the last timestamp and that the provided frequency matches the timestamps'.\n",
      "You can refer to https://docs.nixtla.io/docs/tutorials-missing_values for an end to end example.\n",
      "Gagal prediksi Terendah untuk tanggal 2024-08-21: Series contain missing or duplicate timestamps, or the timestamps do not match the provided frequency.\n",
      "Please make sure that all series have a single observation from the first to the last timestamp and that the provided frequency matches the timestamps'.\n",
      "You can refer to https://docs.nixtla.io/docs/tutorials-missing_values for an end to end example.\n",
      "Gagal prediksi Terendah untuk tanggal 2024-08-22: Series contain missing or duplicate timestamps, or the timestamps do not match the provided frequency.\n",
      "Please make sure that all series have a single observation from the first to the last timestamp and that the provided frequency matches the timestamps'.\n",
      "You can refer to https://docs.nixtla.io/docs/tutorials-missing_values for an end to end example.\n",
      "Gagal prediksi Terendah untuk tanggal 2024-08-23: Series contain missing or duplicate timestamps, or the timestamps do not match the provided frequency.\n",
      "Please make sure that all series have a single observation from the first to the last timestamp and that the provided frequency matches the timestamps'.\n",
      "You can refer to https://docs.nixtla.io/docs/tutorials-missing_values for an end to end example.\n"
     ]
    },
    {
     "name": "stderr",
     "output_type": "stream",
     "text": [
      "INFO:nixtla.nixtla_client:Validating inputs...\n",
      "INFO:nixtla.nixtla_client:Validating inputs...\n",
      "INFO:nixtla.nixtla_client:Validating inputs...\n",
      "INFO:nixtla.nixtla_client:Validating inputs...\n",
      "INFO:nixtla.nixtla_client:Validating inputs...\n",
      "INFO:nixtla.nixtla_client:Validating inputs...\n",
      "INFO:nixtla.nixtla_client:Validating inputs...\n",
      "INFO:nixtla.nixtla_client:Validating inputs...\n",
      "INFO:nixtla.nixtla_client:Validating inputs...\n",
      "INFO:nixtla.nixtla_client:Validating inputs...\n",
      "INFO:nixtla.nixtla_client:Validating inputs...\n"
     ]
    },
    {
     "name": "stdout",
     "output_type": "stream",
     "text": [
      "Gagal prediksi Terendah untuk tanggal 2024-08-24: Series contain missing or duplicate timestamps, or the timestamps do not match the provided frequency.\n",
      "Please make sure that all series have a single observation from the first to the last timestamp and that the provided frequency matches the timestamps'.\n",
      "You can refer to https://docs.nixtla.io/docs/tutorials-missing_values for an end to end example.\n",
      "Gagal prediksi Terendah untuk tanggal 2024-08-25: Series contain missing or duplicate timestamps, or the timestamps do not match the provided frequency.\n",
      "Please make sure that all series have a single observation from the first to the last timestamp and that the provided frequency matches the timestamps'.\n",
      "You can refer to https://docs.nixtla.io/docs/tutorials-missing_values for an end to end example.\n",
      "Gagal prediksi Terendah untuk tanggal 2024-08-26: Series contain missing or duplicate timestamps, or the timestamps do not match the provided frequency.\n",
      "Please make sure that all series have a single observation from the first to the last timestamp and that the provided frequency matches the timestamps'.\n",
      "You can refer to https://docs.nixtla.io/docs/tutorials-missing_values for an end to end example.\n",
      "Gagal prediksi Terendah untuk tanggal 2024-08-27: Series contain missing or duplicate timestamps, or the timestamps do not match the provided frequency.\n",
      "Please make sure that all series have a single observation from the first to the last timestamp and that the provided frequency matches the timestamps'.\n",
      "You can refer to https://docs.nixtla.io/docs/tutorials-missing_values for an end to end example.\n",
      "Gagal prediksi Terendah untuk tanggal 2024-08-28: Series contain missing or duplicate timestamps, or the timestamps do not match the provided frequency.\n",
      "Please make sure that all series have a single observation from the first to the last timestamp and that the provided frequency matches the timestamps'.\n",
      "You can refer to https://docs.nixtla.io/docs/tutorials-missing_values for an end to end example.\n",
      "Gagal prediksi Terendah untuk tanggal 2024-08-29: Series contain missing or duplicate timestamps, or the timestamps do not match the provided frequency.\n",
      "Please make sure that all series have a single observation from the first to the last timestamp and that the provided frequency matches the timestamps'.\n",
      "You can refer to https://docs.nixtla.io/docs/tutorials-missing_values for an end to end example.\n",
      "Gagal prediksi Terendah untuk tanggal 2024-08-30: Series contain missing or duplicate timestamps, or the timestamps do not match the provided frequency.\n",
      "Please make sure that all series have a single observation from the first to the last timestamp and that the provided frequency matches the timestamps'.\n",
      "You can refer to https://docs.nixtla.io/docs/tutorials-missing_values for an end to end example.\n",
      "Gagal prediksi Terendah untuk tanggal 2024-08-31: Series contain missing or duplicate timestamps, or the timestamps do not match the provided frequency.\n",
      "Please make sure that all series have a single observation from the first to the last timestamp and that the provided frequency matches the timestamps'.\n",
      "You can refer to https://docs.nixtla.io/docs/tutorials-missing_values for an end to end example.\n",
      "Gagal prediksi Terendah untuk tanggal 2024-09-01: Series contain missing or duplicate timestamps, or the timestamps do not match the provided frequency.\n",
      "Please make sure that all series have a single observation from the first to the last timestamp and that the provided frequency matches the timestamps'.\n",
      "You can refer to https://docs.nixtla.io/docs/tutorials-missing_values for an end to end example.\n",
      "Gagal prediksi Terendah untuk tanggal 2024-09-02: Series contain missing or duplicate timestamps, or the timestamps do not match the provided frequency.\n",
      "Please make sure that all series have a single observation from the first to the last timestamp and that the provided frequency matches the timestamps'.\n",
      "You can refer to https://docs.nixtla.io/docs/tutorials-missing_values for an end to end example.\n"
     ]
    },
    {
     "name": "stderr",
     "output_type": "stream",
     "text": [
      "INFO:nixtla.nixtla_client:Validating inputs...\n",
      "INFO:nixtla.nixtla_client:Validating inputs...\n",
      "INFO:nixtla.nixtla_client:Validating inputs...\n",
      "INFO:nixtla.nixtla_client:Validating inputs...\n",
      "INFO:nixtla.nixtla_client:Validating inputs...\n",
      "INFO:nixtla.nixtla_client:Validating inputs...\n",
      "INFO:nixtla.nixtla_client:Validating inputs...\n",
      "INFO:nixtla.nixtla_client:Validating inputs...\n",
      "INFO:nixtla.nixtla_client:Validating inputs...\n",
      "INFO:nixtla.nixtla_client:Validating inputs...\n",
      "INFO:nixtla.nixtla_client:Validating inputs...\n",
      "INFO:nixtla.nixtla_client:Validating inputs...\n"
     ]
    },
    {
     "name": "stdout",
     "output_type": "stream",
     "text": [
      "Gagal prediksi Terendah untuk tanggal 2024-09-03: Series contain missing or duplicate timestamps, or the timestamps do not match the provided frequency.\n",
      "Please make sure that all series have a single observation from the first to the last timestamp and that the provided frequency matches the timestamps'.\n",
      "You can refer to https://docs.nixtla.io/docs/tutorials-missing_values for an end to end example.\n",
      "Gagal prediksi Terendah untuk tanggal 2024-09-04: Series contain missing or duplicate timestamps, or the timestamps do not match the provided frequency.\n",
      "Please make sure that all series have a single observation from the first to the last timestamp and that the provided frequency matches the timestamps'.\n",
      "You can refer to https://docs.nixtla.io/docs/tutorials-missing_values for an end to end example.\n",
      "Gagal prediksi Terendah untuk tanggal 2024-09-05: Series contain missing or duplicate timestamps, or the timestamps do not match the provided frequency.\n",
      "Please make sure that all series have a single observation from the first to the last timestamp and that the provided frequency matches the timestamps'.\n",
      "You can refer to https://docs.nixtla.io/docs/tutorials-missing_values for an end to end example.\n",
      "Gagal prediksi Terendah untuk tanggal 2024-09-06: Series contain missing or duplicate timestamps, or the timestamps do not match the provided frequency.\n",
      "Please make sure that all series have a single observation from the first to the last timestamp and that the provided frequency matches the timestamps'.\n",
      "You can refer to https://docs.nixtla.io/docs/tutorials-missing_values for an end to end example.\n",
      "Gagal prediksi Terendah untuk tanggal 2024-09-07: Series contain missing or duplicate timestamps, or the timestamps do not match the provided frequency.\n",
      "Please make sure that all series have a single observation from the first to the last timestamp and that the provided frequency matches the timestamps'.\n",
      "You can refer to https://docs.nixtla.io/docs/tutorials-missing_values for an end to end example.\n",
      "Gagal prediksi Terendah untuk tanggal 2024-09-08: Series contain missing or duplicate timestamps, or the timestamps do not match the provided frequency.\n",
      "Please make sure that all series have a single observation from the first to the last timestamp and that the provided frequency matches the timestamps'.\n",
      "You can refer to https://docs.nixtla.io/docs/tutorials-missing_values for an end to end example.\n",
      "Gagal prediksi Terendah untuk tanggal 2024-09-09: Series contain missing or duplicate timestamps, or the timestamps do not match the provided frequency.\n",
      "Please make sure that all series have a single observation from the first to the last timestamp and that the provided frequency matches the timestamps'.\n",
      "You can refer to https://docs.nixtla.io/docs/tutorials-missing_values for an end to end example.\n",
      "Gagal prediksi Terendah untuk tanggal 2024-09-10: Series contain missing or duplicate timestamps, or the timestamps do not match the provided frequency.\n",
      "Please make sure that all series have a single observation from the first to the last timestamp and that the provided frequency matches the timestamps'.\n",
      "You can refer to https://docs.nixtla.io/docs/tutorials-missing_values for an end to end example.\n",
      "Gagal prediksi Terendah untuk tanggal 2024-09-11: Series contain missing or duplicate timestamps, or the timestamps do not match the provided frequency.\n",
      "Please make sure that all series have a single observation from the first to the last timestamp and that the provided frequency matches the timestamps'.\n",
      "You can refer to https://docs.nixtla.io/docs/tutorials-missing_values for an end to end example.\n",
      "Gagal prediksi Terendah untuk tanggal 2024-09-12: Series contain missing or duplicate timestamps, or the timestamps do not match the provided frequency.\n",
      "Please make sure that all series have a single observation from the first to the last timestamp and that the provided frequency matches the timestamps'.\n",
      "You can refer to https://docs.nixtla.io/docs/tutorials-missing_values for an end to end example.\n",
      "Gagal prediksi Terendah untuk tanggal 2024-09-13: Series contain missing or duplicate timestamps, or the timestamps do not match the provided frequency.\n",
      "Please make sure that all series have a single observation from the first to the last timestamp and that the provided frequency matches the timestamps'.\n",
      "You can refer to https://docs.nixtla.io/docs/tutorials-missing_values for an end to end example.\n",
      "Gagal prediksi Terendah untuk tanggal 2024-09-14: Series contain missing or duplicate timestamps, or the timestamps do not match the provided frequency.\n",
      "Please make sure that all series have a single observation from the first to the last timestamp and that the provided frequency matches the timestamps'.\n",
      "You can refer to https://docs.nixtla.io/docs/tutorials-missing_values for an end to end example.\n"
     ]
    },
    {
     "name": "stderr",
     "output_type": "stream",
     "text": [
      "INFO:nixtla.nixtla_client:Validating inputs...\n",
      "INFO:nixtla.nixtla_client:Validating inputs...\n",
      "INFO:nixtla.nixtla_client:Validating inputs...\n",
      "INFO:nixtla.nixtla_client:Validating inputs...\n",
      "INFO:nixtla.nixtla_client:Validating inputs...\n",
      "INFO:nixtla.nixtla_client:Validating inputs...\n",
      "INFO:nixtla.nixtla_client:Validating inputs...\n",
      "INFO:nixtla.nixtla_client:Validating inputs...\n",
      "INFO:nixtla.nixtla_client:Validating inputs...\n",
      "INFO:nixtla.nixtla_client:Validating inputs...\n",
      "INFO:nixtla.nixtla_client:Validating inputs...\n"
     ]
    },
    {
     "name": "stdout",
     "output_type": "stream",
     "text": [
      "Gagal prediksi Terendah untuk tanggal 2024-09-15: Series contain missing or duplicate timestamps, or the timestamps do not match the provided frequency.\n",
      "Please make sure that all series have a single observation from the first to the last timestamp and that the provided frequency matches the timestamps'.\n",
      "You can refer to https://docs.nixtla.io/docs/tutorials-missing_values for an end to end example.\n",
      "Gagal prediksi Terendah untuk tanggal 2024-09-16: Series contain missing or duplicate timestamps, or the timestamps do not match the provided frequency.\n",
      "Please make sure that all series have a single observation from the first to the last timestamp and that the provided frequency matches the timestamps'.\n",
      "You can refer to https://docs.nixtla.io/docs/tutorials-missing_values for an end to end example.\n",
      "Gagal prediksi Terendah untuk tanggal 2024-09-17: Series contain missing or duplicate timestamps, or the timestamps do not match the provided frequency.\n",
      "Please make sure that all series have a single observation from the first to the last timestamp and that the provided frequency matches the timestamps'.\n",
      "You can refer to https://docs.nixtla.io/docs/tutorials-missing_values for an end to end example.\n",
      "Gagal prediksi Terendah untuk tanggal 2024-09-18: Series contain missing or duplicate timestamps, or the timestamps do not match the provided frequency.\n",
      "Please make sure that all series have a single observation from the first to the last timestamp and that the provided frequency matches the timestamps'.\n",
      "You can refer to https://docs.nixtla.io/docs/tutorials-missing_values for an end to end example.\n",
      "Gagal prediksi Terendah untuk tanggal 2024-09-19: Series contain missing or duplicate timestamps, or the timestamps do not match the provided frequency.\n",
      "Please make sure that all series have a single observation from the first to the last timestamp and that the provided frequency matches the timestamps'.\n",
      "You can refer to https://docs.nixtla.io/docs/tutorials-missing_values for an end to end example.\n",
      "Gagal prediksi Terendah untuk tanggal 2024-09-20: Series contain missing or duplicate timestamps, or the timestamps do not match the provided frequency.\n",
      "Please make sure that all series have a single observation from the first to the last timestamp and that the provided frequency matches the timestamps'.\n",
      "You can refer to https://docs.nixtla.io/docs/tutorials-missing_values for an end to end example.\n",
      "Gagal prediksi Terendah untuk tanggal 2024-09-21: Series contain missing or duplicate timestamps, or the timestamps do not match the provided frequency.\n",
      "Please make sure that all series have a single observation from the first to the last timestamp and that the provided frequency matches the timestamps'.\n",
      "You can refer to https://docs.nixtla.io/docs/tutorials-missing_values for an end to end example.\n",
      "Gagal prediksi Terendah untuk tanggal 2024-09-22: Series contain missing or duplicate timestamps, or the timestamps do not match the provided frequency.\n",
      "Please make sure that all series have a single observation from the first to the last timestamp and that the provided frequency matches the timestamps'.\n",
      "You can refer to https://docs.nixtla.io/docs/tutorials-missing_values for an end to end example.\n",
      "Gagal prediksi Terendah untuk tanggal 2024-09-23: Series contain missing or duplicate timestamps, or the timestamps do not match the provided frequency.\n",
      "Please make sure that all series have a single observation from the first to the last timestamp and that the provided frequency matches the timestamps'.\n",
      "You can refer to https://docs.nixtla.io/docs/tutorials-missing_values for an end to end example.\n",
      "Gagal prediksi Terendah untuk tanggal 2024-09-24: Series contain missing or duplicate timestamps, or the timestamps do not match the provided frequency.\n",
      "Please make sure that all series have a single observation from the first to the last timestamp and that the provided frequency matches the timestamps'.\n",
      "You can refer to https://docs.nixtla.io/docs/tutorials-missing_values for an end to end example.\n",
      "Gagal prediksi Terendah untuk tanggal 2024-09-25: Series contain missing or duplicate timestamps, or the timestamps do not match the provided frequency.\n",
      "Please make sure that all series have a single observation from the first to the last timestamp and that the provided frequency matches the timestamps'.\n",
      "You can refer to https://docs.nixtla.io/docs/tutorials-missing_values for an end to end example.\n"
     ]
    },
    {
     "name": "stderr",
     "output_type": "stream",
     "text": [
      "INFO:nixtla.nixtla_client:Validating inputs...\n",
      "INFO:nixtla.nixtla_client:Validating inputs...\n",
      "INFO:nixtla.nixtla_client:Validating inputs...\n",
      "INFO:nixtla.nixtla_client:Validating inputs...\n",
      "INFO:nixtla.nixtla_client:Validating inputs...\n",
      "INFO:nixtla.nixtla_client:Validating inputs...\n",
      "INFO:nixtla.nixtla_client:Validating inputs...\n",
      "INFO:nixtla.nixtla_client:Validating inputs...\n",
      "INFO:nixtla.nixtla_client:Validating inputs...\n"
     ]
    },
    {
     "name": "stdout",
     "output_type": "stream",
     "text": [
      "Gagal prediksi Terendah untuk tanggal 2024-09-26: Series contain missing or duplicate timestamps, or the timestamps do not match the provided frequency.\n",
      "Please make sure that all series have a single observation from the first to the last timestamp and that the provided frequency matches the timestamps'.\n",
      "You can refer to https://docs.nixtla.io/docs/tutorials-missing_values for an end to end example.\n",
      "Gagal prediksi Terendah untuk tanggal 2024-09-27: Series contain missing or duplicate timestamps, or the timestamps do not match the provided frequency.\n",
      "Please make sure that all series have a single observation from the first to the last timestamp and that the provided frequency matches the timestamps'.\n",
      "You can refer to https://docs.nixtla.io/docs/tutorials-missing_values for an end to end example.\n",
      "Gagal prediksi Terendah untuk tanggal 2024-09-28: Series contain missing or duplicate timestamps, or the timestamps do not match the provided frequency.\n",
      "Please make sure that all series have a single observation from the first to the last timestamp and that the provided frequency matches the timestamps'.\n",
      "You can refer to https://docs.nixtla.io/docs/tutorials-missing_values for an end to end example.\n",
      "Gagal prediksi Terendah untuk tanggal 2024-09-29: Series contain missing or duplicate timestamps, or the timestamps do not match the provided frequency.\n",
      "Please make sure that all series have a single observation from the first to the last timestamp and that the provided frequency matches the timestamps'.\n",
      "You can refer to https://docs.nixtla.io/docs/tutorials-missing_values for an end to end example.\n",
      "Gagal prediksi Terendah untuk tanggal 2024-09-30: Series contain missing or duplicate timestamps, or the timestamps do not match the provided frequency.\n",
      "Please make sure that all series have a single observation from the first to the last timestamp and that the provided frequency matches the timestamps'.\n",
      "You can refer to https://docs.nixtla.io/docs/tutorials-missing_values for an end to end example.\n",
      "Gagal prediksi Terendah untuk tanggal 2024-10-01: Series contain missing or duplicate timestamps, or the timestamps do not match the provided frequency.\n",
      "Please make sure that all series have a single observation from the first to the last timestamp and that the provided frequency matches the timestamps'.\n",
      "You can refer to https://docs.nixtla.io/docs/tutorials-missing_values for an end to end example.\n",
      "Gagal prediksi Terendah untuk tanggal 2024-10-02: Series contain missing or duplicate timestamps, or the timestamps do not match the provided frequency.\n",
      "Please make sure that all series have a single observation from the first to the last timestamp and that the provided frequency matches the timestamps'.\n",
      "You can refer to https://docs.nixtla.io/docs/tutorials-missing_values for an end to end example.\n",
      "Gagal prediksi Terendah untuk tanggal 2024-10-03: Series contain missing or duplicate timestamps, or the timestamps do not match the provided frequency.\n",
      "Please make sure that all series have a single observation from the first to the last timestamp and that the provided frequency matches the timestamps'.\n",
      "You can refer to https://docs.nixtla.io/docs/tutorials-missing_values for an end to end example.\n",
      "Gagal prediksi Terendah untuk tanggal 2024-10-04: Series contain missing or duplicate timestamps, or the timestamps do not match the provided frequency.\n",
      "Please make sure that all series have a single observation from the first to the last timestamp and that the provided frequency matches the timestamps'.\n",
      "You can refer to https://docs.nixtla.io/docs/tutorials-missing_values for an end to end example.\n"
     ]
    },
    {
     "name": "stderr",
     "output_type": "stream",
     "text": [
      "INFO:nixtla.nixtla_client:Validating inputs...\n",
      "INFO:nixtla.nixtla_client:Validating inputs...\n",
      "INFO:nixtla.nixtla_client:Validating inputs...\n",
      "INFO:nixtla.nixtla_client:Validating inputs...\n",
      "INFO:nixtla.nixtla_client:Validating inputs...\n",
      "INFO:nixtla.nixtla_client:Validating inputs...\n",
      "INFO:nixtla.nixtla_client:Validating inputs...\n",
      "INFO:nixtla.nixtla_client:Validating inputs...\n",
      "INFO:nixtla.nixtla_client:Validating inputs...\n",
      "INFO:nixtla.nixtla_client:Validating inputs...\n"
     ]
    },
    {
     "name": "stdout",
     "output_type": "stream",
     "text": [
      "Gagal prediksi Terendah untuk tanggal 2024-10-05: Series contain missing or duplicate timestamps, or the timestamps do not match the provided frequency.\n",
      "Please make sure that all series have a single observation from the first to the last timestamp and that the provided frequency matches the timestamps'.\n",
      "You can refer to https://docs.nixtla.io/docs/tutorials-missing_values for an end to end example.\n",
      "Gagal prediksi Terendah untuk tanggal 2024-10-06: Series contain missing or duplicate timestamps, or the timestamps do not match the provided frequency.\n",
      "Please make sure that all series have a single observation from the first to the last timestamp and that the provided frequency matches the timestamps'.\n",
      "You can refer to https://docs.nixtla.io/docs/tutorials-missing_values for an end to end example.\n",
      "Gagal prediksi Terendah untuk tanggal 2024-10-07: Series contain missing or duplicate timestamps, or the timestamps do not match the provided frequency.\n",
      "Please make sure that all series have a single observation from the first to the last timestamp and that the provided frequency matches the timestamps'.\n",
      "You can refer to https://docs.nixtla.io/docs/tutorials-missing_values for an end to end example.\n",
      "Gagal prediksi Terendah untuk tanggal 2024-10-08: Series contain missing or duplicate timestamps, or the timestamps do not match the provided frequency.\n",
      "Please make sure that all series have a single observation from the first to the last timestamp and that the provided frequency matches the timestamps'.\n",
      "You can refer to https://docs.nixtla.io/docs/tutorials-missing_values for an end to end example.\n",
      "Gagal prediksi Terendah untuk tanggal 2024-10-09: Series contain missing or duplicate timestamps, or the timestamps do not match the provided frequency.\n",
      "Please make sure that all series have a single observation from the first to the last timestamp and that the provided frequency matches the timestamps'.\n",
      "You can refer to https://docs.nixtla.io/docs/tutorials-missing_values for an end to end example.\n",
      "Gagal prediksi Terendah untuk tanggal 2024-10-10: Series contain missing or duplicate timestamps, or the timestamps do not match the provided frequency.\n",
      "Please make sure that all series have a single observation from the first to the last timestamp and that the provided frequency matches the timestamps'.\n",
      "You can refer to https://docs.nixtla.io/docs/tutorials-missing_values for an end to end example.\n",
      "Gagal prediksi Terendah untuk tanggal 2024-10-11: Series contain missing or duplicate timestamps, or the timestamps do not match the provided frequency.\n",
      "Please make sure that all series have a single observation from the first to the last timestamp and that the provided frequency matches the timestamps'.\n",
      "You can refer to https://docs.nixtla.io/docs/tutorials-missing_values for an end to end example.\n",
      "Gagal prediksi Terendah untuk tanggal 2024-10-12: Series contain missing or duplicate timestamps, or the timestamps do not match the provided frequency.\n",
      "Please make sure that all series have a single observation from the first to the last timestamp and that the provided frequency matches the timestamps'.\n",
      "You can refer to https://docs.nixtla.io/docs/tutorials-missing_values for an end to end example.\n",
      "Gagal prediksi Terendah untuk tanggal 2024-10-13: Series contain missing or duplicate timestamps, or the timestamps do not match the provided frequency.\n",
      "Please make sure that all series have a single observation from the first to the last timestamp and that the provided frequency matches the timestamps'.\n",
      "You can refer to https://docs.nixtla.io/docs/tutorials-missing_values for an end to end example.\n",
      "Gagal prediksi Terendah untuk tanggal 2024-10-14: Series contain missing or duplicate timestamps, or the timestamps do not match the provided frequency.\n",
      "Please make sure that all series have a single observation from the first to the last timestamp and that the provided frequency matches the timestamps'.\n",
      "You can refer to https://docs.nixtla.io/docs/tutorials-missing_values for an end to end example.\n"
     ]
    },
    {
     "name": "stderr",
     "output_type": "stream",
     "text": [
      "INFO:nixtla.nixtla_client:Validating inputs...\n",
      "INFO:nixtla.nixtla_client:Validating inputs...\n",
      "INFO:nixtla.nixtla_client:Validating inputs...\n",
      "INFO:nixtla.nixtla_client:Validating inputs...\n",
      "INFO:nixtla.nixtla_client:Validating inputs...\n",
      "INFO:nixtla.nixtla_client:Validating inputs...\n",
      "INFO:nixtla.nixtla_client:Validating inputs...\n",
      "INFO:nixtla.nixtla_client:Validating inputs...\n",
      "INFO:nixtla.nixtla_client:Validating inputs...\n",
      "INFO:nixtla.nixtla_client:Validating inputs...\n"
     ]
    },
    {
     "name": "stdout",
     "output_type": "stream",
     "text": [
      "Gagal prediksi Terendah untuk tanggal 2024-10-15: Series contain missing or duplicate timestamps, or the timestamps do not match the provided frequency.\n",
      "Please make sure that all series have a single observation from the first to the last timestamp and that the provided frequency matches the timestamps'.\n",
      "You can refer to https://docs.nixtla.io/docs/tutorials-missing_values for an end to end example.\n",
      "Gagal prediksi Terendah untuk tanggal 2024-10-16: Series contain missing or duplicate timestamps, or the timestamps do not match the provided frequency.\n",
      "Please make sure that all series have a single observation from the first to the last timestamp and that the provided frequency matches the timestamps'.\n",
      "You can refer to https://docs.nixtla.io/docs/tutorials-missing_values for an end to end example.\n",
      "Gagal prediksi Terendah untuk tanggal 2024-10-17: Series contain missing or duplicate timestamps, or the timestamps do not match the provided frequency.\n",
      "Please make sure that all series have a single observation from the first to the last timestamp and that the provided frequency matches the timestamps'.\n",
      "You can refer to https://docs.nixtla.io/docs/tutorials-missing_values for an end to end example.\n",
      "Gagal prediksi Terendah untuk tanggal 2024-10-18: Series contain missing or duplicate timestamps, or the timestamps do not match the provided frequency.\n",
      "Please make sure that all series have a single observation from the first to the last timestamp and that the provided frequency matches the timestamps'.\n",
      "You can refer to https://docs.nixtla.io/docs/tutorials-missing_values for an end to end example.\n",
      "Gagal prediksi Terendah untuk tanggal 2024-10-19: Series contain missing or duplicate timestamps, or the timestamps do not match the provided frequency.\n",
      "Please make sure that all series have a single observation from the first to the last timestamp and that the provided frequency matches the timestamps'.\n",
      "You can refer to https://docs.nixtla.io/docs/tutorials-missing_values for an end to end example.\n",
      "Gagal prediksi Terendah untuk tanggal 2024-10-20: Series contain missing or duplicate timestamps, or the timestamps do not match the provided frequency.\n",
      "Please make sure that all series have a single observation from the first to the last timestamp and that the provided frequency matches the timestamps'.\n",
      "You can refer to https://docs.nixtla.io/docs/tutorials-missing_values for an end to end example.\n",
      "Gagal prediksi Terendah untuk tanggal 2024-10-21: Series contain missing or duplicate timestamps, or the timestamps do not match the provided frequency.\n",
      "Please make sure that all series have a single observation from the first to the last timestamp and that the provided frequency matches the timestamps'.\n",
      "You can refer to https://docs.nixtla.io/docs/tutorials-missing_values for an end to end example.\n",
      "Gagal prediksi Terendah untuk tanggal 2024-10-22: Series contain missing or duplicate timestamps, or the timestamps do not match the provided frequency.\n",
      "Please make sure that all series have a single observation from the first to the last timestamp and that the provided frequency matches the timestamps'.\n",
      "You can refer to https://docs.nixtla.io/docs/tutorials-missing_values for an end to end example.\n",
      "Gagal prediksi Terendah untuk tanggal 2024-10-23: Series contain missing or duplicate timestamps, or the timestamps do not match the provided frequency.\n",
      "Please make sure that all series have a single observation from the first to the last timestamp and that the provided frequency matches the timestamps'.\n",
      "You can refer to https://docs.nixtla.io/docs/tutorials-missing_values for an end to end example.\n",
      "Gagal prediksi Terendah untuk tanggal 2024-10-24: Series contain missing or duplicate timestamps, or the timestamps do not match the provided frequency.\n",
      "Please make sure that all series have a single observation from the first to the last timestamp and that the provided frequency matches the timestamps'.\n",
      "You can refer to https://docs.nixtla.io/docs/tutorials-missing_values for an end to end example.\n",
      "Gagal prediksi Terendah untuk tanggal 2024-10-25: Series contain missing or duplicate timestamps, or the timestamps do not match the provided frequency.\n",
      "Please make sure that all series have a single observation from the first to the last timestamp and that the provided frequency matches the timestamps'.\n",
      "You can refer to https://docs.nixtla.io/docs/tutorials-missing_values for an end to end example.\n"
     ]
    },
    {
     "name": "stderr",
     "output_type": "stream",
     "text": [
      "INFO:nixtla.nixtla_client:Validating inputs...\n",
      "INFO:nixtla.nixtla_client:Validating inputs...\n",
      "INFO:nixtla.nixtla_client:Validating inputs...\n",
      "INFO:nixtla.nixtla_client:Validating inputs...\n",
      "INFO:nixtla.nixtla_client:Validating inputs...\n",
      "INFO:nixtla.nixtla_client:Validating inputs...\n",
      "INFO:nixtla.nixtla_client:Validating inputs...\n",
      "INFO:nixtla.nixtla_client:Validating inputs...\n",
      "INFO:nixtla.nixtla_client:Validating inputs...\n",
      "INFO:nixtla.nixtla_client:Validating inputs...\n"
     ]
    },
    {
     "name": "stdout",
     "output_type": "stream",
     "text": [
      "Gagal prediksi Terendah untuk tanggal 2024-10-26: Series contain missing or duplicate timestamps, or the timestamps do not match the provided frequency.\n",
      "Please make sure that all series have a single observation from the first to the last timestamp and that the provided frequency matches the timestamps'.\n",
      "You can refer to https://docs.nixtla.io/docs/tutorials-missing_values for an end to end example.\n",
      "Gagal prediksi Terendah untuk tanggal 2024-10-27: Series contain missing or duplicate timestamps, or the timestamps do not match the provided frequency.\n",
      "Please make sure that all series have a single observation from the first to the last timestamp and that the provided frequency matches the timestamps'.\n",
      "You can refer to https://docs.nixtla.io/docs/tutorials-missing_values for an end to end example.\n",
      "Gagal prediksi Terendah untuk tanggal 2024-10-28: Series contain missing or duplicate timestamps, or the timestamps do not match the provided frequency.\n",
      "Please make sure that all series have a single observation from the first to the last timestamp and that the provided frequency matches the timestamps'.\n",
      "You can refer to https://docs.nixtla.io/docs/tutorials-missing_values for an end to end example.\n",
      "Gagal prediksi Terendah untuk tanggal 2024-10-29: Series contain missing or duplicate timestamps, or the timestamps do not match the provided frequency.\n",
      "Please make sure that all series have a single observation from the first to the last timestamp and that the provided frequency matches the timestamps'.\n",
      "You can refer to https://docs.nixtla.io/docs/tutorials-missing_values for an end to end example.\n",
      "Gagal prediksi Terendah untuk tanggal 2024-10-30: Series contain missing or duplicate timestamps, or the timestamps do not match the provided frequency.\n",
      "Please make sure that all series have a single observation from the first to the last timestamp and that the provided frequency matches the timestamps'.\n",
      "You can refer to https://docs.nixtla.io/docs/tutorials-missing_values for an end to end example.\n",
      "Gagal prediksi Terendah untuk tanggal 2024-10-31: Series contain missing or duplicate timestamps, or the timestamps do not match the provided frequency.\n",
      "Please make sure that all series have a single observation from the first to the last timestamp and that the provided frequency matches the timestamps'.\n",
      "You can refer to https://docs.nixtla.io/docs/tutorials-missing_values for an end to end example.\n",
      "Gagal prediksi Terendah untuk tanggal 2024-11-01: Series contain missing or duplicate timestamps, or the timestamps do not match the provided frequency.\n",
      "Please make sure that all series have a single observation from the first to the last timestamp and that the provided frequency matches the timestamps'.\n",
      "You can refer to https://docs.nixtla.io/docs/tutorials-missing_values for an end to end example.\n",
      "Gagal prediksi Terendah untuk tanggal 2024-11-02: Series contain missing or duplicate timestamps, or the timestamps do not match the provided frequency.\n",
      "Please make sure that all series have a single observation from the first to the last timestamp and that the provided frequency matches the timestamps'.\n",
      "You can refer to https://docs.nixtla.io/docs/tutorials-missing_values for an end to end example.\n",
      "Gagal prediksi Terendah untuk tanggal 2024-11-03: Series contain missing or duplicate timestamps, or the timestamps do not match the provided frequency.\n",
      "Please make sure that all series have a single observation from the first to the last timestamp and that the provided frequency matches the timestamps'.\n",
      "You can refer to https://docs.nixtla.io/docs/tutorials-missing_values for an end to end example.\n"
     ]
    },
    {
     "name": "stderr",
     "output_type": "stream",
     "text": [
      "INFO:nixtla.nixtla_client:Validating inputs...\n",
      "INFO:nixtla.nixtla_client:Validating inputs...\n",
      "INFO:nixtla.nixtla_client:Validating inputs...\n",
      "INFO:nixtla.nixtla_client:Validating inputs...\n",
      "INFO:nixtla.nixtla_client:Validating inputs...\n",
      "INFO:nixtla.nixtla_client:Validating inputs...\n",
      "INFO:nixtla.nixtla_client:Validating inputs...\n",
      "INFO:nixtla.nixtla_client:Validating inputs...\n",
      "INFO:nixtla.nixtla_client:Validating inputs...\n",
      "INFO:nixtla.nixtla_client:Validating inputs...\n"
     ]
    },
    {
     "name": "stdout",
     "output_type": "stream",
     "text": [
      "Gagal prediksi Terendah untuk tanggal 2024-11-04: Series contain missing or duplicate timestamps, or the timestamps do not match the provided frequency.\n",
      "Please make sure that all series have a single observation from the first to the last timestamp and that the provided frequency matches the timestamps'.\n",
      "You can refer to https://docs.nixtla.io/docs/tutorials-missing_values for an end to end example.\n",
      "Gagal prediksi Terendah untuk tanggal 2024-11-05: Series contain missing or duplicate timestamps, or the timestamps do not match the provided frequency.\n",
      "Please make sure that all series have a single observation from the first to the last timestamp and that the provided frequency matches the timestamps'.\n",
      "You can refer to https://docs.nixtla.io/docs/tutorials-missing_values for an end to end example.\n",
      "Gagal prediksi Terendah untuk tanggal 2024-11-06: Series contain missing or duplicate timestamps, or the timestamps do not match the provided frequency.\n",
      "Please make sure that all series have a single observation from the first to the last timestamp and that the provided frequency matches the timestamps'.\n",
      "You can refer to https://docs.nixtla.io/docs/tutorials-missing_values for an end to end example.\n",
      "Gagal prediksi Terendah untuk tanggal 2024-11-07: Series contain missing or duplicate timestamps, or the timestamps do not match the provided frequency.\n",
      "Please make sure that all series have a single observation from the first to the last timestamp and that the provided frequency matches the timestamps'.\n",
      "You can refer to https://docs.nixtla.io/docs/tutorials-missing_values for an end to end example.\n",
      "Gagal prediksi Terendah untuk tanggal 2024-11-08: Series contain missing or duplicate timestamps, or the timestamps do not match the provided frequency.\n",
      "Please make sure that all series have a single observation from the first to the last timestamp and that the provided frequency matches the timestamps'.\n",
      "You can refer to https://docs.nixtla.io/docs/tutorials-missing_values for an end to end example.\n",
      "Gagal prediksi Terendah untuk tanggal 2024-11-09: Series contain missing or duplicate timestamps, or the timestamps do not match the provided frequency.\n",
      "Please make sure that all series have a single observation from the first to the last timestamp and that the provided frequency matches the timestamps'.\n",
      "You can refer to https://docs.nixtla.io/docs/tutorials-missing_values for an end to end example.\n",
      "Gagal prediksi Terendah untuk tanggal 2024-11-10: Series contain missing or duplicate timestamps, or the timestamps do not match the provided frequency.\n",
      "Please make sure that all series have a single observation from the first to the last timestamp and that the provided frequency matches the timestamps'.\n",
      "You can refer to https://docs.nixtla.io/docs/tutorials-missing_values for an end to end example.\n",
      "Gagal prediksi Terendah untuk tanggal 2024-11-11: Series contain missing or duplicate timestamps, or the timestamps do not match the provided frequency.\n",
      "Please make sure that all series have a single observation from the first to the last timestamp and that the provided frequency matches the timestamps'.\n",
      "You can refer to https://docs.nixtla.io/docs/tutorials-missing_values for an end to end example.\n",
      "Gagal prediksi Terendah untuk tanggal 2024-11-12: Series contain missing or duplicate timestamps, or the timestamps do not match the provided frequency.\n",
      "Please make sure that all series have a single observation from the first to the last timestamp and that the provided frequency matches the timestamps'.\n",
      "You can refer to https://docs.nixtla.io/docs/tutorials-missing_values for an end to end example.\n",
      "Gagal prediksi Terendah untuk tanggal 2024-11-13: Series contain missing or duplicate timestamps, or the timestamps do not match the provided frequency.\n",
      "Please make sure that all series have a single observation from the first to the last timestamp and that the provided frequency matches the timestamps'.\n",
      "You can refer to https://docs.nixtla.io/docs/tutorials-missing_values for an end to end example.\n"
     ]
    },
    {
     "name": "stderr",
     "output_type": "stream",
     "text": [
      "INFO:nixtla.nixtla_client:Validating inputs...\n",
      "INFO:nixtla.nixtla_client:Validating inputs...\n",
      "INFO:nixtla.nixtla_client:Validating inputs...\n",
      "INFO:nixtla.nixtla_client:Validating inputs...\n",
      "INFO:nixtla.nixtla_client:Validating inputs...\n",
      "INFO:nixtla.nixtla_client:Validating inputs...\n",
      "INFO:nixtla.nixtla_client:Validating inputs...\n",
      "INFO:nixtla.nixtla_client:Validating inputs...\n",
      "INFO:nixtla.nixtla_client:Validating inputs...\n",
      "INFO:nixtla.nixtla_client:Validating inputs...\n"
     ]
    },
    {
     "name": "stdout",
     "output_type": "stream",
     "text": [
      "Gagal prediksi Terendah untuk tanggal 2024-11-14: Series contain missing or duplicate timestamps, or the timestamps do not match the provided frequency.\n",
      "Please make sure that all series have a single observation from the first to the last timestamp and that the provided frequency matches the timestamps'.\n",
      "You can refer to https://docs.nixtla.io/docs/tutorials-missing_values for an end to end example.\n",
      "Gagal prediksi Terendah untuk tanggal 2024-11-15: Series contain missing or duplicate timestamps, or the timestamps do not match the provided frequency.\n",
      "Please make sure that all series have a single observation from the first to the last timestamp and that the provided frequency matches the timestamps'.\n",
      "You can refer to https://docs.nixtla.io/docs/tutorials-missing_values for an end to end example.\n",
      "Gagal prediksi Terendah untuk tanggal 2024-11-16: Series contain missing or duplicate timestamps, or the timestamps do not match the provided frequency.\n",
      "Please make sure that all series have a single observation from the first to the last timestamp and that the provided frequency matches the timestamps'.\n",
      "You can refer to https://docs.nixtla.io/docs/tutorials-missing_values for an end to end example.\n",
      "Gagal prediksi Terendah untuk tanggal 2024-11-17: Series contain missing or duplicate timestamps, or the timestamps do not match the provided frequency.\n",
      "Please make sure that all series have a single observation from the first to the last timestamp and that the provided frequency matches the timestamps'.\n",
      "You can refer to https://docs.nixtla.io/docs/tutorials-missing_values for an end to end example.\n",
      "Gagal prediksi Terendah untuk tanggal 2024-11-18: Series contain missing or duplicate timestamps, or the timestamps do not match the provided frequency.\n",
      "Please make sure that all series have a single observation from the first to the last timestamp and that the provided frequency matches the timestamps'.\n",
      "You can refer to https://docs.nixtla.io/docs/tutorials-missing_values for an end to end example.\n",
      "Gagal prediksi Terendah untuk tanggal 2024-11-19: Series contain missing or duplicate timestamps, or the timestamps do not match the provided frequency.\n",
      "Please make sure that all series have a single observation from the first to the last timestamp and that the provided frequency matches the timestamps'.\n",
      "You can refer to https://docs.nixtla.io/docs/tutorials-missing_values for an end to end example.\n",
      "Gagal prediksi Terendah untuk tanggal 2024-11-20: Series contain missing or duplicate timestamps, or the timestamps do not match the provided frequency.\n",
      "Please make sure that all series have a single observation from the first to the last timestamp and that the provided frequency matches the timestamps'.\n",
      "You can refer to https://docs.nixtla.io/docs/tutorials-missing_values for an end to end example.\n",
      "Gagal prediksi Terendah untuk tanggal 2024-11-21: Series contain missing or duplicate timestamps, or the timestamps do not match the provided frequency.\n",
      "Please make sure that all series have a single observation from the first to the last timestamp and that the provided frequency matches the timestamps'.\n",
      "You can refer to https://docs.nixtla.io/docs/tutorials-missing_values for an end to end example.\n",
      "Gagal prediksi Terendah untuk tanggal 2024-11-22: Series contain missing or duplicate timestamps, or the timestamps do not match the provided frequency.\n",
      "Please make sure that all series have a single observation from the first to the last timestamp and that the provided frequency matches the timestamps'.\n",
      "You can refer to https://docs.nixtla.io/docs/tutorials-missing_values for an end to end example.\n",
      "Gagal prediksi Terendah untuk tanggal 2024-11-23: Series contain missing or duplicate timestamps, or the timestamps do not match the provided frequency.\n",
      "Please make sure that all series have a single observation from the first to the last timestamp and that the provided frequency matches the timestamps'.\n",
      "You can refer to https://docs.nixtla.io/docs/tutorials-missing_values for an end to end example.\n",
      "Gagal prediksi Terendah untuk tanggal 2024-11-24: Series contain missing or duplicate timestamps, or the timestamps do not match the provided frequency.\n",
      "Please make sure that all series have a single observation from the first to the last timestamp and that the provided frequency matches the timestamps'.\n",
      "You can refer to https://docs.nixtla.io/docs/tutorials-missing_values for an end to end example.\n"
     ]
    },
    {
     "name": "stderr",
     "output_type": "stream",
     "text": [
      "INFO:nixtla.nixtla_client:Validating inputs...\n",
      "INFO:nixtla.nixtla_client:Validating inputs...\n",
      "INFO:nixtla.nixtla_client:Validating inputs...\n",
      "INFO:nixtla.nixtla_client:Validating inputs...\n",
      "INFO:nixtla.nixtla_client:Validating inputs...\n",
      "INFO:nixtla.nixtla_client:Validating inputs...\n",
      "INFO:nixtla.nixtla_client:Validating inputs...\n",
      "INFO:nixtla.nixtla_client:Validating inputs...\n",
      "INFO:nixtla.nixtla_client:Validating inputs...\n",
      "INFO:nixtla.nixtla_client:Validating inputs...\n"
     ]
    },
    {
     "name": "stdout",
     "output_type": "stream",
     "text": [
      "Gagal prediksi Terendah untuk tanggal 2024-11-25: Series contain missing or duplicate timestamps, or the timestamps do not match the provided frequency.\n",
      "Please make sure that all series have a single observation from the first to the last timestamp and that the provided frequency matches the timestamps'.\n",
      "You can refer to https://docs.nixtla.io/docs/tutorials-missing_values for an end to end example.\n",
      "Gagal prediksi Terendah untuk tanggal 2024-11-26: Series contain missing or duplicate timestamps, or the timestamps do not match the provided frequency.\n",
      "Please make sure that all series have a single observation from the first to the last timestamp and that the provided frequency matches the timestamps'.\n",
      "You can refer to https://docs.nixtla.io/docs/tutorials-missing_values for an end to end example.\n",
      "Gagal prediksi Terendah untuk tanggal 2024-11-27: Series contain missing or duplicate timestamps, or the timestamps do not match the provided frequency.\n",
      "Please make sure that all series have a single observation from the first to the last timestamp and that the provided frequency matches the timestamps'.\n",
      "You can refer to https://docs.nixtla.io/docs/tutorials-missing_values for an end to end example.\n",
      "Gagal prediksi Terendah untuk tanggal 2024-11-28: Series contain missing or duplicate timestamps, or the timestamps do not match the provided frequency.\n",
      "Please make sure that all series have a single observation from the first to the last timestamp and that the provided frequency matches the timestamps'.\n",
      "You can refer to https://docs.nixtla.io/docs/tutorials-missing_values for an end to end example.\n",
      "Gagal prediksi Terendah untuk tanggal 2024-11-29: Series contain missing or duplicate timestamps, or the timestamps do not match the provided frequency.\n",
      "Please make sure that all series have a single observation from the first to the last timestamp and that the provided frequency matches the timestamps'.\n",
      "You can refer to https://docs.nixtla.io/docs/tutorials-missing_values for an end to end example.\n",
      "Gagal prediksi Terendah untuk tanggal 2024-11-30: Series contain missing or duplicate timestamps, or the timestamps do not match the provided frequency.\n",
      "Please make sure that all series have a single observation from the first to the last timestamp and that the provided frequency matches the timestamps'.\n",
      "You can refer to https://docs.nixtla.io/docs/tutorials-missing_values for an end to end example.\n",
      "Gagal prediksi Terendah untuk tanggal 2024-12-01: Series contain missing or duplicate timestamps, or the timestamps do not match the provided frequency.\n",
      "Please make sure that all series have a single observation from the first to the last timestamp and that the provided frequency matches the timestamps'.\n",
      "You can refer to https://docs.nixtla.io/docs/tutorials-missing_values for an end to end example.\n",
      "Gagal prediksi Terendah untuk tanggal 2024-12-02: Series contain missing or duplicate timestamps, or the timestamps do not match the provided frequency.\n",
      "Please make sure that all series have a single observation from the first to the last timestamp and that the provided frequency matches the timestamps'.\n",
      "You can refer to https://docs.nixtla.io/docs/tutorials-missing_values for an end to end example.\n",
      "Gagal prediksi Terendah untuk tanggal 2024-12-03: Series contain missing or duplicate timestamps, or the timestamps do not match the provided frequency.\n",
      "Please make sure that all series have a single observation from the first to the last timestamp and that the provided frequency matches the timestamps'.\n",
      "You can refer to https://docs.nixtla.io/docs/tutorials-missing_values for an end to end example.\n"
     ]
    },
    {
     "name": "stderr",
     "output_type": "stream",
     "text": [
      "INFO:nixtla.nixtla_client:Validating inputs...\n",
      "INFO:nixtla.nixtla_client:Validating inputs...\n",
      "INFO:nixtla.nixtla_client:Validating inputs...\n",
      "INFO:nixtla.nixtla_client:Validating inputs...\n",
      "INFO:nixtla.nixtla_client:Validating inputs...\n",
      "INFO:nixtla.nixtla_client:Validating inputs...\n",
      "INFO:nixtla.nixtla_client:Validating inputs...\n",
      "INFO:nixtla.nixtla_client:Validating inputs...\n",
      "INFO:nixtla.nixtla_client:Validating inputs...\n",
      "INFO:nixtla.nixtla_client:Validating inputs...\n",
      "INFO:nixtla.nixtla_client:Validating inputs...\n"
     ]
    },
    {
     "name": "stdout",
     "output_type": "stream",
     "text": [
      "Gagal prediksi Terendah untuk tanggal 2024-12-04: Series contain missing or duplicate timestamps, or the timestamps do not match the provided frequency.\n",
      "Please make sure that all series have a single observation from the first to the last timestamp and that the provided frequency matches the timestamps'.\n",
      "You can refer to https://docs.nixtla.io/docs/tutorials-missing_values for an end to end example.\n",
      "Gagal prediksi Terendah untuk tanggal 2024-12-05: Series contain missing or duplicate timestamps, or the timestamps do not match the provided frequency.\n",
      "Please make sure that all series have a single observation from the first to the last timestamp and that the provided frequency matches the timestamps'.\n",
      "You can refer to https://docs.nixtla.io/docs/tutorials-missing_values for an end to end example.\n",
      "Gagal prediksi Terendah untuk tanggal 2024-12-06: Series contain missing or duplicate timestamps, or the timestamps do not match the provided frequency.\n",
      "Please make sure that all series have a single observation from the first to the last timestamp and that the provided frequency matches the timestamps'.\n",
      "You can refer to https://docs.nixtla.io/docs/tutorials-missing_values for an end to end example.\n",
      "Gagal prediksi Terendah untuk tanggal 2024-12-07: Series contain missing or duplicate timestamps, or the timestamps do not match the provided frequency.\n",
      "Please make sure that all series have a single observation from the first to the last timestamp and that the provided frequency matches the timestamps'.\n",
      "You can refer to https://docs.nixtla.io/docs/tutorials-missing_values for an end to end example.\n",
      "Gagal prediksi Terendah untuk tanggal 2024-12-08: Series contain missing or duplicate timestamps, or the timestamps do not match the provided frequency.\n",
      "Please make sure that all series have a single observation from the first to the last timestamp and that the provided frequency matches the timestamps'.\n",
      "You can refer to https://docs.nixtla.io/docs/tutorials-missing_values for an end to end example.\n",
      "Gagal prediksi Terendah untuk tanggal 2024-12-09: Series contain missing or duplicate timestamps, or the timestamps do not match the provided frequency.\n",
      "Please make sure that all series have a single observation from the first to the last timestamp and that the provided frequency matches the timestamps'.\n",
      "You can refer to https://docs.nixtla.io/docs/tutorials-missing_values for an end to end example.\n",
      "Gagal prediksi Terendah untuk tanggal 2024-12-10: Series contain missing or duplicate timestamps, or the timestamps do not match the provided frequency.\n",
      "Please make sure that all series have a single observation from the first to the last timestamp and that the provided frequency matches the timestamps'.\n",
      "You can refer to https://docs.nixtla.io/docs/tutorials-missing_values for an end to end example.\n",
      "Gagal prediksi Terendah untuk tanggal 2024-12-11: Series contain missing or duplicate timestamps, or the timestamps do not match the provided frequency.\n",
      "Please make sure that all series have a single observation from the first to the last timestamp and that the provided frequency matches the timestamps'.\n",
      "You can refer to https://docs.nixtla.io/docs/tutorials-missing_values for an end to end example.\n",
      "Gagal prediksi Terendah untuk tanggal 2024-12-12: Series contain missing or duplicate timestamps, or the timestamps do not match the provided frequency.\n",
      "Please make sure that all series have a single observation from the first to the last timestamp and that the provided frequency matches the timestamps'.\n",
      "You can refer to https://docs.nixtla.io/docs/tutorials-missing_values for an end to end example.\n",
      "Gagal prediksi Terendah untuk tanggal 2024-12-13: Series contain missing or duplicate timestamps, or the timestamps do not match the provided frequency.\n",
      "Please make sure that all series have a single observation from the first to the last timestamp and that the provided frequency matches the timestamps'.\n",
      "You can refer to https://docs.nixtla.io/docs/tutorials-missing_values for an end to end example.\n",
      "Gagal prediksi Terendah untuk tanggal 2024-12-14: Series contain missing or duplicate timestamps, or the timestamps do not match the provided frequency.\n",
      "Please make sure that all series have a single observation from the first to the last timestamp and that the provided frequency matches the timestamps'.\n",
      "You can refer to https://docs.nixtla.io/docs/tutorials-missing_values for an end to end example.\n"
     ]
    },
    {
     "name": "stderr",
     "output_type": "stream",
     "text": [
      "INFO:nixtla.nixtla_client:Validating inputs...\n",
      "INFO:nixtla.nixtla_client:Validating inputs...\n",
      "INFO:nixtla.nixtla_client:Validating inputs...\n",
      "INFO:nixtla.nixtla_client:Validating inputs...\n",
      "INFO:nixtla.nixtla_client:Validating inputs...\n",
      "INFO:nixtla.nixtla_client:Validating inputs...\n",
      "INFO:nixtla.nixtla_client:Validating inputs...\n",
      "INFO:nixtla.nixtla_client:Validating inputs...\n",
      "INFO:nixtla.nixtla_client:Validating inputs...\n",
      "INFO:nixtla.nixtla_client:Validating inputs...\n"
     ]
    },
    {
     "name": "stdout",
     "output_type": "stream",
     "text": [
      "Gagal prediksi Terendah untuk tanggal 2024-12-15: Series contain missing or duplicate timestamps, or the timestamps do not match the provided frequency.\n",
      "Please make sure that all series have a single observation from the first to the last timestamp and that the provided frequency matches the timestamps'.\n",
      "You can refer to https://docs.nixtla.io/docs/tutorials-missing_values for an end to end example.\n",
      "Gagal prediksi Terendah untuk tanggal 2024-12-16: Series contain missing or duplicate timestamps, or the timestamps do not match the provided frequency.\n",
      "Please make sure that all series have a single observation from the first to the last timestamp and that the provided frequency matches the timestamps'.\n",
      "You can refer to https://docs.nixtla.io/docs/tutorials-missing_values for an end to end example.\n",
      "Gagal prediksi Terendah untuk tanggal 2024-12-17: Series contain missing or duplicate timestamps, or the timestamps do not match the provided frequency.\n",
      "Please make sure that all series have a single observation from the first to the last timestamp and that the provided frequency matches the timestamps'.\n",
      "You can refer to https://docs.nixtla.io/docs/tutorials-missing_values for an end to end example.\n",
      "Gagal prediksi Terendah untuk tanggal 2024-12-18: Series contain missing or duplicate timestamps, or the timestamps do not match the provided frequency.\n",
      "Please make sure that all series have a single observation from the first to the last timestamp and that the provided frequency matches the timestamps'.\n",
      "You can refer to https://docs.nixtla.io/docs/tutorials-missing_values for an end to end example.\n",
      "Gagal prediksi Terendah untuk tanggal 2024-12-19: Series contain missing or duplicate timestamps, or the timestamps do not match the provided frequency.\n",
      "Please make sure that all series have a single observation from the first to the last timestamp and that the provided frequency matches the timestamps'.\n",
      "You can refer to https://docs.nixtla.io/docs/tutorials-missing_values for an end to end example.\n",
      "Gagal prediksi Terendah untuk tanggal 2024-12-20: Series contain missing or duplicate timestamps, or the timestamps do not match the provided frequency.\n",
      "Please make sure that all series have a single observation from the first to the last timestamp and that the provided frequency matches the timestamps'.\n",
      "You can refer to https://docs.nixtla.io/docs/tutorials-missing_values for an end to end example.\n",
      "Gagal prediksi Terendah untuk tanggal 2024-12-21: Series contain missing or duplicate timestamps, or the timestamps do not match the provided frequency.\n",
      "Please make sure that all series have a single observation from the first to the last timestamp and that the provided frequency matches the timestamps'.\n",
      "You can refer to https://docs.nixtla.io/docs/tutorials-missing_values for an end to end example.\n",
      "Gagal prediksi Terendah untuk tanggal 2024-12-22: Series contain missing or duplicate timestamps, or the timestamps do not match the provided frequency.\n",
      "Please make sure that all series have a single observation from the first to the last timestamp and that the provided frequency matches the timestamps'.\n",
      "You can refer to https://docs.nixtla.io/docs/tutorials-missing_values for an end to end example.\n",
      "Gagal prediksi Terendah untuk tanggal 2024-12-23: Series contain missing or duplicate timestamps, or the timestamps do not match the provided frequency.\n",
      "Please make sure that all series have a single observation from the first to the last timestamp and that the provided frequency matches the timestamps'.\n",
      "You can refer to https://docs.nixtla.io/docs/tutorials-missing_values for an end to end example.\n",
      "Gagal prediksi Terendah untuk tanggal 2024-12-24: Series contain missing or duplicate timestamps, or the timestamps do not match the provided frequency.\n",
      "Please make sure that all series have a single observation from the first to the last timestamp and that the provided frequency matches the timestamps'.\n",
      "You can refer to https://docs.nixtla.io/docs/tutorials-missing_values for an end to end example.\n",
      "Gagal prediksi Terendah untuk tanggal 2024-12-25: Series contain missing or duplicate timestamps, or the timestamps do not match the provided frequency.\n",
      "Please make sure that all series have a single observation from the first to the last timestamp and that the provided frequency matches the timestamps'.\n",
      "You can refer to https://docs.nixtla.io/docs/tutorials-missing_values for an end to end example.\n"
     ]
    },
    {
     "name": "stderr",
     "output_type": "stream",
     "text": [
      "INFO:nixtla.nixtla_client:Validating inputs...\n",
      "INFO:nixtla.nixtla_client:Validating inputs...\n",
      "INFO:nixtla.nixtla_client:Validating inputs...\n",
      "INFO:nixtla.nixtla_client:Validating inputs...\n",
      "INFO:nixtla.nixtla_client:Validating inputs...\n",
      "INFO:nixtla.nixtla_client:Validating inputs...\n",
      "INFO:nixtla.nixtla_client:Validating inputs...\n",
      "INFO:nixtla.nixtla_client:Validating inputs...\n",
      "INFO:nixtla.nixtla_client:Validating inputs...\n"
     ]
    },
    {
     "name": "stdout",
     "output_type": "stream",
     "text": [
      "Gagal prediksi Terendah untuk tanggal 2024-12-26: Series contain missing or duplicate timestamps, or the timestamps do not match the provided frequency.\n",
      "Please make sure that all series have a single observation from the first to the last timestamp and that the provided frequency matches the timestamps'.\n",
      "You can refer to https://docs.nixtla.io/docs/tutorials-missing_values for an end to end example.\n",
      "Gagal prediksi Terendah untuk tanggal 2024-12-27: Series contain missing or duplicate timestamps, or the timestamps do not match the provided frequency.\n",
      "Please make sure that all series have a single observation from the first to the last timestamp and that the provided frequency matches the timestamps'.\n",
      "You can refer to https://docs.nixtla.io/docs/tutorials-missing_values for an end to end example.\n",
      "Gagal prediksi Terendah untuk tanggal 2024-12-28: Series contain missing or duplicate timestamps, or the timestamps do not match the provided frequency.\n",
      "Please make sure that all series have a single observation from the first to the last timestamp and that the provided frequency matches the timestamps'.\n",
      "You can refer to https://docs.nixtla.io/docs/tutorials-missing_values for an end to end example.\n",
      "Gagal prediksi Terendah untuk tanggal 2024-12-29: Series contain missing or duplicate timestamps, or the timestamps do not match the provided frequency.\n",
      "Please make sure that all series have a single observation from the first to the last timestamp and that the provided frequency matches the timestamps'.\n",
      "You can refer to https://docs.nixtla.io/docs/tutorials-missing_values for an end to end example.\n",
      "Gagal prediksi Terendah untuk tanggal 2024-12-30: Series contain missing or duplicate timestamps, or the timestamps do not match the provided frequency.\n",
      "Please make sure that all series have a single observation from the first to the last timestamp and that the provided frequency matches the timestamps'.\n",
      "You can refer to https://docs.nixtla.io/docs/tutorials-missing_values for an end to end example.\n",
      "Gagal prediksi Terendah untuk tanggal 2024-12-31: Series contain missing or duplicate timestamps, or the timestamps do not match the provided frequency.\n",
      "Please make sure that all series have a single observation from the first to the last timestamp and that the provided frequency matches the timestamps'.\n",
      "You can refer to https://docs.nixtla.io/docs/tutorials-missing_values for an end to end example.\n",
      "Gagal prediksi Terendah untuk tanggal 2025-01-01: Series contain missing or duplicate timestamps, or the timestamps do not match the provided frequency.\n",
      "Please make sure that all series have a single observation from the first to the last timestamp and that the provided frequency matches the timestamps'.\n",
      "You can refer to https://docs.nixtla.io/docs/tutorials-missing_values for an end to end example.\n",
      "Gagal prediksi Terendah untuk tanggal 2025-01-02: Series contain missing or duplicate timestamps, or the timestamps do not match the provided frequency.\n",
      "Please make sure that all series have a single observation from the first to the last timestamp and that the provided frequency matches the timestamps'.\n",
      "You can refer to https://docs.nixtla.io/docs/tutorials-missing_values for an end to end example.\n",
      "Gagal prediksi Terendah untuk tanggal 2025-01-03: Series contain missing or duplicate timestamps, or the timestamps do not match the provided frequency.\n",
      "Please make sure that all series have a single observation from the first to the last timestamp and that the provided frequency matches the timestamps'.\n",
      "You can refer to https://docs.nixtla.io/docs/tutorials-missing_values for an end to end example.\n"
     ]
    },
    {
     "name": "stderr",
     "output_type": "stream",
     "text": [
      "INFO:nixtla.nixtla_client:Validating inputs...\n",
      "INFO:nixtla.nixtla_client:Validating inputs...\n",
      "INFO:nixtla.nixtla_client:Validating inputs...\n",
      "INFO:nixtla.nixtla_client:Validating inputs...\n",
      "INFO:nixtla.nixtla_client:Validating inputs...\n",
      "INFO:nixtla.nixtla_client:Validating inputs...\n",
      "INFO:nixtla.nixtla_client:Validating inputs...\n",
      "INFO:nixtla.nixtla_client:Validating inputs...\n",
      "INFO:nixtla.nixtla_client:Validating inputs...\n",
      "INFO:nixtla.nixtla_client:Validating inputs...\n",
      "INFO:nixtla.nixtla_client:Validating inputs...\n",
      "INFO:nixtla.nixtla_client:Validating inputs...\n"
     ]
    },
    {
     "name": "stdout",
     "output_type": "stream",
     "text": [
      "Gagal prediksi Terendah untuk tanggal 2025-01-04: Series contain missing or duplicate timestamps, or the timestamps do not match the provided frequency.\n",
      "Please make sure that all series have a single observation from the first to the last timestamp and that the provided frequency matches the timestamps'.\n",
      "You can refer to https://docs.nixtla.io/docs/tutorials-missing_values for an end to end example.\n",
      "Gagal prediksi Terendah untuk tanggal 2025-01-05: Series contain missing or duplicate timestamps, or the timestamps do not match the provided frequency.\n",
      "Please make sure that all series have a single observation from the first to the last timestamp and that the provided frequency matches the timestamps'.\n",
      "You can refer to https://docs.nixtla.io/docs/tutorials-missing_values for an end to end example.\n",
      "Gagal prediksi Terendah untuk tanggal 2025-01-06: Series contain missing or duplicate timestamps, or the timestamps do not match the provided frequency.\n",
      "Please make sure that all series have a single observation from the first to the last timestamp and that the provided frequency matches the timestamps'.\n",
      "You can refer to https://docs.nixtla.io/docs/tutorials-missing_values for an end to end example.\n",
      "Gagal prediksi Terendah untuk tanggal 2025-01-07: Series contain missing or duplicate timestamps, or the timestamps do not match the provided frequency.\n",
      "Please make sure that all series have a single observation from the first to the last timestamp and that the provided frequency matches the timestamps'.\n",
      "You can refer to https://docs.nixtla.io/docs/tutorials-missing_values for an end to end example.\n",
      "Gagal prediksi Terendah untuk tanggal 2025-01-08: Series contain missing or duplicate timestamps, or the timestamps do not match the provided frequency.\n",
      "Please make sure that all series have a single observation from the first to the last timestamp and that the provided frequency matches the timestamps'.\n",
      "You can refer to https://docs.nixtla.io/docs/tutorials-missing_values for an end to end example.\n",
      "Gagal prediksi Terendah untuk tanggal 2025-01-09: Series contain missing or duplicate timestamps, or the timestamps do not match the provided frequency.\n",
      "Please make sure that all series have a single observation from the first to the last timestamp and that the provided frequency matches the timestamps'.\n",
      "You can refer to https://docs.nixtla.io/docs/tutorials-missing_values for an end to end example.\n",
      "Gagal prediksi Terendah untuk tanggal 2025-01-10: Series contain missing or duplicate timestamps, or the timestamps do not match the provided frequency.\n",
      "Please make sure that all series have a single observation from the first to the last timestamp and that the provided frequency matches the timestamps'.\n",
      "You can refer to https://docs.nixtla.io/docs/tutorials-missing_values for an end to end example.\n",
      "Gagal prediksi Terendah untuk tanggal 2025-01-11: Series contain missing or duplicate timestamps, or the timestamps do not match the provided frequency.\n",
      "Please make sure that all series have a single observation from the first to the last timestamp and that the provided frequency matches the timestamps'.\n",
      "You can refer to https://docs.nixtla.io/docs/tutorials-missing_values for an end to end example.\n",
      "Gagal prediksi Terendah untuk tanggal 2025-01-12: Series contain missing or duplicate timestamps, or the timestamps do not match the provided frequency.\n",
      "Please make sure that all series have a single observation from the first to the last timestamp and that the provided frequency matches the timestamps'.\n",
      "You can refer to https://docs.nixtla.io/docs/tutorials-missing_values for an end to end example.\n",
      "Gagal prediksi Terendah untuk tanggal 2025-01-13: Series contain missing or duplicate timestamps, or the timestamps do not match the provided frequency.\n",
      "Please make sure that all series have a single observation from the first to the last timestamp and that the provided frequency matches the timestamps'.\n",
      "You can refer to https://docs.nixtla.io/docs/tutorials-missing_values for an end to end example.\n",
      "Gagal prediksi Terendah untuk tanggal 2025-01-14: Series contain missing or duplicate timestamps, or the timestamps do not match the provided frequency.\n",
      "Please make sure that all series have a single observation from the first to the last timestamp and that the provided frequency matches the timestamps'.\n",
      "You can refer to https://docs.nixtla.io/docs/tutorials-missing_values for an end to end example.\n"
     ]
    },
    {
     "name": "stderr",
     "output_type": "stream",
     "text": [
      "INFO:nixtla.nixtla_client:Validating inputs...\n",
      "INFO:nixtla.nixtla_client:Validating inputs...\n",
      "INFO:nixtla.nixtla_client:Validating inputs...\n",
      "INFO:nixtla.nixtla_client:Validating inputs...\n",
      "INFO:nixtla.nixtla_client:Validating inputs...\n",
      "INFO:nixtla.nixtla_client:Validating inputs...\n",
      "INFO:nixtla.nixtla_client:Validating inputs...\n",
      "INFO:nixtla.nixtla_client:Validating inputs...\n",
      "INFO:nixtla.nixtla_client:Validating inputs...\n",
      "INFO:nixtla.nixtla_client:Validating inputs...\n",
      "INFO:nixtla.nixtla_client:Validating inputs...\n"
     ]
    },
    {
     "name": "stdout",
     "output_type": "stream",
     "text": [
      "Gagal prediksi Terendah untuk tanggal 2025-01-15: Series contain missing or duplicate timestamps, or the timestamps do not match the provided frequency.\n",
      "Please make sure that all series have a single observation from the first to the last timestamp and that the provided frequency matches the timestamps'.\n",
      "You can refer to https://docs.nixtla.io/docs/tutorials-missing_values for an end to end example.\n",
      "Gagal prediksi Terendah untuk tanggal 2025-01-16: Series contain missing or duplicate timestamps, or the timestamps do not match the provided frequency.\n",
      "Please make sure that all series have a single observation from the first to the last timestamp and that the provided frequency matches the timestamps'.\n",
      "You can refer to https://docs.nixtla.io/docs/tutorials-missing_values for an end to end example.\n",
      "Gagal prediksi Terendah untuk tanggal 2025-01-17: Series contain missing or duplicate timestamps, or the timestamps do not match the provided frequency.\n",
      "Please make sure that all series have a single observation from the first to the last timestamp and that the provided frequency matches the timestamps'.\n",
      "You can refer to https://docs.nixtla.io/docs/tutorials-missing_values for an end to end example.\n",
      "Gagal prediksi Terendah untuk tanggal 2025-01-18: Series contain missing or duplicate timestamps, or the timestamps do not match the provided frequency.\n",
      "Please make sure that all series have a single observation from the first to the last timestamp and that the provided frequency matches the timestamps'.\n",
      "You can refer to https://docs.nixtla.io/docs/tutorials-missing_values for an end to end example.\n",
      "Gagal prediksi Terendah untuk tanggal 2025-01-19: Series contain missing or duplicate timestamps, or the timestamps do not match the provided frequency.\n",
      "Please make sure that all series have a single observation from the first to the last timestamp and that the provided frequency matches the timestamps'.\n",
      "You can refer to https://docs.nixtla.io/docs/tutorials-missing_values for an end to end example.\n",
      "Gagal prediksi Terendah untuk tanggal 2025-01-20: Series contain missing or duplicate timestamps, or the timestamps do not match the provided frequency.\n",
      "Please make sure that all series have a single observation from the first to the last timestamp and that the provided frequency matches the timestamps'.\n",
      "You can refer to https://docs.nixtla.io/docs/tutorials-missing_values for an end to end example.\n",
      "Gagal prediksi Terendah untuk tanggal 2025-01-21: Series contain missing or duplicate timestamps, or the timestamps do not match the provided frequency.\n",
      "Please make sure that all series have a single observation from the first to the last timestamp and that the provided frequency matches the timestamps'.\n",
      "You can refer to https://docs.nixtla.io/docs/tutorials-missing_values for an end to end example.\n",
      "Gagal prediksi Terendah untuk tanggal 2025-01-22: Series contain missing or duplicate timestamps, or the timestamps do not match the provided frequency.\n",
      "Please make sure that all series have a single observation from the first to the last timestamp and that the provided frequency matches the timestamps'.\n",
      "You can refer to https://docs.nixtla.io/docs/tutorials-missing_values for an end to end example.\n",
      "Gagal prediksi Terendah untuk tanggal 2025-01-23: Series contain missing or duplicate timestamps, or the timestamps do not match the provided frequency.\n",
      "Please make sure that all series have a single observation from the first to the last timestamp and that the provided frequency matches the timestamps'.\n",
      "You can refer to https://docs.nixtla.io/docs/tutorials-missing_values for an end to end example.\n",
      "Gagal prediksi Terendah untuk tanggal 2025-01-24: Series contain missing or duplicate timestamps, or the timestamps do not match the provided frequency.\n",
      "Please make sure that all series have a single observation from the first to the last timestamp and that the provided frequency matches the timestamps'.\n",
      "You can refer to https://docs.nixtla.io/docs/tutorials-missing_values for an end to end example.\n",
      "Gagal prediksi Terendah untuk tanggal 2025-01-25: Series contain missing or duplicate timestamps, or the timestamps do not match the provided frequency.\n",
      "Please make sure that all series have a single observation from the first to the last timestamp and that the provided frequency matches the timestamps'.\n",
      "You can refer to https://docs.nixtla.io/docs/tutorials-missing_values for an end to end example.\n"
     ]
    },
    {
     "name": "stderr",
     "output_type": "stream",
     "text": [
      "INFO:nixtla.nixtla_client:Validating inputs...\n",
      "INFO:nixtla.nixtla_client:Validating inputs...\n",
      "INFO:nixtla.nixtla_client:Validating inputs...\n",
      "INFO:nixtla.nixtla_client:Validating inputs...\n",
      "INFO:nixtla.nixtla_client:Validating inputs...\n"
     ]
    },
    {
     "name": "stdout",
     "output_type": "stream",
     "text": [
      "Gagal prediksi Terendah untuk tanggal 2025-01-26: Series contain missing or duplicate timestamps, or the timestamps do not match the provided frequency.\n",
      "Please make sure that all series have a single observation from the first to the last timestamp and that the provided frequency matches the timestamps'.\n",
      "You can refer to https://docs.nixtla.io/docs/tutorials-missing_values for an end to end example.\n",
      "Gagal prediksi Terendah untuk tanggal 2025-01-27: Series contain missing or duplicate timestamps, or the timestamps do not match the provided frequency.\n",
      "Please make sure that all series have a single observation from the first to the last timestamp and that the provided frequency matches the timestamps'.\n",
      "You can refer to https://docs.nixtla.io/docs/tutorials-missing_values for an end to end example.\n",
      "Gagal prediksi Terendah untuk tanggal 2025-01-28: Series contain missing or duplicate timestamps, or the timestamps do not match the provided frequency.\n",
      "Please make sure that all series have a single observation from the first to the last timestamp and that the provided frequency matches the timestamps'.\n",
      "You can refer to https://docs.nixtla.io/docs/tutorials-missing_values for an end to end example.\n",
      "Gagal prediksi Terendah untuk tanggal 2025-01-29: Series contain missing or duplicate timestamps, or the timestamps do not match the provided frequency.\n",
      "Please make sure that all series have a single observation from the first to the last timestamp and that the provided frequency matches the timestamps'.\n",
      "You can refer to https://docs.nixtla.io/docs/tutorials-missing_values for an end to end example.\n",
      "Gagal prediksi Terendah untuk tanggal 2025-01-30: Series contain missing or duplicate timestamps, or the timestamps do not match the provided frequency.\n",
      "Please make sure that all series have a single observation from the first to the last timestamp and that the provided frequency matches the timestamps'.\n",
      "You can refer to https://docs.nixtla.io/docs/tutorials-missing_values for an end to end example.\n",
      "Gagal prediksi Terendah untuk tanggal 2025-01-31: Series contain missing or duplicate timestamps, or the timestamps do not match the provided frequency.\n",
      "Please make sure that all series have a single observation from the first to the last timestamp and that the provided frequency matches the timestamps'.\n",
      "You can refer to https://docs.nixtla.io/docs/tutorials-missing_values for an end to end example.\n",
      "Hasil prediksi disimpan ke forecast_stocks_astra.csv\n"
     ]
    }
   ],
   "source": [
    "# Iterasi untuk setiap kolom target\n",
    "all_results = {}\n",
    "for col in target_columns:\n",
    "    print(f\"Memulai prediksi untuk kolom: {col}\")\n",
    "    current_date = start_date\n",
    "    df_results = pd.DataFrame(columns=['ds', col])\n",
    "    \n",
    "    while current_date <= end_date:\n",
    "        # Data hingga hari sebelum tanggal prediksi\n",
    "        train_subset = df[df['ds'] < current_date][['ds', col]].copy()\n",
    "        train_subset = train_subset.rename(columns={col: 'y'})\n",
    "        \n",
    "        # Reindexing ke hari kerja (B)\n",
    "        full_range = pd.date_range(start=train_subset['ds'].min(), end=train_subset['ds'].max(), freq='B')\n",
    "        train_subset = train_subset.set_index('ds').reindex(full_range).rename_axis('ds').reset_index()\n",
    "\n",
    "        # Interpolasi nilai yang hilang (jika ada)\n",
    "        train_subset['y'] = train_subset['y'].interpolate(method='linear')\n",
    "\n",
    "        #  Drop jika masih ada NaN setelah interpolasi\n",
    "        train_subset = train_subset.dropna()\n",
    "\n",
    "        \n",
    "        # Cek jika data cukup untuk prediksi\n",
    "        if train_subset.shape[0] < 10:\n",
    "            print(f\"Data tidak cukup untuk prediksi di {current_date}\")\n",
    "            current_date += pd.Timedelta(days=1)\n",
    "            continue\n",
    "\n",
    "        # Log transform\n",
    "        train_subset['y'] = np.log(train_subset['y'])\n",
    "\n",
    "        # Prediksi 1 hari ke depan\n",
    "        try:\n",
    "            forecast = nixtla_client.forecast(\n",
    "                df=train_subset,\n",
    "                h=1,\n",
    "                freq='D',  # Hari kerja\n",
    "                time_col='ds',\n",
    "                target_col='y',\n",
    "                model='timegpt-1',\n",
    "                finetune_steps=1,\n",
    "                finetune_depth=1,\n",
    "                finetune_loss=\"mae\",\n",
    "            )\n",
    "            \n",
    "            # Transformasi balik\n",
    "            predicted_value = np.exp(forecast['TimeGPT'][0])\n",
    "            \n",
    "            df_results = pd.concat([df_results, pd.DataFrame({'ds': [current_date], col: [predicted_value]})], ignore_index=True)\n",
    "            print(f\"{current_date.date()} sukses prediksi {col}\")\n",
    "        except Exception as e:\n",
    "            print(f\"Gagal prediksi {col} untuk tanggal {current_date.date()}: {e}\")\n",
    "        \n",
    "        current_date += pd.Timedelta(days=1)\n",
    "\n",
    "    # Simpan hasil setiap kolom\n",
    "    all_results[col] = df_results\n",
    "\n",
    "# Gabungkan semua hasil berdasarkan tanggal\n",
    "final_result = all_results[target_columns[0]]\n",
    "for col in target_columns[1:]:\n",
    "    final_result = final_result.merge(all_results[col], on='ds', how='outer')\n",
    "\n",
    "# Simpan ke file CSV\n",
    "final_result.to_csv('forecast_stocks_astra.csv', index=False)\n",
    "print(\"Hasil prediksi disimpan ke forecast_stocks_astra.csv\")"
   ]
  },
  {
   "cell_type": "code",
   "execution_count": null,
   "metadata": {},
   "outputs": [],
   "source": []
  },
  {
   "cell_type": "code",
   "execution_count": 11,
   "metadata": {},
   "outputs": [
    {
     "ename": "NameError",
     "evalue": "name 'seasonal_decompose' is not defined",
     "output_type": "error",
     "traceback": [
      "\u001b[1;31m---------------------------------------------------------------------------\u001b[0m",
      "\u001b[1;31mNameError\u001b[0m                                 Traceback (most recent call last)",
      "\u001b[1;32m~\\AppData\\Local\\Temp\\ipykernel_33420\\2198154818.py\u001b[0m in \u001b[0;36m<module>\u001b[1;34m\u001b[0m\n\u001b[0;32m      1\u001b[0m \u001b[1;31m# 2️⃣ Decomposing (Additive Model)\u001b[0m\u001b[1;33m\u001b[0m\u001b[1;33m\u001b[0m\u001b[0m\n\u001b[1;32m----> 2\u001b[1;33m \u001b[0mdecomposed\u001b[0m \u001b[1;33m=\u001b[0m \u001b[0mseasonal_decompose\u001b[0m\u001b[1;33m(\u001b[0m\u001b[0mseries\u001b[0m\u001b[1;33m,\u001b[0m \u001b[0mmodel\u001b[0m\u001b[1;33m=\u001b[0m\u001b[1;34m'additive'\u001b[0m\u001b[1;33m,\u001b[0m \u001b[0mperiod\u001b[0m\u001b[1;33m=\u001b[0m\u001b[1;36m30\u001b[0m\u001b[1;33m)\u001b[0m  \u001b[1;31m# Sesuaikan periodenya\u001b[0m\u001b[1;33m\u001b[0m\u001b[1;33m\u001b[0m\u001b[0m\n\u001b[0m\u001b[0;32m      3\u001b[0m \u001b[1;33m\u001b[0m\u001b[0m\n\u001b[0;32m      4\u001b[0m \u001b[0mfig\u001b[0m\u001b[1;33m,\u001b[0m \u001b[0max\u001b[0m \u001b[1;33m=\u001b[0m \u001b[0mplt\u001b[0m\u001b[1;33m.\u001b[0m\u001b[0msubplots\u001b[0m\u001b[1;33m(\u001b[0m\u001b[1;36m4\u001b[0m\u001b[1;33m,\u001b[0m \u001b[1;36m1\u001b[0m\u001b[1;33m,\u001b[0m \u001b[0mfigsize\u001b[0m\u001b[1;33m=\u001b[0m\u001b[1;33m(\u001b[0m\u001b[1;36m12\u001b[0m\u001b[1;33m,\u001b[0m \u001b[1;36m8\u001b[0m\u001b[1;33m)\u001b[0m\u001b[1;33m)\u001b[0m\u001b[1;33m\u001b[0m\u001b[1;33m\u001b[0m\u001b[0m\n\u001b[0;32m      5\u001b[0m \u001b[0mdecomposed\u001b[0m\u001b[1;33m.\u001b[0m\u001b[0mobserved\u001b[0m\u001b[1;33m.\u001b[0m\u001b[0mplot\u001b[0m\u001b[1;33m(\u001b[0m\u001b[0max\u001b[0m\u001b[1;33m=\u001b[0m\u001b[0max\u001b[0m\u001b[1;33m[\u001b[0m\u001b[1;36m0\u001b[0m\u001b[1;33m]\u001b[0m\u001b[1;33m,\u001b[0m \u001b[0mtitle\u001b[0m\u001b[1;33m=\u001b[0m\u001b[1;34m\"Original Data\"\u001b[0m\u001b[1;33m)\u001b[0m\u001b[1;33m\u001b[0m\u001b[1;33m\u001b[0m\u001b[0m\n",
      "\u001b[1;31mNameError\u001b[0m: name 'seasonal_decompose' is not defined"
     ]
    }
   ],
   "source": [
    "# 2️⃣ Decomposing (Additive Model)\n",
    "decomposed = seasonal_decompose(series, model='additive', period=30)  # Sesuaikan periodenya\n",
    "\n",
    "fig, ax = plt.subplots(4, 1, figsize=(12, 8))\n",
    "decomposed.observed.plot(ax=ax[0], title=\"Original Data\")\n",
    "decomposed.trend.plot(ax=ax[1], title=\"Trend\")\n",
    "decomposed.seasonal.plot(ax=ax[2], title=\"Seasonality\")\n",
    "decomposed.resid.plot(ax=ax[3], title=\"Residuals\")\n",
    "plt.tight_layout()\n",
    "plt.show()\n"
   ]
  },
  {
   "cell_type": "code",
   "execution_count": 13,
   "metadata": {},
   "outputs": [
    {
     "ename": "NameError",
     "evalue": "name 'plot_acf' is not defined",
     "output_type": "error",
     "traceback": [
      "\u001b[1;31m---------------------------------------------------------------------------\u001b[0m",
      "\u001b[1;31mNameError\u001b[0m                                 Traceback (most recent call last)",
      "\u001b[1;32m~\\AppData\\Local\\Temp\\ipykernel_5744\\1115561875.py\u001b[0m in \u001b[0;36m<module>\u001b[1;34m\u001b[0m\n\u001b[0;32m      1\u001b[0m \u001b[1;31m# 3️⃣ ACF & PACF Plot\u001b[0m\u001b[1;33m\u001b[0m\u001b[1;33m\u001b[0m\u001b[0m\n\u001b[0;32m      2\u001b[0m \u001b[0mfig\u001b[0m\u001b[1;33m,\u001b[0m \u001b[0max\u001b[0m \u001b[1;33m=\u001b[0m \u001b[0mplt\u001b[0m\u001b[1;33m.\u001b[0m\u001b[0msubplots\u001b[0m\u001b[1;33m(\u001b[0m\u001b[1;36m1\u001b[0m\u001b[1;33m,\u001b[0m \u001b[1;36m2\u001b[0m\u001b[1;33m,\u001b[0m \u001b[0mfigsize\u001b[0m\u001b[1;33m=\u001b[0m\u001b[1;33m(\u001b[0m\u001b[1;36m12\u001b[0m\u001b[1;33m,\u001b[0m \u001b[1;36m5\u001b[0m\u001b[1;33m)\u001b[0m\u001b[1;33m)\u001b[0m\u001b[1;33m\u001b[0m\u001b[1;33m\u001b[0m\u001b[0m\n\u001b[1;32m----> 3\u001b[1;33m \u001b[0mplot_acf\u001b[0m\u001b[1;33m(\u001b[0m\u001b[0mseries\u001b[0m\u001b[1;33m,\u001b[0m \u001b[0max\u001b[0m\u001b[1;33m=\u001b[0m\u001b[0max\u001b[0m\u001b[1;33m[\u001b[0m\u001b[1;36m0\u001b[0m\u001b[1;33m]\u001b[0m\u001b[1;33m,\u001b[0m \u001b[0mlags\u001b[0m\u001b[1;33m=\u001b[0m\u001b[1;36m50\u001b[0m\u001b[1;33m)\u001b[0m\u001b[1;33m\u001b[0m\u001b[1;33m\u001b[0m\u001b[0m\n\u001b[0m\u001b[0;32m      4\u001b[0m \u001b[0mplot_pacf\u001b[0m\u001b[1;33m(\u001b[0m\u001b[0mseries\u001b[0m\u001b[1;33m,\u001b[0m \u001b[0max\u001b[0m\u001b[1;33m=\u001b[0m\u001b[0max\u001b[0m\u001b[1;33m[\u001b[0m\u001b[1;36m1\u001b[0m\u001b[1;33m]\u001b[0m\u001b[1;33m,\u001b[0m \u001b[0mlags\u001b[0m\u001b[1;33m=\u001b[0m\u001b[1;36m50\u001b[0m\u001b[1;33m)\u001b[0m\u001b[1;33m\u001b[0m\u001b[1;33m\u001b[0m\u001b[0m\n\u001b[0;32m      5\u001b[0m \u001b[0max\u001b[0m\u001b[1;33m[\u001b[0m\u001b[1;36m0\u001b[0m\u001b[1;33m]\u001b[0m\u001b[1;33m.\u001b[0m\u001b[0mset_title\u001b[0m\u001b[1;33m(\u001b[0m\u001b[1;34m\"Autocorrelation Function (ACF)\"\u001b[0m\u001b[1;33m)\u001b[0m\u001b[1;33m\u001b[0m\u001b[1;33m\u001b[0m\u001b[0m\n",
      "\u001b[1;31mNameError\u001b[0m: name 'plot_acf' is not defined"
     ]
    },
    {
     "data": {
      "image/png": "[encoded data removed]",
      "text/plain": [
       "<Figure size 1200x500 with 2 Axes>"
      ]
     },
     "metadata": {},
     "output_type": "display_data"
    }
   ],
   "source": [
    "# 3️⃣ ACF & PACF Plot\n",
    "fig, ax = plt.subplots(1, 2, figsize=(12, 5))\n",
    "plot_acf(series, ax=ax[0], lags=50)\n",
    "plot_pacf(series, ax=ax[1], lags=50)\n",
    "ax[0].set_title(\"Autocorrelation Function (ACF)\")\n",
    "ax[1].set_title(\"Partial Autocorrelation Function (PACF)\")\n",
    "plt.show()"
   ]
  },
  {
   "cell_type": "code",
   "execution_count": 12,
   "metadata": {},
   "outputs": [
    {
     "ename": "NameError",
     "evalue": "name 'series' is not defined",
     "output_type": "error",
     "traceback": [
      "\u001b[1;31m---------------------------------------------------------------------------\u001b[0m",
      "\u001b[1;31mNameError\u001b[0m                                 Traceback (most recent call last)",
      "\u001b[1;32m~\\AppData\\Local\\Temp\\ipykernel_5744\\2919212495.py\u001b[0m in \u001b[0;36m<module>\u001b[1;34m\u001b[0m\n\u001b[0;32m      1\u001b[0m \u001b[1;31m# 4️⃣ Uji Stasioneritas - ADF Test\u001b[0m\u001b[1;33m\u001b[0m\u001b[1;33m\u001b[0m\u001b[0m\n\u001b[1;32m----> 2\u001b[1;33m \u001b[0madf_test\u001b[0m \u001b[1;33m=\u001b[0m \u001b[0madfuller\u001b[0m\u001b[1;33m(\u001b[0m\u001b[0mseries\u001b[0m\u001b[1;33m)\u001b[0m\u001b[1;33m\u001b[0m\u001b[1;33m\u001b[0m\u001b[0m\n\u001b[0m\u001b[0;32m      3\u001b[0m \u001b[0mprint\u001b[0m\u001b[1;33m(\u001b[0m\u001b[1;34mf'ADF Statistic: {adf_test[0]}'\u001b[0m\u001b[1;33m)\u001b[0m\u001b[1;33m\u001b[0m\u001b[1;33m\u001b[0m\u001b[0m\n\u001b[0;32m      4\u001b[0m \u001b[0mprint\u001b[0m\u001b[1;33m(\u001b[0m\u001b[1;34mf'p-value: {adf_test[1]}'\u001b[0m\u001b[1;33m)\u001b[0m\u001b[1;33m\u001b[0m\u001b[1;33m\u001b[0m\u001b[0m\n\u001b[0;32m      5\u001b[0m \u001b[1;33m\u001b[0m\u001b[0m\n",
      "\u001b[1;31mNameError\u001b[0m: name 'series' is not defined"
     ]
    }
   ],
   "source": [
    "# 4️⃣ Uji Stasioneritas - ADF Test\n",
    "adf_test = adfuller(series)\n",
    "print(f'ADF Statistic: {adf_test[0]}')\n",
    "print(f'p-value: {adf_test[1]}')\n",
    "\n",
    "if adf_test[1] < 0.05:\n",
    "    print(\"✅ Data Stasioner (p-value < 0.05)\")\n",
    "else:\n",
    "    print(\"❌ Data Tidak Stasioner (p-value > 0.05), perlu diferensiasi.\")\n",
    "\n",
    "# 5️⃣ Differencing (d=1) Jika Data Tidak Stasioner\n",
    "if adf_test[1] > 0.05:\n",
    "    df['Terakhir_diff'] = df['Terakhir'].diff()\n",
    "\n",
    "    # Plot hasil differencing\n",
    "    plt.figure(figsize=(12, 5))\n",
    "    plt.plot(df['Terakhir_diff'], label=\"Differenced Stock Price\", color='red')\n",
    "    plt.title(\"Data Setelah Differencing (d=1)\")\n",
    "    plt.xlabel(\"Tanggal\")\n",
    "    plt.ylabel(\"Perubahan Harga Saham\")\n",
    "    plt.legend()\n",
    "    plt.show()\n",
    "\n",
    "    # Ulangi ADF Test Setelah Differencing\n",
    "    adf_test_diff = adfuller(df['Terakhir_diff'].dropna())  # Drop NaN hasil differencing pertama\n",
    "    print(f'ADF Statistic setelah differencing: {adf_test_diff[0]}')\n",
    "    print(f'p-value setelah differencing: {adf_test_diff[1]}')\n",
    "\n",
    "    if adf_test_diff[1] < 0.05:\n",
    "        print(\"✅ Data Stasioner setelah differencing (p-value < 0.05), siap untuk model ARIMA/SARIMA.\")\n",
    "    else:\n",
    "        print(\"❌ Data masih tidak stasioner, perlu differencing tambahan (d=2).\")"
   ]
  },
  {
   "cell_type": "code",
   "execution_count": 21,
   "metadata": {},
   "outputs": [
    {
     "name": "stderr",
     "output_type": "stream",
     "text": [
      "INFO:matplotlib.category:Using categorical units to plot a list of strings that are all parsable as floats or dates. If these strings should be plotted as numbers, cast to the appropriate data type before plotting.\n",
      "INFO:matplotlib.category:Using categorical units to plot a list of strings that are all parsable as floats or dates. If these strings should be plotted as numbers, cast to the appropriate data type before plotting.\n"
     ]
    },
    {
     "data": {
      "image/png": "[encoded data removed]",
      "text/plain": [
       "<Figure size 1200x600 with 1 Axes>"
      ]
     },
     "metadata": {},
     "output_type": "display_data"
    }
   ],
   "source": [
    "# Menggunakan metode IQR (Interquartile Range) untuk deteksi anomali\n",
    "Q1 = df['Terakhir'].quantile(0.25)\n",
    "Q3 = df['Terakhir'].quantile(0.75)\n",
    "IQR = Q3 - Q1\n",
    "\n",
    "# Menentukan batas bawah dan atas anomali\n",
    "lower_bound = Q1 - 1.5 * IQR\n",
    "upper_bound = Q3 + 1.5 * IQR\n",
    "\n",
    "# Menandai data yang merupakan anomali\n",
    "df['Anomaly'] = (df['Terakhir'] < lower_bound) | (df['Terakhir'] > upper_bound)\n",
    "\n",
    "# Visualisasi data dengan anomali\n",
    "plt.figure(figsize=(12, 6))\n",
    "plt.plot(df['Tanggal'], df['Terakhir'], label='Harga Saham', color='blue', marker='o', markersize=3, linestyle='-')\n",
    "\n",
    "# Menyoroti titik anomali\n",
    "anomalies = df[df['Anomaly']]\n",
    "plt.scatter(anomalies['Tanggal'], anomalies['Terakhir'], color='red', label='Anomali', marker='o', s=80)\n",
    "\n",
    "# Label dan legend\n",
    "plt.xlabel('Tanggal')\n",
    "plt.ylabel('Harga Saham')\n",
    "plt.title('Deteksi Anomali pada Harga Saham')\n",
    "plt.legend()\n",
    "plt.xticks(rotation=45)\n",
    "plt.grid()\n",
    "\n",
    "# Menampilkan plot\n",
    "plt.show()"
   ]
  },
  {
   "cell_type": "code",
   "execution_count": 40,
   "metadata": {},
   "outputs": [
    {
     "name": "stderr",
     "output_type": "stream",
     "text": [
      "c:\\Users\\dylan\\anaconda3\\lib\\site-packages\\statsmodels\\graphics\\tsaplots.py:348: FutureWarning: The default method 'yw' can produce PACF values outside of the [-1,1] interval. After 0.13, the default will change tounadjusted Yule-Walker ('ywm'). You can use this method now by setting method='ywm'.\n",
      "  warnings.warn(\n"
     ]
    },
    {
     "data": {
      "text/plain": [
       "<Figure size 1200x500 with 0 Axes>"
      ]
     },
     "metadata": {},
     "output_type": "display_data"
    },
    {
     "data": {
      "image/png": "[encoded data removed]",
      "text/plain": [
       "<Figure size 640x480 with 1 Axes>"
      ]
     },
     "metadata": {},
     "output_type": "display_data"
    },
    {
     "data": {
      "image/png": "[encoded data removed]",
      "text/plain": [
       "<Figure size 640x480 with 1 Axes>"
      ]
     },
     "metadata": {},
     "output_type": "display_data"
    }
   ],
   "source": [
    "from statsmodels.graphics.tsaplots import plot_acf, plot_pacf\n",
    "\n",
    "plt.figure(figsize=(12, 5))\n",
    "plot_acf(df['Terakhir'], lags=30)\n",
    "plot_pacf(df['Terakhir'], lags=30)\n",
    "plt.show()\n"
   ]
  },
  {
   "cell_type": "code",
   "execution_count": 23,
   "metadata": {},
   "outputs": [],
   "source": [
    "# Konversi tanggal agar tidak menyebabkan error\n",
    "df = df.rename(columns={\n",
    "    \"Tanggal\": \"ds\",\n",
    "    \"Terakhir\": \"y_last\",\n",
    "    \"Pembukaan\": \"y_open\",\n",
    "    \"Tertinggi\": \"y_high\",\n",
    "    \"Terendah\": \"y_low\"\n",
    "})\n",
    "df[\"ds\"] = pd.to_datetime(df[\"ds\"])  # Konversi string ke datetime\n",
    "\n",
    "# DataFrame untuk menyimpan hasil prediksi\n",
    "df_results = pd.DataFrame(columns=['ds', 'y_last', 'y_open', 'y_high', 'y_low'])\n"
   ]
  },
  {
   "cell_type": "code",
   "execution_count": 25,
   "metadata": {},
   "outputs": [
    {
     "ename": "NameError",
     "evalue": "name 'train_df_gaps' is not defined",
     "output_type": "error",
     "traceback": [
      "\u001b[1;31m---------------------------------------------------------------------------\u001b[0m",
      "\u001b[1;31mNameError\u001b[0m                                 Traceback (most recent call last)",
      "\u001b[1;32m~\\AppData\\Local\\Temp\\ipykernel_5744\\2122154186.py\u001b[0m in \u001b[0;36m<module>\u001b[1;34m\u001b[0m\n\u001b[1;32m----> 1\u001b[1;33m \u001b[0mnixtla_client\u001b[0m\u001b[1;33m.\u001b[0m\u001b[0mplot\u001b[0m\u001b[1;33m(\u001b[0m\u001b[0mtrain_df_gaps\u001b[0m\u001b[1;33m)\u001b[0m\u001b[1;33m\u001b[0m\u001b[1;33m\u001b[0m\u001b[0m\n\u001b[0m",
      "\u001b[1;31mNameError\u001b[0m: name 'train_df_gaps' is not defined"
     ]
    }
   ],
   "source": [
    "nixtla_client.plot(train_df_gaps)"
   ]
  },
  {
   "cell_type": "code",
   "execution_count": null,
   "metadata": {},
   "outputs": [],
   "source": [
    "from nixtla import NixtlaClient\n",
    "\n",
    "nixtla_client = NixtlaClient(api_key='nixak-8QsmYxQ9o5RhRrD06iOlKX3IjrxOJvVz4DWYCQ521BPwlxBBYAXA4CcHHamOcZ7acNwBw8GjU3xog02E')\n",
    "\n",
    "timegpt_fcst_df = nixtla_client.forecast(\n",
    "    df=df,\n",
    "    h=1,\n",
    "    freq='B',\n",
    "    time_col='Tanggal',\n",
    "    target_col='Terakhir'\n",
    ")\n"
   ]
  },
  {
   "cell_type": "code",
   "execution_count": null,
   "metadata": {},
   "outputs": [
    {
     "name": "stderr",
     "output_type": "stream",
     "text": [
      "INFO:nixtla.nixtla_client:Validating inputs...\n"
     ]
    },
    {
     "ename": "ValueError",
     "evalue": "Series contain missing or duplicate timestamps, or the timestamps do not match the provided frequency.\nPlease make sure that all series have a single observation from the first to the last timestamp and that the provided frequency matches the timestamps'.\nYou can refer to https://docs.nixtla.io/docs/tutorials-missing_values for an end to end example.",
     "output_type": "error",
     "traceback": [
      "\u001b[1;31m---------------------------------------------------------------------------\u001b[0m",
      "\u001b[1;31mValueError\u001b[0m                                Traceback (most recent call last)",
      "\u001b[1;32m~\\AppData\\Local\\Temp\\ipykernel_5744\\2696477164.py\u001b[0m in \u001b[0;36m<module>\u001b[1;34m\u001b[0m\n\u001b[0;32m     10\u001b[0m \u001b[1;33m\u001b[0m\u001b[0m\n\u001b[0;32m     11\u001b[0m     \u001b[1;31m# Prediksi untuk setiap harga\u001b[0m\u001b[1;33m\u001b[0m\u001b[1;33m\u001b[0m\u001b[0m\n\u001b[1;32m---> 12\u001b[1;33m     forecast_last = nixtla_client.forecast(\n\u001b[0m\u001b[0;32m     13\u001b[0m         \u001b[0mdf\u001b[0m\u001b[1;33m=\u001b[0m\u001b[0mtrain_subset\u001b[0m\u001b[1;33m[\u001b[0m\u001b[1;33m[\u001b[0m\u001b[1;34m'ds'\u001b[0m\u001b[1;33m,\u001b[0m \u001b[1;34m'y_last'\u001b[0m\u001b[1;33m]\u001b[0m\u001b[1;33m]\u001b[0m\u001b[1;33m,\u001b[0m\u001b[1;33m\u001b[0m\u001b[1;33m\u001b[0m\u001b[0m\n\u001b[0;32m     14\u001b[0m         \u001b[0mh\u001b[0m\u001b[1;33m=\u001b[0m\u001b[1;36m1\u001b[0m\u001b[1;33m,\u001b[0m \u001b[0mfreq\u001b[0m\u001b[1;33m=\u001b[0m\u001b[1;34m'D'\u001b[0m\u001b[1;33m,\u001b[0m \u001b[0mtime_col\u001b[0m\u001b[1;33m=\u001b[0m\u001b[1;34m'ds'\u001b[0m\u001b[1;33m,\u001b[0m \u001b[0mtarget_col\u001b[0m\u001b[1;33m=\u001b[0m\u001b[1;34m'y_last'\u001b[0m\u001b[1;33m,\u001b[0m\u001b[1;33m\u001b[0m\u001b[1;33m\u001b[0m\u001b[0m\n",
      "\u001b[1;32mc:\\Users\\dylan\\anaconda3\\lib\\site-packages\\nixtla\\nixtla_client.py\u001b[0m in \u001b[0;36mforecast\u001b[1;34m(self, df, h, freq, id_col, time_col, target_col, X_df, level, quantiles, finetune_steps, finetune_depth, finetune_loss, finetuned_model_id, clean_ex_first, hist_exog_list, validate_api_key, add_history, date_features, date_features_to_one_hot, model, num_partitions, feature_contributions)\u001b[0m\n\u001b[0;32m   1424\u001b[0m         \u001b[0mmodel\u001b[0m \u001b[1;33m=\u001b[0m \u001b[0mself\u001b[0m\u001b[1;33m.\u001b[0m\u001b[0m_maybe_override_model\u001b[0m\u001b[1;33m(\u001b[0m\u001b[0mmodel\u001b[0m\u001b[1;33m)\u001b[0m\u001b[1;33m\u001b[0m\u001b[1;33m\u001b[0m\u001b[0m\n\u001b[0;32m   1425\u001b[0m         \u001b[0mlogger\u001b[0m\u001b[1;33m.\u001b[0m\u001b[0minfo\u001b[0m\u001b[1;33m(\u001b[0m\u001b[1;34m\"Validating inputs...\"\u001b[0m\u001b[1;33m)\u001b[0m\u001b[1;33m\u001b[0m\u001b[1;33m\u001b[0m\u001b[0m\n\u001b[1;32m-> 1426\u001b[1;33m         df, X_df, drop_id, freq = self._run_validations(\n\u001b[0m\u001b[0;32m   1427\u001b[0m             \u001b[0mdf\u001b[0m\u001b[1;33m=\u001b[0m\u001b[0mdf\u001b[0m\u001b[1;33m,\u001b[0m\u001b[1;33m\u001b[0m\u001b[1;33m\u001b[0m\u001b[0m\n\u001b[0;32m   1428\u001b[0m             \u001b[0mX_df\u001b[0m\u001b[1;33m=\u001b[0m\u001b[0mX_df\u001b[0m\u001b[1;33m,\u001b[0m\u001b[1;33m\u001b[0m\u001b[1;33m\u001b[0m\u001b[0m\n",
      "\u001b[1;32mc:\\Users\\dylan\\anaconda3\\lib\\site-packages\\nixtla\\nixtla_client.py\u001b[0m in \u001b[0;36m_run_validations\u001b[1;34m(self, df, X_df, id_col, time_col, target_col, model, validate_api_key, freq)\u001b[0m\n\u001b[0;32m    994\u001b[0m             )\n\u001b[0;32m    995\u001b[0m         \u001b[1;32mif\u001b[0m \u001b[1;32mnot\u001b[0m \u001b[0mfreq_ok\u001b[0m\u001b[1;33m:\u001b[0m\u001b[1;33m\u001b[0m\u001b[1;33m\u001b[0m\u001b[0m\n\u001b[1;32m--> 996\u001b[1;33m             raise ValueError(\n\u001b[0m\u001b[0;32m    997\u001b[0m                 \u001b[1;34m\"Series contain missing or duplicate timestamps, or the timestamps \"\u001b[0m\u001b[1;33m\u001b[0m\u001b[1;33m\u001b[0m\u001b[0m\n\u001b[0;32m    998\u001b[0m                 \u001b[1;34m\"do not match the provided frequency.\\n\"\u001b[0m\u001b[1;33m\u001b[0m\u001b[1;33m\u001b[0m\u001b[0m\n",
      "\u001b[1;31mValueError\u001b[0m: Series contain missing or duplicate timestamps, or the timestamps do not match the provided frequency.\nPlease make sure that all series have a single observation from the first to the last timestamp and that the provided frequency matches the timestamps'.\nYou can refer to https://docs.nixtla.io/docs/tutorials-missing_values for an end to end example."
     ]
    }
   ],
   "source": [
    "# Rentang tanggal prediksi\n",
    "start_date = pd.to_datetime('2024-09-01')\n",
    "end_date = pd.to_datetime('2025-01-31')\n",
    "\n",
    "# Iterasi harian\n",
    "current_date = start_date\n",
    "while current_date <= end_date:\n",
    "    # Ambil subset data hingga tanggal saat ini\n",
    "    train_subset = df[df['ds'] < current_date].copy()\n",
    "\n",
    "    # Prediksi untuk setiap harga\n",
    "    forecast_last = nixtla_client.forecast(\n",
    "        df=train_subset[['ds', 'y_last']],\n",
    "        h=1, freq='D', time_col='ds', target_col='y_last',\n",
    "        model='timegpt-1'\n",
    "    )\n",
    "    \n",
    "    # Simpan hasil prediksi\n",
    "    df_results = pd.concat([\n",
    "        df_results,\n",
    "        pd.DataFrame({\n",
    "            'ds': [current_date],\n",
    "            'y_last': [forecast_last['TimeGPT'][0]],\n",
    "            'y_open': [forecast_open['TimeGPT'][0]],\n",
    "            'y_high': [forecast_high['TimeGPT'][0]],\n",
    "            'y_low': [forecast_low['TimeGPT'][0]],\n",
    "        })\n",
    "    ], ignore_index=True)\n",
    "\n",
    "    # Update tanggal ke hari berikutnya\n",
    "    current_date += pd.Timedelta(days=1)\n",
    "    print(current_date, \"Sukses!\")\n",
    "\n",
    "# **Export hasil ke CSV**\n",
    "df_results.to_csv(\"forecast_results.csv\", index=False)\n",
    "print(\"Hasil prediksi telah disimpan dalam 'forecast_results.csv'\")"
   ]
  }
 ],
 "metadata": {
  "kernelspec": {
   "display_name": "base",
   "language": "python",
   "name": "python3"
  },
  "language_info": {
   "codemirror_mode": {
    "name": "ipython",
    "version": 3
   },
   "file_extension": ".py",
   "mimetype": "text/x-python",
   "name": "python",
   "nbconvert_exporter": "python",
   "pygments_lexer": "ipython3",
   "version": "3.9.13"
  }
 },
 "nbformat": 4,
 "nbformat_minor": 2
}
